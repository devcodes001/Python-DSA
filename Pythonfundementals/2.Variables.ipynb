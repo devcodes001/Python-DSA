{
 "cells": [
  {
   "cell_type": "markdown",
   "metadata": {},
   "source": [
    "**Variables**"
   ]
  },
  {
   "cell_type": "code",
   "execution_count": 1,
   "metadata": {},
   "outputs": [],
   "source": [
    "a = 10"
   ]
  },
  {
   "cell_type": "code",
   "execution_count": 2,
   "metadata": {},
   "outputs": [
    {
     "name": "stdout",
     "output_type": "stream",
     "text": [
      "age :  12\n",
      "height :  6.1\n",
      "Name :  krish\n"
     ]
    }
   ],
   "source": [
    "#declaring and assaigning variables\n",
    "age = 12\n",
    "height = 6.1\n",
    "name = \"krish\"\n",
    "is_student = True\n",
    "\n",
    "#printing the variables\n",
    "print(\"age : \",age)\n",
    "print(\"height : \",height)\n",
    "print(\"Name : \",name)"
   ]
  },
  {
   "cell_type": "markdown",
   "metadata": {},
   "source": [
    "Naming Conventions\n",
    "* variables names should be descriptive\n",
    "* They must start with a letter or an undrscore(-) and contains letter,numbers and underscores\n",
    "* variables names are case sensitive"
   ]
  },
  {
   "cell_type": "code",
   "execution_count": null,
   "metadata": {},
   "outputs": [],
   "source": [
    "#valid variable names\n",
    "first_name = \"dev\"\n",
    "last_name = \"codes\""
   ]
  },
  {
   "cell_type": "code",
   "execution_count": 4,
   "metadata": {},
   "outputs": [],
   "source": [
    "#invalid variable names\n",
    "# 2age = 12\n",
    "# first-name == \"dev\"\n",
    "# @dev = \"codes\""
   ]
  },
  {
   "cell_type": "code",
   "execution_count": null,
   "metadata": {},
   "outputs": [],
   "source": [
    "#Case sensitivity\n",
    "name = \"dev\"\n",
    "Name = \"codes\""
   ]
  },
  {
   "cell_type": "code",
   "execution_count": null,
   "metadata": {},
   "outputs": [],
   "source": [
    "# Undertanding Variable types\n",
    "#Python us dynamically typed,type a variable is determined at runtime\n",
    "age = 25 #int\n",
    "height = 6.1 #float\n",
    "name = \"dev\" #string\n",
    "is_student = True #Boolean\n"
   ]
  },
  {
   "cell_type": "code",
   "execution_count": 8,
   "metadata": {},
   "outputs": [
    {
     "name": "stdout",
     "output_type": "stream",
     "text": [
      "<class 'str'>\n"
     ]
    }
   ],
   "source": [
    "#Type checking and Conversion\n",
    "type(age)\n",
    "age_str = str(age)\n",
    "print(type(age_str))"
   ]
  },
  {
   "cell_type": "code",
   "execution_count": 10,
   "metadata": {},
   "outputs": [
    {
     "name": "stdout",
     "output_type": "stream",
     "text": [
      "10 <class 'int'>\n",
      "dev <class 'str'>\n",
      "1.2 <class 'float'>\n"
     ]
    }
   ],
   "source": [
    "#Dynamic typing\n",
    "#Python allows the type of a variable to change as the program executes\n",
    "var =10 #int\n",
    "print(var,type(var))\n",
    "\n",
    "var = \"dev\"\n",
    "print(var,type(var))\n",
    "\n",
    "var = 1.2\n",
    "print(var,type(var))"
   ]
  },
  {
   "cell_type": "code",
   "execution_count": 11,
   "metadata": {},
   "outputs": [
    {
     "name": "stdout",
     "output_type": "stream",
     "text": [
      "23 <class 'str'>\n"
     ]
    }
   ],
   "source": [
    "# input\n",
    "age = input(\"what is the age\")\n",
    "print(age,type(age))"
   ]
  },
  {
   "cell_type": "code",
   "execution_count": 12,
   "metadata": {},
   "outputs": [
    {
     "name": "stdout",
     "output_type": "stream",
     "text": [
      "12 <class 'int'>\n"
     ]
    }
   ],
   "source": [
    "age = int(input(\"what is the age : \"))\n",
    "print(age,type(age))"
   ]
  }
 ],
 "metadata": {
  "kernelspec": {
   "display_name": "Python 3",
   "language": "python",
   "name": "python3"
  },
  "language_info": {
   "codemirror_mode": {
    "name": "ipython",
    "version": 3
   },
   "file_extension": ".py",
   "mimetype": "text/x-python",
   "name": "python",
   "nbconvert_exporter": "python",
   "pygments_lexer": "ipython3",
   "version": "3.11.7"
  }
 },
 "nbformat": 4,
 "nbformat_minor": 2
}
