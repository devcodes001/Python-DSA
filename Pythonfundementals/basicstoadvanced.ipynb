{
 "cells": [
  {
   "cell_type": "markdown",
   "metadata": {},
   "source": [
    "# Python Programming"
   ]
  },
  {
   "cell_type": "markdown",
   "metadata": {},
   "source": [
    "Python was created by Guido-van rossum in 1991\n",
    "\n",
    "Features\n",
    "- Simple and easy to learn\n",
    "- Open source and free\n",
    "- Portable\n",
    "- Large builtin libraries\n",
    "- High level programming language\n",
    "\n",
    "Limitations\n",
    "\n",
    "- Performance wise is not up to the mark,as it is interpretted\n",
    "- Python is not suitable for large scale enterprice applications"
   ]
  },
  {
   "cell_type": "markdown",
   "metadata": {},
   "source": [
    "Variables : variables are memory locations to hold values"
   ]
  },
  {
   "cell_type": "code",
   "execution_count": 1,
   "metadata": {},
   "outputs": [
    {
     "name": "stdout",
     "output_type": "stream",
     "text": [
      "10\n"
     ]
    }
   ],
   "source": [
    "a = 10\n",
    "print(a)"
   ]
  },
  {
   "cell_type": "markdown",
   "metadata": {},
   "source": [
    "Identifiers : names given to the program elements is called identifier\n",
    "\n",
    "rules:\n",
    "- can use uppercase and lowercase digits\n",
    "- cannot use keywords\n",
    "- cannot start with a digit\n",
    "- can only use the special character (-)\n",
    "\n",
    "keywords:These are the reserved words used in the python program.There are 33 reserved words\n",
    "\n",
    "eg: True,False,None,if,else,elif,for,while,etc\n"
   ]
  },
  {
   "cell_type": "code",
   "execution_count": 1,
   "metadata": {},
   "outputs": [
    {
     "data": {
      "text/plain": [
       "['False',\n",
       " 'None',\n",
       " 'True',\n",
       " 'and',\n",
       " 'as',\n",
       " 'assert',\n",
       " 'async',\n",
       " 'await',\n",
       " 'break',\n",
       " 'class',\n",
       " 'continue',\n",
       " 'def',\n",
       " 'del',\n",
       " 'elif',\n",
       " 'else',\n",
       " 'except',\n",
       " 'finally',\n",
       " 'for',\n",
       " 'from',\n",
       " 'global',\n",
       " 'if',\n",
       " 'import',\n",
       " 'in',\n",
       " 'is',\n",
       " 'lambda',\n",
       " 'nonlocal',\n",
       " 'not',\n",
       " 'or',\n",
       " 'pass',\n",
       " 'raise',\n",
       " 'return',\n",
       " 'try',\n",
       " 'while',\n",
       " 'with',\n",
       " 'yield']"
      ]
     },
     "execution_count": 1,
     "metadata": {},
     "output_type": "execute_result"
    }
   ],
   "source": [
    "import keyword\n",
    "keyword.kwlist"
   ]
  },
  {
   "cell_type": "code",
   "execution_count": null,
   "metadata": {},
   "outputs": [],
   "source": [
    "print() #this is used to print values "
   ]
  },
  {
   "cell_type": "markdown",
   "metadata": {},
   "source": [
    "Basic data types\n",
    "- Numeric datatype\n",
    "  - int : integral values,values without decimal\n",
    "  - float : floating point values,values with decimal points\n",
    "  - complex : complex numbers,number having a realpart and imaginary part\n",
    "- Non Numeric datatype\n",
    "  - string : string is a group of characters that are enclosed within single quotes or double quotes\n",
    "  - boolean : it is a datatype that have only 2 values True,False"
   ]
  },
  {
   "cell_type": "code",
   "execution_count": null,
   "metadata": {},
   "outputs": [
    {
     "name": "stdout",
     "output_type": "stream",
     "text": [
      "<class 'int'>\n",
      "<class 'float'>\n",
      "<class 'complex'>\n",
      "<class 'str'>\n",
      "<class 'bool'>\n"
     ]
    }
   ],
   "source": [
    "#Int\n",
    "i = 10\n",
    "print(type(a))\n",
    "#Float\n",
    "f = 10.01\n",
    "print(type(f))\n",
    "#Complex\n",
    "c = 10 + 5j\n",
    "print(type(c))\n",
    "print(c.real) #prints the real part\n",
    "print(c.imag) #prints the imaginary part\n",
    "#String\n",
    "s = \"Glad you r leaning python\"\n",
    "print(type(s))\n",
    "#Boolean\n",
    "b = True\n",
    "print(type(b))"
   ]
  },
  {
   "cell_type": "markdown",
   "metadata": {},
   "source": [
    "Type casting or type coersion : It is used to convert one datatype to another\n",
    "\n",
    "    eg : a = 2 -> int this can be converted to float \n",
    "     float(a) -> 2.0"
   ]
  },
  {
   "cell_type": "code",
   "execution_count": null,
   "metadata": {},
   "outputs": [],
   "source": [
    "int() \n",
    "float()\n",
    "complex()\n",
    "bool()\n",
    "str()"
   ]
  },
  {
   "cell_type": "markdown",
   "metadata": {},
   "source": [
    "constants : constants are the values that are not going to change \n",
    "\n",
    "     pi = 3.14 "
   ]
  },
  {
   "cell_type": "markdown",
   "metadata": {},
   "source": [
    "Operators : It is used to perform operations\n",
    "\n",
    "A + B -> here A and B are operands , (+) is the operator\n",
    "\n",
    "Arithmetic operators\n",
    "- Addition (+)\n",
    "- Substraction (-)\n",
    "- Division (/)\n",
    "- Modulus (%)\n",
    "- Floor division (//)\n",
    "- Exponent (**)"
   ]
  },
  {
   "cell_type": "code",
   "execution_count": 4,
   "metadata": {},
   "outputs": [
    {
     "name": "stdout",
     "output_type": "stream",
     "text": [
      "20\n",
      "4\n",
      "96\n",
      "1.5\n",
      "4\n",
      "1\n",
      "429981696\n"
     ]
    }
   ],
   "source": [
    "a = 12\n",
    "b = 8\n",
    "print(a + b)\n",
    "print(a - b)\n",
    "print(a * b)\n",
    "print(a / b)\n",
    "print(a % b)\n",
    "print(a // b)\n",
    "print(a ** b)"
   ]
  },
  {
   "cell_type": "markdown",
   "metadata": {},
   "source": [
    "Relational operators\n",
    "- < , less than\n",
    "- ( > ) , Greater than\n",
    "- <= , less than or equal to\n",
    "- ( >= ) , greater than or equal to\n",
    "- == , equal to\n",
    "- != , not equal to"
   ]
  },
  {
   "cell_type": "code",
   "execution_count": 5,
   "metadata": {},
   "outputs": [
    {
     "name": "stdout",
     "output_type": "stream",
     "text": [
      "False\n",
      "True\n",
      "False\n",
      "True\n",
      "False\n",
      "True\n"
     ]
    }
   ],
   "source": [
    "print( a < b)\n",
    "print(a > b)\n",
    "print(a <= b)\n",
    "print(a >= b)\n",
    "print(a == b)\n",
    "print(a != b)"
   ]
  },
  {
   "cell_type": "markdown",
   "metadata": {},
   "source": [
    "Assaignment operator\n",
    "- equal -> = \n",
    "\n",
    "Compound Assaignment operators\n",
    "- +=\n",
    "- -=\n",
    "- *=\n",
    "- /=\n",
    "- %=\n",
    "- //=\n",
    "- **="
   ]
  },
  {
   "cell_type": "code",
   "execution_count": 8,
   "metadata": {},
   "outputs": [
    {
     "name": "stdout",
     "output_type": "stream",
     "text": [
      "12\n",
      "10\n",
      "20\n",
      "10.0\n",
      "0.0\n",
      "0.0\n",
      "4\n"
     ]
    }
   ],
   "source": [
    "a = 10\n",
    "a += 2\n",
    "print(a)\n",
    "a -= 2\n",
    "print(a)\n",
    "a *= 2 \n",
    "print(a)\n",
    "a /= 2\n",
    "print(a)\n",
    "a %= 2\n",
    "print(a)\n",
    "a //= 2\n",
    "print(a)\n",
    "a=2\n",
    "a **= 2\n",
    "print(a)\n"
   ]
  },
  {
   "cell_type": "markdown",
   "metadata": {},
   "source": [
    "Logical operators\n",
    "- and\n",
    "- or\n",
    "- not"
   ]
  },
  {
   "cell_type": "code",
   "execution_count": 9,
   "metadata": {},
   "outputs": [
    {
     "name": "stdout",
     "output_type": "stream",
     "text": [
      "False\n",
      "True\n",
      "False\n"
     ]
    }
   ],
   "source": [
    "a = True\n",
    "b = False\n",
    "print(a and b)\n",
    "print(a or b)\n",
    "print(not a)"
   ]
  },
  {
   "cell_type": "markdown",
   "metadata": {},
   "source": [
    "Bitwise operators\n",
    "- |\n",
    "- &\n",
    "- ^\n",
    "- ~\n",
    "- <<\n",
    "- (>>)"
   ]
  },
  {
   "cell_type": "code",
   "execution_count": 10,
   "metadata": {},
   "outputs": [
    {
     "name": "stdout",
     "output_type": "stream",
     "text": [
      "a & b (AND): 1\n",
      "a | b (OR): 7\n",
      "a ^ b (XOR): 6\n",
      "~a (NOT): -6\n",
      "a << 1 (Left Shift): 10\n",
      "a >> 1 (Right Shift): 2\n"
     ]
    }
   ],
   "source": [
    "a = 5       # Binary: 0101\n",
    "b = 3       # Binary: 0011\n",
    "\n",
    "print(\"a & b (AND):\", a & b)       \n",
    "print(\"a | b (OR):\", a | b)        \n",
    "print(\"a ^ b (XOR):\", a ^ b)       \n",
    "print(\"~a (NOT):\", ~a)          \n",
    "print(\"a << 1 (Left Shift):\", a << 1)  \n",
    "print(\"a >> 1 (Right Shift):\", a >> 1)"
   ]
  },
  {
   "cell_type": "markdown",
   "metadata": {},
   "source": [
    "Ternary operator/conditional operator  :  "
   ]
  },
  {
   "cell_type": "code",
   "execution_count": 3,
   "metadata": {},
   "outputs": [
    {
     "name": "stdout",
     "output_type": "stream",
     "text": [
      "True\n"
     ]
    }
   ],
   "source": [
    "a=12\n",
    "x = True if a==12 else False\n",
    "print(x)"
   ]
  },
  {
   "cell_type": "markdown",
   "metadata": {},
   "source": [
    "Identity Operator : is operator is used for reference comparison where as == used for content comparison\n",
    "- is\n",
    "- is not"
   ]
  },
  {
   "cell_type": "code",
   "execution_count": 12,
   "metadata": {},
   "outputs": [
    {
     "name": "stdout",
     "output_type": "stream",
     "text": [
      "False\n",
      "True\n"
     ]
    }
   ],
   "source": [
    "a = 2\n",
    "b = 3\n",
    "print(a is b)\n",
    "print(a is not b)"
   ]
  },
  {
   "cell_type": "markdown",
   "metadata": {},
   "source": [
    "Membership Operator\n",
    "- in\n",
    "- not in "
   ]
  },
  {
   "cell_type": "code",
   "execution_count": 14,
   "metadata": {},
   "outputs": [
    {
     "name": "stdout",
     "output_type": "stream",
     "text": [
      "True\n",
      "False\n"
     ]
    }
   ],
   "source": [
    "a = 2\n",
    "b = [1,2,3]\n",
    "print(a in b)\n",
    "print(a not in b)"
   ]
  },
  {
   "cell_type": "markdown",
   "metadata": {},
   "source": [
    "Input statements : It is used to read input from user"
   ]
  },
  {
   "cell_type": "code",
   "execution_count": 16,
   "metadata": {},
   "outputs": [
    {
     "name": "stdout",
     "output_type": "stream",
     "text": [
      "12\n"
     ]
    }
   ],
   "source": [
    "n = int(input(\"enter the number : \"))\n",
    "print(n)"
   ]
  },
  {
   "cell_type": "markdown",
   "metadata": {},
   "source": [
    "Operator precedence: It is the order in which operations are performed\n",
    "\n",
    "() , ** , (* , / , %) , ( + , - ) "
   ]
  },
  {
   "cell_type": "markdown",
   "metadata": {},
   "source": [
    "Conditional statements : Based on the condition we can execute a program (statement)\n",
    "- if\n",
    "- elif\n",
    "- if-else\n",
    "- nested-if"
   ]
  },
  {
   "cell_type": "markdown",
   "metadata": {},
   "source": [
    "Simple-if statement\n",
    "\n",
    "if condition :\n",
    "   statement"
   ]
  },
  {
   "cell_type": "code",
   "execution_count": 17,
   "metadata": {},
   "outputs": [
    {
     "name": "stdout",
     "output_type": "stream",
     "text": [
      "a is 10\n"
     ]
    }
   ],
   "source": [
    "a = 10\n",
    "if a == 10:\n",
    "    print(\"a is 10\")"
   ]
  },
  {
   "cell_type": "markdown",
   "metadata": {},
   "source": [
    "Flow control : T runtime , in which oreder the statements needed to be executed\n",
    "\n",
    "- conditional / selection statements - if , if -else , elif , nested if\n",
    "- iterative statements - for , while \n",
    "- transfer statements - break,continue,pass"
   ]
  },
  {
   "cell_type": "markdown",
   "metadata": {},
   "source": [
    "if - else statement\n",
    "\n",
    "if condiiton1:\n",
    "   statement\n",
    "else:\n",
    "   statement"
   ]
  },
  {
   "cell_type": "code",
   "execution_count": null,
   "metadata": {},
   "outputs": [],
   "source": [
    "a = int(input(\"enter the number 1 :\"))\n",
    "b = int(input(\"enter the number 2 :\"))\n",
    "if a > b:\n",
    "    print(\"a is greater\")\n",
    "else:\n",
    "    print(\"b is greater\")    "
   ]
  },
  {
   "cell_type": "markdown",
   "metadata": {},
   "source": [
    "elif statement"
   ]
  },
  {
   "cell_type": "code",
   "execution_count": null,
   "metadata": {},
   "outputs": [],
   "source": [
    "a = int(input(\"enter the number 1 : \"))\n",
    "b = int(input(\"enter the number 2 : \"))\n",
    "if a > b:\n",
    "    print(\"a is greater\")\n",
    "elif a==b:\n",
    "    print(\"a and b are same\")\n",
    "else:\n",
    "    print(\"b is greater\")  \n"
   ]
  },
  {
   "cell_type": "markdown",
   "metadata": {},
   "source": [
    "Nested-if statement"
   ]
  },
  {
   "cell_type": "code",
   "execution_count": null,
   "metadata": {},
   "outputs": [],
   "source": [
    "a = int(input(\"enter the number1 :\"))\n",
    "b = int(input(\"enter the number2 :\"))\n",
    "c = int(input(\"enter the number3 :\"))\n",
    "if a > b:\n",
    "    if a>c:\n",
    "        print(\"a is greater\")\n",
    "elif b>c:\n",
    "    print(\"b is greater\")   \n",
    "else:\n",
    "    print(\"c is greater\")     "
   ]
  },
  {
   "cell_type": "markdown",
   "metadata": {},
   "source": [
    "### **Basics questions**"
   ]
  },
  {
   "cell_type": "markdown",
   "metadata": {},
   "source": [
    "1. Area of the rectangle"
   ]
  },
  {
   "cell_type": "code",
   "execution_count": 1,
   "metadata": {},
   "outputs": [
    {
     "name": "stdout",
     "output_type": "stream",
     "text": [
      "Area of the rectangle : 48\n"
     ]
    }
   ],
   "source": [
    "l = int(input(\"enter the length : \"))\n",
    "b = int(input(\"enter the breadth :\"))\n",
    "print(f\"Area of the rectangle : {l*b}\") #fstring "
   ]
  },
  {
   "cell_type": "markdown",
   "metadata": {},
   "source": [
    "2. find the volume of sphere"
   ]
  },
  {
   "cell_type": "code",
   "execution_count": 3,
   "metadata": {},
   "outputs": [
    {
     "name": "stdout",
     "output_type": "stream",
     "text": [
      "volume of the sphere : 267.94666666666666\n"
     ]
    }
   ],
   "source": [
    "r = int(input(\"enter the volume :\"))\n",
    "pi = 3.14\n",
    "volume = (4/3)*pi*(r**3)\n",
    "print(f\"volume of the sphere : {volume}\")"
   ]
  },
  {
   "cell_type": "markdown",
   "metadata": {},
   "source": [
    "3. volume of cube"
   ]
  },
  {
   "cell_type": "code",
   "execution_count": 4,
   "metadata": {},
   "outputs": [
    {
     "name": "stdout",
     "output_type": "stream",
     "text": [
      "volume of the cube : 27\n"
     ]
    }
   ],
   "source": [
    "s = int(input(\"enter the side of cube:\"))\n",
    "print(f\"volume of the cube : {s**3}\")"
   ]
  },
  {
   "cell_type": "markdown",
   "metadata": {},
   "source": [
    "4. find the simple interest"
   ]
  },
  {
   "cell_type": "code",
   "execution_count": null,
   "metadata": {},
   "outputs": [],
   "source": [
    "p = int(input(\"enter the principle amount : \"))\n",
    "r = int(input(\"enter the rate of interest : \"))\n",
    "n = int(input(\"enter the no of years : \"))\n",
    "SI = (p*r*n)/100\n",
    "print(f\"Simple interest : {SI}\")"
   ]
  },
  {
   "cell_type": "markdown",
   "metadata": {},
   "source": [
    "5. swap 2 numbers"
   ]
  },
  {
   "cell_type": "code",
   "execution_count": 6,
   "metadata": {},
   "outputs": [
    {
     "name": "stdout",
     "output_type": "stream",
     "text": [
      "2\n",
      "1\n"
     ]
    }
   ],
   "source": [
    "a = int(input(\"enter the number1 : \"))\n",
    "b = int(input(\"enter the number 2: \"))\n",
    "temp = a \n",
    "a = b\n",
    "b = temp\n",
    "print(a)\n",
    "print(b)"
   ]
  },
  {
   "cell_type": "code",
   "execution_count": 7,
   "metadata": {},
   "outputs": [
    {
     "name": "stdout",
     "output_type": "stream",
     "text": [
      "3\n",
      "4\n"
     ]
    }
   ],
   "source": [
    "a = int(input(\"enter the number1 : \"))\n",
    "b = int(input(\"enter the number 2: \"))\n",
    "a,b = b,a\n",
    "print(a)\n",
    "print(b)"
   ]
  },
  {
   "cell_type": "markdown",
   "metadata": {},
   "source": [
    "6. convert into hour, minutes and seconds"
   ]
  },
  {
   "cell_type": "code",
   "execution_count": 9,
   "metadata": {},
   "outputs": [
    {
     "name": "stdout",
     "output_type": "stream",
     "text": [
      "1hr : 3min : 20sec\n"
     ]
    }
   ],
   "source": [
    "s = int(input(\"enter the seconds : \"))\n",
    "hour = s//3600\n",
    "minute = s%3600 // 60\n",
    "seconds = (s%3600)%60\n",
    "print(f\"{hour}hr : {minute}min : {seconds}sec\")"
   ]
  },
  {
   "cell_type": "markdown",
   "metadata": {},
   "source": [
    "7. Denomination of currency"
   ]
  },
  {
   "cell_type": "code",
   "execution_count": null,
   "metadata": {},
   "outputs": [
    {
     "name": "stdout",
     "output_type": "stream",
     "text": [
      "2 2000rs notes : 1 500rs notes : 0 200rs notes :0 100rs notes : 1 50rs notes : 0 20rs notes : 1 10rs notes : 1 5rs notes : 1 2rs notes : 1 1rs notes \n"
     ]
    }
   ],
   "source": [
    "amount = int(input(\"enter the amount : \"))\n",
    "a2000 = amount//2000\n",
    "a = amount%2000\n",
    "a500 = a//500\n",
    "a = a%500\n",
    "a200 = a//200\n",
    "a = a%200\n",
    "a100 = a//100\n",
    "a = a%100\n",
    "a50 = a//50\n",
    "a = a%50\n",
    "a20 = a//20\n",
    "a = a%20\n",
    "a10 = a//10\n",
    "a = a%10\n",
    "a5 = a//5\n",
    "a = a%5\n",
    "a2 = a//2\n",
    "a = a%2\n",
    "a1 = a//1     \n",
    "print(f\"{a2000} 2000rs notes : {a500} 500rs notes : {a200} 200rs notes :{a100} 100rs notes : {a50} 50rs notes : {a20} 20rs notes : {a10} 10rs notes : {a5} 5rs notes : {a2} 2rs notes : {a1} 1rs notes \")"
   ]
  },
  {
   "cell_type": "markdown",
   "metadata": {},
   "source": [
    "8. find the attendence percentage taking the total working days and no of days absent as  input and check whether the candidate is eligble for writing the exam"
   ]
  },
  {
   "cell_type": "code",
   "execution_count": 1,
   "metadata": {},
   "outputs": [
    {
     "name": "stdout",
     "output_type": "stream",
     "text": [
      "you are eligble for writing the exam \n"
     ]
    }
   ],
   "source": [
    "workingdays = int(input(\"enter the total no of working days :\"))\n",
    "absent = int(input(\"enter the number of days absent : \"))\n",
    "percentage = ((workingdays - absent) / workingdays ) * 100\n",
    "if percentage>75:\n",
    "    print(\"you are eligble for writing the exam \")\n",
    "else:\n",
    "    print(\"you are not eligible for writing the exam\")    "
   ]
  },
  {
   "cell_type": "markdown",
   "metadata": {},
   "source": [
    "9. create a simple calculator taking 2 numbers and the operator from the user"
   ]
  },
  {
   "cell_type": "code",
   "execution_count": 2,
   "metadata": {},
   "outputs": [
    {
     "name": "stdout",
     "output_type": "stream",
     "text": [
      "product of 12 * 3 = 36\n"
     ]
    }
   ],
   "source": [
    "num1 = int(input(\"enter the number 1 : \"))\n",
    "num2 = int(input(\"enter the number 2 :\"))\n",
    "operator = input(\"enter the operator :\")\n",
    "if operator == '+':\n",
    "    print(f\"sum of {num1} + {num2} = {num1 + num2}\")\n",
    "elif operator == '-':\n",
    "    print(f\"difference of {num1} - {num2} = {num1 - num2}\")\n",
    "elif operator == '*':\n",
    "    print(f\"product of {num1} * {num2} = {num1 * num2}\")\n",
    "elif operator == '/':\n",
    "    print(f\"quotient of {num1} / {num2} = {num1/num2}\")\n",
    "else:\n",
    "    print(\"enter the inputs correctly\")\n"
   ]
  },
  {
   "cell_type": "markdown",
   "metadata": {},
   "source": [
    "10 . find the largest number among 3 numbers "
   ]
  },
  {
   "cell_type": "code",
   "execution_count": 5,
   "metadata": {},
   "outputs": [
    {
     "name": "stdout",
     "output_type": "stream",
     "text": [
      " 14 is greater\n"
     ]
    }
   ],
   "source": [
    "num1 = int(input(\"enter the number 1 : \"))\n",
    "num2 = int(input(\"enter the number 2 : \"))\n",
    "num3 = int(input(\"enter the number 3 : \"))\n",
    "if num1 > num2:\n",
    "    if num1>num3:\n",
    "        print(f\"{num1} is greater\")\n",
    "elif num2>num3:\n",
    "    print(f\"{num2} is greater\")\n",
    "else:\n",
    "    print(f\" {num3} is greater\")"
   ]
  },
  {
   "cell_type": "markdown",
   "metadata": {},
   "source": [
    "11 . check wheather the last digit is divisble by 3"
   ]
  },
  {
   "cell_type": "code",
   "execution_count": 6,
   "metadata": {},
   "outputs": [
    {
     "name": "stdout",
     "output_type": "stream",
     "text": [
      "the last digit of the 12 is 2\n"
     ]
    }
   ],
   "source": [
    "n = int(input(\"enter the number : \"))\n",
    "l = n%10\n",
    "print(f\"the last digit of the {n} is {l}\")\n"
   ]
  },
  {
   "cell_type": "markdown",
   "metadata": {},
   "source": [
    "12. temperature conversion "
   ]
  },
  {
   "cell_type": "code",
   "execution_count": 10,
   "metadata": {},
   "outputs": [
    {
     "name": "stdout",
     "output_type": "stream",
     "text": [
      "************Temperature converion **************\n",
      "type 1 for celicius to faranheit  2 for faranheit to celicius\n",
      "your temperature in fahrenheit : 53.6\n"
     ]
    }
   ],
   "source": [
    "print(\"************Temperature converion **************\")\n",
    "print(\"type 1 for celicius to faranheit  2 for faranheit to celicius\")\n",
    "n = int(input(\"enter your choice :\"))\n",
    "if n == 1:\n",
    "    c = int(input(\"enter your temperature in celsius :\"))\n",
    "    print(f\"your temperature in fahrenheit : {(c * (9/5)) + 32}\")\n",
    "elif n == 2:\n",
    "    f = int(input(\"enter your temperature in faherenheit :\"))\n",
    "    print(f\"your temperature in celsius : {(f -32)* 5/9}\") "
   ]
  },
  {
   "cell_type": "markdown",
   "metadata": {},
   "source": [
    "13.Write a Python program that takes a list of numbers as input from the user and prints out the maximum and minimum numbers in the list."
   ]
  },
  {
   "cell_type": "code",
   "execution_count": 11,
   "metadata": {},
   "outputs": [
    {
     "name": "stdout",
     "output_type": "stream",
     "text": [
      "Maximum number on the list : 43\n",
      "Minimum number on the list : 4\n"
     ]
    }
   ],
   "source": [
    "n =input(\"enter the number on the list : \").split()\n",
    "l = []\n",
    "for i in n:\n",
    "    l.append(int(i))\n",
    "\n",
    "print(f\"Maximum number on the list : {max(l)}\")\n",
    "print(f\"Minimum number on the list : {min(l)}\")"
   ]
  },
  {
   "cell_type": "markdown",
   "metadata": {},
   "source": [
    "14.Create a Python program that prompts the user to enter their age and checks if they are eligible to vote. Use logical operators to check if the age is greater than or equal to 18 and less than or equal to 120. Print a message indicating whether the person can vote or not."
   ]
  },
  {
   "cell_type": "code",
   "execution_count": null,
   "metadata": {},
   "outputs": [],
   "source": [
    "age = int(input(\"enter the age :\"))\n",
    "if age >=18 and age <= 120:\n",
    "    print(\"you are eligible to vote : \")\n",
    "else:\n",
    "    print(\"you are not eligible to vote\")\n"
   ]
  },
  {
   "cell_type": "markdown",
   "metadata": {},
   "source": [
    "15 . Write program to check a number is even or odd"
   ]
  },
  {
   "cell_type": "code",
   "execution_count": 13,
   "metadata": {},
   "outputs": [
    {
     "name": "stdout",
     "output_type": "stream",
     "text": [
      "3 number is odd\n"
     ]
    }
   ],
   "source": [
    "n = int(input('enter the number :'))\n",
    "if n%2==0:\n",
    "    print(f\"{n} number is even\")\n",
    "else:\n",
    "    print(f\"{n} number is odd\")"
   ]
  },
  {
   "cell_type": "markdown",
   "metadata": {},
   "source": [
    "16.Write a program to check whether given year is leap year or not"
   ]
  },
  {
   "cell_type": "code",
   "execution_count": 15,
   "metadata": {},
   "outputs": [
    {
     "name": "stdout",
     "output_type": "stream",
     "text": [
      "2024 is leap year\n"
     ]
    }
   ],
   "source": [
    "year = int(input(\"enter the year : \"))\n",
    "if year % 4 == 0:\n",
    "    if year % 100 == 0:\n",
    "        if year % 400 == 0:\n",
    "            print(f\"{year} is leap year\")\n",
    "        else:\n",
    "            print(f\"{year} is not leap year\")\n",
    "    else:\n",
    "        print(f\"{year} is leap year\")\n",
    "else:\n",
    "    print(f\"{year} is not leap year\") "
   ]
  },
  {
   "cell_type": "markdown",
   "metadata": {},
   "source": [
    "17. A shop will give discount of 10% if the cost of purchased quantity is more than 1000.\n",
    "Ask user for quantity\n",
    "Suppose, one unit will cost 100.\n",
    "Judge and print total cost for user.\n"
   ]
  },
  {
   "cell_type": "code",
   "execution_count": 16,
   "metadata": {},
   "outputs": [
    {
     "name": "stdout",
     "output_type": "stream",
     "text": [
      "total cost of 10 units : 1000\n"
     ]
    }
   ],
   "source": [
    "n = int(input(\"enter the units : \"))\n",
    "c = n * 100\n",
    "if c > 1000:\n",
    "    q = (10/100) * c\n",
    "    tc = c - q\n",
    "    print(f\"total cost of {tc}\")\n",
    "else:\n",
    "    print(f\"total cost of {n} units : {c}\")"
   ]
  },
  {
   "cell_type": "markdown",
   "metadata": {},
   "source": [
    "18. accept the sides of the triangle and check whether it is equilateral , isoscles or scalene triangle"
   ]
  },
  {
   "cell_type": "code",
   "execution_count": 18,
   "metadata": {},
   "outputs": [
    {
     "name": "stdout",
     "output_type": "stream",
     "text": [
      "isoscles\n"
     ]
    }
   ],
   "source": [
    "s1 = int(input(\"enter the side 1 : \"))\n",
    "s2 = int(input(\"enter the side 2 :\"))\n",
    "s3 = int(input(\"enter the side 3 :\"))\n",
    "if s1==s2==s3:\n",
    "    print(\"equilateral\")\n",
    "elif s1==s2 or s1==s3 or s2==s3:\n",
    "    print(\"isoscles\")\n",
    "elif s1!=s2!=s3:\n",
    "    print(\"scalene\")\n"
   ]
  },
  {
   "cell_type": "markdown",
   "metadata": {},
   "source": [
    "19.Take values of length and breadth of a rectangle from user and check if it is square or not."
   ]
  },
  {
   "cell_type": "code",
   "execution_count": 19,
   "metadata": {},
   "outputs": [
    {
     "name": "stdout",
     "output_type": "stream",
     "text": [
      "square\n"
     ]
    }
   ],
   "source": [
    "l =int(input(\"enter the length : \"))\n",
    "b = int(input(\"enter the breadth :\"))\n",
    "if l==b:\n",
    "    print(\"square\")\n",
    "else:\n",
    "    print(\"rectangle | not a square\")    "
   ]
  },
  {
   "cell_type": "markdown",
   "metadata": {},
   "source": [
    "20 . A school has following rules for grading system:\n",
    "a. Below 25 - F\n",
    "b. 25 to 45 - E\n",
    "c. 45 to 50 - D\n",
    "d. 50 to 60 - C\n",
    "e. 60 to 80 - B\n",
    "f. Above 80 - A\n",
    "Ask user to enter marks and print the corresponding grade.\n"
   ]
  },
  {
   "cell_type": "code",
   "execution_count": 20,
   "metadata": {},
   "outputs": [
    {
     "name": "stdout",
     "output_type": "stream",
     "text": [
      "your grade is B\n"
     ]
    }
   ],
   "source": [
    "p = int(input(\"enter the percentage :\"))\n",
    "if p <25:\n",
    "    print(\"your grade is F\")\n",
    "elif 25<p<=45:\n",
    "    print(\"your grade is E\")\n",
    "elif 45<p<=50:\n",
    "    print(\"your grade is D\")\n",
    "elif 50<p<=60:\n",
    "    print(\"your grade is C\")\n",
    "elif 60<p<=80:\n",
    "    print(\"your grade is B\")\n",
    "elif p>80:\n",
    "    print(\"your grade is A\")"
   ]
  },
  {
   "cell_type": "markdown",
   "metadata": {},
   "source": [
    "#### Loops\n",
    "a loop is used to itrate over a sequence\n",
    "- For loop\n",
    "- While loop"
   ]
  },
  {
   "cell_type": "markdown",
   "metadata": {},
   "source": [
    "    For each element in sequence :\n",
    "        do some action\n",
    "\n",
    "while loop is used when the no of iterations are not known"
   ]
  },
  {
   "cell_type": "code",
   "execution_count": 8,
   "metadata": {},
   "outputs": [
    {
     "name": "stdout",
     "output_type": "stream",
     "text": [
      "1\n",
      "2\n",
      "3\n",
      "4\n",
      "5\n",
      "6\n",
      "7\n",
      "8\n",
      "9\n"
     ]
    }
   ],
   "source": [
    "for i in range(1,10):\n",
    "    print(i)"
   ]
  },
  {
   "cell_type": "code",
   "execution_count": 7,
   "metadata": {},
   "outputs": [
    {
     "name": "stdout",
     "output_type": "stream",
     "text": [
      "1\n",
      "2\n",
      "3\n",
      "4\n",
      "5\n",
      "6\n",
      "7\n",
      "8\n",
      "9\n",
      "10\n"
     ]
    }
   ],
   "source": [
    "i = 1\n",
    "while i<=10:\n",
    "    print(i)\n",
    "    i+=1"
   ]
  },
  {
   "cell_type": "markdown",
   "metadata": {},
   "source": [
    "Nested loop : Loop inside another loop"
   ]
  },
  {
   "cell_type": "code",
   "execution_count": 9,
   "metadata": {},
   "outputs": [
    {
     "name": "stdout",
     "output_type": "stream",
     "text": [
      "1\n",
      "2\n",
      "3\n",
      "4\n",
      "5\n",
      "6\n",
      "7\n",
      "8\n",
      "9\n",
      "2\n",
      "4\n",
      "6\n",
      "8\n",
      "10\n",
      "12\n",
      "14\n",
      "16\n",
      "18\n",
      "3\n",
      "6\n",
      "9\n",
      "12\n",
      "15\n",
      "18\n",
      "21\n",
      "24\n",
      "27\n",
      "4\n",
      "8\n",
      "12\n",
      "16\n",
      "20\n",
      "24\n",
      "28\n",
      "32\n",
      "36\n",
      "5\n",
      "10\n",
      "15\n",
      "20\n",
      "25\n",
      "30\n",
      "35\n",
      "40\n",
      "45\n",
      "6\n",
      "12\n",
      "18\n",
      "24\n",
      "30\n",
      "36\n",
      "42\n",
      "48\n",
      "54\n",
      "7\n",
      "14\n",
      "21\n",
      "28\n",
      "35\n",
      "42\n",
      "49\n",
      "56\n",
      "63\n",
      "8\n",
      "16\n",
      "24\n",
      "32\n",
      "40\n",
      "48\n",
      "56\n",
      "64\n",
      "72\n",
      "9\n",
      "18\n",
      "27\n",
      "36\n",
      "45\n",
      "54\n",
      "63\n",
      "72\n",
      "81\n"
     ]
    }
   ],
   "source": [
    "for i in range(1,10):\n",
    "    for j in range(1,10):\n",
    "        print(i*j)"
   ]
  },
  {
   "cell_type": "markdown",
   "metadata": {},
   "source": [
    "Transfer statements : \n",
    "1. break : based on some condition break loop execution\n",
    "2. continue : skip current iteration"
   ]
  },
  {
   "cell_type": "code",
   "execution_count": 10,
   "metadata": {},
   "outputs": [
    {
     "name": "stdout",
     "output_type": "stream",
     "text": [
      "1\n",
      "2\n",
      "3\n",
      "4\n",
      "5\n",
      "6\n"
     ]
    }
   ],
   "source": [
    "#break\n",
    "for i in range(1,10):\n",
    "    if i == 7 :\n",
    "        break\n",
    "    print(i)"
   ]
  },
  {
   "cell_type": "code",
   "execution_count": 11,
   "metadata": {},
   "outputs": [
    {
     "name": "stdout",
     "output_type": "stream",
     "text": [
      "1\n",
      "2\n",
      "3\n",
      "4\n",
      "5\n",
      "6\n",
      "8\n",
      "9\n"
     ]
    }
   ],
   "source": [
    "#continue\n",
    "for i in range(1,10):\n",
    "    if i == 7:\n",
    "        continue\n",
    "    print(i)"
   ]
  },
  {
   "cell_type": "markdown",
   "metadata": {},
   "source": [
    "## Problems"
   ]
  },
  {
   "cell_type": "markdown",
   "metadata": {},
   "source": [
    "1. Print numbers divisible by 3 or 5 from 1 to 20 using a for loop"
   ]
  },
  {
   "cell_type": "code",
   "execution_count": 21,
   "metadata": {},
   "outputs": [
    {
     "name": "stdout",
     "output_type": "stream",
     "text": [
      "3\n",
      "5\n",
      "6\n",
      "9\n",
      "10\n",
      "12\n",
      "15\n",
      "18\n",
      "20\n"
     ]
    }
   ],
   "source": [
    "for i in range(1,21):\n",
    "    if i % 3 == 0 or i%5 == 0:\n",
    "        print(i)"
   ]
  },
  {
   "cell_type": "markdown",
   "metadata": {},
   "source": [
    "2.Print numbers from 1 to 10. If a number is divisible by 4, stop the loop using a for loop and break statement:"
   ]
  },
  {
   "cell_type": "code",
   "execution_count": 27,
   "metadata": {},
   "outputs": [
    {
     "name": "stdout",
     "output_type": "stream",
     "text": [
      "1\n",
      "2\n",
      "3\n"
     ]
    }
   ],
   "source": [
    "for i in range(1,11):\n",
    "    if i%4==0:\n",
    "        break\n",
    "    print(i)"
   ]
  },
  {
   "cell_type": "markdown",
   "metadata": {},
   "source": [
    "3. Python program that accepts a word from the user and reverses it."
   ]
  },
  {
   "cell_type": "code",
   "execution_count": 33,
   "metadata": {},
   "outputs": [
    {
     "name": "stdout",
     "output_type": "stream",
     "text": [
      "v\n",
      "e\n",
      "d\n"
     ]
    }
   ],
   "source": [
    "s = input(\"enter the string to be reversed : \")\n",
    "for i in range(len(s)-1,-1,-1):\n",
    "    print(s[i])"
   ]
  },
  {
   "cell_type": "markdown",
   "metadata": {},
   "source": [
    "4. Count characters in the string"
   ]
  },
  {
   "cell_type": "code",
   "execution_count": 35,
   "metadata": {},
   "outputs": [
    {
     "name": "stdout",
     "output_type": "stream",
     "text": [
      "count of the string : 3\n"
     ]
    }
   ],
   "source": [
    "s = input(\"enter the string:\")\n",
    "c=0\n",
    "for i in s:\n",
    "    c+=1\n",
    "print(f\"count of the string : {c}\")"
   ]
  },
  {
   "cell_type": "markdown",
   "metadata": {},
   "source": [
    "5. Find out the given number is prime or composite"
   ]
  },
  {
   "cell_type": "code",
   "execution_count": 41,
   "metadata": {},
   "outputs": [
    {
     "name": "stdout",
     "output_type": "stream",
     "text": [
      "composite\n"
     ]
    }
   ],
   "source": [
    "n =int(input('Enter the number :'))\n",
    "c = 0\n",
    "for i in range(1,n+1):\n",
    "    if n%i==0:\n",
    "        c+=1\n",
    "if c==2:\n",
    "    print(\"prime\")\n",
    "else:\n",
    "    print(\"composite\")"
   ]
  },
  {
   "cell_type": "markdown",
   "metadata": {},
   "source": [
    "6. Find the factorial of a number "
   ]
  },
  {
   "cell_type": "code",
   "execution_count": 44,
   "metadata": {},
   "outputs": [
    {
     "name": "stdout",
     "output_type": "stream",
     "text": [
      "factorial of 5 = 120\n"
     ]
    }
   ],
   "source": [
    "n = int(input(\"enter the number : \"))\n",
    "f=1\n",
    "for i in range(1,n+1):\n",
    "    f*=i\n",
    "print(f\"factorial of {n} = {f}\")"
   ]
  },
  {
   "cell_type": "markdown",
   "metadata": {},
   "source": [
    "7.find the fibonacci series"
   ]
  },
  {
   "cell_type": "code",
   "execution_count": 45,
   "metadata": {},
   "outputs": [
    {
     "name": "stdout",
     "output_type": "stream",
     "text": [
      "0\n",
      "1\n",
      "1\n",
      "2\n",
      "3\n",
      "5\n",
      "8\n",
      "13\n",
      "21\n",
      "34\n"
     ]
    }
   ],
   "source": [
    "n =int(input(\"enter the number : \"))\n",
    "f = 0\n",
    "s = 1 \n",
    "\n",
    "for i in range(1,n+1):\n",
    "    print(f)\n",
    "    t = f+s\n",
    "    f=s\n",
    "    s=t\n"
   ]
  },
  {
   "cell_type": "markdown",
   "metadata": {},
   "source": [
    "8. find the multiplication table "
   ]
  },
  {
   "cell_type": "code",
   "execution_count": 48,
   "metadata": {},
   "outputs": [
    {
     "name": "stdout",
     "output_type": "stream",
     "text": [
      "Multiplication table of 1\n",
      "1 * 1 = 1\n",
      "1 * 2 = 2\n",
      "1 * 3 = 3\n",
      "1 * 4 = 4\n",
      "1 * 5 = 5\n",
      "1 * 6 = 6\n",
      "1 * 7 = 7\n",
      "1 * 8 = 8\n",
      "1 * 9 = 9\n",
      "1 * 10 = 10\n",
      "Multiplication table of 2\n",
      "2 * 1 = 2\n",
      "2 * 2 = 4\n",
      "2 * 3 = 6\n",
      "2 * 4 = 8\n",
      "2 * 5 = 10\n",
      "2 * 6 = 12\n",
      "2 * 7 = 14\n",
      "2 * 8 = 16\n",
      "2 * 9 = 18\n",
      "2 * 10 = 20\n",
      "Multiplication table of 3\n",
      "3 * 1 = 3\n",
      "3 * 2 = 6\n",
      "3 * 3 = 9\n",
      "3 * 4 = 12\n",
      "3 * 5 = 15\n",
      "3 * 6 = 18\n",
      "3 * 7 = 21\n",
      "3 * 8 = 24\n",
      "3 * 9 = 27\n",
      "3 * 10 = 30\n",
      "Multiplication table of 4\n",
      "4 * 1 = 4\n",
      "4 * 2 = 8\n",
      "4 * 3 = 12\n",
      "4 * 4 = 16\n",
      "4 * 5 = 20\n",
      "4 * 6 = 24\n",
      "4 * 7 = 28\n",
      "4 * 8 = 32\n",
      "4 * 9 = 36\n",
      "4 * 10 = 40\n",
      "Multiplication table of 5\n",
      "5 * 1 = 5\n",
      "5 * 2 = 10\n",
      "5 * 3 = 15\n",
      "5 * 4 = 20\n",
      "5 * 5 = 25\n",
      "5 * 6 = 30\n",
      "5 * 7 = 35\n",
      "5 * 8 = 40\n",
      "5 * 9 = 45\n",
      "5 * 10 = 50\n",
      "Multiplication table of 6\n",
      "6 * 1 = 6\n",
      "6 * 2 = 12\n",
      "6 * 3 = 18\n",
      "6 * 4 = 24\n",
      "6 * 5 = 30\n",
      "6 * 6 = 36\n",
      "6 * 7 = 42\n",
      "6 * 8 = 48\n",
      "6 * 9 = 54\n",
      "6 * 10 = 60\n",
      "Multiplication table of 7\n",
      "7 * 1 = 7\n",
      "7 * 2 = 14\n",
      "7 * 3 = 21\n",
      "7 * 4 = 28\n",
      "7 * 5 = 35\n",
      "7 * 6 = 42\n",
      "7 * 7 = 49\n",
      "7 * 8 = 56\n",
      "7 * 9 = 63\n",
      "7 * 10 = 70\n",
      "Multiplication table of 8\n",
      "8 * 1 = 8\n",
      "8 * 2 = 16\n",
      "8 * 3 = 24\n",
      "8 * 4 = 32\n",
      "8 * 5 = 40\n",
      "8 * 6 = 48\n",
      "8 * 7 = 56\n",
      "8 * 8 = 64\n",
      "8 * 9 = 72\n",
      "8 * 10 = 80\n",
      "Multiplication table of 9\n",
      "9 * 1 = 9\n",
      "9 * 2 = 18\n",
      "9 * 3 = 27\n",
      "9 * 4 = 36\n",
      "9 * 5 = 45\n",
      "9 * 6 = 54\n",
      "9 * 7 = 63\n",
      "9 * 8 = 72\n",
      "9 * 9 = 81\n",
      "9 * 10 = 90\n",
      "Multiplication table of 10\n",
      "10 * 1 = 10\n",
      "10 * 2 = 20\n",
      "10 * 3 = 30\n",
      "10 * 4 = 40\n",
      "10 * 5 = 50\n",
      "10 * 6 = 60\n",
      "10 * 7 = 70\n",
      "10 * 8 = 80\n",
      "10 * 9 = 90\n",
      "10 * 10 = 100\n"
     ]
    }
   ],
   "source": [
    "for i in range(1,11):\n",
    "    print(f\"Multiplication table of {i}\")\n",
    "    for j in range(1,11):\n",
    "        print(f\"{i} * {j} = {i*j}\")"
   ]
  },
  {
   "cell_type": "markdown",
   "metadata": {},
   "source": [
    "9. print the vowels in the given string"
   ]
  },
  {
   "cell_type": "code",
   "execution_count": 50,
   "metadata": {},
   "outputs": [
    {
     "name": "stdout",
     "output_type": "stream",
     "text": [
      "e\n",
      "u\n"
     ]
    }
   ],
   "source": [
    "s = input(\"enter the string:\")\n",
    "for i in s:\n",
    "    if i in \"aeiouAEIOU\":\n",
    "        print(i)"
   ]
  },
  {
   "cell_type": "markdown",
   "metadata": {},
   "source": [
    "10. count the odd and even "
   ]
  },
  {
   "cell_type": "code",
   "execution_count": 51,
   "metadata": {},
   "outputs": [
    {
     "name": "stdout",
     "output_type": "stream",
     "text": [
      "odd : 50 even : 50\n"
     ]
    }
   ],
   "source": [
    "n =int(input(\"enter the odd : \"))\n",
    "co = 0\n",
    "ce = 0\n",
    "for i in range(1,n+1):\n",
    "    if i%2==0:\n",
    "        ce+=1\n",
    "    else:\n",
    "        co+=1\n",
    "print(f\"odd : {co} even : {ce}\")"
   ]
  },
  {
   "cell_type": "markdown",
   "metadata": {},
   "source": [
    "11. find fibinocci series using while loop"
   ]
  },
  {
   "cell_type": "code",
   "execution_count": 2,
   "metadata": {},
   "outputs": [
    {
     "name": "stdout",
     "output_type": "stream",
     "text": [
      "0\n",
      "1\n",
      "1\n",
      "2\n",
      "3\n",
      "5\n",
      "8\n",
      "13\n",
      "21\n",
      "34\n",
      "55\n",
      "89\n"
     ]
    }
   ],
   "source": [
    "n = int(input(\"enter the number : \"))\n",
    "f = 0\n",
    "s = 1\n",
    "i  = 1\n",
    "while i<=n:\n",
    "    print(f)\n",
    "    t = f+s\n",
    "    f = s\n",
    "    s = t\n",
    "    i+=1"
   ]
  },
  {
   "cell_type": "markdown",
   "metadata": {},
   "source": [
    "12. check wheather the  3-digit number is armstrong or not"
   ]
  },
  {
   "cell_type": "code",
   "execution_count": 14,
   "metadata": {},
   "outputs": [
    {
     "name": "stdout",
     "output_type": "stream",
     "text": [
      "armstrong\n"
     ]
    }
   ],
   "source": [
    "n = int(input(\"enter the number :\"))\n",
    "num= n\n",
    "s = 0\n",
    "while n>0:\n",
    "     d = n%10\n",
    "     d = d**3\n",
    "     s += d\n",
    "     n//=10\n",
    "if s == num:\n",
    "     print(\"armstrong\")\n",
    "else:\n",
    "    print(\"not armstrong\")"
   ]
  },
  {
   "cell_type": "markdown",
   "metadata": {},
   "source": [
    "13. check wheather the given number is armstrong"
   ]
  },
  {
   "cell_type": "code",
   "execution_count": 17,
   "metadata": {},
   "outputs": [
    {
     "name": "stdout",
     "output_type": "stream",
     "text": [
      "not armstrong\n"
     ]
    }
   ],
   "source": [
    "n = int(input(\"enter the number :\"))\n",
    "num= n\n",
    "s = 0\n",
    "while n>0:\n",
    "     d = n%10\n",
    "     d = d**len(str(num))\n",
    "     s += d\n",
    "     n//=10\n",
    "if s == num:\n",
    "     print(\"armstrong\")\n",
    "else:\n",
    "    print(\"not armstrong\")"
   ]
  },
  {
   "cell_type": "markdown",
   "metadata": {},
   "source": [
    "14. print the fibinocci series below 10"
   ]
  },
  {
   "cell_type": "code",
   "execution_count": 28,
   "metadata": {},
   "outputs": [
    {
     "name": "stdout",
     "output_type": "stream",
     "text": [
      "0\n",
      "1\n",
      "1\n",
      "2\n",
      "3\n",
      "5\n",
      "8\n"
     ]
    }
   ],
   "source": [
    "\n",
    "f = 0\n",
    "s = 1\n",
    "while f<10:\n",
    "    print(f)\n",
    "    t = f+s\n",
    "    f = s\n",
    "    s = t"
   ]
  },
  {
   "cell_type": "markdown",
   "metadata": {},
   "source": [
    "nested - loop problems"
   ]
  },
  {
   "cell_type": "markdown",
   "metadata": {},
   "source": [
    "15. armstrong number between 1 - 1000"
   ]
  },
  {
   "cell_type": "code",
   "execution_count": null,
   "metadata": {},
   "outputs": [],
   "source": [
    "for i in range(1, 1000):\n",
    "    s = 0\n",
    "    n = i\n",
    "    while n > 0:\n",
    "        d = n % 10\n",
    "        s += d ** len(str(i))\n",
    "        n //= 10\n",
    "    if s == i:\n",
    "        print(i)\n"
   ]
  },
  {
   "cell_type": "markdown",
   "metadata": {},
   "source": [
    "16 . find a number is perfect number or not "
   ]
  },
  {
   "cell_type": "code",
   "execution_count": 52,
   "metadata": {},
   "outputs": [
    {
     "name": "stdout",
     "output_type": "stream",
     "text": [
      "perfect number\n"
     ]
    }
   ],
   "source": [
    "n = int(input(\"enter the number : \"))\n",
    "s=0\n",
    "for i in range(1,n):\n",
    "    \n",
    "    if n%i == 0:\n",
    "        s+=i\n",
    "if n == s:\n",
    "    print(\"perfect number\")"
   ]
  },
  {
   "cell_type": "code",
   "execution_count": 53,
   "metadata": {},
   "outputs": [
    {
     "name": "stdout",
     "output_type": "stream",
     "text": [
      "6\n",
      "28\n"
     ]
    }
   ],
   "source": [
    "for i in range(1,100):\n",
    "    s=0\n",
    "    for j in range(1,i):\n",
    "        if i %j == 0:\n",
    "            s+=j\n",
    "    if s == i:\n",
    "        print(i)"
   ]
  },
  {
   "cell_type": "markdown",
   "metadata": {},
   "source": [
    "17. print prime numbers less than 100"
   ]
  },
  {
   "cell_type": "code",
   "execution_count": 55,
   "metadata": {},
   "outputs": [
    {
     "name": "stdout",
     "output_type": "stream",
     "text": [
      "2\n",
      "3\n",
      "5\n",
      "7\n",
      "11\n",
      "13\n",
      "17\n",
      "19\n",
      "23\n",
      "29\n",
      "31\n",
      "37\n",
      "41\n",
      "43\n",
      "47\n",
      "53\n",
      "59\n",
      "61\n",
      "67\n",
      "71\n",
      "73\n",
      "79\n",
      "83\n",
      "89\n",
      "97\n"
     ]
    }
   ],
   "source": [
    "for i in range(1,100):\n",
    "    c = 0\n",
    "    for j in range(1,i+1):\n",
    "        if i%j==0:\n",
    "            c+=1\n",
    "    if c ==2:\n",
    "        print(i)"
   ]
  },
  {
   "cell_type": "markdown",
   "metadata": {},
   "source": [
    "Pattern problems"
   ]
  },
  {
   "cell_type": "code",
   "execution_count": 60,
   "metadata": {},
   "outputs": [
    {
     "name": "stdout",
     "output_type": "stream",
     "text": [
      "* * * * \n",
      "* * * * \n",
      "* * * * \n",
      "* * * * \n"
     ]
    }
   ],
   "source": [
    "# * * * * \n",
    "# * * * * \n",
    "# * * * * \n",
    "# * * * * \n",
    "for i in range(1,5):\n",
    "    for j in range(1,5):\n",
    "        print(\"*\",end = ' ')\n",
    "    print()"
   ]
  },
  {
   "cell_type": "code",
   "execution_count": 63,
   "metadata": {},
   "outputs": [
    {
     "name": "stdout",
     "output_type": "stream",
     "text": [
      "1 2 3 4 \n",
      "1 2 3 4 \n",
      "1 2 3 4 \n",
      "1 2 3 4 \n"
     ]
    }
   ],
   "source": [
    "# 1 2 3 4 \n",
    "# 1 2 3 4 \n",
    "# 1 2 3 4 \n",
    "# 1 2 3 4 \n",
    "\n",
    "for i in range(1,5):\n",
    "    for j in range(1,5):\n",
    "        print(j,end = ' ')\n",
    "    print()"
   ]
  },
  {
   "cell_type": "code",
   "execution_count": 64,
   "metadata": {},
   "outputs": [
    {
     "name": "stdout",
     "output_type": "stream",
     "text": [
      "1 1 1 1 \n",
      "2 2 2 2 \n",
      "3 3 3 3 \n",
      "4 4 4 4 \n"
     ]
    }
   ],
   "source": [
    "# 1 1 1 1 \n",
    "# 2 2 2 2 \n",
    "# 3 3 3 3 \n",
    "# 4 4 4 4 \n",
    "for i in range(1,5):\n",
    "    for j in range(1,5):\n",
    "        print(i,end = ' ')\n",
    "    print()"
   ]
  },
  {
   "cell_type": "code",
   "execution_count": null,
   "metadata": {},
   "outputs": [
    {
     "name": "stdout",
     "output_type": "stream",
     "text": [
      "1 \n",
      "1 2 \n",
      "1 2 3 \n",
      "1 2 3 4 \n"
     ]
    }
   ],
   "source": [
    "# 1 \n",
    "# 1 2 \n",
    "# 1 2 3 \n",
    "# 1 2 3 4 \n",
    "\n",
    "for i in range(1,5):\n",
    "    for j in range(1,i+1):\n",
    "        print(j,end=' ')\n",
    "    print()"
   ]
  },
  {
   "cell_type": "code",
   "execution_count": 67,
   "metadata": {},
   "outputs": [
    {
     "name": "stdout",
     "output_type": "stream",
     "text": [
      "1 \n",
      "2 2 \n",
      "3 3 3 \n",
      "4 4 4 4 \n"
     ]
    }
   ],
   "source": [
    "# 1 \n",
    "# 2 2 \n",
    "# 3 3 3 \n",
    "# 4 4 4 4 \n",
    "\n",
    "for i in range(1,5):\n",
    "    for j in range(1,i+1):\n",
    "        print(i,end = ' ')\n",
    "    print()"
   ]
  },
  {
   "cell_type": "code",
   "execution_count": 71,
   "metadata": {},
   "outputs": [
    {
     "name": "stdout",
     "output_type": "stream",
     "text": [
      "* \n",
      "* * \n",
      "* * * \n",
      "* * * * \n",
      "* * * * * \n"
     ]
    }
   ],
   "source": [
    "# * \n",
    "# * * \n",
    "# * * * \n",
    "# * * * * \n",
    "# * * * * * \n",
    "n = int(input(\"enter the number : \"))\n",
    "for i in range(1,n+1):\n",
    "    for j in range(i):\n",
    "        print('*',end = ' ')\n",
    "    print()"
   ]
  },
  {
   "cell_type": "code",
   "execution_count": 72,
   "metadata": {},
   "outputs": [
    {
     "name": "stdout",
     "output_type": "stream",
     "text": [
      "1 \n",
      "2 3 \n",
      "4 5 6 \n",
      "7 8 9 10 \n"
     ]
    }
   ],
   "source": [
    "# 1 \n",
    "# 2 3 \n",
    "# 4 5 6 \n",
    "# 7 8 9 10 \n",
    "k = 1\n",
    "for i in range(1,5):\n",
    "    for j in range(1,i+1):\n",
    "        print(k,end= ' ')\n",
    "        k+=1\n",
    "    print()"
   ]
  },
  {
   "cell_type": "code",
   "execution_count": 75,
   "metadata": {},
   "outputs": [
    {
     "name": "stdout",
     "output_type": "stream",
     "text": [
      "A \n",
      "B C \n",
      "D E F \n",
      "G H I J \n"
     ]
    }
   ],
   "source": [
    "# A \n",
    "# B C \n",
    "# D E F \n",
    "# G H I J \n",
    "k = ord('A')\n",
    "for i in range(1,5):\n",
    "    for j in range(i):\n",
    "        print(chr(k),end=' ')\n",
    "        k+=1\n",
    "    print()\n",
    "\n"
   ]
  },
  {
   "cell_type": "code",
   "execution_count": 95,
   "metadata": {},
   "outputs": [
    {
     "name": "stdout",
     "output_type": "stream",
     "text": [
      "* * * * * \n",
      "* * * * \n",
      "* * * \n",
      "* * \n",
      "* \n"
     ]
    }
   ],
   "source": [
    "# * * * * * \n",
    "# * * * * \n",
    "# * * * \n",
    "# * * \n",
    "# * \n",
    "for i in range(5):\n",
    "    for j in range(5-i):\n",
    "        print('*',end=' ')\n",
    "    print()"
   ]
  },
  {
   "cell_type": "code",
   "execution_count": null,
   "metadata": {},
   "outputs": [
    {
     "name": "stdout",
     "output_type": "stream",
     "text": [
      "    * \n",
      "   * * \n",
      "  * * * \n",
      " * * * * \n",
      "* * * * * \n"
     ]
    }
   ],
   "source": [
    "#     * \n",
    "#    * * \n",
    "#   * * * \n",
    "#  * * * * \n",
    "# * * * * *\n",
    "for i in range(5):\n",
    "    for j in range((5-i)-1):\n",
    "        print(end = ' ')\n",
    "    for j in range(i+1):\n",
    "        print('*',end = ' ')\n",
    "    print()\n"
   ]
  },
  {
   "cell_type": "markdown",
   "metadata": {},
   "source": [
    "## String\n",
    "string is a sequence of characters enclosed within single chords or double chords"
   ]
  },
  {
   "cell_type": "code",
   "execution_count": 97,
   "metadata": {},
   "outputs": [
    {
     "name": "stdout",
     "output_type": "stream",
     "text": [
      "dev\n"
     ]
    }
   ],
   "source": [
    "#single line string\n",
    "s = \"dev\"\n",
    "print(s)"
   ]
  },
  {
   "cell_type": "code",
   "execution_count": 99,
   "metadata": {},
   "outputs": [
    {
     "name": "stdout",
     "output_type": "stream",
     "text": [
      " dev is not that\n",
      "         good at \n",
      "        coding\n"
     ]
    }
   ],
   "source": [
    "#multiline string\n",
    "s = ''' dev is not that\n",
    "         good at \n",
    "        coding'''\n",
    "print(s)"
   ]
  },
  {
   "cell_type": "markdown",
   "metadata": {},
   "source": [
    "How to access characters in the string\n",
    "1. by using index\n",
    "2. by using slicing\n",
    "\n",
    "**indexing** : \n",
    "we can access a element on string using index\n",
    "- forward indexing - from left to right\n",
    "- backward indexing - from right to left"
   ]
  },
  {
   "cell_type": "code",
   "execution_count": null,
   "metadata": {},
   "outputs": [
    {
     "name": "stdout",
     "output_type": "stream",
     "text": [
      "d\n",
      "v\n"
     ]
    }
   ],
   "source": [
    "s = 'dev'\n",
    "print(s[0]) #forward indexing \n",
    "print(s[-1]) # backward indexing"
   ]
  },
  {
   "cell_type": "markdown",
   "metadata": {},
   "source": [
    "**slice operator :**\n",
    "s[begin:end:step]\n",
    "- step value is positive moves in forward directon\n",
    "- step value is negative moves in reverse direction\n"
   ]
  },
  {
   "cell_type": "code",
   "execution_count": null,
   "metadata": {},
   "outputs": [
    {
     "data": {
      "text/plain": [
       "'ved'"
      ]
     },
     "execution_count": 104,
     "metadata": {},
     "output_type": "execute_result"
    }
   ],
   "source": [
    "s = \"dev\"\n",
    "s[0:2:1] \n",
    "s[::-1]"
   ]
  },
  {
   "cell_type": "markdown",
   "metadata": {},
   "source": [
    "Mathematical operators : + , *"
   ]
  },
  {
   "cell_type": "code",
   "execution_count": null,
   "metadata": {},
   "outputs": [
    {
     "name": "stdout",
     "output_type": "stream",
     "text": [
      "devcodes\n",
      "devdevdev\n"
     ]
    }
   ],
   "source": [
    "s1 = 'dev'\n",
    "s2 = 'codes'\n",
    "print(s1+s2) #string concatenate : we can concatenate 2 string into 1\n",
    "print(s1*3) #repetition operator"
   ]
  },
  {
   "cell_type": "markdown",
   "metadata": {},
   "source": [
    "### String Functions\n",
    "1. len(): this function is used to find the length of the string"
   ]
  },
  {
   "cell_type": "code",
   "execution_count": 106,
   "metadata": {},
   "outputs": [
    {
     "name": "stdout",
     "output_type": "stream",
     "text": [
      "8\n"
     ]
    }
   ],
   "source": [
    "s = 'devcodes'\n",
    "print(len(s))"
   ]
  },
  {
   "cell_type": "markdown",
   "metadata": {},
   "source": [
    "2. strip() : Remove spaces at the beginning and at the end of the string\n",
    "- lstrip() \n",
    "- rstrip()"
   ]
  },
  {
   "cell_type": "code",
   "execution_count": 107,
   "metadata": {},
   "outputs": [
    {
     "name": "stdout",
     "output_type": "stream",
     "text": [
      "devcodes\n"
     ]
    }
   ],
   "source": [
    "s = '    devcodes    '\n",
    "print(s.strip())"
   ]
  },
  {
   "cell_type": "code",
   "execution_count": 111,
   "metadata": {},
   "outputs": [
    {
     "name": "stdout",
     "output_type": "stream",
     "text": [
      "dev***\n",
      "***dev\n"
     ]
    }
   ],
   "source": [
    "s = '***dev***'\n",
    "print(s.lstrip('*'))\n",
    "print(s.rstrip('*'))"
   ]
  },
  {
   "cell_type": "markdown",
   "metadata": {},
   "source": [
    "3. index() : to find the index of the first match\n",
    "- index(substring)\n",
    "- index(substring,begin,end)\n",
    "- rindex(substring) : Where in the text is the last occurrence of the string\n",
    "- rindex(substring,begin,end)"
   ]
  },
  {
   "cell_type": "code",
   "execution_count": 117,
   "metadata": {},
   "outputs": [
    {
     "data": {
      "text/plain": [
       "1"
      ]
     },
     "execution_count": 117,
     "metadata": {},
     "output_type": "execute_result"
    }
   ],
   "source": [
    "s = 'devcodes'\n",
    "s.index('e')"
   ]
  },
  {
   "cell_type": "code",
   "execution_count": 118,
   "metadata": {},
   "outputs": [
    {
     "data": {
      "text/plain": [
       "6"
      ]
     },
     "execution_count": 118,
     "metadata": {},
     "output_type": "execute_result"
    }
   ],
   "source": [
    "s = 'devcodes'\n",
    "s.rindex('e')"
   ]
  },
  {
   "cell_type": "markdown",
   "metadata": {},
   "source": [
    "4. find() : same as index"
   ]
  },
  {
   "cell_type": "code",
   "execution_count": 119,
   "metadata": {},
   "outputs": [
    {
     "name": "stdout",
     "output_type": "stream",
     "text": [
      "1\n"
     ]
    }
   ],
   "source": [
    "s = 'devcodes'\n",
    "print(s.find('e'))"
   ]
  },
  {
   "cell_type": "code",
   "execution_count": 120,
   "metadata": {},
   "outputs": [
    {
     "name": "stdout",
     "output_type": "stream",
     "text": [
      "6\n"
     ]
    }
   ],
   "source": [
    "s = 'devcodes'\n",
    "print(s.rfind('e'))"
   ]
  },
  {
   "cell_type": "markdown",
   "metadata": {},
   "source": [
    "5. count() : returns the count of the substring"
   ]
  },
  {
   "cell_type": "code",
   "execution_count": 121,
   "metadata": {},
   "outputs": [
    {
     "data": {
      "text/plain": [
       "2"
      ]
     },
     "execution_count": 121,
     "metadata": {},
     "output_type": "execute_result"
    }
   ],
   "source": [
    "s = 'devcodes'\n",
    "s.count('e')"
   ]
  },
  {
   "cell_type": "markdown",
   "metadata": {},
   "source": [
    "6. replace() : can replace a substring with another substring"
   ]
  },
  {
   "cell_type": "code",
   "execution_count": 124,
   "metadata": {},
   "outputs": [
    {
     "data": {
      "text/plain": [
       "'devcrees'"
      ]
     },
     "execution_count": 124,
     "metadata": {},
     "output_type": "execute_result"
    }
   ],
   "source": [
    "s = 'devcodes'\n",
    "s.replace('od','re')"
   ]
  },
  {
   "cell_type": "markdown",
   "metadata": {},
   "source": [
    "7. split() : splits the string into a list "
   ]
  },
  {
   "cell_type": "code",
   "execution_count": 125,
   "metadata": {},
   "outputs": [
    {
     "name": "stdout",
     "output_type": "stream",
     "text": [
      "['dev', 'is', 'bad', 'at', 'coding']\n"
     ]
    }
   ],
   "source": [
    "s = 'dev is bad at coding'\n",
    "print(s.split())"
   ]
  },
  {
   "cell_type": "markdown",
   "metadata": {},
   "source": [
    "8. join() : The join() method takes all items in an iterable and joins them into one string."
   ]
  },
  {
   "cell_type": "code",
   "execution_count": 126,
   "metadata": {},
   "outputs": [
    {
     "name": "stdout",
     "output_type": "stream",
     "text": [
      "you are super cool\n"
     ]
    }
   ],
   "source": [
    "s = ['you' ,'are','super','cool']\n",
    "print(' '.join(s))"
   ]
  },
  {
   "cell_type": "markdown",
   "metadata": {},
   "source": [
    "9. Changing cases of a string\n",
    "- upper() : change the string to uppercase\n",
    "- lower() : change the string to lowercase\n",
    "- swapcase() : swaps the cases\n",
    "- title() : change first letter of the string to uppercase\n",
    "- capitalize() : change the first letter of the string to uppercase"
   ]
  },
  {
   "cell_type": "code",
   "execution_count": 128,
   "metadata": {},
   "outputs": [
    {
     "name": "stdout",
     "output_type": "stream",
     "text": [
      "DEVCODES\n",
      "devcodes\n",
      "DEVCODES\n",
      "Devcodes\n",
      "Devcodes\n"
     ]
    }
   ],
   "source": [
    "s = 'devcodes'\n",
    "print(s.upper())\n",
    "print(s.lower())\n",
    "print(s.swapcase())\n",
    "print(s.title())\n",
    "print(s.capitalize())"
   ]
  },
  {
   "cell_type": "markdown",
   "metadata": {},
   "source": [
    "10. Checking starting and ending part of the string\n",
    "- startswith()\n",
    "- endswith()"
   ]
  },
  {
   "cell_type": "code",
   "execution_count": 130,
   "metadata": {},
   "outputs": [
    {
     "name": "stdout",
     "output_type": "stream",
     "text": [
      "True\n",
      "True\n"
     ]
    }
   ],
   "source": [
    "s = 'devcodes'\n",
    "print(s.startswith('d'))\n",
    "print(s.endswith('s'))"
   ]
  },
  {
   "cell_type": "markdown",
   "metadata": {},
   "source": [
    "11. checking the characters in string\n",
    "- isalpha()\n",
    "- islower()\n",
    "- istitle()\n",
    "- isdigit()\n",
    "- isupper()\n",
    "- isalnum()\n",
    "- isspace()"
   ]
  },
  {
   "cell_type": "code",
   "execution_count": 131,
   "metadata": {},
   "outputs": [
    {
     "name": "stdout",
     "output_type": "stream",
     "text": [
      "True\n",
      "True\n",
      "False\n",
      "False\n",
      "False\n",
      "True\n",
      "False\n"
     ]
    }
   ],
   "source": [
    "s = 'devcodes'\n",
    "print(s.isalpha())\n",
    "print(s.islower())\n",
    "print(s.isupper())\n",
    "print(s.istitle())\n",
    "print(s.isdigit())\n",
    "print(s.isalnum())\n",
    "print(s.isspace())"
   ]
  }
 ],
 "metadata": {
  "kernelspec": {
   "display_name": "Python 3",
   "language": "python",
   "name": "python3"
  },
  "language_info": {
   "codemirror_mode": {
    "name": "ipython",
    "version": 3
   },
   "file_extension": ".py",
   "mimetype": "text/x-python",
   "name": "python",
   "nbconvert_exporter": "python",
   "pygments_lexer": "ipython3",
   "version": "3.10.4"
  }
 },
 "nbformat": 4,
 "nbformat_minor": 2
}
