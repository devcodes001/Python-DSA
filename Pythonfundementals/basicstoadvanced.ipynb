{
 "cells": [
  {
   "cell_type": "markdown",
   "metadata": {},
   "source": [
    "# Python Programming"
   ]
  },
  {
   "cell_type": "markdown",
   "metadata": {},
   "source": [
    "Python was created by Guido-van rossum in 1991\n",
    "\n",
    "Features\n",
    "- Simple and easy to learn\n",
    "- Open source and free\n",
    "- Portable\n",
    "- Large builtin libraries\n",
    "- High level programming language\n",
    "\n",
    "Limitations\n",
    "\n",
    "- Performance wise is not up to the mark,as it is interpretted\n",
    "- Python is not suitable for large scale enterprice applications"
   ]
  },
  {
   "cell_type": "markdown",
   "metadata": {},
   "source": [
    "Variables : variables are memory locations to hold values"
   ]
  },
  {
   "cell_type": "code",
   "execution_count": 1,
   "metadata": {},
   "outputs": [
    {
     "name": "stdout",
     "output_type": "stream",
     "text": [
      "10\n"
     ]
    }
   ],
   "source": [
    "a = 10\n",
    "print(a)"
   ]
  },
  {
   "cell_type": "markdown",
   "metadata": {},
   "source": [
    "Identifiers : names given to the program elements is called identifier\n",
    "\n",
    "rules:\n",
    "- can use uppercase and lowercase digits\n",
    "- cannot use keywords\n",
    "- cannot start with a digit\n",
    "- can only use the special character (-)\n",
    "\n",
    "keywords:These are the reserved words used in the python program.There are 33 reserved words\n",
    "\n",
    "eg: True,False,None,if,else,elif,for,while,etc\n",
    "\n",
    "Print function: used to print values on the screen"
   ]
  },
  {
   "cell_type": "code",
   "execution_count": 2,
   "metadata": {},
   "outputs": [
    {
     "name": "stdout",
     "output_type": "stream",
     "text": [
      "ved\n"
     ]
    }
   ],
   "source": [
    "print('ved')"
   ]
  },
  {
   "cell_type": "markdown",
   "metadata": {},
   "source": [
    "Basic data types\n",
    "- Numeric datatype\n",
    "  - int : integral values,values without decimal\n",
    "  - float : floating point values,values with decimal points\n",
    "  - complex : complex numbers,number having a realpart and imaginary part\n",
    "- Non Numeric datatype\n",
    "  - string : string is a group of characters that are enclosed within single quotes or double quotes\n",
    "  - boolean : it is a datatype that have only 2 values True,False"
   ]
  },
  {
   "cell_type": "code",
   "execution_count": 3,
   "metadata": {},
   "outputs": [
    {
     "name": "stdout",
     "output_type": "stream",
     "text": [
      "<class 'int'>\n",
      "<class 'float'>\n",
      "<class 'complex'>\n",
      "<class 'str'>\n",
      "<class 'bool'>\n"
     ]
    }
   ],
   "source": [
    "#Int\n",
    "i = 10\n",
    "print(type(a))\n",
    "#Float\n",
    "f = 10.01\n",
    "print(type(f))\n",
    "#Complex\n",
    "c = 10 + 5j\n",
    "print(type(c))\n",
    "#String\n",
    "s = \"Glad you r leaning python\"\n",
    "print(type(s))\n",
    "#Boolean\n",
    "b = True\n",
    "print(type(b))"
   ]
  },
  {
   "cell_type": "markdown",
   "metadata": {},
   "source": [
    "Operators : It is used to perform operations\n",
    "\n",
    "A + B -> here A and B are operands , (+) is the operator\n",
    "\n",
    "Arithmetic operators\n",
    "- Addition (+)\n",
    "- Substraction (-)\n",
    "- Division (/)\n",
    "- Modulus (%)\n",
    "- Floor division (//)\n",
    "- Exponent (**)"
   ]
  },
  {
   "cell_type": "code",
   "execution_count": 4,
   "metadata": {},
   "outputs": [
    {
     "name": "stdout",
     "output_type": "stream",
     "text": [
      "20\n",
      "4\n",
      "96\n",
      "1.5\n",
      "4\n",
      "1\n",
      "429981696\n"
     ]
    }
   ],
   "source": [
    "a = 12\n",
    "b = 8\n",
    "print(a + b)\n",
    "print(a - b)\n",
    "print(a * b)\n",
    "print(a / b)\n",
    "print(a % b)\n",
    "print(a // b)\n",
    "print(a ** b)"
   ]
  },
  {
   "cell_type": "markdown",
   "metadata": {},
   "source": [
    "Relational operators\n",
    "- < , less than\n",
    "- ( > ) , Greater than\n",
    "- <= , less than or equal to\n",
    "- ( >= ) , greater than or equal to\n",
    "- == , equal to\n",
    "- != , not equal to"
   ]
  },
  {
   "cell_type": "code",
   "execution_count": 5,
   "metadata": {},
   "outputs": [
    {
     "name": "stdout",
     "output_type": "stream",
     "text": [
      "False\n",
      "True\n",
      "False\n",
      "True\n",
      "False\n",
      "True\n"
     ]
    }
   ],
   "source": [
    "print( a < b)\n",
    "print(a > b)\n",
    "print(a <= b)\n",
    "print(a >= b)\n",
    "print(a == b)\n",
    "print(a != b)"
   ]
  },
  {
   "cell_type": "markdown",
   "metadata": {},
   "source": [
    "Assaignment operator\n",
    "- equal -> = \n",
    "\n",
    "Compound Assaignment operators\n",
    "- +=\n",
    "- -=\n",
    "- *=\n",
    "- /=\n",
    "- %=\n",
    "- //=\n",
    "- **="
   ]
  },
  {
   "cell_type": "code",
   "execution_count": 8,
   "metadata": {},
   "outputs": [
    {
     "name": "stdout",
     "output_type": "stream",
     "text": [
      "12\n",
      "10\n",
      "20\n",
      "10.0\n",
      "0.0\n",
      "0.0\n",
      "4\n"
     ]
    }
   ],
   "source": [
    "a = 10\n",
    "a += 2\n",
    "print(a)\n",
    "a -= 2\n",
    "print(a)\n",
    "a *= 2 \n",
    "print(a)\n",
    "a /= 2\n",
    "print(a)\n",
    "a %= 2\n",
    "print(a)\n",
    "a //= 2\n",
    "print(a)\n",
    "a=2\n",
    "a **= 2\n",
    "print(a)\n"
   ]
  },
  {
   "cell_type": "markdown",
   "metadata": {},
   "source": [
    "Logical operators\n",
    "- and\n",
    "- or\n",
    "- not"
   ]
  },
  {
   "cell_type": "code",
   "execution_count": 9,
   "metadata": {},
   "outputs": [
    {
     "name": "stdout",
     "output_type": "stream",
     "text": [
      "False\n",
      "True\n",
      "False\n"
     ]
    }
   ],
   "source": [
    "a = True\n",
    "b = False\n",
    "print(a and b)\n",
    "print(a or b)\n",
    "print(not a)"
   ]
  },
  {
   "cell_type": "markdown",
   "metadata": {},
   "source": [
    "Bitwise operators\n",
    "- |\n",
    "- &\n",
    "- ^\n",
    "- ~\n",
    "- <<\n",
    "- (>>)"
   ]
  },
  {
   "cell_type": "code",
   "execution_count": 10,
   "metadata": {},
   "outputs": [
    {
     "name": "stdout",
     "output_type": "stream",
     "text": [
      "a & b (AND): 1\n",
      "a | b (OR): 7\n",
      "a ^ b (XOR): 6\n",
      "~a (NOT): -6\n",
      "a << 1 (Left Shift): 10\n",
      "a >> 1 (Right Shift): 2\n"
     ]
    }
   ],
   "source": [
    "a = 5       # Binary: 0101\n",
    "b = 3       # Binary: 0011\n",
    "\n",
    "print(\"a & b (AND):\", a & b)       \n",
    "print(\"a | b (OR):\", a | b)        \n",
    "print(\"a ^ b (XOR):\", a ^ b)       \n",
    "print(\"~a (NOT):\", ~a)          \n",
    "print(\"a << 1 (Left Shift):\", a << 1)  \n",
    "print(\"a >> 1 (Right Shift):\", a >> 1)"
   ]
  },
  {
   "cell_type": "markdown",
   "metadata": {},
   "source": [
    "Identity Operator\n",
    "- is\n",
    "- is not"
   ]
  },
  {
   "cell_type": "code",
   "execution_count": 12,
   "metadata": {},
   "outputs": [
    {
     "name": "stdout",
     "output_type": "stream",
     "text": [
      "False\n",
      "True\n"
     ]
    }
   ],
   "source": [
    "a = 2\n",
    "b = 3\n",
    "print(a is b)\n",
    "print(a is not b)"
   ]
  },
  {
   "cell_type": "markdown",
   "metadata": {},
   "source": [
    "Membership Operator\n",
    "- in\n",
    "- not in "
   ]
  },
  {
   "cell_type": "code",
   "execution_count": 14,
   "metadata": {},
   "outputs": [
    {
     "name": "stdout",
     "output_type": "stream",
     "text": [
      "True\n",
      "False\n"
     ]
    }
   ],
   "source": [
    "a = 2\n",
    "b = [1,2,3]\n",
    "print(a in b)\n",
    "print(a not in b)"
   ]
  },
  {
   "cell_type": "markdown",
   "metadata": {},
   "source": [
    "Input statements : It is used to read input from user"
   ]
  },
  {
   "cell_type": "code",
   "execution_count": 16,
   "metadata": {},
   "outputs": [
    {
     "name": "stdout",
     "output_type": "stream",
     "text": [
      "12\n"
     ]
    }
   ],
   "source": [
    "n = int(input(\"enter the number : \"))\n",
    "print(n)"
   ]
  },
  {
   "cell_type": "markdown",
   "metadata": {},
   "source": [
    "Operator precedence: It is the order in which operations are performed\n",
    "\n",
    "() , ** , (* , / , %) , ( + , - ) "
   ]
  },
  {
   "cell_type": "markdown",
   "metadata": {},
   "source": [
    "Conditional statements : Based on the condition we can execute a program (statement)\n",
    "- if\n",
    "- elif\n",
    "- if-else\n",
    "- nested-if"
   ]
  },
  {
   "cell_type": "markdown",
   "metadata": {},
   "source": [
    "Simple-if statement\n",
    "\n",
    "if condition :\n",
    "   statement"
   ]
  },
  {
   "cell_type": "code",
   "execution_count": 17,
   "metadata": {},
   "outputs": [
    {
     "name": "stdout",
     "output_type": "stream",
     "text": [
      "a is 10\n"
     ]
    }
   ],
   "source": [
    "a = 10\n",
    "if a == 10:\n",
    "    print(\"a is 10\")"
   ]
  },
  {
   "cell_type": "markdown",
   "metadata": {},
   "source": [
    "if - else statement\n",
    "\n",
    "if condiiton1:\n",
    "   statement\n",
    "else:\n",
    "   statement"
   ]
  },
  {
   "cell_type": "code",
   "execution_count": null,
   "metadata": {},
   "outputs": [],
   "source": [
    "a = int(input(\"enter the number 1 :\"))\n",
    "b = int(input(\"enter the number 2 :\"))\n",
    "if a > b:\n",
    "    print(\"a is greater\")\n",
    "else:\n",
    "    print(\"b is greater\")    "
   ]
  },
  {
   "cell_type": "markdown",
   "metadata": {},
   "source": [
    "elif statement"
   ]
  },
  {
   "cell_type": "code",
   "execution_count": null,
   "metadata": {},
   "outputs": [],
   "source": [
    "a = int(input(\"enter the number 1 : \"))\n",
    "b = int(input(\"enter the number 2 : \"))\n",
    "if a > b:\n",
    "    print(\"a is greater\")\n",
    "elif a==b:\n",
    "    print(\"a and b are same\")\n",
    "else:\n",
    "    print(\"b is greater\")  \n"
   ]
  },
  {
   "cell_type": "markdown",
   "metadata": {},
   "source": [
    "Nested-if statement"
   ]
  },
  {
   "cell_type": "code",
   "execution_count": null,
   "metadata": {},
   "outputs": [],
   "source": [
    "a = int(input(\"enter the number1 :\"))\n",
    "b = int(input(\"enter the number2 :\"))\n",
    "c = int(input(\"enter the number3 :\"))\n",
    "if a > b:\n",
    "    if a>c:\n",
    "        print(\"a is greater\")\n",
    "elif b>c:\n",
    "    print(\"b is greater\")   \n",
    "else:\n",
    "    print(\"c is greater\")     "
   ]
  },
  {
   "cell_type": "markdown",
   "metadata": {},
   "source": [
    "### **Basics questions**"
   ]
  },
  {
   "cell_type": "markdown",
   "metadata": {},
   "source": [
    "1. Area of the rectangle"
   ]
  },
  {
   "cell_type": "code",
   "execution_count": 1,
   "metadata": {},
   "outputs": [
    {
     "name": "stdout",
     "output_type": "stream",
     "text": [
      "Area of the rectangle : 48\n"
     ]
    }
   ],
   "source": [
    "l = int(input(\"enter the length : \"))\n",
    "b = int(input(\"enter the breadth :\"))\n",
    "print(f\"Area of the rectangle : {l*b}\") #fstring "
   ]
  },
  {
   "cell_type": "markdown",
   "metadata": {},
   "source": [
    "2. find the volume of sphere"
   ]
  },
  {
   "cell_type": "code",
   "execution_count": 3,
   "metadata": {},
   "outputs": [
    {
     "name": "stdout",
     "output_type": "stream",
     "text": [
      "volume of the sphere : 267.94666666666666\n"
     ]
    }
   ],
   "source": [
    "r = int(input(\"enter the volume :\"))\n",
    "pi = 3.14\n",
    "volume = (4/3)*pi*(r**3)\n",
    "print(f\"volume of the sphere : {volume}\")"
   ]
  },
  {
   "cell_type": "markdown",
   "metadata": {},
   "source": [
    "3. volume of cube"
   ]
  },
  {
   "cell_type": "code",
   "execution_count": 4,
   "metadata": {},
   "outputs": [
    {
     "name": "stdout",
     "output_type": "stream",
     "text": [
      "volume of the cube : 27\n"
     ]
    }
   ],
   "source": [
    "s = int(input(\"enter the side of cube:\"))\n",
    "print(f\"volume of the cube : {s**3}\")"
   ]
  },
  {
   "cell_type": "markdown",
   "metadata": {},
   "source": [
    "4. find the simple interest"
   ]
  },
  {
   "cell_type": "code",
   "execution_count": null,
   "metadata": {},
   "outputs": [],
   "source": [
    "p = int(input(\"enter the principle amount : \"))\n",
    "r = int(input(\"enter the rate of interest : \"))\n",
    "n = int(input(\"enter the no of years : \"))\n",
    "SI = (p*r*n)/100\n",
    "print(f\"Simple interest : {SI}\")"
   ]
  },
  {
   "cell_type": "markdown",
   "metadata": {},
   "source": [
    "5. swap 2 numbers"
   ]
  },
  {
   "cell_type": "code",
   "execution_count": 6,
   "metadata": {},
   "outputs": [
    {
     "name": "stdout",
     "output_type": "stream",
     "text": [
      "2\n",
      "1\n"
     ]
    }
   ],
   "source": [
    "a = int(input(\"enter the number1 : \"))\n",
    "b = int(input(\"enter the number 2: \"))\n",
    "temp = a \n",
    "a = b\n",
    "b = temp\n",
    "print(a)\n",
    "print(b)"
   ]
  },
  {
   "cell_type": "code",
   "execution_count": 7,
   "metadata": {},
   "outputs": [
    {
     "name": "stdout",
     "output_type": "stream",
     "text": [
      "3\n",
      "4\n"
     ]
    }
   ],
   "source": [
    "a = int(input(\"enter the number1 : \"))\n",
    "b = int(input(\"enter the number 2: \"))\n",
    "a,b = b,a\n",
    "print(a)\n",
    "print(b)"
   ]
  },
  {
   "cell_type": "markdown",
   "metadata": {},
   "source": [
    "6. convert into hour, minutes and seconds"
   ]
  },
  {
   "cell_type": "code",
   "execution_count": 9,
   "metadata": {},
   "outputs": [
    {
     "name": "stdout",
     "output_type": "stream",
     "text": [
      "1hr : 3min : 20sec\n"
     ]
    }
   ],
   "source": [
    "s = int(input(\"enter the seconds : \"))\n",
    "hour = s//3600\n",
    "minute = s%3600 // 60\n",
    "seconds = (s%3600)%60\n",
    "print(f\"{hour}hr : {minute}min : {seconds}sec\")"
   ]
  },
  {
   "cell_type": "markdown",
   "metadata": {},
   "source": [
    "7. Denomination of currency"
   ]
  },
  {
   "cell_type": "code",
   "execution_count": null,
   "metadata": {},
   "outputs": [
    {
     "name": "stdout",
     "output_type": "stream",
     "text": [
      "2 2000rs notes : 1 500rs notes : 0 200rs notes :0 100rs notes : 1 50rs notes : 0 20rs notes : 1 10rs notes : 1 5rs notes : 1 2rs notes : 1 1rs notes \n"
     ]
    }
   ],
   "source": [
    "amount = int(input(\"enter the amount : \"))\n",
    "a2000 = amount//2000\n",
    "a = amount%2000\n",
    "a500 = a//500\n",
    "a = a%500\n",
    "a200 = a//200\n",
    "a = a%200\n",
    "a100 = a//100\n",
    "a = a%100\n",
    "a50 = a//50\n",
    "a = a%50\n",
    "a20 = a//20\n",
    "a = a%20\n",
    "a10 = a//10\n",
    "a = a%10\n",
    "a5 = a//5\n",
    "a = a%5\n",
    "a2 = a//2\n",
    "a = a%2\n",
    "a1 = a//1     \n",
    "print(f\"{a2000} 2000rs notes : {a500} 500rs notes : {a200} 200rs notes :{a100} 100rs notes : {a50} 50rs notes : {a20} 20rs notes : {a10} 10rs notes : {a5} 5rs notes : {a2} 2rs notes : {a1} 1rs notes \")"
   ]
  },
  {
   "cell_type": "markdown",
   "metadata": {},
   "source": [
    "8. "
   ]
  },
  {
   "cell_type": "code",
   "execution_count": null,
   "metadata": {},
   "outputs": [],
   "source": []
  }
 ],
 "metadata": {
  "kernelspec": {
   "display_name": "Python 3",
   "language": "python",
   "name": "python3"
  },
  "language_info": {
   "codemirror_mode": {
    "name": "ipython",
    "version": 3
   },
   "file_extension": ".py",
   "mimetype": "text/x-python",
   "name": "python",
   "nbconvert_exporter": "python",
   "pygments_lexer": "ipython3",
   "version": "3.10.4"
  }
 },
 "nbformat": 4,
 "nbformat_minor": 2
}
