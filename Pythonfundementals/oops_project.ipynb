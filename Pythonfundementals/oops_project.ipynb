{
  "nbformat": 4,
  "nbformat_minor": 0,
  "metadata": {
    "colab": {
      "provenance": [],
      "authorship_tag": "ABX9TyPF5T2dHzrKyk23i4r3p44a",
      "include_colab_link": true
    },
    "kernelspec": {
      "name": "python3",
      "display_name": "Python 3"
    },
    "language_info": {
      "name": "python"
    }
  },
  "cells": [
    {
      "cell_type": "markdown",
      "metadata": {
        "id": "view-in-github",
        "colab_type": "text"
      },
      "source": [
        "<a href=\"https://colab.research.google.com/github/devcodes001/Python-DSA/blob/main/Pythonfundementals/oops_project.ipynb\" target=\"_parent\"><img src=\"https://colab.research.google.com/assets/colab-badge.svg\" alt=\"Open In Colab\"/></a>"
      ]
    },
    {
      "cell_type": "code",
      "source": [
        "!pip install nlpcloud"
      ],
      "metadata": {
        "id": "qKN0FIOK0AhK",
        "outputId": "96649f05-4d87-4496-b632-8d8926e70f3d",
        "colab": {
          "base_uri": "https://localhost:8080/"
        }
      },
      "execution_count": 1,
      "outputs": [
        {
          "output_type": "stream",
          "name": "stdout",
          "text": [
            "Requirement already satisfied: nlpcloud in /usr/local/lib/python3.10/dist-packages (1.1.47)\n",
            "Requirement already satisfied: requests in /usr/local/lib/python3.10/dist-packages (from nlpcloud) (2.32.3)\n",
            "Requirement already satisfied: charset-normalizer<4,>=2 in /usr/local/lib/python3.10/dist-packages (from requests->nlpcloud) (3.4.0)\n",
            "Requirement already satisfied: idna<4,>=2.5 in /usr/local/lib/python3.10/dist-packages (from requests->nlpcloud) (3.10)\n",
            "Requirement already satisfied: urllib3<3,>=1.21.1 in /usr/local/lib/python3.10/dist-packages (from requests->nlpcloud) (2.2.3)\n",
            "Requirement already satisfied: certifi>=2017.4.17 in /usr/local/lib/python3.10/dist-packages (from requests->nlpcloud) (2024.12.14)\n"
          ]
        }
      ]
    },
    {
      "cell_type": "code",
      "execution_count": 2,
      "metadata": {
        "id": "R-qZV3dfgs8M",
        "outputId": "e347b6dc-9871-4ec2-8b80-844692c73f01",
        "colab": {
          "base_uri": "https://localhost:8080/"
        }
      },
      "outputs": [
        {
          "output_type": "execute_result",
          "data": {
            "text/plain": [
              "{'entities': [{'start': 26,\n",
              "   'end': 36,\n",
              "   'type': 'programming languages',\n",
              "   'text': 'Javascript'},\n",
              "  {'start': 102,\n",
              "   'end': 108,\n",
              "   'type': 'programming languages',\n",
              "   'text': 'Python'},\n",
              "  {'start': 165, 'end': 167, 'type': 'programming languages', 'text': 'Go'}]}"
            ]
          },
          "metadata": {},
          "execution_count": 2
        }
      ],
      "source": [
        "import nlpcloud\n",
        "\n",
        "client = nlpcloud.Client(\"finetuned-llama-3-70b\", \"6ec255874e0d4ae841e7a1fb9c29ad9cf13443e3\", gpu=True)\n",
        "client.entities(\n",
        "    \"\"\"John Doe started learning Javascript when he was 15 years old. After a couple of years he switched to Python and starter learning low level programming. He is now a Go expert at Google.\"\"\",\n",
        "    searched_entity=\"programming languages\"\n",
        ")"
      ]
    },
    {
      "cell_type": "markdown",
      "source": [
        "#**OOP Project**"
      ],
      "metadata": {
        "id": "u5XWFWUM0oKU"
      }
    },
    {
      "cell_type": "code",
      "source": [
        "class NLPApp:\n",
        "    def __init__(self):\n",
        "        self.__database = {}\n",
        "        self.__first_menu()\n",
        "\n",
        "    def __first_menu(self):\n",
        "        first_input = input(\"\"\"\n",
        "        Hi! How would you like to proceed?\n",
        "        1. Not a member? Register\n",
        "        2. Already a member? Login\n",
        "        3. Accidentally opened? Exit\n",
        "        \"\"\")\n",
        "        if first_input == '1':\n",
        "            self.__register()\n",
        "        elif first_input == '2':\n",
        "            self.__login()\n",
        "        elif first_input == '3':\n",
        "            exit()\n",
        "\n",
        "    def __second_menu(self):\n",
        "        first_input = input(\"\"\"\n",
        "        Hi! How would you like to proceed?\n",
        "        1. NER\n",
        "        2. Language detection\n",
        "        3. Sentiment analysis\n",
        "        4. Logout\n",
        "        \"\"\")\n",
        "        if first_input == '1':\n",
        "            self.__NER()\n",
        "        elif first_input == '2':\n",
        "            self.__languagedetection()\n",
        "        elif first_input == '3':\n",
        "            self.__sentimentanalysis()\n",
        "        else:\n",
        "          exit()\n",
        "\n",
        "    def __register(self):\n",
        "        name = input(\"Enter your name: \")\n",
        "        email = input(\"Enter your email: \")\n",
        "        password = input(\"Enter your password: \")\n",
        "        if email in self.__database:\n",
        "            print(\"Email already exists!\")\n",
        "        else:\n",
        "            self.__database[email] = [name, password]\n",
        "            print(\"Registration successful\")\n",
        "            self.__login()\n",
        "\n",
        "    def __login(self):\n",
        "        email = input(\"Enter your email: \")\n",
        "        password = input(\"Enter your password: \")\n",
        "        if email in self.__database:\n",
        "            if self.__database[email][1] == password:\n",
        "                print(\"Login successful\")\n",
        "                self.__second_menu()\n",
        "            else:\n",
        "                print(\"Wrong password!\")\n",
        "                self.__login()\n",
        "        else:\n",
        "            print(\"This email is not registered\")\n",
        "            self.__first_menu()"
      ],
      "metadata": {
        "id": "vDgQEQzu0sHU"
      },
      "execution_count": 6,
      "outputs": []
    },
    {
      "cell_type": "code",
      "source": [
        "dapp = NLPApp()"
      ],
      "metadata": {
        "id": "YvAULgbf41H7",
        "outputId": "b233215a-cac1-4cba-890e-d0105bb35406",
        "colab": {
          "base_uri": "https://localhost:8080/"
        }
      },
      "execution_count": 7,
      "outputs": [
        {
          "name": "stdout",
          "output_type": "stream",
          "text": [
            "\n",
            "        Hi! How would you like to proceed?\n",
            "        1. Not a member? Register\n",
            "        2. Already a member? Login\n",
            "        3. Accidentally opened? Exit\n",
            "        1\n",
            "Enter your name: dev\n",
            "Enter your email: dev\n",
            "Enter your password: 123\n",
            "Registration successful\n",
            "Enter your email: dev\n",
            "Enter your password: 1234\n",
            "Wrong password!\n",
            "Enter your email: dev\n",
            "Enter your password: 123\n",
            "Login successful\n",
            "\n",
            "        Hi! How would you like to proceed?\n",
            "        1. NER\n",
            "        2. Language detection\n",
            "        3. Sentiment analysis\n",
            "        4. Logout\n",
            "        4\n"
          ]
        }
      ]
    }
  ]
}