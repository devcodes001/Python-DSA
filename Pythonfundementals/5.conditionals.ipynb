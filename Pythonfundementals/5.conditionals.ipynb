{
 "cells": [
  {
   "cell_type": "markdown",
   "metadata": {},
   "source": [
    "## Conditional Statements"
   ]
  },
  {
   "cell_type": "markdown",
   "metadata": {},
   "source": [
    "1. if Statement"
   ]
  },
  {
   "cell_type": "code",
   "execution_count": 3,
   "metadata": {},
   "outputs": [
    {
     "name": "stdout",
     "output_type": "stream",
     "text": [
      "you are eligible to vote\n"
     ]
    }
   ],
   "source": [
    "age = 20\n",
    "\n",
    "if age>=18:\n",
    "    print(\"you are eligible to vote\")"
   ]
  },
  {
   "cell_type": "markdown",
   "metadata": {},
   "source": [
    "2. if - else statement"
   ]
  },
  {
   "cell_type": "code",
   "execution_count": 4,
   "metadata": {},
   "outputs": [
    {
     "name": "stdout",
     "output_type": "stream",
     "text": [
      "you are not eligible to vote\n"
     ]
    }
   ],
   "source": [
    "age = 16\n",
    "\n",
    "if age >= 18:\n",
    "    print(\"you are eligible to vote \")\n",
    "else:\n",
    "    print(\"you are not eligible to vote\")    "
   ]
  },
  {
   "cell_type": "markdown",
   "metadata": {},
   "source": [
    "3. elif statement"
   ]
  },
  {
   "cell_type": "code",
   "execution_count": 5,
   "metadata": {},
   "outputs": [
    {
     "name": "stdout",
     "output_type": "stream",
     "text": [
      "You are an adult\n"
     ]
    }
   ],
   "source": [
    "age = 20\n",
    "\n",
    "if age<13:\n",
    "    print(\"You r a child\")\n",
    "elif age<18:\n",
    "    print(\"you r a teenager\")\n",
    "else:\n",
    "    print(\"You are an adult\")        "
   ]
  },
  {
   "cell_type": "markdown",
   "metadata": {},
   "source": [
    "4. Nested Condiitonal statements"
   ]
  },
  {
   "cell_type": "code",
   "execution_count": 8,
   "metadata": {},
   "outputs": [
    {
     "name": "stdout",
     "output_type": "stream",
     "text": [
      "odd\n"
     ]
    }
   ],
   "source": [
    "# if u r given a numeber tell wheather it is even,odd or negative\n",
    "\n",
    "number = int(input(\"enter the number : \"))\n",
    "if number>0:\n",
    "    if number%2==0:\n",
    "        print(\"even\")\n",
    "    else:\n",
    "        print(\"odd\")\n",
    "else:\n",
    "    print(\"negative\")            "
   ]
  },
  {
   "cell_type": "markdown",
   "metadata": {},
   "source": [
    "Practical examples"
   ]
  },
  {
   "cell_type": "code",
   "execution_count": 9,
   "metadata": {},
   "outputs": [
    {
     "name": "stdout",
     "output_type": "stream",
     "text": [
      "leap year\n"
     ]
    }
   ],
   "source": [
    "#determine if a year is leapyear using nested consitional statement\n",
    "\n",
    "year = int(input(\"enter the year:\"))\n",
    "\n",
    "if year%4 == 0:\n",
    "    if year%100 ==0:\n",
    "        if year % 400 ==0:\n",
    "            print(\"leap year\")\n",
    "        else:\n",
    "            print(\"not leap year\")\n",
    "    else:\n",
    "        print(\"leap year\")\n",
    "else:\n",
    "    print(\"not leap year\")                    \n"
   ]
  },
  {
   "cell_type": "markdown",
   "metadata": {},
   "source": [
    "### Assaignment\n",
    "\n",
    "* create a simple calculator\n",
    "* Determine ticket price based on age"
   ]
  },
  {
   "cell_type": "code",
   "execution_count": 11,
   "metadata": {},
   "outputs": [
    {
     "name": "stdout",
     "output_type": "stream",
     "text": [
      "product of 12 * 2 =  24\n"
     ]
    }
   ],
   "source": [
    "number1 = int(input(\"enter the number 1 : \"))\n",
    "number2 = int(input(\"enter the numebr 2 : \"))\n",
    "operator = input(\"enter the operation : \")\n",
    "if number2 == 0:\n",
    "    print(\"Zero divison error\")\n",
    "else:\n",
    "    if operator == \"+\":\n",
    "       print(f\"sum of {number1} + {number2} = \",number1 + number2)\n",
    "    elif operator == \"-\":\n",
    "       print(f\"difference of {number1} - {number2} = \",number1 - number2)   \n",
    "    elif operator == \"*\":\n",
    "       print(f\"product of {number1} * {number2} = \",number1 * number2) \n",
    "    elif operator == \"/\":\n",
    "       print(f\"quotient of {number1} / {number2} = \",number1 / number2)    \n",
    "    elif operator == \"%\":\n",
    "       print(f\"modulus of {number1} % {number2} = \",number1 % number2)    "
   ]
  }
 ],
 "metadata": {
  "kernelspec": {
   "display_name": "Python 3",
   "language": "python",
   "name": "python3"
  },
  "language_info": {
   "codemirror_mode": {
    "name": "ipython",
    "version": 3
   },
   "file_extension": ".py",
   "mimetype": "text/x-python",
   "name": "python",
   "nbconvert_exporter": "python",
   "pygments_lexer": "ipython3",
   "version": "3.11.7"
  }
 },
 "nbformat": 4,
 "nbformat_minor": 2
}
