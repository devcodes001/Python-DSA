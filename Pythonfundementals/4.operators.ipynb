{
 "cells": [
  {
   "cell_type": "markdown",
   "metadata": {},
   "source": [
    "# Operators"
   ]
  },
  {
   "cell_type": "code",
   "execution_count": 3,
   "metadata": {},
   "outputs": [
    {
     "name": "stdout",
     "output_type": "stream",
     "text": [
      "Addition :  15\n",
      "Substraction :  5\n",
      "Multiplication :  50\n",
      "Division :  2.0\n",
      "Floor division :  2\n",
      "Modulus :  0\n",
      "Exponent :  100000\n"
     ]
    }
   ],
   "source": [
    "#Arithmetic operators\n",
    "a = 10\n",
    "b = 5\n",
    "\n",
    "add_result = a+b         # addition \n",
    "sub_result = a-b         # substraction\n",
    "mult_result = a*b        # multiplication\n",
    "div_result = a/b         # division\n",
    "floor_result = a//b      # floor division\n",
    "modulus_result = a%b     # modulus\n",
    "exponent_result = a**b   # exponential operators\n",
    "\n",
    "print(\"Addition : \" , add_result)  \n",
    "print(\"Substraction : \",sub_result)\n",
    "print(\"Multiplication : \" , mult_result)\n",
    "print(\"Division : \" , div_result)\n",
    "print(\"Floor division : \",floor_result)\n",
    "print(\"Modulus : \" , modulus_result)\n",
    "print(\"Exponent : \" , exponent_result)\n"
   ]
  },
  {
   "cell_type": "code",
   "execution_count": 4,
   "metadata": {},
   "outputs": [
    {
     "name": "stdout",
     "output_type": "stream",
     "text": [
      "True\n",
      "False\n",
      "False\n",
      "False\n",
      "True\n",
      "True\n"
     ]
    }
   ],
   "source": [
    "#Comparison Operators\n",
    "a = 10\n",
    "b = 10\n",
    "\n",
    "print(a == b)  #Equal to operator\n",
    "print(a != b)  #Not equal to \n",
    "print(a<b)     #lessthan\n",
    "print(a>b)     #greaterthan \n",
    "print(a<=b)    #lessthan or equal to\n",
    "print(a>=b )   #greaterthan or equal to\n"
   ]
  },
  {
   "cell_type": "code",
   "execution_count": 5,
   "metadata": {},
   "outputs": [
    {
     "name": "stdout",
     "output_type": "stream",
     "text": [
      "True\n",
      "False\n",
      "False\n"
     ]
    }
   ],
   "source": [
    "#Logical operators\n",
    "\n",
    "a = True\n",
    "b = False\n",
    "\n",
    "print(a or b ) # OR \n",
    "print(a and b) # AND\n",
    "print(not a)  # NOT"
   ]
  }
 ],
 "metadata": {
  "kernelspec": {
   "display_name": "Python 3",
   "language": "python",
   "name": "python3"
  },
  "language_info": {
   "codemirror_mode": {
    "name": "ipython",
    "version": 3
   },
   "file_extension": ".py",
   "mimetype": "text/x-python",
   "name": "python",
   "nbconvert_exporter": "python",
   "pygments_lexer": "ipython3",
   "version": "3.11.7"
  }
 },
 "nbformat": 4,
 "nbformat_minor": 2
}
