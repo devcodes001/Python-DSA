{
  "cells": [
    {
      "cell_type": "markdown",
      "metadata": {
        "id": "4hOkUI7XF5Sq"
      },
      "source": [
        "# Object Oriented Programming"
      ]
    },
    {
      "cell_type": "markdown",
      "metadata": {
        "id": "5iDDeXtAF5Sr"
      },
      "source": [
        "object oriented programming is a programming paradigm that uses objects as its building blocks . oops consists of\n",
        "- class\n",
        "- objects\n",
        "- encapsulation\n",
        "- abstraction\n",
        "- inheritance\n",
        "- polymorphism"
      ]
    },
    {
      "cell_type": "markdown",
      "metadata": {
        "id": "Bipt3jtVF5Sr"
      },
      "source": [
        "**class** : class is a blueprint of how the objects are created\n",
        "\n",
        "class consists of\n",
        "- property/attributes/datamembers\n",
        "- methods/member functions\n",
        "\n",
        "         class  classname :\n",
        "                ............\n",
        "class name first letter should be capital"
      ]
    },
    {
      "cell_type": "markdown",
      "metadata": {
        "id": "bUUOeG0eF5Sr"
      },
      "source": [
        "Object : it is an instance of class\n",
        " - eg : car class consist of object bmw,benz\n",
        "\n",
        "syntax:\n",
        "\n",
        "          objectname = classname()"
      ]
    },
    {
      "cell_type": "markdown",
      "metadata": {
        "id": "iqLwryM0F5Sr"
      },
      "source": [
        "object can access the things that are present inside our class"
      ]
    },
    {
      "cell_type": "code",
      "execution_count": null,
      "metadata": {
        "id": "f_N9zZ4tF5Sr"
      },
      "outputs": [],
      "source": [
        "class Atm:\n",
        "    def __init__(self):  # Automatically invoked when an object is created\n",
        "        self.pin = ''\n",
        "        self.balance = 0\n",
        "        self.menu()\n",
        "\n",
        "    def menu(self):\n",
        "        user_input = input('''\n",
        "        Hi, how can I help you?\n",
        "        1. Press 1 to create pin\n",
        "        2. Press 2 to change pin\n",
        "        3. Press 3 to check for balance\n",
        "        4. Press 4 to withdraw\n",
        "        5. Anything else to exit\n",
        "                  ''')\n",
        "        if user_input == '1':\n",
        "            self.create_pin()\n",
        "        elif user_input == '2':\n",
        "            self.change_pin()\n",
        "        elif user_input == '3':\n",
        "            self.check_balance()\n",
        "        elif user_input == '4':\n",
        "            self.withdraw()\n",
        "        else:\n",
        "            quit()\n",
        "\n",
        "    def create_pin(self):\n",
        "        user_pin = int(input(\"Enter your pin: \"))\n",
        "        self.pin = user_pin\n",
        "        user_balance = int(input(\"Enter the balance: \"))\n",
        "        self.balance = user_balance\n",
        "        print(\"Pin created successfully.\")\n",
        "        self.menu()\n",
        "\n",
        "    def change_pin(self):\n",
        "        pin = int(input(\"enter your current pin : \"))\n",
        "        if pin == self.pin:\n",
        "            change_pin = int(input(\"enter the new pin : \"))\n",
        "            self.pin = change_pin\n",
        "            print(\"PIN changed successfully\")\n",
        "            self.menu()\n",
        "        else:\n",
        "            print(\"wrong pin\")\n",
        "            self.menu()\n",
        "\n",
        "    def check_balance(self):\n",
        "      pin = int(input(\"enter your current pin : \"))\n",
        "      if pin == self.pin:\n",
        "          print('your balance is ',self.balance)\n",
        "          self.menu()\n",
        "      else:\n",
        "        print(\"wrong pin\")\n",
        "        self.menu()\n",
        "    def withdraw(self):\n",
        "      user_pin = input(\"enter the pin\")\n",
        "      if user_pin == self.pin:\n",
        "        amount  = int(input(\"enter the amount\"))\n",
        "        if amount <= self.balance:\n",
        "          self.balance = self.balance - amount\n",
        "          print('withdrawl succcessful | balance is',self.balance)\n",
        "          self.menu()\n",
        "        else:\n",
        "           print('insufficent balance')\n",
        "      else:\n",
        "        print(\"wrong pin\")\n",
        "\n"
      ]
    },
    {
      "cell_type": "code",
      "execution_count": null,
      "metadata": {
        "colab": {
          "base_uri": "https://localhost:8080/"
        },
        "id": "f4dfmrOlF5Ss",
        "outputId": "e7daa65c-b0b1-428f-e804-88725a3545f4"
      },
      "outputs": [
        {
          "name": "stdout",
          "output_type": "stream",
          "text": [
            "\n",
            "        Hi, how can I help you?\n",
            "        1. Press 1 to create pin\n",
            "        2. Press 2 to change pin\n",
            "        3. Press 3 to check for balance\n",
            "        4. Press 4 to withdraw\n",
            "        5. Anything else to exit\n",
            "                  1\n",
            "Enter your pin: 123\n",
            "Enter the balance: 1000\n",
            "Pin created successfully.\n",
            "\n",
            "        Hi, how can I help you?\n",
            "        1. Press 1 to create pin\n",
            "        2. Press 2 to change pin\n",
            "        3. Press 3 to check for balance\n",
            "        4. Press 4 to withdraw\n",
            "        5. Anything else to exit\n",
            "                  2\n",
            "enter your current pin : 123\n",
            "enter the new pin : 321\n",
            "PIN changed successfully\n",
            "\n",
            "        Hi, how can I help you?\n",
            "        1. Press 1 to create pin\n",
            "        2. Press 2 to change pin\n",
            "        3. Press 3 to check for balance\n",
            "        4. Press 4 to withdraw\n",
            "        5. Anything else to exit\n",
            "                  3\n",
            "enter your current pin : 321\n",
            "your balance is  1000\n"
          ]
        }
      ],
      "source": [
        "obj = Atm()"
      ]
    },
    {
      "cell_type": "markdown",
      "metadata": {
        "id": "AYhUHynSRLGf"
      },
      "source": [
        "**method vs function**\n",
        "- functions that are defined inside a class are called methods\n",
        "- functions  are defined outside the class independently\n"
      ]
    },
    {
      "cell_type": "code",
      "execution_count": null,
      "metadata": {
        "colab": {
          "base_uri": "https://localhost:8080/"
        },
        "id": "zF2SUmweRtyj",
        "outputId": "4f7d9ca2-c21a-4f82-874b-a9507e36f04b"
      },
      "outputs": [
        {
          "data": {
            "text/plain": [
              "4"
            ]
          },
          "execution_count": 3,
          "metadata": {},
          "output_type": "execute_result"
        }
      ],
      "source": [
        "l = [1,2,3]\n",
        "l.append(12) #this is a method\n",
        "len(l)  #this is a function"
      ]
    },
    {
      "cell_type": "markdown",
      "metadata": {
        "id": "YZVeJiO7USIT"
      },
      "source": [
        "**class diagram**"
      ]
    },
    {
      "cell_type": "markdown",
      "metadata": {
        "id": "C4tndPKZUZVn"
      },
      "source": [
        "![Screenshot_20241217_120140.png](data:image/png;base64,iVBORw0KGgoAAAANSUhEUgAAAjwAAAHOCAYAAACcvdMVAAAAAXNSR0IArs4c6QAAAARnQU1BAACxjwv8YQUAAAAJcEhZcwAAEnQAABJ0Ad5mH3gAAFyiSURBVHhe7d0JnFXz/8fxb0XWaBPZSntIixSlX6Ek2ULarFkiSypESoQWyhYqkv4qEZK9VEqlTdGGFIksIWkn0f3f92fOmc7cuTPN1szcM6/n43HNOeeeuzbmvu/nuxWKRDkAAIAQK+z9BAAACC0CDwAACD0CDwAACD0CDwAACD0CDwAACD0CDwAACD0CDwAACD0CDwAACD0CDwAACD0CDwAACD0CDwAACD0CDwAACD0CDwAACD0CDwAACD0CDwAACD0CDwAACD0CDwAACD0CDwAACD0CDwAACD0CDwAACD0CDwAACD0CDwAACD0CDwAACD0CDwAACD0CDwAACD0CDwAACD0CDwAACD0CDwAACD0CDwAACD0CDwAACD0CDwAACD0CDwAACD0CDwAACD0CDwAACD0CDwAACD0CDwAACD0CDwAACD0CDwAACD0CDwAACD0CDwAACD0CDwAACD0CDwAACD0CDwAACD0CDwAACD0CDwAACD0CDwAACD0CDwAACD0CDwAACD0CDwAACD0CDwAACD0CDwAACD0CDwAACD0CDwAACD0CDwAACD0CDwAACD0CDwAACD0CDwAACD0CDwAACD0CDwAACD0CDwAACD0CDwAACD0CDwAACD0CDwAACD0CDwAACD0CDwAACD0CDwAACD0CDwAACD0CDwAACD0CDwAACD0CDwAACD0CDwAACD0CDwAACD0CDwAACD0CDwAACD0CDwAACD0CDwAACD0CDwAACD0CDwAACD0CDwAACD0CDwAACD0CDwAACD0CDwAACD0CDwAACD0CDwAACD0CDwAACD0CDwAACD0CDwAACD0CDwAACD0CDwAACD0CDwAACD0CDwAACD0CDwAACD0CDwAACD0CDwAACD0CDwAACD0CDwAACD0CDwAACD0CDwAACD0CDwAACD0CDwAACD0CDwAACD0CDwAACD0CDwAACD0CDwAACD0CDwAACD0CDwAACD0CDwAACD0CDwAACD0CDwAACD0CDwAACD0CDwAACD0CDwAACD0CDwAACD0CDwAACL1CkShvG9n09ddfO95OAGkpXLiwq1KlircHIDcReHJQxYoV3X///eftAUBKxYsXd4sXL/b2AOQmAk8O8gNPkSJFvCMAkER/Gwg8QN4h8OQgP/CMHDnSnXnmmd5RAAXdW2+95bp06ULgAfIQnZYBAEDoEXgAAEDoEXgAAEDoEXgAAEDoEXiQEH755RfXrFkzV6hQIev8uWPHDu8aAAD2jMCDhPDpp5+6qVOn2vbHH3/s1qxZY9sAAGQEgQf5nqo506ZNc8WKFXOnnnqqW7JkiZs9e7Z3bXya9bpWrVrunHPOcX/88Yd3FABQUBF4kO+pmqOqTtOmTV3//v1d5cqVbX/Lli3eGQAApI/Ag3xP1RxVdU4//XRXp04dq/KoeWvlypXeGQAApI/Ag3xNVRxVc8qWLesaN27sDjnkEPupTsw6HjtR+CeffGIdm6tVq2YhafLkya506dJ2TE1cauoSv8mrdevW7s8//7RzO3bs6EqVKmWP0apVKzdv3jy7f13Sux4AkP8ReJCvffXVV1bNadiwoatUqZIdU4WnevXqbsqUKan65+y///7u7LPPdo0aNbI+PyVLlnRnnHGGHatatarbd999vTOTbNy40Y0ePdqWAvnoo49c7dq17TYTJ050bdu2tVDzzDPP2P3Fu37RokXePQEA8jMCD/ItVU/UnKVqjvrvHHrooXa8fPnyrn79+lbNUeUl6OSTT7aqzvPPP+8qVKjgTjnlFPfaa6/ZsVdffdWOBSlMPfvss+6ll15y33zzje1/8cUXrnPnzu777793F110kRs2bJgbN25c3OsnTJjACvkAkAAIPMi31q1b5z744AOr5qj/ju+ggw6yAKTmLo3eyk7gKFeunBs+fLhr2bKl22effeyY7r99+/ZWIVJT2osvvpjm9UuXLnWbN2+24wCA/IvAg3zryy+/dPPnz7dqjqo6QXXr1nU1a9a0fjw//vijdzTz1NfnxBNP9PZ2U78fVYOOOOKIVFUh8a//999/3a5du7yjAID8isCDfElVG1VvVMVRNUdVlSAFIHVenjNnDv1oAAB7ROBBvvTDDz9YJ2G5/PLLbZRV8KLOyU899ZRd/+GHH7q//vrLtgEAiIfAg3zp888/t+asjJg5c6ZbvXq1twcAQGoEHuQ727Ztc++8845tjxkzJnkunNiLlpzo2rWrDV3X8HEAANJC4EG+o6UkVN1Rp2R1Tk5L0aJFXZMmTWx70qRJbtOmTbYtRYoUsVFVGum1fv167ygAoKAi8CDfUZ8cVW3UKTl2dFYshaIGDRrYnDz+LMqiGZE1wkpNXZovBwBQsBF4kK9omYdZs2bZtgLPfvvtZ9tp0Tw5GrauyQk1SaGauqR48eKuWbNmNsqrXbt2NpNymzZt6OsDAAUUgQf5iube0WzGqtpo1uQ9CTZraZJCNWGJRnLdcMMN7sknn7TJBadPn24VoJ07d9r1AICCpVD0GzGrH+aQihUr2vwxI0eOtIoCAMhbb73lunTpYpXHxYsXe0cB5CYqPAAAIPSo8OSgYIVHK3SL3l7/omYWfzv2unj7ktZ1sfsS7/rgtr8v8a4Pbvv7Eu/64HZwP/Zn7HZwP/Zn7HZwP/Zn7Ha86yS964Pb4u/Huz64Lf5+vOuD2+Lvx7s+eF3w90OX4PXBbV3SOzd2PzPn+uJdF28/M7/TBfn1aaTgqlWrbORgnTp1Up2rfS1yC2DvIfDkkKpVq9q8MOL/MQOAjChcuDAd6oG9jMCTQ7QI5d9//+3tAblLIdu/+Pu+eNfF7vviXRe774t3Xbx9X7zrYvd98a6L3ffFuy5235fe9cHr9GcxuB+8PritS0bO/fXXX93y5cvdvvvua53s4507dOhQ2wewdxB4csgLL7zgHn74YVs5u23btq5y5crJf8jS+4MYu7+3zvXFuy7efvC+Y6+L3d9b5/riXR/c9vcl3vXBbX9f0rs+djv2Z+z1we3Yn7HXB7djf8ZeH9yX9K5D/kWnZSDvEXhyEKO0AMRD4AHyHqO0AABA6BF4AABA6BF4AABA6BF4AABA6BF4AABA6BF4AABA6BF4AABA6BF4AAAF3l9//eX++ecfbw9hROABABRor7zyijv88MNdvXr13NKlS72jScaOHWszmteqVct9/fXX3lEkIgIPAKDA0hqIs2bNclu2bHFLlixxy5Yt865B2BB4AAD5wqpVq9zAgQPtMm/ePO9oahk9LyP2339/16ZNG1e1alV33nnnudNOO827Jn9Rc9u4cePsNQ8bNsxt3brVuwYZReABAOQLv/32m7v77rvt8u2333pHU8voeRn1v//9z61YscK98847rkKFCt7R/EXrNH788cf2midOnOh27NjhXYOMIvAAAPKdffbZx9tKX0bPCxO95sKF+fjOLN4xAEC+c/TRR3tb6cvoeWGi16ymOGQOgQcAkGPU1DJlyhR3zTXXuGrVqtkIJ13UN+ahhx5yP/zwg3dmEg0Hv/HGG+2c008/3TvqbNu/rS4fffRRhs775JNP7Pgff/zhzjnnHDumkVayZs0a1717d3teui89tmRmJFYkEnHz5893HTt2dKVKlbLbNWnSxA0dOtRt27bNOyuljN5/vPP0enTswAMPdMOHD7dj+ql9Hdcl+Fp8u3btcnPnznXXX3998r+Dnu/555/vXn755TSfq0/v33PPPWfn+6+zfPny1t9pwoQJqR4vERB4AAA54vfff7cP2LPPPtuNGjUqxYe7Ohf37t3b+svoA1PBIbeo/8vMmTMtAD322GNZHl6ujsOPPvqoa9asmXvxxRfdhg0b7Lj61nTu3NnCwPfff2/H8pLCjN7rBg0auBEjRiS/Xj3fd99913Xo0ME1b97cffHFF3Y8lt6rhg0buk6dOtn5/uvUaxs/fry75JJL3EUXXWSdxxMJgQcAkG3//vuve+KJJ9zo0aNdsWLF3IABA9wvv/xilYadO3e6BQsWWBDSh6ZChx8M1DSjkUfr1693H3zwgR0TbeuYf9EHcEbOO+WUU7xrdtPoprvuusv9/PPPrl27dvb4qtAULVrUO2PPtm/f7u6//36rUl111VU2hF2Ppw/9O+64w17ze++95x5++OE9Vk8yQ69Hj/Pjjz9a1Uz0U/v+a9b74jdx6d+hX79+dtHIs5EjR1onb4U+Db1X9U0VKVWOFGhU9QrSv9mDDz5oIUn/Xgpzeu0KqBs3brR/X93vhx9+aO/F5s2bvVsmgOiLQA6pUKFCpFy5cpFp06Z5RwAgEpk4caL9bahZs6Z3JHxWrFhhr08fK9EPzEg05HjX7DZ//vxI2bJl7ZwxY8Z4R3ebPXu2XaeLttOSkfOiQSDSvHnz5PNatWoV+fbbb71rU9Jz0Tl6/nodQf51upQsWTISDU+RaIjzrk2i16rXrHOiwScydepU75ok6d1/UHrnRUNHJBpQ7Hr91H480YBi77F+32bMmOEdTSka0iLRAGn3NXjw4BSvR7fXcd2H/r3ief/99+0cvda5c+d6R/M/KjwAgGxTpUFVD1U6mjZtGnf0VMWKFd1JJ51k26tXr7afueHCCy+0PjbZHXKuIeGtW7e2/ixBeq1qJqpfv75VUaJfeq2iktv0mJMmTbIqjV7zqaee6l2TUqVKlaxZSlTxUX8dn6o4cvDBB7t9993XtmPpfYyGMnutOTEtQG4h8AAAss1velFTVd26db2jWRfb1JKWjJx38skn29IR2aEP+AsuuMAVKVLEO5KS7r9GjRq2reUp9mZTj16zmpliqa/Np59+att6zfvtt59tx6Pr5aeffrJ/N59CafXq1a2pTgFv4cKF1iwZpCatxYsXWzOXgl6iIPAAALJN/WE0mqdEiRJW8dCH5J9//um++uorN2PGDLvMmTMnuYIQNho1deyxx9q2Xnde9G1R4FHHcVE/I38UV7xL48aN7TwtpRGs8CjM6LaifjoKsscff7x1gla/n5zsn5TbCDwAgByhIelqUrnsssvcYYcd5kqWLGkflmeccYZdVCHRkO6wUyjQGl25TctNqINydiisaui+Onr7FSt1YFYHZU0BULZsWQtEGvIeW/nJ7wg8AIBs84ekt2jRwr322muucuXKrk+fPjasWSO09EGsZpKzzjrLuwX2pjFjxliTU0YuGgEXpNDTtm1b99lnn1nzXN++fZMrQuq389JLL9mQd1V9EqniQ+ABAGSLOstqvhd/SLq2NZxZw7hbtmxpzSKq+PjNXWGk4OB3VD7ooIPyZCZkdTQuU6aMbefE4qL6t1KVR8FGTZJqMtPkiP7Qfw19nzx5sm0nAgIPACBb1F/Fn+FYc8Rcfvnl6XaYDSMFDH/kmYLdIYccYttBqnLtzVXOFXb8pTbUDKWJEtOiapvm79FF26LQtmnTJuvTE+956nW1b9/evfnmm9ZEKbNnz073cfITAg8AIFv0Ablu3TrbLl26dJphR8sRxBtd5FN1SE1he5LR83KSwkx6syhryQyNaBINvQ8GnmOOOcZ+ari4P2txLE0Y+N1333l7qalTuPpEpUePWadOHdtWB3GNwEqLmhk1CksVG78ypX5HPXr0sH/D++67L80go+dRpUoV29a/Z14Mwc8KAg8AIFv0zV8fkqIhzuq8HEuBqGfPnm7WrFnekdQ00skPCul1vs3oeTlJfVcUAhYtWuQd2U1hRetTaUSawpj6KQWHrxcvXjw5oKlpSOcHqR+MOgWr6Sgtuj/dt+i5xKvA6Bx1DC9Xrpx1Dh80aFDcPjaqyGkElmhUljoii5rh/AqRApFmpo5Hwch/3xV+MjNjdV4i8AAAskUf6PXq1bNtrTGlTq1qGtEoHnVm1jEtZ6CmE7//Rzzq53PcccfZ9quvvmoLhqp6pEuw2pDR83KSQoHuW8stqBPv8uXL7fEUDG677TbrzyIawaQOvUGa28bvGDxkyBDXtWtXm/BP4UcTIqqjt5a7SGuiQN8JJ5xgP1W9ef755215CT0HvddqjhItPHrTTTfZ9rPPPmtrfKnjsaprumhbi43q30gBSh3NDz30UDtfw9UVmDQPj7/0hNbV8hcKVVDTRINaekLNWvHCXb4WfZOQQ1haAkA8BWVpCX+5gniXdu3a2Tn+8gjR0ODdMiW9V9EP0lS3j11CYk/nBZeWSOuxfBlZWuLkk0+ORD/8I61bt05+rNiLrlu3bp13y5T0vPQ7EO92Ov7GG29ERo8ebfvxnods2LAh7uPHLjWhbS11Ee/98S9aJmPUqFGplgDRMhMffPBBpGrVqnFv5190+2igiruESH5FhQcAkG1qGtG3/v79+7vatWvbMTWtqOIxffp0qyj4E/OlRxWGd955x5ZwSK/PSkbPyylqstOcQqpWqd+LVl5XhUNU5dAxXZfWjM6q8Oj5Xnvttfa+iN6zbt26WaXn4osvtgpLetR0OGzYsBTvcTwHHHCAu/fee61Zq1evXinOVRVJFZrPP//c/m1iR83pOei1qcIzfPjw5CYy8Ss66uispj1VihJp1F0hpR5vG9mksqU6b2l12jPPPNM7CqCge+utt1yXLl2s6UdT8gPIfVR4AACpqE+JRvyo8pDWyCIgkRB4AADJ5s2b50477TT31FNPWdDRbLtqjgISHYEHAGDUN0NLCmi+mCB/QUogkRF4AKCAU78iDbfWEOlYmmBOk9EBiY7AAwAFmKo6F110kVu5cqV3JIlG+jz66KM2QV28ZRKAREPgAYACSM1WHTp0iFvV0YjTt99+24Z8A2FB4AGAAkbzxWjqDH/Bz6COHTu6999/P9fXqgL2NgIPABQQWuBSVZsHHnggebkAn9ZQ0nxBWi+qoK10joKBwAMABcCYMWOsY/Knn37qHdnt3HPPdZMnT3Y1a9b0jgDhQ+ABgJC79dZbbYkBrXIdpEU4tVSBFpk86KCDvKNAOBF4UCBp1ePYkj4QNhs3bnRXX321reEUSyOzpk2bZusmAQUBgQcFjjpqam6R6tWru0mTJnlHgXD59ttv3fnnn28LUwZpiLkWhXziiScYbo4ChcCDAmfmzJnu+++/t0u8/gxAops7d66tcr127VrvSJIaNWrYCKzmzZt7R4CCg8CDAkeLITZs2NCdcsoprkWLFt5RIBy09tVNN93ktm3b5h1JogD0+uuv22gsoCAi8KDAqVq1qps9e7ZbsGCBq1u3rncUSHzvvfeeBXr13Qm68cYbbTFQhpujICPwAEAILFq0yN18883e3m4PPfSQu/vuu709oOAi8ABAglNH/EsuucTb223kyJHu8ssv9/aAgo3Ag4QyduxYV6hQIVerVi339ddfu127dlkHTU2HX6pUKbuuSZMmtj5QbB8Gnz4cdJ4usVPrx14XiUTcV1995bp37+6qVatmx8uXL++6devm1qxZ490KyDsLFy501113nbe3m+bW0fIRAJIQeJCwNJfOoEGDbMSJ1gbasGGDHf/4449d586drS/DqlWr7FhW/Pvvv+6ZZ55x9evXd4899pgFLNHorscff9y1bdvWwhCQV6ZMmeIuvfTSVHNKPf300zZ7MoDdCDxISKrs6Bus+id06tTJLVu2zK1fv95+3nHHHa5YsWLuww8/tOs3b97s3SpzevbsaTPUNm7c2E2YMMGG+Or+u3btatfPnz/fjRs3zv3333+2D+SmL7/80n4/gwoXLuyef/55d95553lHAPgIPEhICh4ffPCBGzVqlHvkkUfciSeeaE1a+tm/f39311132Xlvvvlmlufa0WOMGDHChvK2atXKhvPq/u+//3535ZVX2jmzZs1yv/76q20DuWXFihWuffv2qZaKePLJJ12zZs28PQBBBB4kLFVaFETUryZon332sRWhtRDili1bbPr8rFRhhgwZ4q655ppUQ3k1O+1ZZ51l23/88UeWK0hAVqxcudLCTuzQ85dfftlmVgYQH4EHCUlhRmsAxYYd3zHHHGMTC8rSpUuzFEoqVapkTQTxFC9e3H6qCqTQA+QGVRPVZ8fvr+YbPXq0a9CggbcHIB4CD0LpwAMPdMcee6xt//nnnzlehVHzGZCbVK286qqrUv0u9+3b1zVq1MjbA5AWAg9CT8PTY/s6AIlETbLqN6a+O0FaQsLvTwYgfQQeAMjnNNrw888/9/aSaHRijx49vD0Ae0LgQShpwkC/o/JBBx3k9t9/f9sGEs0777xj80wFqVP+Pffc4+0ByAgCD0Jp69atbvXq1bZdokQJG1kFJBpNbKl5pYL8qRcAZA6BBwlJYSa2P0PQDz/8YFPuy0knnUTgQcJR3zM1W+3YscM74tyRRx7pXnjhBZt6AUDmEHiQkDRipU+fPraOViwtCaEJB/XtWDMua86cIkWKeNcCiUErnCu4B2mizcMPP9zbA5AZBB4kpLJly9ocOZpCX8NyFy1aZPPhLFiwwN12222ud+/edp6G8TI/CRKNJhFU352ggQMHuipVqnh7ADKLwIOEVKZMGVvQU9UbVXrq1q3rSpcubQt9aqV0UcfOXr16uQMOOMD2gUSgNdu0jluQJtls06aNtwcgKwg8SFiq8miGWa11pQ8ENV+JQtDYsWNtZAvlfySa22+/3dtKot9zrRcHIHsIPEhoWufqkksusYVENQOthqNPnTrV1hrScPR4GjZsaOfpou2g9K4Lyuh5QGaMGTPGmmeDtPo5ne6B7CPwAEA+oMCuZtog9UfTMHQA2UfgAYB8QJ2Sg4uClixZ0t14443eHoDsIvAAQB6bN2+e9TsL6t69uy2CCyBnEHgAIA/99ddfFm6C1IzVoUMHbw9ATiDwAEAeGjBggPvpp5+8PWezKKt5C0DOIvAgoehbr0ZGLV682FWtWtU7CiSm6dOnu//7v//z9pJ07drVnXDCCd4egJxC4AGAPPDjjz+6W265xdtLUq9ePXfzzTd7ewByEoEHAPKAJhjUAqFBgwYN8rYA5DQCDwDkspEjRyav5u978MEH3bHHHuvtAchpBB4AyEWaSVkL3gZpnawrrrjC2wOwNxB4ACAXqVNyULly5dxDDz3k7QHYWwg8AJBLNOfODz/84O05V7RoUTd8+HC37777ekcA7C0EHgDIJTt27PC2kvTp08dVq1bN2wOwNxF4AGAvix2NJY0aNWI2ZSAXEXgAYC+bPXu2t5WkWLFiNioLQO4h8ADAXvTLL7+4KVOmeHtJ+vXr58qXL+/tAcgNBB4A2Isefvhht3PnTm/Pufr167vzzz/f2wOQWwg8ALCXrF692r377rveXpLevXt7WwByE4EHCWXs2LGuUKFCrlatWu7rr7/2juYuPa4eX89DzwdIy6hRo7ytJFoJ/cQTT/T2AOQmAg8A7AWac+f111/39pIccMAB3haA3EbgAYC94L333nPbt2/39pIUKVLE2wKQ2wg8ALAXxFZ3AOQtAg8A5LBVq1a5efPmeXsA8gMCDwDksJdeesnbSlKnTh1vC0BeIfAgoUUiETd//nzXsWNHV6pUKRs51aRJEzd06NC40/kHaV0jTQh3zTXX2HpGuq0up512mq1eHVzkMat0H4888ohr2rSpO+SQQ+z+NeFcmzZt3KRJk1KtreT75JNPkp+PtvU6v/rqK9e9e/fk56r76datm1uzZo13q7Tpeeg16bX596sPYQ2R1v3q/tPzxx9/uKeffjrF69Dt9XwycvuCRL9348eP9/aSnHnmmd4WgDwT/UOFHFKhQoVIuXLlItOmTfOOIKeNGTNGn6yRmjVrRpYuXRoZOHBgpFixYnYs9tKyZctINAx4t0zpt99+i1xxxRVxb+df9G/5xhtvRHbt2uXdKsmKFSvs8XWOnk88uo1uq/uIvd/gRc9BzyXW7Nmzk8+ZMWNGZMiQIWm+zvr160e+/PJL75Yp7dy5M/Lss89GSpYsGfe2uuh+e/XqFdm6dat3q5TmzJmT/HrjXXR7/Tv8/fff3i0KtokTJ9q/u39p0aJF8jG9jwDyBhUeJCSNfrn//vutanHVVVe5JUuWuPXr11vfiTvuuMPWKtIoGc1yG1vp+ffff90TTzzhRo8ebecNGDDApv+PhhSbEXfBggXu7LPPdt9//7177LHH7GdmLVu2zEVDhN1W9/Xxxx9bNSf6/5zbsGGDe/TRR+2x9RxefvnldCskPXv2dLfeeqtr3LixmzBhglu7dq3df9euXe16VbjGjRvn/vvvP9v36T5VaejRo4c95nnnneemTp3qogHLLtOnT3etW7d2W7ZssfcxGoxS3Uc0VLprr73W3t8rr7zSfuq91/uk1/bAAw/YeXqMYcOGUemJip2b6YILLvC2AOSp6B8o5BAqPHufX+HRRVWL6Ad9qgqMqhoPPvhgcvUh+iHvXZMkWKHReTo/VjRERMqWLWvnxFZx9lTh0fPxH1/nxau+qBpy22232TnnnHNO5Pfff/euSRKs8Og1jBgxIlUFZdOmTZFoCLFzmjRpEvnpp5+8a5IEn+eFF14YWbdunXfNbqrqXH/99XZOgwYNUlTEosEm0qlTJ7uuc+fOcStA0YAUiYZCO0eVptWrV3vXFEyqOgarO7ro35YKD5D3qPAgYd19991WoVB/kiDNZtuhQwdbs0jVi2gATVG5UCVIlQpVWNQnRefHqlixojvppJNsW8sDZEY0mLgff/zRths2bOiOO+442w7ab7/9XL169Wxb1SX1kUnLkCFDrJ+RbhOkvjRnnXWWbev2mzdvtm3fjBkz7HVGg5tViQ4//HDvmt0OOuggew9FVSM9F5+qZR999JHdXlU0nRurcOHC7uKLL3bRsGSVpjlz5njXFEyvvfaat5Wkffv2rnTp0t4egLxE4EFCin5TtqaCtCZy04d7jRo1bFvNMsEwcMopp1joUZNM3bp1vaM5Z//993cDBw60x9BP7WdHpUqVLFjEU7x4cfupsBIMTWp2WrhwoW0rdFWtWtW242nWrJk1Rek9OvXUU72jzi1evNhCzwknnBA3tPkOO+wwd/zxx9u2ztd9FVTqiB6k4A0gfyDwIJQOPPBAd+yxx9r2n3/+mSLwFC1a1EZ0lShRwqo76rujczTaSFURXVSp2Lhxo3eLzFHF6dBDD7XHOPjgg+2Ylhn49ddfbcSV/xgKB9mlx4hHj6e+PnLMMcdkaUkDv++S+v2UKVMmeXRX7EWVnxEjRti569atswpXQaQRf+ob5TviiCMsLALIHwg8CD11Wo79EFYHYn0bv+yyy6xCUbJkSatSnHHGGXZR9UhNNNnhDwXX8G0FMH0Ann766cmP4Xf43Ru2bt1qzXmiYKeQlxn//POPhcCwUeVLHb8VTnLaW2+95W0ladWqlbcFID8g8KDA+f33393111/vWrRoYX0uKleu7Pr06ePeffddG6Glb+mqvvj9YzJLTTr6UP3f//5n89yoUnLFFVdYFUQjo9QnSM1dzz33nHeL/K158+b2fPW69nTRSK38vEBmly5dbO4i/fs/+OCD3tHsU6BWf6egdu3aeVsA8gMCD0JJH75+R2U1ufj9aHRMwcMfkq5tDRnXEPeWLVta/x5VfPzmrqxYuXKl69u3rwUd3eenn35qM+9qeLcmRVR/GDVFqeqzt6gpTa9PVKlRxSYzVBHSeyCqhqU1QWKiCVZ2YgNKdqjZT9Ujn36P/CZVAPkDgQehpCYdf3SVPrg1oknUl0f9aEQjny6//PJUo5+yS519/dFR9913n6tQoYJ3Te5RlUV9d0R9edSnJy3q1F2lShXrjxMMBDomX3/9dYrRW7EUpjQPkDpo62dmw1VeyckmO1XuglTdA5C/EHiQkBRm/E618aj/jD9KScPL/cCjkUzqWCsaLpxW2FFACH5jD1K1yB+irWAVyw9a6uirzsvxqAIVO4w8J6l65I+cUsBTaEnLN998Y014Cmjqy+Q78cQTXfXq1S3sqAqm5xyPXocqWJomQI+z7777etfkP8Gh+eqUnta/cWbF9vfSyDcA+QuBBwlJHXJVPVm0aJF3ZDfNpKzZizXqSs066ovjD19XtcefF0X9UuI11SgQad6aWbNmeUdSCjYXKXTFzk7sN2WoL9CmTZtsO0ijwl5//XWriOxN5557rg3fV2Dp16+fjRKLpWMKK6Ih6cFqlIbD6z7kqaeecjNnzrTtWJ999lly1UwdtFUpyq/8qpfPny8pO/TvHLwfBV2tdwYgfyHwICGpGqGmEy3boP4yy5cvt+qNOh3fdttt9gEvmjBPk+L5NG+NP+Hfiy++aB/2CiUKIerMrGPqZ6OKh/phxKOw41dPFKzefPNNu63fbFSrVq3kyoie24oVKyyE6Xo1H6kpTf15FEb2JjVJ3XXXXfZ8NYJI78Xbb79tIUcXPe/zzz/frtM5ut7vtyOqful5agJHBbtOnTrZ+6PXqtejnyNHjnQ33HCDBVAtPaH3Lj876qijvK0kORF45s6d620l8X+/AOQzEeQYlpbY+/ylJU4++eTIzJkzI61bt7b9eBddF285BS250LBhw7i30aVdu3Z2jr+sQjS0eLfcTUs/6N86eDt/mQktVfHII4+kudinbjd27FhbFFT7Wm5AjxcUXFpC22nZ03l6LntaPFTX6flomYh4Fi1alO77pUurVq3SXKg1Pxk8eLC9//5l2LBh3jVZ98ADD6S4Ty0DEoulJYC8R4UHCUnNUqqyqOKgxRrPOeec5GYmNWHpmK6Lt5yCZh1WdaN///6udu3adiz6YWQVDnU+VdVnTyNsVDVSZUQVEN02SKO7unfvbtdr2Qa/X4wW/xw0aJBVBLTkQFZHgWWGHuOmm25yn3/+uQ3DDs6krOejZjVdp+eT1mzOaqaaPHmydUgOvh69bs1j9MEHH9h1se9DfhQ747Q6mGeXOqgHRcO4twUgPymk1ONtI5u0/pL6c6jMf+aZZ3pHAeQX6p8VDH0Kb+qDlB0KUcG+YOq4HdsZXuFXcwCpSTUnQhaAzKPCA6DA0GzXwY7ZGzZssM7tWfXFF1+kCDsKPzk9zQGAnEHgAVCgaDHVIH+EWVbEDvenOQvIvwg8AAoUrWcWlNb0Axnx7bffeltJtEwJgPyJwAOgQImt8GhSxazSMiJBeTGrNoCMIfAAKFA0caTmSgrS/E1ZETvDco0aNbytrFGfIo0SfP7559NdzgNA5hF4ABQ4sZMDxgaXjNDq+sHlQdRh2R+ynxlaaX3ixImuR48etgaXZhB/+OGH3Y033uidASAnEHgAFDixs2hnJfDE9v25+OKLva2M08zXmgvq9ttvd6+++mqKtdli5/cBkD0EHgAFTnAuHtGSH5n13XffeVtJNOFlRmmB2VatWtkyKGmtZM8CpEDOIvAAKHA0K3dwgU81TX355ZfeXsYcd9xx3lbS/cUuTBqP5nm95557bGJSzXAdj+5Ha6CpHw+AnEPgAVAgxc6Zk9Zq8GnRoqmnnXaaLXPSp0+fDE04qEVWtQxHLAUmLf2hpU3UVNa5c2fvGgA5hcADoECKnY9n0aJF3lbGaCkZhZeFCxe6Sy+91DuamtZOGzVqlG1rVf5YF154oYWcK664IkXVCEDOIvAAKJBiR2otW7bM28oZmoX5vPPOc+3atYvbfFWzZk33f//3f+7JJ5+0NbYA7F0EHgAFUqlSpVzZsmW9vaSFRdeuXevtZc/LL79so7aWL1/uHdntwAMPdA899JAtKKoV6wHkDgIPgAJLfXCCsjI8PUgLkV522WWuZ8+ebtu2bd7R3dTPR/10Lr/8cu8IgNxC4AFQYNWtW9fbSpLVuW80tHzw4MGuRYsWcWdt1lw7csABB7jDDz/ctgHkLgIPgAKrevXq3laSX3/91dvKOAUdTWQ4ZMgQ78huRx55pHVYvvrqq70jAPIKgQdAgVWiRAlvK8maNWu8rT1btWqVVXQUdIIzJPuuu+469+GHH7omTZp4RwDkJQIPgAKrfPnybv/99/f2klY/f+GFF7y9+BRuNGeOZkJWn51YWg9rzpw5rlevXrZQKYD8gcADoEC74IILvK0kCjPff/+9t5fSpEmTbAmJeKGoTJky7umnn7bVztWUBSB/IfAAKNBUiYmd8O+mm25y27dv9/aSKj+tW7e2Fczj9fPR+TNmzLB5dwDkTwQeAAXaIYcc4h555BFvL4nW1Ro4cKANLdfPs88+23366afetbup+UrDzHv06GHz6wDIvwg8AAo8jbLSyuVBmgVZQWfo0KHekd00aeFTTz1lzVcsBwEkBgIPAER169Yt1YKiP/30k7e12/XXX29Vndi+PwDyNwIPAHjU6Vidj+NRVWfq1Knu3nvvtWYwAImFwAMAHq2tpWYqLezp03IQ1157rZs5c6arVKmSdxRAoiHwAEBAtWrVbGFPNVu98sortr5W79693UEHHeSdASAREXgAIA51Rj711FNd8eLFvSMAEhmBBwAAhB6BBwAAhB6BBwAAhB6BBwAAhB6BBwAAhB6BBwAAhB6BBwAAhB6BBwAAhB6BBwAAhB6BBwAAhB6BBwAAhF6hSJS3jWyqWLGi+++//9x1113nTjjhBFe4cGFXpEgRV6hQIduOt59TF92n7jvedbEX/1z9BLD3aTHSLl262Lpcixcv9o4CyE0EnhxUoUIFt2vXLm8v//ODV2xYCu7756S3n5Fz/e3Y/cycG7u/p3ODl8ycm52L7lP3nZF9//GD+5k51/+J/I/AA+Q9Ak8OSrTAg8Sn0OMHnz2FI+3727H7mTk3dn9P5+6tix5Dj5WR/cyeq5/x9v3t2P09nTtp0iR31113EXiAPETgyUF+k9ZTTz3lGjZsaOEn3kVvuc6Ld13sJfbc9Pa1rZ/x9tO7Lq1zM7Kf3iUz5+o8/7nsad+/z/T293SufgK5jcAD5B0CTw7yA8/IkSPdmWee6R1FfhQbjPa0r239zMh+Vs6Nt5+Zi27n3/+e9jN7rn5mZN/f3tP+ns7N6CUREXiAvEPgyUEEHiB3+AHJ/6n/72L3/e2M7AcvmTl3TxfdTrf/7LPP3CuvvELgAfIQgScHEXgAxEOnZSDvMQ8PAAAIPQIPAAAIPQIPAAAIPQIPAAAIPQIPAADZMHbsWJtoslatWu7rr7/2juZfeo56rnrOn3zyiXc0/Ag8AAAg9Ag8AADEsW7dOvfEE0+4gQMHuvfee887ikRF4AEAII5Nmza5UaNGubvvvtsmj0RiI/AAALAH++yzj7eFREXgAQBgD4499lhvC4mKwAMAyBV//PGHO+ecc2x00IMPPmjHfv/9dzdgwABXp04dO16qVCnXsWNHt2TJEluLTPTzq6++ct27d3fVqlWz8/RT+2vWrLFz0hK8rf8YhxxyiGvatKl7+umn7TnF0nPzH0PPQy6//HI75l80MistWkdt7ty57rrrrnPly5dPvi+9Tr3e9Oj56jG1FIn/WvV8W7Ro4Z577rm4zzfWtm3b3Msvv2y30W3927/xxhtux44d3lnp0+Po8c4//3z7N9Hz0Gtp06aNmzBhgvvrr7+8MxNI9M1FDqlQoUKkXLlykWnTpnlHACASmThxov1tqFmzpnekYFq/fn2kefPmSjGRBx54IDJ79mx7T7Qfe9H7NWPGjMjff/8diQaTSMmSJeOeV79+/ciXX37pPUJKO3fujAwZMiRSrFixuLfVpWrVqpHp06dHoiHFu1Uk0rdv37jnBi9jxozxzo7Yto7ptSxcuDDSs2fPVOf7lwsvvDCybt0675Ypbd26NdKrV689Pt8PPvggxfMNigbASMuWLePeVpdokLLn6L/v+jeI9fHHH9vjxN42eDn77LMjK1eu9G6RGAg8OYjAAyAeAk+SYODRe6H35JRTTomMGjXKQsvq1asj/fv3Tw43+uDu3r27bet2EyZMiKxduzaybNmyyB133JEcDO66667Ijh07vEdJokDw3HPP2fW6v0ceecRuqxC0ffv2yKeffhpp3bq1Xa/noX3fli1b7LkuWLAgUqNGDTtH96Vj/kX34fMDT9myZSO1a9e253XllVdaMNFjzp8/3/Z1ji4jRozwbrmbnteAAQOSz9H5S5YsscdSQNJr13ul6/wwGGvTpk3Jj6PnoPdI75XuQz979+5txy+++OJI5cqV7bzYwPPzzz9HmjZtatcp1Cj8+K9148aNkdGjRyeHIT2WHjNREHhyEIEHQDwEniT64PUDjy7XX3995I8//vCuTaKgMnjw4ORz9AH91FNPWaUnSB/CnTp1snMaNGhglY2gFStW2Put248dOzZuRUSPfemll9p93Hbbbakew78PXR+s6MTyA48u+nceP3585L///vOuTfLrr79GLrjgAjvniiuuiGzevNm7JolCkQKTrn/wwQctAMVSePKrN7ov3WfQG2+8kfw8FJ5i70Pvwfvvv2/P0T8vNvAo4Oi4noueUzy6D52j93bu3Lne0fyPPjwAgFwXDTvu8ccfdyVLlvSOJFFfkWiAcdEPU9u/66673E033eT2228/2/cdcMABdp589913LhqmbNs3Y8YM6wujvjrqv6L7jaXHjoYP245+0O+xP9CeREOCGzFihIuGKFe4cMqP18MOO8zVrl3btn/55RcXDVe2LdFw5N599107Xr9+fdehQ4e4o8KOPvpo698kb7/9tps3b55ti/rm6DWI7uOyyy5LdR96D9SHqmvXrt6R1DZu3Gg/Dz74YLfvvvvadqzol3sXDYJuy5Yt7ttvv/WO5n8EHgBArjvmmGPcQQcd5O2lVKJECftQleOOOy7NIeHqRCuxAWL79u1u4cKFtn3SSSe54sWL23Y8VapUcTVq1LBw9Ouvv3pHU1u9erW3lbYyZcrY64oXrnTs0EMPtW11XN6wYYNty59//uk+/fRT21aIO+qoo2w7npNPPjk56GluoEhExRbnNm/e7L788kvbTu8+9Dzq1q3r7aVWsWJFV716dbdq1Sqbf0jv465du7xrk1StWtUtXrzYHlvhLFEQeAAACalIkSLeVkoaQbR27VrbfuCBB6zaog/6eBd9uC9btszO9W+ztygQxaMRUQptosBUtGhR245H4e3II4+0bc0E7Qc9BSh/BNie7iM9CjNXXXWVbX/44YfulFNOcccff7zr3bu3rbulEWCJisCDLNEvvr456VvRuHHjbFtDH1VG1TcD/cF56qmnbFiljqsMG/vHROXjG264wYY8xhuKqvu48cYb3f33328la/9cfasbOnRo8vBK/bFQmdYf5urzbx97HEC4bd261ZpbEoWe72+//WbbaYUin4KM/g6K/oaqmiWZuY/0qJqmIfz6u67Kl2ix0Yceesidfvrp1mynQKRh97GVn/yOwIMs07eizp07u1mzZrnBgwfbnA0rV660Nne1zyv4DBkyxI6r9Dpo0KDkkKJ5Mdq2bWvtxGp3nj9/vv1P3Lp1azdnzhw7x/f666+7du3aWSlX80jovhWCpk6d6p0BAPH17dvXvkRl5JJIzTN7k0KP/j7r7/bSpUvtPWzcuLFdpyD50ksvWbOZqj6JVPEh8CBbLrjgAqvkNGvWzP4HUefCadOmuXPPPTfFcX0jUFuwSrDqoOdXhVR9OfHEE12lSpXsG4Q6F44fPz7F5FgKRS+++KLr1KmTa9Kkif3UBGJq89YfKQAI0t8Mv9OzKr36m5Of6fn6VRm/SpOWf//9N7mqo2r3gQceaNvB+1C1Jyco+KjKo2CjTuBqNtOEi2rmkn79+rnJkyfbdiIg8CBbVOIMdihUe7g6G6oao/Zxn/5H1DcBtTfrfxqVQzViQftqktJF/5OqCUzl0+D/sLVq1UrunCjq6FiuXLkU7dcA4NPfCHW+FVWa0wsA+jvir4geHPWUmzRaTKO4RE3///zzj23Ho7+f/sgo3c7vq6OAp87e8v3332cp5OkLpBZM9f8ex9L9t2/f3r355pvujDPOsGOzZ89O9/nmJwQe5Ki0OhEG+Z3r1BxWunTpFBcdA4Ds2H///a0KLOpvqC9RaVF4uO+++2xEUuwHdzBE7E0aveX3l1GT/k8//WTb8SxatCi52f/UU09N/pur56kOx6Lqd1qVIgWh2G4DPn2B7NGjh/0t1nuSVpBR0NLoNlG1Kb9X0HwEHuSZMWPGpGg/9y+TJk1K7pQHAFlx1llnuYYNG9roJzW9xBtyruah999/3/qlqE+KKsdBmuvHHzqvoeN7q5KhKs1FF11kHYLVn1HN+npusfQa1H9G1J1Agcen53r22Wfbtvo36rzY+1An41dffdXW9IpHQVFz/ciCBQvczz//bNuxFIz8QBWsMuV3BB7kOjVv6X8qlZoVcIJUilVZOdiHZ0805DSteToAFEwKL6oYq0rz1ltv2UKeM2fOtKYaBZdvvvnGBlgoDMnVV1+dakV0hR2/kqEFMzXZn6rTavJR36CcpMClBUNF1SY9Nz1HPZYe84MPPrD+kHotem3dunVLNRqrUaNGrlWrVrb98MMPu3vuucctX77cbq9Kl+5fI1fr1atn4SqWuiEoSKlrgs5Xf0m9Z/5rVYBSRUx9L9WspfdWwTIjlf38gMCDXKdh6io363+k4DcIlUWHDx9uI74y0zfH/1aiABUciqpvKKoWASh49OGtaTI0UlRVCM1krJFG+pDWrM2VK1e2mZ61rw9wfzX0IFUu1GdFAUNfxjSKVCFDTT4KQDlJX9puueUW16tXL3tOem56jnosPaYGgqjjsJqthg0b5v73v/95t9xN/YD69+9vlS39LdTIWDWV6fbqb6nV4W+99VYbIBIblnw6/7HHHrPH0Tw8es/UMVrvjWZe1gATf4Zs9XvyR28lAgIPcp2+DWg6d7X93nnnnRZMfvzxR/ufbNSoUe6SSy5JnpE0I1TK1aiBiRMnukcffdRCzr333mt/xPzZWgEUPAoRGiH6+eefp/pw1qAJVUnUhKS/F/o7Eo9mJX7nnXfctddem6rJK6epoqSJEhVsbrvttuQ+OQpAmmtMXwhVedF2bDjz6TaqAino+a9X4URh7aOPPrK/ixrRlRbdr+5fj6PHU8XHf91+RUfvpfoSqVqUUNX1CHJMQVo8VAvO6dcnduE57WuxPS26F6TF9WKP//DDD5GuXbsmL2QX/R8pMmXKlORF96KByBYH1EXbvnjHt27dGunTp4+tiqxLz549bTFBndO3b187B8grLB4K5L1C+o8lH2SbhkGqWWbkyJHuzDPP9I4CKOj0jVv9J7QsgNYgApD7aNICAAChR+ABAAChR+ABAAChR+ABAGTJkiVL7AIkAgIPACDDfvjhB1t7qmnTpu7CCy+0i4YxA/kdgQcAsEear0YT+WnCOwUezQLsW7FihVu4cKG3B+RPBB4AQJoUZq6//nrXpk0bmyQ0LUzyifyOwAMASGXNmjW2FpWaq6ZMmeIdTem4446zmXdfe+01m80XyM8IPACAZBs3brTlDdRHRyuJx3PSSSfZQprTp093L7zwgi3tAuR3BB4gCzSj9pNPPumuueYaW4kYCAOtOaVOyC+++KKtjB1Li1JqvTuFHYUeIJEQeJDwtDrKpk2b3NatW70je58Cz2+//WaPCyS6bdu2ud69e7tWrVrZquCx6tWrZ4vzjh071jVp0sQ7CiQWAg8S3t9//+169OjhHn/8ce/I3le0aFH38MMPuwkTJrjDDjvMOwoknrlz51o/nNGjR3tHdjv22GPd888/78aPH+9q1arlHQUSE4EHAAqgHTt2uPvvv9+1a9fOrVu3zju6W7du3dzMmTNds2bNvCNAYiPwIMtUBh86dKg79dRTXaFChVy1atXcgAED3IYNG7wznHvwwQfdjTfe6FavXu1uuukmd95557k//vjDmqE+++wzm9fjkEMOceXLl7c/sBoZErRr1y73zjvvWAdKPUapUqVcx44d3apVq+x6ldgPPPBAN3z4cHfffffZORpVoscQ3d8NN9xgt/Nvq5lh9fjx/PXXX/Z8dfn666+Tb6v+CloFXx8SPr224GN98skndp7uf9y4ccnvy8UXX2xDe4H8YtmyZfa7q/44serWrWudkW+77TbvCBAOBB5kicLOXXfdldxxV38g1az0yiuv2PHNmzd7Zzr3448/WthRfxcFnv3228++ObZt29bVrFnTAoI6QSo46JgfZkRh57rrrrNvmWvXrnVz5syxJiwNl/3ll1/c6aef7iZPnuwuuugimytEz0PfWg8++GD31Vdf2f1p++OPP7aJ0xReWrdubfeTnpUrV7q7777bnXbaae6NN96wOUhuv/12N2zYsDTDkuiDRM9t0qRJFojeeuste6/0nILvCZBX9KXk/PPPd9999513ZDf143n99ddtuDkQOtE/3sghFSpUiJQrVy4ybdo070h4TZ06NVKmTJlINGx4R5K8//77kbJly0YWLlxo+3379k1+T3bt2mXHtm7dGrn66qsj0UAQ2blzpx2TDRs2RFq1ahUZPHiwnfvXX39FouEh0qlTp8j27du9syKRaECKVK5cOfLhhx/avq7TOXos37///huJ/vGOREOQPZ4vGpYi0W+udtF2LP++qlevHlm0aJF3NGLPs2fPnpEGDRpE1qxZY8f0eM2bN4+sX7/e9mfPnq0kFIl+oKR4XWPGjInUqFEjEg1g3hEUNBMnTrT/D6IB3zuS+z7//PNI48aN7XnEXi688MJINAB5ZwLhRIUHmRb9vXGzZs2y5pvatWt7R5O0aNHC/fzzz+7kk0/2jjhr6lIlR807okpNNEzYbVX1UWVHFzVfValSxaorquKoEtSvXz83aNAgd8ABB9htRcfVjKVRUmlRs5o6Y+oxdF/+Y2gkl56PmqvSG9Wl6fOjocfbc26fffax0Smq4KiylB5VnXS+T811up0eH8htaoZVVUdV0NgmY1FFViOw9HsKhBmBB5mmAKFOjvoDedBBB3lHM04f/AoAat4qXbp0isvAgQO9s5wFpGLFilk4UfOQzm/evLl1stzTCs0KPJofR81LsY+hY1mhkLVlyxa7AIng3XffdY0bN7am2Fgnnnii+/DDD7P8/wOQaAg8yLIiRYokV22yYvbs2VYtir3oj7MqOupA3L17d9ehQwfrh/Poo4+6l19+2Too16hRw7uX9I0ZMybuY6iPjfrzAGGkpR4UdG655Za4I7DuvPNOC0OqqAIFBYEHmbb//vu7I444wn377bepmoXUVHXkkUfaiKW0HH744dbkpdvHUkfjxYsX28R+6rz83nvvWbNW165drYlJIUWjugoXTv9Xt0yZMu7oo4+2+1DACdLEavPmzUsx4iojtm/fbhUnXYD8RpVXzZmj0YEKNPEmEFQT70cffeRuvvlm7whQcBB4kGmq6jRq1MgtXbrUpqL3KVhoqLnChpqO0lK2bFmr0EybNi3FyCU1FfXv39+99NJLFni0r8ASvC89hkKVhrnH+vPPP90///xj2wpFderUsdFg6lPk0/2qQjR48GD7gEiLQlewv4Om2Z8xY4arX7++K1eunHcUyB9U+VRFR5NhxqvoaALBZ555xr355pusao4Ci8CDLNG3yEsvvdTm6lCAUBh44okn7A+umqAqVarknZma+v1oqLmGimu49vLly90333zj+vbta5WXSy65xGYy1h9mzb+jJi6FK53Xp08fexw1cflUcVI1R99cNYxd96GAcsUVV1hVRt92FyxYYMPjH3vsMZt7RI9x6KGHeveQmobsarj9q6++aq9NfYuGDBli/YhU3QLyAzXNqoN9z5493a+//uod3U2/4w899JAF/5YtW3pHgYKJwIMsUWh55JFHXJcuXWyhwTPOOMPCgSo0CkHq35MeLUKocKKVmfXNVNUYleA1j0+DBg3sHFWC1G9HlRiN8lJIUrOWRpQEFy5UxalTp0623o9CikKUmtoqV65sfRkUUDTB4THHHGNz9qiCpP30aE0hhSPNwXPBBRfYa1PQ0oSE2em3BOQENfVqjin9Pv7www/e0d2KFy9u82JpvqnLL7/cOwoUbIUisR0ckGUVK1a0JhPNyHvmmWd6R5FI1FFa/YVEa3MFh8MDWaUJKPXlQEFEzaVZpQCjPm2qdsajkYQK//pykJURlECYUeEBgHxOzVWaL6d9+/Zphh014WqwgIIVYQdIjcADAPmU5qxSZ2M1GY8fP947upv6r2leKi2bormqSpQo4V0DIBaBBwDymYULF7pbb73Vpm9QPzZ1vg/S1Aj33nuvjVhUvzlN9QAgfQQeIEB9djQqzJ/8EMhN/vByjYBUp/54NDXC+++/b4vl0nQFZByBBwDymKZoUJDR8PJ4EwaKpnrQxIIaMagRhwAyh8ADAHlI0x1cddVVcefREc15pZGfU6dOdc2aNfOOAsgsAg8A5IFt27ZZs5QCT6ySJUvafFaq5mhuKqa5ALKPwAMAuUyzgp911lluypQp3pEk6jfWrVs3W1hXP9XMBSBnEHgAIJdoYlLNBt6xY8dUa15pNnEFIVV2NIEggJxF4AH2grlz51p/C/0EfFoQd/r06d7eblrqRLMxazkVAHsHgQd7lSZDO+ecc2wCtYJEK7evXbvW7dq1yzuCgkqr7mtR3XjUV0fz7GhdOgB7F4EHBco///xjC4vubeeee65bsWKFLZKKguunn36yJR9+++0378huN998s5s1a5Zr3bq1dwTA3kTgQYGgNXI12kVNBloUFNjbVq5c6S666CKr9AVpxJXWvLrzzjuZOBDIRQQeZJmG1Q4dOtTmCSlUqJCrVq2aGzBggNuwYYN3xm76hturVy9Xvnx5V6pUKZsWP3ieAsm8efNcq1at3CGHHGIXbeuYv6C/VjK/8cYb3f333+++++47d8MNN9h96T71PHbs2GHnie7bfzzdl/rTvPbaa27atGnJq6Hr+T/55JP2vPX8mzZt6t54440U9xPLb6LTh5l//7qoSUL9M3z6QNN96qe/f9JJJ7klS5a4cePGJb9nF198sVWCEC6aU6dNmzbu999/944k0dpXmlPnqKOO8o4AyC0EHmSJwoJWb1Zg0KgTdcTs0aOHVVF0fPPmzd6Zzj7QNbFa0aJF3QsvvOD69evnxo4da9Po+7QmUNu2bd1xxx3nPvvsM7ds2TKbWVajWb788kvvrCSvv/66LZiodYYUUDSXiUKQJmYTBaM+ffq4xYsXu8mTJ9vMtS1btrQPoeLFi7uDDz44+flrin4tzqimhw4dOlgQe+qpp2w0TVo0ukZhR2Fr1KhR7p577nHPPvuse+CBB9INS3pNnTt3dpMmTbLgpE6qeh567sH3C4lP62CpH1csBR4AeST67Rk5pEKFCpFy5cpFpk2b5h0Jr2i4iJQpUyYSDRTekSTRABEpW7ZsZOHChbbft29fe09mzJhh+7J9+/ZIp06dItddd10k+oFvx6IhKHLOOedEot+IbV+iISTSpEmTyLBhw2zfv139+vUj0RBkx0S30W2jISeya9euyJIlSyLVq1ePzJ492zsjEvntt98iTZs2jYwZM8b29fyjgSnF/Ug0QNn9r1692juSkl5PsWLF7HXqsUQ/n3vuuRSvW4+t/7385+DvDxgwILJz5047Jno+NWrUiHz11VfeESS6rl272u988HLLLbfYz5o1a3pnAchtVHiQadHfG+tsqSaa2rVre0eTtGjRwv38889WffGpyejEE0/09pImV1NJX30bVI0RfSNWdUhVE99+++1nl9gOn7Vq1bJmJJ/6QUQ/TKzy8vfff1vTkqpJpUuX9s5IOke3iQaZ5Od/wgkn2KrTGkHmX4488kirtug1pKVBgwauXr161iQl+qkJ4lQ5+uabb+xYWk4//XS3zz77eHvOnpMqPwVtFFtYqblqwoQJ3l6SaEi35lIAeYvAg0xTqFC40Id1TnW61P3oPtVEpr47zZs3d+edd541SWWWQoxGY61fv9474tzGjRstjFSoUCH5+b/00ku2CKOCkX857bTT3FdffeXdKuMUzDRZnB4HBdP8+fOtuTZIo/Tuvvtubw9AXiLwIMuKFCmSXOXIDvWX0cipM844w6or6h+j/j2jR4+26fczq3Llyna7/v37u6+//tqqJ88995zbuXNnimHi+ua9fft2q/jEXhhOjsxQPzP1N/v333+9I87C9NNPP50j/48AyD4CDzJNHS+POOII9+2336aa00adj9Us5I9Oygh1Jn7nnXfcHXfc4Xr37m3NYWraKlGiRIrmn4xStUVDf1XFUaVIHaE1quvFF1+0qpSa1NQEFu/5qzlM6xgFq0MZoc7KCk/qFI2CRR3PFZ7106eK5YgRI+x3GED+QOBBpukba6NGjdzSpUvd559/7h1N6tujEVZlypRJ0X9mTxQyNKJFtwl+G16+fHmWhmzrOQ0ZMsSGf2uWW1WN/u///s8qPz71wYl9/qJh8JrmXyO70qLnpOfm0+tWc4bCWbCvEgoGjeqLnWtHlZ2qVat6ewDyAwIPskTzyFx66aW20OHw4cPdjBkz3BNPPGFT6Gt4t4aUZ9TRRx9tnZ81VH3mzJlWjVETV8+ePb0zMkfz7qjaUqVKFQtQuqhidP7559vQdS33oI7HCjYamq5Opuqk/N5779mw9EsuucQdf/zx3r2lpjl+1Mnaf91qLtPr1uzKmXndSHxqMtXvQZB+h9Q8CyB/IfAgS1Sy12R7Xbp0saYi/YF/9dVXrd+MQpD692SU7qtv3742cksdlTXSq3DhwjZPjSb5yywFnmOPPdZC1Nlnn22XOnXq2GgoTfSnOYPUrKXnr4kM9VOP3b17dwtrmjxR16dFYUkdntV8p3Ck16z5dTT3j5rTUHDcd9993lYS/c5pXigA+U+hiOrxyBEVK1a0Drgamqo+JMh9ev81AaDCjfpQBIe5//jjj659+/YWqDRZYFZowkD1T1I1KnjfKHhUEdR6WEHqi1ajRg1vbzeFd305UB8vTYgJIPdR4UGoaCSWRmVVr149VQdif14frVANZIeaRbXKedDVV18dN+wAyB8IPAgVjSBTE5aWn1BHZY0AUwBSJ2M1PWnYcFaayYCgt99+2zrE+xSutRgogPyLwIPQUedkdSRV84JGZmn015VXXmmjx8aPH29D0oHsUL+voOuuuy7HJuEEsHfQhycH0YcHCL+HHnrI+of51El+7ty56QYe+vAAeY8KDwBkkJYdCYYduemmm6juAAmAwAMAGaSpB4JU1VXgAZD/EXgAIAPGjBnjFixY4O0l0ZxNABIDgQdA6P3000/u/vvvd127dk21nEhGaF02zcEUdO2117pTTjnF2wOQ3xF4AISelv4YNWqUe/PNN7M06aTm3NECsT6thM4wdCCxEHgAhJ6WAfFldkFarar/xhtveHtJNFJLcz4BSBwEHuxVagbQRH+a/C+3aEHHWrVq2fIPGaXlIrTIqH5m119//WVrdOmibeStTZs22QSUvhIlSnhbGRPbT0dTTjRu3NjbA5AoCDwAQi22o7GWHcmo999/302ZMsXbS6LV0AEkHgIPgFCbMWOGt5XkrLPO8rbS9+eff6YKN+eee64NRQeQeAg8yLJt27a5oUOHulNPPdWag6pVq2bl/w0bNnhn7Pbbb7+5Xr16ufLly9sq4/ogiT1PaxPdcMMNdr0uHTt2dEuWLHHBycC1rWO6TudolttWrVq5jz/+OMV5sTRKR00RWt1azzstWmvrlVdesdek+77qqqvcqlWrvGuTaMSOOqzqteh161zNrh3s1BqPnt+8efPs+eq+/eeuY/5z95vDNKLou+++S34/9Fh6r4OPkdH3QrcZN25c8r+Tfuq+0nsfwmTatGneVpIzzjjD20rfoEGDLPT4NEuy+u4ASEwEHmSJPizvuusu9+STT7prrrnGTZ8+3fXo0cPCgo5v3rzZOzOpk6iCQ9GiRd0LL7zg+vXrZ/1rXn75Ze+MpBls27Zt6w4++GD7wJ4/f759iLdu3drNmTPHO8u5mTNnugsvvNCW8NBjqTNp2bJl3cUXX+ymTp3qnZWSnqseU4HgvvvuS3dWXAWNyZMnW98jzbuicKPX5y8UqQ/A2267zS1dutS99NJLFuRuueUW17dvXzs/Peo4q9d43HHHuc8++8wtW7bMVapUyQLLl19+6Z2VRIuftmvXzp188sn2Gq+//np7bsHXmJH3QgHuiSeecAMHDrR/FwW/3r17uxdffNHdfffdoe9jpN89/Rv6jjrqKFehQgVvL236fYztA9apUydW2gcSWfSbIHJI9A9ppFy5cpHoN0rvSHhFP1AjZcqUiUTDgXckyfvvvx+JfuhGFi5caPvRIGDvyYwZM2xftm/fHol+eESuu+66SDSMRKIfypHoh3Ak+qEe2bp1q3dWJPL3339HouHCLtrWdVdffXXkyiuvjGzatMk7KxLZuHFjpEOHDpGuXbtGduzYEYl+yEVq1qwZiQaQyM6dOyMDBgyI1K9fPxINFd4tUps9e7ZKIpF77rnHHsu3ZMmSSPXq1SPDhg2z/blz59rr1vk+PX/d7oorrohEg17y69NF275o6Iqcc845kd9//907EolEA0ikSZMmyffv3zb2+eo2um2fPn0iu3btyvB7sXz58kg0NKX6nYwGykjVqlXtZ5jpfdXvn3/p1auXd0369L4GbxcNlt41WTNx4kS7H/1eAsgbVHiQadHfGzdr1ix30kknudq1a3tHk7Ro0cL9/PPPVpnwqanrxBNP9PacO+CAA+yb9tq1a63CoKYtLb6o+4qGDRvRpUv0Q91uq1FX2tb5qpKoD4aqNb5DDz3UqiuPPfaYVZF8ep5aHV1VJVU4MtJZtWXLlm6//fbz9pxVY+rWrWsVHT23OnXqWNUgGki8M5wrUqSIvSZVe/755x/vaGq33nqrVWJUufLpsXTRbYM0ykzNWD5VpaIfmFat0PPI6Huhc4oVK+aOPvro5PdVFzXPqBoU21wXNqoUBjVs2NDbStvq1autyhjEjMpA4iPwINP0gasPXn0g58SiiQo8v//+u+vcubMrXbp0iouO+fRBrWagYBBIzzvvvON69uxpl//973/e0czZZ5993IEHHui2bNnidu7caSFi165d1uSkpq7mzZtb3yA1G+2J3iu9b2oGVF8b3fa8886zJrTMyuh78f3331un3apVq6Z4X7Uf25k3jBRUg4JBNS2DBw/2tpJccMEFFrwBJDYCD7JMlQ11gs0pqkyoKhN7mTRpUoqqiB43I1SNUaVk4sSJqSooWaV5elQlePvtt62PjfrxvPbaa9bROD3qZ/P4449bh1n1b1IHbvVhGj16dIZHDcWTkfdCwWr9+vVx39sOHTp4Z4WP+ivpdftUVdzTHDzqS/Xee+95e0m0hASAxEfgQaZphtkjjjjCZqBVU1OQmlCOPPLITE3gV6ZMGWtyUfOKPoSDVKHQKCaNNFLoqVGjhj1ukJqRunXrlmqiP91n//79raqiTsVZGZWkTr/bt2+3ZqHChQvbh+Hxxx/vnnnmGXf22We7ww8/3J7Xnmbd1cR3qjjdcccd1mlYTX66nT6AVUXKrIy+F1WqVLEmRlXQgvR+6n3V+xtWn376qbeVpGbNmt5W2vRvE6Qm2ozcDkD+R+BBpqmq06hRI2suCC7EqLCi0UcKMGo2ySj1QVE1RqOO9OHsU1Vk+PDh1sSgZjStX6SgoGHGwVFg+jBfvHixBZzY4KF+O+q/o8nj3nrrrVSBKtbs2bMt5Pg0NHzhwoX2/BR41PymsBHs56Mwo6Dn8/soKSj596UmMY3w0vsSrIotX74800sdSEbfC/Wd0nNQn6vga1e/qCuvvNKGtYdV7ISD9erV87biU0gP/juKRrYBCAcCD7JEc7lceumlNkRboUT9QdSPRYs0qplEw60zSs0yV1xxhQUEzW+jD6off/zROt5qwcdLLrnEOuOqD8zVV19tHUrVAVghRhUXrYCt27Zp0yZuE5v672hIty4KVWlRFUcdnLW4pIKEmq30fDQUWc1OCjJaHVuPq87Heo46R8PK/WHrPlW59FgTJkywIc4KIOqUraHOOq4gpSYu9S/Kioy+F+p7or5G+ncZMWKEPWc9vuZBUhg67bTTvHsMH02VEKTf2fT06dPH20py0UUXWad1AOFA4EGW6AP3kUcecV26dLE5XdQ35dVXX7UmJIWgjPaz8VWuXNn6wqip7LLLLrMKhjrzqo+M9n0KL6rU6P41p42qFBpxpACi+4hHH/y6D83po7mCFEDi0fws48ePt8fWBIWXX365PR+9Pr9zcPv27S1UqIlMTR3vvvuuNW/FrpytTsm6qHlJHZz1fuk2qvyoo7KaSlQx0mvRWmNZkZH3Qtfp+So86t9Hr03n6bkrqB522GF2Xtioqe6XX37x9pyNSEuv47GqiN988423l9Rsq3mKAIRHocieavzIME05r2YYzbqrkTsA8oZCpvpL+VTxUtNmPApHsYuBqvKmWa5zioKpvhwokKrJEUDuo8IDIHTUlywovf47DzzwgLeVRM1Yewo7ajb84osvvD0AiYDAAyB0Ypfq0PQE8WjKgo8++sjbSxLblyeWmsqaNGlik1RqMVGNeAOQ/xF4AISOZksOirfCuUb+ac20IPW7UphJz0033ZQ8r5OCVXod4QHkHwQeAKETHKqvaRLi0YSWmrHapzmRNJIvPZpLKbYPjpYeAZD/EXgAhMrGjRu9rSTBtcaCgqOyRB2VNf1BWjQHU2wgUrVnT7M3A8gfCDwAQiW2T01as2ArrPhrrGm6AU1bkJ5Bgwalqgjdcsst3h6A/I7AAyBUtLhrULzJKEVzI2mepzlz5rh+/fp5R+NTdUdrnwVpMkfdB4DEQOABUKBpVuw9UX+fIE3cqBFaABIHgQdAqOXE3KpTp071tpJoWRUAiYXAg1w1d+5c16xZM/sJ7A1asiNIs59nh9Y9i52rR7/DABILgQe5SiuGr127NkU/i61bt7pNmzalWs1bk8Vpsc2sUOdSrVEVO88Kwm/ffff1tpJkt8KjdciCmjZtamusAUgsBB7kKvV7WLFihWvYsKF3xNmq4VrUUxPBAdkV20k5OxWeVatW2dw7QVdddZW3BSCREHgAhMo+++zjbSWJHbWVGU888YS3leSMM85wjRo18vYAJBICDzLt7bffdlWqVHFLly71jiRR85O+XatiE+Q3T+l2n3zyiZ2jn/72fffd54YPH+4OPPBAO0/n+/RhpQ6jakbQuZo3Rf0pgs0UW7ZscY888ogrX768K1WqlC38qGazoL/++svdeOON1sSlCtNll11m87DouH/7atWq2WPop/Z1/J9//nHdunVzV155pe37/PvTCJ9FixZ5R5PofVAFS6twI/cVKVLE20qS1QrPrFmz3HvvveftJbn99tu9LQCJhsCDTKtataqFk2XLlnlHnAUD/4P/888/TxEOFGA0+VuNGjW8I0l0P9OnT3fXX3+9u+iii9zkyZPd008/nWKY8LPPPusGDx5s4eLDDz90Rx99tOvbt29yoNEkc1rtWufdc8897o033nDVq1d3N998swWbWHpuCjolS5a08PTvv//a7TXHyqOPPmprJOlbvb+vD8+TTz7Zwt3PP//s3Yuz8/T6tZDkwoULvaO73wctN0A/j7wR22k5qxUezbMT1KJFCxuODiAxEXiQaccee6w79dRT7YNdH/Cyfv16W2NIK01rQUU/HOjb9bx586xyExsASpcubQs1HnPMMe7www+3poLTTz/dFStWzDvDuTp16rjXX3/dhgFrZIyCzGeffebWrFlj1y9fvtzCyb333muVHd1f165d7XlosrhYel5Dhgxxw4YNc+3atXO//vqrmzFjhrvzzjvd+eef7w477DDr7KxQpG/4ut5fKylYeVq5cqU9z06dOlmIUsVH9D5ov169em6//fazY8hdqtIFZaXCo+AdDMyaYFBBG0DiIvAg0w444AB3yimn2Ae7PuBFQ3fl4osvttDghwONytJ5Ol+3y6wGDRqkmM1WIalChQrJFZ4vvvjCjiksBT/oVJXRbWMpeAVXzlYz2JQpU1ItK3DwwQfbc1elSlWl2rVrW3DTh6ea0+bPn29hTKFJoctfPVvvg0aI6XGQN7IbNPXvrlAcpDCt32sAiYvAgyxRgPnpp58scMiCBQvsQ75y5copwoH6sajZR+fvDbp/NYFl9cNIHVyLFi1qoUfVo+bNm1slSRUjnwKXKlqaO0gVH63EvWTJEjum16th0Kr4iP8+qAqG/CGzw9I/+OCDFOtxHXXUUa5Lly7eHoBEReBBlpQrV876M6jSoQCgKo6ak1TFURDQvr4pq3+LQoHOz4+0YrZCjr7Rq2P0Cy+84F555ZUUgUfUrKXqjS4KWar86PWruqSAF3wftB9slkPeymwfnrfeesvbSqIgDCDxEXiQJYceeqg1GanSob47P/zwg3VCFv3cuHGjNfUoAOg8nb83KEipX87vv//uHcmcadOmWcfloUOHulatWlnzlUZ6qVN2UKVKlaxKpQqOKj1qCitTpoxVh9R8pn5FqnZp3hZ/BW4kHvX7UngNatmypbcFIJEReJBl6pirD/nx48dbE44/uko/VdXR8GyFHp23J+r34neAzgwNIVc/ouDQcDVhKGjFDpuPR31vVI1Rnx3ftm3bbAXtoEMOOcQqOhoSr9FiquL4fZI0+mz16tXWubp48eL5tppVUGWmSUu/y0GqVu6tsA4gdxF4kGWq5OjD/ZlnnknRjKOf2h8xYoRt+5WftKgTsubkmTBhgps9e3aKIe17orBxySWX2Pw6mstHI64GDhzoevbsadWXPVH1ScFo5MiR1lSl23fs2NEqNkHqEK1J5z7++GOr8Pgjt0TvgQKeliDQ/DuqECHxqLkydqLB2M7sABIXgQdZVqJEieSgE1vF0b6OqxlI56VHc/BoFMwdd9zhbrnllhTz3eyJqiyaR0fD1vv372/hR4FJ/XAy0rTUuHFj9+STT1o1SuFJ8/lomYtBgwZ5Z+x23HHHWfOVKj3BKo5f/dHrPe2001INi0Zi0KSCweVNVKnU7xOAcCgUyewQBqRJw501MknVgjPPPNM7CiC3qY+VT3M8xfbLiaWwrSbJIM3VpDmZcoI6Qmukl5o81ecNQO6jwgMg1NKruKm/Vrywo/mVcirsAMgfCDwAQi2tIrb6YinUxIYddYTv1auXtwcgLAg8AEItNvCsW7fO+mmpihO7yKyav1588cUUs3sDCAcCD4BQU7OVTyP4NNT81Vdf9Y7spg7nEydOdGXLlvWOAAgTAg+A0NFEkT4FHq3xppF0mmAylr8w6Lhx4wg7QIgReACEjqo4QZpXadOmTd7eblo3bebMme7KK6/0jgAIKwIPgNDp3LlzujMkH3HEEa5fv37u+eefZ6JIoIAg8AAIHU0a+O6777pGjRp5R5JoVm/149Fq/u3bt/eOAigICDwAQumYY45xo0ePtvXctEbWsmXLbC20Nm3aeGcAKEgIPABCTQvD+kudACi4CDwAACD0CDwAACD0CDwAACD0CDwAACD0CkXSWlkPmVaxYkX333//uTp16nhHACCJJj8sXry4W7x4sXcEQG4i8OQgP/AAQDwEHiDvEHhykOb84O0EkJaiRYu6tm3bensAchOBBwAAhB6dlgEAQOgReAAAQOgReAAAQOgReAAAQOgReAAAQOgReAAAQOgReAAAQOgReAAAQOgReAAAQOgReAAAQOgReAAAQOgReAAAQOgReAAAQOgReAAAQOgReAAAQOgReAAAQOgReAAAQOgReAAAQOgReAAAQOgReAAAQOgReAAAQMg59//rA4m3NqO0wgAAAABJRU5ErkJggg==)"
      ]
    },
    {
      "cell_type": "markdown",
      "metadata": {
        "id": "JE1EQDW-VDGj"
      },
      "source": [
        "Magic methods : it is a special method ,Python Magic methods are the methods starting and ending with double underscores ‘__’.\n",
        "eg :  _ _name_ _ , _ _init_ _"
      ]
    },
    {
      "cell_type": "markdown",
      "metadata": {
        "id": "wgHrr4vvWKQX"
      },
      "source": [
        "constructor is a special method that is called automatically when an object is created from a class,we don't need to call explicitly"
      ]
    },
    {
      "cell_type": "code",
      "execution_count": null,
      "metadata": {
        "colab": {
          "base_uri": "https://localhost:8080/"
        },
        "id": "IEuK0g7GUXjb",
        "outputId": "b4913907-1e29-409e-f09a-77496bea276a"
      },
      "outputs": [
        {
          "name": "stdout",
          "output_type": "stream",
          "text": [
            "hello\n"
          ]
        }
      ],
      "source": [
        "class Temp:\n",
        "  def __init__(self):\n",
        "    print(\"hello\")\n",
        "obj = Temp()"
      ]
    },
    {
      "cell_type": "markdown",
      "metadata": {
        "id": "pXdXAa9CcedN"
      },
      "source": [
        "constructor is used to write configuration related code\n",
        "- The primary purpose of a constructor is to initialize the attributes (data members) of an object when it is created.\n",
        "- This ensures that objects start with a valid state and are ready for use."
      ]
    },
    {
      "cell_type": "markdown",
      "metadata": {
        "id": "DwXBIayZqtjU"
      },
      "source": [
        "# __ self __\n",
        "- self is a default parameter\n",
        "- self is used with all the attributes\n",
        "- when calling functions or a class self is used\n",
        "\n",
        "**Golden rule of oops**  : all the attributes and methods of a class can only be accessed by the class's object\n",
        "- by using self we can call a method inside another method"
      ]
    },
    {
      "cell_type": "markdown",
      "metadata": {
        "id": "F4M0R3sqssw1"
      },
      "source": [
        "self is actually the class object , the id of both of them are same"
      ]
    },
    {
      "cell_type": "code",
      "execution_count": null,
      "metadata": {
        "colab": {
          "base_uri": "https://localhost:8080/"
        },
        "id": "pYbpwqd2snOk",
        "outputId": "70fc2518-bea3-4974-dae4-714c08ac2d66"
      },
      "outputs": [
        {
          "name": "stdout",
          "output_type": "stream",
          "text": [
            "133791933118304\n",
            "133791933118304\n"
          ]
        }
      ],
      "source": [
        "class Temp:\n",
        "  def __init__(self):\n",
        "    print(id(self))\n",
        "obj = Temp()\n",
        "print(id(obj))"
      ]
    },
    {
      "cell_type": "markdown",
      "metadata": {
        "id": "O1lQfCIcj2Rw"
      },
      "source": [
        "#Fractions"
      ]
    },
    {
      "cell_type": "code",
      "execution_count": null,
      "metadata": {
        "colab": {
          "base_uri": "https://localhost:8080/"
        },
        "id": "qsqTOFc1tvQJ",
        "outputId": "e7ba7d0b-bab7-49e5-cf35-a8995d11cfb1"
      },
      "outputs": [
        {
          "data": {
            "text/plain": [
              "0.375"
            ]
          },
          "execution_count": 1,
          "metadata": {},
          "output_type": "execute_result"
        }
      ],
      "source": [
        "3/4*1/2"
      ]
    },
    {
      "cell_type": "markdown",
      "metadata": {
        "id": "wNUac9ihmLln"
      },
      "source": [
        "- parameterised constructor :   A parameterized constructor is a method that accepts parameters when an object is created\n",
        "- A non-parameterized constructor is a constructor that does not take any arguments. It's also known as a default constructor"
      ]
    },
    {
      "cell_type": "code",
      "execution_count": null,
      "metadata": {
        "id": "VpQWuE32tgrP"
      },
      "outputs": [],
      "source": [
        "class Fraction:\n",
        "    def __init__(self, x, y):\n",
        "        self.num = x\n",
        "        self.den = y\n",
        "\n",
        "    def __str__(self):\n",
        "        return f'{self.num}/{self.den}'\n",
        "\n",
        "    def __add__(self, other):\n",
        "        new_num = self.num * other.den + self.den * other.num\n",
        "        new_den = self.den * other.den\n",
        "        return f\"{new_num}/{new_den}\"\n",
        "\n",
        "    def __sub__(self, other):\n",
        "        new_num = self.num * other.den - self.den * other.num\n",
        "        new_den = self.den * other.den\n",
        "        return f\"{new_num}/{new_den}\"\n",
        "\n",
        "    def __mul__(self, other):\n",
        "        new_num = self.num * other.num\n",
        "        new_den = self.den * other.den\n",
        "        return f\"{new_num}/{new_den}\"\n",
        "\n",
        "    def __truediv__(self, other):\n",
        "        new_num = self.num * other.den\n",
        "        new_den = self.den * other.num\n",
        "        return f\"{new_num}/{new_den}\"\n"
      ]
    },
    {
      "cell_type": "code",
      "execution_count": null,
      "metadata": {
        "id": "Hgs7Okv2nJer"
      },
      "outputs": [],
      "source": [
        "fr1 = Fraction(3,4)"
      ]
    },
    {
      "cell_type": "code",
      "execution_count": null,
      "metadata": {
        "colab": {
          "base_uri": "https://localhost:8080/"
        },
        "id": "8ItA90MYnXCU",
        "outputId": "57ffb813-9c83-413b-9930-8a5c4b755486"
      },
      "outputs": [
        {
          "name": "stdout",
          "output_type": "stream",
          "text": [
            "3/4\n"
          ]
        }
      ],
      "source": [
        "print(fr1)"
      ]
    },
    {
      "cell_type": "markdown",
      "metadata": {
        "id": "QIvqs1E3obXN"
      },
      "source": [
        "In Python, the (__ _str_ __) method is a special method that allows you to define how an object of your class should be represented as a string. It's called when you use the print() function on an object or when you convert an object to a string using the str() function."
      ]
    },
    {
      "cell_type": "code",
      "execution_count": null,
      "metadata": {
        "id": "n_tN_6Inpsje"
      },
      "outputs": [],
      "source": [
        "fr2 = Fraction(4,5)"
      ]
    },
    {
      "cell_type": "code",
      "execution_count": null,
      "metadata": {
        "colab": {
          "base_uri": "https://localhost:8080/"
        },
        "id": "dJKsjGaqod2e",
        "outputId": "26e5b651-3ac7-48f9-eb19-a3966ee578dd"
      },
      "outputs": [
        {
          "name": "stdout",
          "output_type": "stream",
          "text": [
            "31/20\n",
            "-1/20\n",
            "12/20\n",
            "15/16\n",
            "\n"
          ]
        }
      ],
      "source": [
        "print(fr1 + fr2)\n",
        "print(fr1 - fr2)\n",
        "print(fr1 * fr2)\n",
        "print(fr1 / fr2)\n",
        "print()"
      ]
    },
    {
      "cell_type": "markdown",
      "metadata": {
        "id": "FyUJ3PRAsPr4"
      },
      "source": [
        "##`Q-1:` Rectangle Class\n",
        "1. Write a Rectangle class in Python language, allowing you to build a rectangle with length and width attributes.\n",
        "\n",
        "2. Create a Perimeter() method to calculate the perimeter of the rectangle and a Area() method to calculate the area of ​​the rectangle.\n",
        "\n",
        "3. Create a method display() that display the length, width, perimeter and area of an object created using an instantiation on rectangle class."
      ]
    },
    {
      "cell_type": "markdown",
      "metadata": {
        "id": "GxUtOqJfssFK"
      },
      "source": [
        "Eg.\n",
        "After making above classes and methods, on executing below code:-\n",
        "```\n",
        "my_rectangle = Rectangle(3 , 4)\n",
        "my_rectangle.display()\n",
        "```\n",
        "\n",
        "`Output:`\n",
        "```\n",
        "The length of rectangle is:  3\n",
        "The width of rectangle is:  4\n",
        "The perimeter of rectangle is:  14\n",
        "The area of rectangle is:  12\n",
        "```\n"
      ]
    },
    {
      "cell_type": "code",
      "execution_count": null,
      "metadata": {
        "id": "92_QT-Uj6NBg"
      },
      "outputs": [],
      "source": [
        "class Rectangle:\n",
        "  def __init__(self,l,b):\n",
        "    self.length = l\n",
        "    self.breadth = b\n",
        "    self.display()\n",
        "  def perimeter(self):\n",
        "    return 2*(self.length + self.breadth)\n",
        "  def area(self):\n",
        "    return self.length * self.breadth\n",
        "  def display(self):\n",
        "     print(\"length of the rectangle : \",self.length)\n",
        "     print(\"breadth of the rectangle : \",self.breadth)\n",
        "     print(\"Area of the rectangle : \",self.area())\n",
        "     print(\"perimeter of the rectangle : \",self.perimeter())"
      ]
    },
    {
      "cell_type": "code",
      "execution_count": null,
      "metadata": {
        "colab": {
          "base_uri": "https://localhost:8080/"
        },
        "id": "3gJ5cyb80lDd",
        "outputId": "0d59b1f2-8dff-49de-8fb2-abb5ac9b1f91"
      },
      "outputs": [
        {
          "name": "stdout",
          "output_type": "stream",
          "text": [
            "length of the rectangle :  3\n",
            "breadth of the rectangle :  4\n",
            "Area of the rectangle :  12\n",
            "perimeter of the rectangle :  14\n"
          ]
        }
      ],
      "source": [
        "obj = Rectangle(3,4)"
      ]
    },
    {
      "cell_type": "markdown",
      "metadata": {
        "id": "r_GxrS0Vrdom"
      },
      "source": [
        "##`Q-2: Bank Class`\n",
        "\n",
        "1. Create a Python class called `BankAccount` which represents a bank account, having as attributes: `accountNumber` (numeric type), `name` (name of the account owner as string type), `balance`.\n",
        "2. Create a constructor with parameters: `accountNumber, name, balance`.\n",
        "3. Create a `Deposit()` method which manages the deposit actions.\n",
        "4. Create a `Withdrawal()` method  which manages withdrawals actions.\n",
        "5. Create an `bankFees()` method to apply the bank fees with a percentage of 5% of the balance account.\n",
        "6. Create a `display()` method to display account details.\n",
        "Give the complete code for the  BankAccount class."
      ]
    },
    {
      "cell_type": "markdown",
      "metadata": {
        "id": "qvVkOUJgvTV_"
      },
      "source": [
        "Eg.\n",
        "After making above classes and methods, on executing below code:-\n",
        "```\n",
        "newAccount = BankAccount(2178514584, \"Mandy\" , 2800)\n",
        "\n",
        "newAccount.Withdrawal(700)\n",
        "\n",
        "newAccount.Deposit(1000)\n",
        "\n",
        "newAccount.display()\n",
        "```\n",
        "\n",
        "`Output:`\n",
        "```\n",
        "Account Number :  2178514584\n",
        "Account Name :  Mandy\n",
        "Account Balance :  3100 ₹\n",
        "```"
      ]
    },
    {
      "cell_type": "code",
      "execution_count": null,
      "metadata": {
        "id": "fUQOmQyA6YDR"
      },
      "outputs": [],
      "source": [
        "class BankAccount:\n",
        "  def __init__(self,accountnumber,name,balance):\n",
        "    self.accountno = accountnumber\n",
        "    self.name = name\n",
        "    self.balance = balance\n",
        "  def Deposit(self,a):\n",
        "     self.balance = self.balance + a\n",
        "  def Withdrawal(self,a):\n",
        "    self.balance = self.balance - a\n",
        "  def BankFees(self):\n",
        "    self.balance = self.balance/100 * 5\n",
        "  def Display(self):\n",
        "    print(f\"Account number : {self.accountno}\")\n",
        "    print(f\"Account name : {self.name}\")\n",
        "    print(f\"account balance : {self.balance}₹\")\n"
      ]
    },
    {
      "cell_type": "code",
      "execution_count": null,
      "metadata": {
        "colab": {
          "base_uri": "https://localhost:8080/"
        },
        "id": "ttUdTJi34oZ_",
        "outputId": "f3b72511-42f7-456e-fe3b-71a027dc1342"
      },
      "outputs": [
        {
          "name": "stdout",
          "output_type": "stream",
          "text": [
            "Account number : 2178514584\n",
            "Account name : Mandy\n",
            "account balance : 3100₹\n"
          ]
        }
      ],
      "source": [
        "newAccount = BankAccount(2178514584, \"Mandy\" , 2800)\n",
        "\n",
        "newAccount.Withdrawal(700)\n",
        "\n",
        "newAccount.Deposit(1000)\n",
        "\n",
        "newAccount.Display()"
      ]
    },
    {
      "cell_type": "markdown",
      "metadata": {
        "id": "QovcQAZTrgGU"
      },
      "source": [
        "##`Q-3:Computation class`\n",
        "\n",
        "1. Create a `Computation` class with a default constructor (without parameters) allowing to perform various calculations on integers numbers.\n",
        "2. Create a method called `Factorial()` which allows to calculate the factorial of an integer n. Integer n as parameter for this method\n",
        "\n",
        "3. Create a method called `naturalSum()` allowing to calculate the sum of the first n integers 1 + 2 + 3 + .. + n. Integer n as parameter for this method.\n",
        "\n",
        "4. Create a method called `testPrime()` in  the Calculation class to test the primality of a given integer n, n is Prime or Not? Integer n as parameter for this method.\n",
        "\n",
        "5. Create  a method called `testPrims()` allowing to test if two numbers are prime between them. Two integers are prime to one another if they have only `1` as their common divisor. Eg. 4 and 9 are prime to each other.\n",
        "\n",
        "5. Create a `tableMult()` method which creates and displays the multiplication table of a given integer. Then create an `allTablesMult()` method to display all the integer multiplication tables 1, 2, 3, ..., 9.\n",
        "\n",
        "6. Create a static `listDiv()` method that gets all the divisors of a given integer on new list called  Ldiv. Create another `listDivPrim()` method that gets all the prime divisors of a given integer."
      ]
    },
    {
      "cell_type": "code",
      "execution_count": null,
      "metadata": {
        "id": "YEkPH70l6Z-o"
      },
      "outputs": [],
      "source": [
        "class Computation:\n",
        "    def __init__(self):\n",
        "        pass\n",
        "\n",
        "    def Factorial(self, n):\n",
        "        f = 1\n",
        "        for i in range(1, n + 1):\n",
        "            f = f * i\n",
        "        print(f)\n",
        "\n",
        "    def naturalsum(self, n):\n",
        "        a = 0\n",
        "        for i in range(1, n + 1):\n",
        "            a += i\n",
        "        print(a)\n",
        "\n",
        "    def testPrime(self, n):\n",
        "        c = 0\n",
        "        for i in range(1, n):\n",
        "            if n % i == 0:\n",
        "                c += 1\n",
        "        if c == 2:\n",
        "            print(\"prime\")\n",
        "\n",
        "    def testprims(self, n1, n2):\n",
        "        l = [n1, n2]\n",
        "        l1 = []\n",
        "        for i in l:\n",
        "            c = 0\n",
        "            for j in range(1, i + 1):\n",
        "                if i % j == 0:\n",
        "                    c += 1\n",
        "            l1.append(c)\n",
        "        if l1[0] == 2 and l1[1] == 2:\n",
        "            print(\"both are primes\")\n",
        "        else:\n",
        "            print('both are not primes')\n",
        "    def tableMult(self,n):\n",
        "      print(f\"Multiplication table of {n}\")\n",
        "      for i in range(1,11):\n",
        "          print(f\"{n} * {i} = {n*i}\")\n",
        "    def listDiv(self,n):\n",
        "      Ldiv = []\n",
        "      for i in range(1,n+1):\n",
        "        if n%i==0:\n",
        "          Ldiv.append(i)\n",
        "      print(Ldiv)\n",
        "    def listDivPrime(self,n):\n",
        "      LdivPrime = []\n",
        "      for i in range(1,n+1):\n",
        "        c=0\n",
        "        if n%i == 0:\n",
        "          for j in range(1,i+1):\n",
        "             if i%j==0:\n",
        "                c+=1\n",
        "          if c==2:\n",
        "             LdivPrime.append(i)\n",
        "      print(LdivPrime)\n",
        "\n"
      ]
    },
    {
      "cell_type": "code",
      "execution_count": null,
      "metadata": {
        "colab": {
          "base_uri": "https://localhost:8080/"
        },
        "id": "Di-bcULT69vQ",
        "outputId": "2e5f714b-4a97-4e4f-e209-214d9b93c8ff"
      },
      "outputs": [
        {
          "name": "stdout",
          "output_type": "stream",
          "text": [
            "[2, 5]\n"
          ]
        }
      ],
      "source": [
        "obj = Computation()\n",
        "obj.listDivPrime(10)"
      ]
    },
    {
      "cell_type": "markdown",
      "metadata": {
        "id": "0yn23_oEriXa"
      },
      "source": [
        "##`Q-4`: Build flashcard using class in Python.\n",
        "\n",
        "Build a flashcard using class in python. A flashcard is a card having information on both sides, which can be used as an aid in memoization. Flashcards usually have a question on one side and an answer on the other.\n",
        "\n",
        "**Example 1:**\n",
        "\n",
        "Approach:\n",
        "\n",
        "- Create a class named FlashCard.\n",
        "- Initialize dictionary fruits using __init__() method. Here you have to define fruit name as key and it's color as value. E.g., {\"Banana\": \"yellow\", \"Strawberries\": \"pink\"}\n",
        "- Now randomly choose a pair from fruits by using _random_ module and store the key in variable _fruit_ and _value_ in variable color.\n",
        "- Now prompt the user to answer the color of the randomly chosen fruit.\n",
        "- If correct print correct else print wrong.\n",
        "\n",
        "Output:\n",
        "```bash\n",
        "welcome to fruit quiz\n",
        "What is the color of Strawberries\n",
        "pink\n",
        "Correct answer\n",
        "Enter 0, if you want to play again: 0\n",
        "What is the color of watermelon\n",
        "green\n",
        "Correct answer\n",
        "Enter 0, if you want to play again: 1\n",
        "```"
      ]
    },
    {
      "cell_type": "code",
      "execution_count": null,
      "metadata": {
        "id": "vCrUF6VU6l6w"
      },
      "outputs": [],
      "source": [
        "import random\n",
        "class FlashCard:\n",
        "  def __init__(self):\n",
        "     self.fruits = {\"banana\":\"yellow\",\"strawberries\":'pink','apple':'red','mango':'yellow','grapes':'purple'}\n",
        "     self.fruit = list(self.fruits.keys())\n",
        "  def Prediction(self):\n",
        "    while True:\n",
        "      p = random.choice(self.fruit)\n",
        "      print(f\"what is the color of {p}\")\n",
        "      a = input(\"enter your answer : \")\n",
        "      if a == self.fruits[p]:\n",
        "         print(\"correct\")\n",
        "         b = int(input(\"enter 1  to continue | 0 to stop \"))\n",
        "         if b == 1:\n",
        "           self.Prediction()\n",
        "         else:\n",
        "            break\n",
        "      else:\n",
        "        print(\"incorrect\")"
      ]
    },
    {
      "cell_type": "code",
      "execution_count": null,
      "metadata": {
        "colab": {
          "base_uri": "https://localhost:8080/"
        },
        "id": "NXpRpmO9MX1y",
        "outputId": "27cc5826-b7d2-425c-fb00-909d49d66f37"
      },
      "outputs": [
        {
          "name": "stdout",
          "output_type": "stream",
          "text": [
            "what is the color of grapes\n",
            "enter your answer : purple\n",
            "correct\n",
            "enter 1  to continue | 0 to stop 1\n",
            "what is the color of apple\n",
            "enter your answer : red\n",
            "correct\n",
            "enter 1  to continue | 0 to stop 0\n",
            "what is the color of banana\n",
            "enter your answer : yellow\n",
            "correct\n",
            "enter 1  to continue | 0 to stop 0\n"
          ]
        }
      ],
      "source": [
        "obj = FlashCard()\n",
        "\n",
        "obj.Prediction()"
      ]
    },
    {
      "cell_type": "code",
      "execution_count": null,
      "metadata": {
        "id": "lBiUIyDST3O_"
      },
      "outputs": [],
      "source": [
        "class TechWorld:\n",
        "  def __init__(self,name,skill,experience,avgfeedback):\n",
        "    self.name = name\n",
        "    self.skill = skill\n",
        "    self.experience = experience\n",
        "    self.avgfeedback = avgfeedback\n",
        "    self.courses = ['datascience','python','react','english','statistics']\n",
        "  def check_eligibility(self):\n",
        "    if self.experience > 3 and self.avgfeedback >= 4.5:\n",
        "      return True\n",
        "    elif self.experience <= 3 and self.avgfeedback >= 4:\n",
        "      return True\n",
        "    else:\n",
        "      return False\n",
        "  def allocate_course(self):\n",
        "    if self.check_eligibility() == True:\n",
        "      for i in self.skill:\n",
        "        if i in self.courses:\n",
        "          return True\n",
        "        else:\n",
        "          return False\n"
      ]
    },
    {
      "cell_type": "code",
      "execution_count": null,
      "metadata": {
        "colab": {
          "base_uri": "https://localhost:8080/"
        },
        "id": "3aRy9RYBWdJs",
        "outputId": "90307b9f-4941-4ee8-9d09-ca77d9311a08"
      },
      "outputs": [
        {
          "data": {
            "text/plain": [
              "True"
            ]
          },
          "execution_count": 122,
          "metadata": {},
          "output_type": "execute_result"
        }
      ],
      "source": [
        "obj = TechWorld('dev',['python','datascience','ai'],5,4.5)\n",
        "obj.check_eligibility()"
      ]
    },
    {
      "cell_type": "markdown",
      "metadata": {
        "id": "QFXlGE60ApGa"
      },
      "source": [
        "### Write OOP classes to handle the following scenarios:\n",
        "\n",
        "- A user can create and view 2D coordinates\n",
        "- A user can find out the distance between 2 coordinates\n",
        "- A user can find find the distance of a coordinate from origin\n",
        "- A user can check if a point lies on a given line\n",
        "- A user can find the distance between a given 2D point and a given line"
      ]
    },
    {
      "cell_type": "code",
      "execution_count": null,
      "metadata": {
        "id": "OC6wvwTgArXj"
      },
      "outputs": [],
      "source": [
        "\n",
        "class Point:\n",
        "  def __init__(self,x,y):\n",
        "    self.x_cod = x\n",
        "    self.y_cod = y\n",
        "  def __str__(self):\n",
        "    return f'Coordinates : <{self.x_cod},{self.y_cod}>'\n",
        "  def euclidien_distance(self,other):\n",
        "    return ((self.x_cod - other.x_cod)**2 + (self.y_cod - other.y_cod)**2)**0.5\n",
        "  def distance_from_origin(self):\n",
        "       # return self.euclidean_distance(Point(0,0))\n",
        "    return self.euclidien_distance(Point(0,0))\n",
        "class Line:\n",
        "  def __init__(self,A,B,C):\n",
        "    self.A = A\n",
        "    self.B = B\n",
        "    self.C = C\n",
        "  def __str__(self):\n",
        "    return f'Line equation : {self.A}x + {self.B}y + {self.C} = 0'\n",
        "  def point_on_line(line,point):\n",
        "    if line.A * point.x_cod + line.B*point.y_cod + line.C == 0:\n",
        "      return \"lies on the line\"\n",
        "    else:\n",
        "      return \"doesnot lie on the line\"\n",
        "  def shortest_distance(line,point):\n",
        "    return  abs(line.A*point.x_cod + line.B*point.y_cod + line.C)/(line.A**2 + line.B**2)**0.5\n"
      ]
    },
    {
      "cell_type": "code",
      "execution_count": null,
      "metadata": {
        "colab": {
          "base_uri": "https://localhost:8080/"
        },
        "id": "rMYmmSTRB4zm",
        "outputId": "b56d467d-2f32-43f4-9fe1-ac2cc7eb9b8e"
      },
      "outputs": [
        {
          "data": {
            "text/plain": [
              "0.0"
            ]
          },
          "execution_count": 38,
          "metadata": {},
          "output_type": "execute_result"
        }
      ],
      "source": [
        "P1 = Point(0,0)\n",
        "P2 = Point(10,10)\n",
        "P1.euclidien_distance(P2)\n",
        "P1.distance_from_origin()"
      ]
    },
    {
      "cell_type": "code",
      "execution_count": null,
      "metadata": {
        "colab": {
          "base_uri": "https://localhost:8080/",
          "height": 36
        },
        "id": "3Fu07B2rGdUs",
        "outputId": "327932b2-2559-42a5-8916-c889888d64d0"
      },
      "outputs": [
        {
          "data": {
            "application/vnd.google.colaboratory.intrinsic+json": {
              "type": "string"
            },
            "text/plain": [
              "'lies on the line'"
            ]
          },
          "execution_count": 39,
          "metadata": {},
          "output_type": "execute_result"
        }
      ],
      "source": [
        "l1 = Line(1,1,-2)\n",
        "p1 = Point(1,1)\n",
        "l1.point_on_line(p1)"
      ]
    },
    {
      "cell_type": "code",
      "execution_count": null,
      "metadata": {
        "colab": {
          "base_uri": "https://localhost:8080/"
        },
        "id": "KZ54P16BKRb8",
        "outputId": "973f3e58-d77e-45b8-81ce-d694cd1f4ba7"
      },
      "outputs": [
        {
          "data": {
            "text/plain": [
              "0.0"
            ]
          },
          "execution_count": 40,
          "metadata": {},
          "output_type": "execute_result"
        }
      ],
      "source": [
        "l1.shortest_distance(p1)"
      ]
    },
    {
      "cell_type": "markdown",
      "metadata": {
        "id": "iN-sli_cK76O"
      },
      "source": [
        "### How objects access attributes"
      ]
    },
    {
      "cell_type": "code",
      "execution_count": null,
      "metadata": {
        "id": "1wbqUYivPAK5"
      },
      "outputs": [],
      "source": [
        "class Person:\n",
        "\n",
        "  def __init__(self,name_input,country_input):\n",
        "    self.name = name_input\n",
        "    self.country = country_input\n",
        "\n",
        "  def greet(self):\n",
        "    if self.country == 'india':\n",
        "      print('Namaste',self.name)\n",
        "    else:\n",
        "      print('Hello',self.name)"
      ]
    },
    {
      "cell_type": "code",
      "execution_count": null,
      "metadata": {
        "id": "FInb7etbPQAF"
      },
      "outputs": [],
      "source": [
        "#how to access attributes\n",
        "p = Person('veda','india')"
      ]
    },
    {
      "cell_type": "code",
      "execution_count": null,
      "metadata": {
        "colab": {
          "base_uri": "https://localhost:8080/",
          "height": 36
        },
        "id": "Xe3lXpFuPaqG",
        "outputId": "d2e32efe-289f-48c3-88b9-70176b481dc8"
      },
      "outputs": [
        {
          "data": {
            "application/vnd.google.colaboratory.intrinsic+json": {
              "type": "string"
            },
            "text/plain": [
              "'veda'"
            ]
          },
          "execution_count": 44,
          "metadata": {},
          "output_type": "execute_result"
        }
      ],
      "source": [
        "p.country\n",
        "p.name"
      ]
    },
    {
      "cell_type": "code",
      "execution_count": null,
      "metadata": {
        "colab": {
          "base_uri": "https://localhost:8080/"
        },
        "id": "wNvBDp8xPjX5",
        "outputId": "95873060-2922-47b3-ae05-73c032629034"
      },
      "outputs": [
        {
          "name": "stdout",
          "output_type": "stream",
          "text": [
            "Namaste veda\n"
          ]
        }
      ],
      "source": [
        "#how to access methods\n",
        "p.greet()"
      ]
    },
    {
      "cell_type": "markdown",
      "metadata": {
        "id": "wdzYRZJDPwm9"
      },
      "source": [
        "# Attribute creation outside the class"
      ]
    },
    {
      "cell_type": "markdown",
      "metadata": {
        "id": "s0COFbvjP8lw"
      },
      "source": [
        "using the object we can ceate attributes outside the class"
      ]
    },
    {
      "cell_type": "code",
      "execution_count": null,
      "metadata": {
        "id": "fxHdxYR3P0A5"
      },
      "outputs": [],
      "source": [
        "p.gender = 'male'"
      ]
    },
    {
      "cell_type": "code",
      "execution_count": null,
      "metadata": {
        "colab": {
          "base_uri": "https://localhost:8080/",
          "height": 36
        },
        "id": "6bPAp8KKP54w",
        "outputId": "8af3def1-f4a1-4972-b8e3-5d4e265b3b7f"
      },
      "outputs": [
        {
          "data": {
            "application/vnd.google.colaboratory.intrinsic+json": {
              "type": "string"
            },
            "text/plain": [
              "'male'"
            ]
          },
          "execution_count": 47,
          "metadata": {},
          "output_type": "execute_result"
        }
      ],
      "source": [
        "p.gender"
      ]
    },
    {
      "cell_type": "markdown",
      "metadata": {
        "id": "onaO3AGYQBoj"
      },
      "source": [
        "### Reference Variables\n",
        "\n",
        "- Reference variables hold the objects\n",
        "- We can create objects without reference variable as well\n",
        "- An object can have multiple reference variables\n",
        "- Assigning a new reference variable to an existing object does not create a new object"
      ]
    },
    {
      "cell_type": "code",
      "execution_count": null,
      "metadata": {
        "id": "Nn5cLDEqQE_B"
      },
      "outputs": [],
      "source": [
        "class Person:\n",
        "  def __init__(self):\n",
        "    self.name = 'veda'\n",
        "    self.gender = 'male'\n",
        "p  = Person() #p is the reference variable that store the addressof object\n",
        "q = p"
      ]
    },
    {
      "cell_type": "code",
      "execution_count": null,
      "metadata": {
        "colab": {
          "base_uri": "https://localhost:8080/"
        },
        "id": "DzLLMzJ5RzJF",
        "outputId": "25729766-0a02-4783-dfe5-6be61a4b31c5"
      },
      "outputs": [
        {
          "name": "stdout",
          "output_type": "stream",
          "text": [
            "veda\n",
            "veda\n",
            "raka\n",
            "raka\n"
          ]
        }
      ],
      "source": [
        "#change attribute value with the help of 2nd object\n",
        "print(p.name)\n",
        "print(q.name)\n",
        "q.name = 'raka'\n",
        "print(p.name)\n",
        "print(q.name)"
      ]
    },
    {
      "cell_type": "markdown",
      "metadata": {
        "id": "SW8WvjrKSxQs"
      },
      "source": [
        "### Pass by reference"
      ]
    },
    {
      "cell_type": "code",
      "execution_count": null,
      "metadata": {
        "colab": {
          "base_uri": "https://localhost:8080/"
        },
        "id": "eDHb-ohzS2SV",
        "outputId": "e164c30b-f048-498e-e55b-e9f963028d97"
      },
      "outputs": [
        {
          "name": "stdout",
          "output_type": "stream",
          "text": [
            "hiiiiiiiii dev gender male\n",
            "<__main__.Person object at 0x7e5a66be35e0>\n",
            "ankit\n",
            "male\n"
          ]
        }
      ],
      "source": [
        "class Person:\n",
        "  def __init__(self,name,gender):\n",
        "    self.name = name\n",
        "    self.gender = gender\n",
        "def greet(person):\n",
        "  print(\"hiiiiiiiii\",person.name,'gender',person.gender)\n",
        "  p1 = Person('ankit','male')\n",
        "  return p1\n",
        "p  = Person('dev','male')\n",
        "x = greet(p)\n",
        "print(x.name)\n",
        "print(x.gender)"
      ]
    },
    {
      "cell_type": "code",
      "execution_count": null,
      "metadata": {
        "colab": {
          "base_uri": "https://localhost:8080/"
        },
        "id": "WKwcug4SUG8W",
        "outputId": "7ce6e3b1-c4a4-4df6-8389-12c363f58339"
      },
      "outputs": [
        {
          "name": "stdout",
          "output_type": "stream",
          "text": [
            "138926735890784\n",
            "138926735890784\n",
            "veda\n"
          ]
        }
      ],
      "source": [
        "class Person:\n",
        "  def __init__(self,name,gender):\n",
        "    self.name = name\n",
        "    self.gender = gender\n",
        "def greet(person):\n",
        "  #print(\"hiiiiiiiii\",person.name,'gender',person.gender)\n",
        "  print(id(person))\n",
        "p = Person('veda','male')\n",
        "print(id(p))\n",
        "greet(p)\n",
        "print(p.name)"
      ]
    },
    {
      "cell_type": "markdown",
      "metadata": {
        "id": "5HSiK7SOb8AT"
      },
      "source": [
        "mutability of object"
      ]
    },
    {
      "cell_type": "code",
      "execution_count": null,
      "metadata": {
        "colab": {
          "base_uri": "https://localhost:8080/"
        },
        "id": "nIDaVM9Rb-95",
        "outputId": "e9bdda74-7da7-4f69-f3a2-34f7755f0685"
      },
      "outputs": [
        {
          "name": "stdout",
          "output_type": "stream",
          "text": [
            "138926733100896\n",
            "138926733100896\n",
            "ankit\n"
          ]
        }
      ],
      "source": [
        "class Person:\n",
        "  def __init__(self,name,gender):\n",
        "    self.name = name\n",
        "    self.gender = gender\n",
        "def greet(person):\n",
        "  person.name = 'ankit'\n",
        "  return person\n",
        "p = Person('dev','male')\n",
        "print(id(p))\n",
        "p1 = greet(p)\n",
        "print(id(p1))\n",
        "print(p.name)"
      ]
    },
    {
      "cell_type": "markdown",
      "metadata": {
        "id": "0fQ1IZhEdUTM"
      },
      "source": [
        "## Encapsulation\n",
        "wrapping around of data into a single unit , bundling of data and methods into a single unit"
      ]
    },
    {
      "cell_type": "markdown",
      "metadata": {
        "id": "edSonumTelqU"
      },
      "source": [
        "instance variable : It is a special variable where its value depends on the object"
      ]
    },
    {
      "cell_type": "code",
      "execution_count": null,
      "metadata": {
        "id": "V1udyhh6eMkV"
      },
      "outputs": [],
      "source": [
        "class Person:\n",
        "\n",
        "  def __init__(self,name_input,country_input):\n",
        "    self.name = name_input\n",
        "    self.country = country_input\n",
        "\n",
        "p1 = Person('nitish','india')\n",
        "p2 = Person('steve','australia')"
      ]
    },
    {
      "cell_type": "code",
      "execution_count": null,
      "metadata": {
        "colab": {
          "base_uri": "https://localhost:8080/",
          "height": 36
        },
        "id": "r5A3z_JpdX05",
        "outputId": "695d984b-19d2-4fb9-c016-5ef4990014a7"
      },
      "outputs": [
        {
          "data": {
            "application/vnd.google.colaboratory.intrinsic+json": {
              "type": "string"
            },
            "text/plain": [
              "'nitish'"
            ]
          },
          "execution_count": 62,
          "metadata": {},
          "output_type": "execute_result"
        }
      ],
      "source": [
        "p1.name"
      ]
    },
    {
      "cell_type": "code",
      "execution_count": null,
      "metadata": {
        "colab": {
          "base_uri": "https://localhost:8080/",
          "height": 36
        },
        "id": "QDliP2WIfTIQ",
        "outputId": "06a758c5-f80a-4aae-b176-0eeb9c875875"
      },
      "outputs": [
        {
          "data": {
            "application/vnd.google.colaboratory.intrinsic+json": {
              "type": "string"
            },
            "text/plain": [
              "'steve'"
            ]
          },
          "execution_count": 63,
          "metadata": {},
          "output_type": "execute_result"
        }
      ],
      "source": [
        "p2.name"
      ]
    },
    {
      "cell_type": "code",
      "execution_count": null,
      "metadata": {
        "id": "sv7UD0KEfhX5"
      },
      "outputs": [],
      "source": [
        "class Atm:\n",
        "    def __init__(self):  # Automatically invoked when an object is created\n",
        "        self.pin = ''\n",
        "        self.balance = 0\n",
        "        #self.menu()\n",
        "\n",
        "    def menu(self):\n",
        "        user_input = input('''\n",
        "        Hi, how can I help you?\n",
        "        1. Press 1 to create pin\n",
        "        2. Press 2 to change pin\n",
        "        3. Press 3 to check for balance\n",
        "        4. Press 4 to withdraw\n",
        "        5. Anything else to exit\n",
        "                  ''')\n",
        "        if user_input == '1':\n",
        "            self.create_pin()\n",
        "        elif user_input == '2':\n",
        "            self.change_pin()\n",
        "        elif user_input == '3':\n",
        "            self.check_balance()\n",
        "        elif user_input == '4':\n",
        "            self.withdraw()\n",
        "        else:\n",
        "            quit()\n",
        "\n",
        "    def create_pin(self):\n",
        "        user_pin = int(input(\"Enter your pin: \"))\n",
        "        self.pin = user_pin\n",
        "        user_balance = int(input(\"Enter the balance: \"))\n",
        "        self.balance = user_balance\n",
        "        print(\"Pin created successfully.\")\n",
        "        self.menu()\n",
        "\n",
        "    def change_pin(self):\n",
        "        pin = int(input(\"enter your current pin : \"))\n",
        "        if pin == self.pin:\n",
        "            change_pin = int(input(\"enter the new pin : \"))\n",
        "            self.pin = change_pin\n",
        "            print(\"PIN changed successfully\")\n",
        "            self.menu()\n",
        "        else:\n",
        "            print(\"wrong pin\")\n",
        "            self.menu()\n",
        "\n",
        "    def check_balance(self):\n",
        "      pin = int(input(\"enter your current pin : \"))\n",
        "      if pin == self.pin:\n",
        "          print('your balance is ',self.balance)\n",
        "          self.menu()\n",
        "      else:\n",
        "        print(\"wrong pin\")\n",
        "        self.menu()\n",
        "    def withdraw(self):\n",
        "      user_pin = input(\"enter the pin\")\n",
        "      if user_pin == self.pin:\n",
        "        amount  = int(input(\"enter the amount\"))\n",
        "        if amount <= self.balance:\n",
        "          self.balance = self.balance - amount\n",
        "          print('withdrawl succcessful | balance is',self.balance)\n",
        "          self.menu()\n",
        "        else:\n",
        "           print('insufficent balance')\n",
        "      else:\n",
        "        print(\"wrong pin\")"
      ]
    },
    {
      "cell_type": "code",
      "execution_count": null,
      "metadata": {
        "id": "r8Jj-TBZf3tH"
      },
      "outputs": [],
      "source": [
        "obj = Atm()"
      ]
    },
    {
      "cell_type": "code",
      "execution_count": null,
      "metadata": {
        "id": "AsFwm_eNga1G"
      },
      "outputs": [],
      "source": [
        "obj.balance  = 'hehehehee'"
      ]
    },
    {
      "cell_type": "code",
      "execution_count": null,
      "metadata": {
        "id": "kthBWlUKRm1j"
      },
      "outputs": [],
      "source": []
    },
    {
      "cell_type": "markdown",
      "metadata": {
        "id": "2zN_yVYaf0_1"
      },
      "source": [
        "### Collection of objects"
      ]
    },
    {
      "cell_type": "code",
      "execution_count": null,
      "metadata": {
        "id": "UN7FByT3LZSX"
      },
      "outputs": [],
      "source": []
    },
    {
      "cell_type": "code",
      "execution_count": null,
      "metadata": {
        "colab": {
          "base_uri": "https://localhost:8080/"
        },
        "id": "VdP0aR6Qf4zp",
        "outputId": "72deb00b-deae-4536-da36-2bae44d2245c"
      },
      "outputs": [
        {
          "name": "stdout",
          "output_type": "stream",
          "text": [
            "nitish male\n",
            "ankit male\n",
            "ankita female\n"
          ]
        }
      ],
      "source": [
        "# list of objects\n",
        "class Person:\n",
        "\n",
        "  def __init__(self,name,gender):\n",
        "    self.name = name\n",
        "    self.gender = gender\n",
        "\n",
        "p1 = Person('nitish','male')\n",
        "p2 = Person('ankit','male')\n",
        "p3 = Person('ankita','female')\n",
        "\n",
        "L = [p1,p2,p3]\n",
        "\n",
        "for i in L:\n",
        "  print(i.name,i.gender)"
      ]
    },
    {
      "cell_type": "code",
      "execution_count": null,
      "metadata": {
        "colab": {
          "base_uri": "https://localhost:8080/"
        },
        "id": "uARXTZTCvt3M",
        "outputId": "18e100f5-07a5-43df-d0d9-482ce648f6f5"
      },
      "outputs": [
        {
          "name": "stdout",
          "output_type": "stream",
          "text": [
            "male\n",
            "male\n",
            "female\n"
          ]
        }
      ],
      "source": [
        "# dict of objects\n",
        "# list of objects\n",
        "class Person:\n",
        "\n",
        "  def __init__(self,name,gender):\n",
        "    self.name = name\n",
        "    self.gender = gender\n",
        "\n",
        "p1 = Person('nitish','male')\n",
        "p2 = Person('ankit','male')\n",
        "p3 = Person('ankita','female')\n",
        "\n",
        "d = {'p1':p1,'p2':p2,'p3':p3}\n",
        "\n",
        "for i in d:\n",
        "  print(d[i].gender)"
      ]
    },
    {
      "cell_type": "markdown",
      "metadata": {
        "id": "TKdM9xIFf8Lt"
      },
      "source": [
        "### Static Variables(Vs Instance variables)"
      ]
    },
    {
      "cell_type": "code",
      "execution_count": null,
      "metadata": {
        "id": "yQakCFqbf-kB"
      },
      "outputs": [],
      "source": [
        "# need for static vars"
      ]
    },
    {
      "cell_type": "code",
      "execution_count": null,
      "metadata": {
        "id": "5HYjBHv9wZNm"
      },
      "outputs": [],
      "source": [
        "class Atm:\n",
        "\n",
        "  __counter = 1\n",
        "\n",
        "  # constructor(special function)->superpower ->\n",
        "  def __init__(self):\n",
        "    print(id(self))\n",
        "    self.pin = ''\n",
        "    self.__balance = 0\n",
        "    self.cid = Atm.__counter\n",
        "    Atm.__counter = Atm.__counter + 1\n",
        "    #self.menu()\n",
        "\n",
        "  # utility functions\n",
        "  @staticmethod\n",
        "  def get_counter():\n",
        "    return Atm.__counter\n",
        "\n",
        "\n",
        "  def get_balance(self):\n",
        "    return self.__balance\n",
        "\n",
        "  def set_balance(self,new_value):\n",
        "    if type(new_value) == int:\n",
        "      self.__balance = new_value\n",
        "    else:\n",
        "      print('beta bahot maarenge')\n",
        "\n",
        "  def __menu(self):\n",
        "    user_input = input(\"\"\"\n",
        "    Hi how can I help you?\n",
        "    1. Press 1 to create pin\n",
        "    2. Press 2 to change pin\n",
        "    3. Press 3 to check balance\n",
        "    4. Press 4 to withdraw\n",
        "    5. Anything else to exit\n",
        "    \"\"\")\n",
        "\n",
        "    if user_input == '1':\n",
        "      self.create_pin()\n",
        "    elif user_input == '2':\n",
        "      self.change_pin()\n",
        "    elif user_input == '3':\n",
        "      self.check_balance()\n",
        "    elif user_input == '4':\n",
        "      self.withdraw()\n",
        "    else:\n",
        "      exit()\n",
        "\n",
        "  def create_pin(self):\n",
        "    user_pin = input('enter your pin')\n",
        "    self.pin = user_pin\n",
        "\n",
        "    user_balance = int(input('enter balance'))\n",
        "    self.__balance = user_balance\n",
        "\n",
        "    print('pin created successfully')\n",
        "\n",
        "  def change_pin(self):\n",
        "    old_pin = input('enter old pin')\n",
        "\n",
        "    if old_pin == self.pin:\n",
        "      # let him change the pin\n",
        "      new_pin = input('enter new pin')\n",
        "      self.pin = new_pin\n",
        "      print('pin change successful')\n",
        "    else:\n",
        "      print('nai karne de sakta re baba')\n",
        "\n",
        "  def check_balance(self):\n",
        "    user_pin = input('enter your pin')\n",
        "    if user_pin == self.pin:\n",
        "      print('your balance is ',self.__balance)\n",
        "    else:\n",
        "      print('chal nikal yahan se')\n",
        "\n",
        "  def withdraw(self):\n",
        "    user_pin = input('enter the pin')\n",
        "    if user_pin == self.pin:\n",
        "      # allow to withdraw\n",
        "      amount = int(input('enter the amount'))\n",
        "      if amount <= self.__balance:\n",
        "        self.__balance = self.__balance - amount\n",
        "        print('withdrawl successful.balance is',self.__balance)\n",
        "      else:\n",
        "        print('abe garib')\n",
        "    else:\n",
        "      print('sale chor')"
      ]
    },
    {
      "cell_type": "code",
      "execution_count": null,
      "metadata": {
        "colab": {
          "base_uri": "https://localhost:8080/"
        },
        "id": "uafMrCPewZWY",
        "outputId": "b0c914a4-b08b-4aa0-ebcb-9f1b4bacd0ba"
      },
      "outputs": [
        {
          "name": "stdout",
          "output_type": "stream",
          "text": [
            "140655538287248\n"
          ]
        }
      ],
      "source": [
        "c1 = Atm()"
      ]
    },
    {
      "cell_type": "code",
      "execution_count": null,
      "metadata": {
        "colab": {
          "base_uri": "https://localhost:8080/"
        },
        "id": "f35wRAlXwZa7",
        "outputId": "a7a897b2-8262-45b7-b83a-aad207ee102f"
      },
      "outputs": [
        {
          "data": {
            "text/plain": [
              "2"
            ]
          },
          "execution_count": 128,
          "metadata": {},
          "output_type": "execute_result"
        }
      ],
      "source": [
        "Atm.get_counter()"
      ]
    },
    {
      "cell_type": "code",
      "execution_count": null,
      "metadata": {
        "colab": {
          "base_uri": "https://localhost:8080/"
        },
        "id": "WiCrLBgGTseq",
        "outputId": "9019d462-0b46-4a9d-8837-6a3c31591ad4"
      },
      "outputs": [
        {
          "name": "stdout",
          "output_type": "stream",
          "text": [
            "140655538226704\n"
          ]
        }
      ],
      "source": [
        "c3 = Atm()"
      ]
    },
    {
      "cell_type": "code",
      "execution_count": null,
      "metadata": {
        "colab": {
          "base_uri": "https://localhost:8080/"
        },
        "id": "YwPU4wRYTuoK",
        "outputId": "cb34a43c-1337-412f-c7ee-e6a2eccd9066"
      },
      "outputs": [
        {
          "data": {
            "text/plain": [
              "3"
            ]
          },
          "execution_count": 121,
          "metadata": {},
          "output_type": "execute_result"
        }
      ],
      "source": [
        "c3.cid"
      ]
    },
    {
      "cell_type": "code",
      "execution_count": null,
      "metadata": {
        "colab": {
          "base_uri": "https://localhost:8080/"
        },
        "id": "-shiIdW1Vmzd",
        "outputId": "2e1b0468-2e2f-4061-d219-6ee4d818ceea"
      },
      "outputs": [
        {
          "data": {
            "text/plain": [
              "4"
            ]
          },
          "execution_count": 122,
          "metadata": {},
          "output_type": "execute_result"
        }
      ],
      "source": [
        "Atm.counter"
      ]
    },
    {
      "cell_type": "markdown",
      "metadata": {
        "id": "K9bxHyfBgC3Y"
      },
      "source": [
        "### Static methods"
      ]
    },
    {
      "cell_type": "markdown",
      "metadata": {
        "id": "Izqb_9FtwoIZ"
      },
      "source": [
        "##### Points to remember about static\n",
        "\n",
        "- Static attributes are created at class level.\n",
        "- Static attributes are accessed using ClassName.\n",
        "- Static attributes are object independent. We can access them without creating instance (object) of the class in which they are defined.\n",
        "- The value stored in static attribute is shared between all instances(objects) of the class in which the static attribute is defined."
      ]
    },
    {
      "cell_type": "code",
      "execution_count": null,
      "metadata": {
        "id": "3u0RdyaFwyaP"
      },
      "outputs": [],
      "source": [
        "class Lion:\n",
        "  __water_source=\"well in the circus\"\n",
        "\n",
        "  def __init__(self,name, gender):\n",
        "      self.__name=name\n",
        "      self.__gender=gender\n",
        "\n",
        "  def drinks_water(self):\n",
        "      print(self.__name,\n",
        "      \"drinks water from the\",Lion.__water_source)\n",
        "\n",
        "  @staticmethod\n",
        "  def get_water_source():\n",
        "      return Lion.__water_source\n",
        "\n",
        "simba=Lion(\"Simba\",\"Male\")\n",
        "simba.drinks_water()\n",
        "print( \"Water source of lions:\",Lion.get_water_source())"
      ]
    },
    {
      "cell_type": "code",
      "execution_count": null,
      "metadata": {
        "id": "1BYeQmiiSyYE"
      },
      "outputs": [],
      "source": []
    },
    {
      "cell_type": "markdown",
      "metadata": {
        "id": "f516p975CFjQ"
      },
      "source": [
        "###`Q1:`Count number of instances of a class created in Python?\n",
        "\n",
        "Example:\n",
        "Say `Car` is any class.\n",
        "```\n",
        "maruti = Car()\n",
        "bmw = Car()\n",
        "honda = Car()\n",
        "```\n",
        "So after creating above instances. We want to count how many instances are created of Car class.\n",
        "\n",
        "For above example `no of instances = 3`.\n",
        "\n",
        "Write a program for above problem.\n"
      ]
    },
    {
      "cell_type": "code",
      "execution_count": null,
      "metadata": {
        "colab": {
          "base_uri": "https://localhost:8080/"
        },
        "id": "nhyUP8nOC_-h",
        "outputId": "c17b8249-90e3-4f04-fe5a-2e250c5194fa"
      },
      "outputs": [
        {
          "name": "stdout",
          "output_type": "stream",
          "text": [
            "2\n"
          ]
        }
      ],
      "source": [
        "class Car:\n",
        "  __counter = 0\n",
        "  def __init__(self):\n",
        "    Car.__counter +=1\n",
        "  def get_counter():\n",
        "    return Car.__counter\n",
        "\n",
        "obj = Car()\n",
        "ob1 = Car()\n",
        "print(Car.get_counter())"
      ]
    },
    {
      "cell_type": "markdown",
      "metadata": {
        "id": "i-VcDbyhH6_v"
      },
      "source": [
        "###`Q-2:` Create a deck of cards class. Internally, the deck of cards should use another class, a card class. Your requirements are:\n",
        "\n",
        "* The `Deck` class should have a deal method to deal a single card from the deck\n",
        "* After a card is dealt, it is removed from the deck.\n",
        "* There should be a shuffle method which makes sure the deck of cards has all 52 cards and then rearranges them randomly.\n",
        "* The Card class should have a suit (Hearts, Diamonds, Clubs, Spades) and a value (A,2,3,4,5,6,7,8,9,10,J,Q,K)\n",
        "\n",
        "`Deck` Class\n",
        "* It is class of all possible cards in a deck. Total 52 cards.\n",
        "* Methods - `deal()` it will take out one card from the deck of cards.\n",
        "* Deck of cards should get shuffeled while creating the deck object.\n",
        "* `no of cards remaining in deck - <number>` should dsiplay on printing any deck object.\n",
        "\n",
        "`Card` class\n",
        "* It is a class of card\n",
        "* Atrributes - `suit` and `value`\n",
        "* `<suit> of <value>` should dsiplay on printing any card object."
      ]
    },
    {
      "cell_type": "code",
      "execution_count": null,
      "metadata": {
        "id": "HkfAIQxWIACu"
      },
      "outputs": [],
      "source": [
        "import random\n",
        "class Card:\n",
        "  def __init__(self,suit,value):\n",
        "    self.suit = suit\n",
        "    self.value = value\n",
        "  def __repr__(self):\n",
        "    return f\"{self.suit,self.value}\"\n",
        "class Deck:\n",
        "\n",
        "  def __init__(self):\n",
        "     self.suit = ['Hearts','Diamonds','Clubs','Spades']\n",
        "     self.value = ['A','2','3','4','5','6','7','8','9','10','J','K','Q']\n",
        "     self.cards = [Card(suit,value) for suit in self.suit for value in self.value]\n",
        "     print(self.cards)\n",
        "  def __str__(self):\n",
        "    return f\"cards left : {len(self.cards)}\"\n",
        "  def shuffle(self):\n",
        "    if len(self.cards) < 52:\n",
        "       print(' can only shufffle full deck of cards')\n",
        "    else:\n",
        "      random.shuffle(self.cards)\n",
        "    return self.cards\n",
        "  def deal(self):\n",
        "    if len(self.cards) == 0:\n",
        "      print(\"all cards had been dealt\")\n",
        "    return self.cards.pop()"
      ]
    },
    {
      "cell_type": "code",
      "execution_count": null,
      "metadata": {
        "colab": {
          "base_uri": "https://localhost:8080/"
        },
        "id": "w3qjvOPS5Jz-",
        "outputId": "4f18e025-7d7c-45eb-d771-a739f1de7616"
      },
      "outputs": [
        {
          "name": "stdout",
          "output_type": "stream",
          "text": [
            "[('Hearts', 'A'), ('Hearts', '2'), ('Hearts', '3'), ('Hearts', '4'), ('Hearts', '5'), ('Hearts', '6'), ('Hearts', '7'), ('Hearts', '8'), ('Hearts', '9'), ('Hearts', '10'), ('Hearts', 'J'), ('Hearts', 'K'), ('Hearts', 'Q'), ('Diamonds', 'A'), ('Diamonds', '2'), ('Diamonds', '3'), ('Diamonds', '4'), ('Diamonds', '5'), ('Diamonds', '6'), ('Diamonds', '7'), ('Diamonds', '8'), ('Diamonds', '9'), ('Diamonds', '10'), ('Diamonds', 'J'), ('Diamonds', 'K'), ('Diamonds', 'Q'), ('Clubs', 'A'), ('Clubs', '2'), ('Clubs', '3'), ('Clubs', '4'), ('Clubs', '5'), ('Clubs', '6'), ('Clubs', '7'), ('Clubs', '8'), ('Clubs', '9'), ('Clubs', '10'), ('Clubs', 'J'), ('Clubs', 'K'), ('Clubs', 'Q'), ('Spades', 'A'), ('Spades', '2'), ('Spades', '3'), ('Spades', '4'), ('Spades', '5'), ('Spades', '6'), ('Spades', '7'), ('Spades', '8'), ('Spades', '9'), ('Spades', '10'), ('Spades', 'J'), ('Spades', 'K'), ('Spades', 'Q')]\n",
            "('Diamonds', '2')\n",
            "('Hearts', '8')\n",
            "cards left : 50\n"
          ]
        }
      ],
      "source": [
        "deck = Deck()\n",
        "deck.shuffle()\n",
        "print(deck.deal())\n",
        "print(deck.deal())\n",
        "print(deck)"
      ]
    },
    {
      "cell_type": "markdown",
      "metadata": {
        "id": "RlF_O6-vPm5h"
      },
      "source": [
        "### `Q-3`: Find the area of a rectangle.\n",
        "\n",
        "Approach:\n",
        "- The class name should be _Rectangle_.\n",
        "- The constructor should accept two parameters *length* and *height* but you can't pass the values directly to it while creating the constructor. E.g., rectangle = Rectangle(length=10, height=8) <-- you can't do that while creating the instances.\n",
        "- Create a method called *area()* which has no parameters.\n",
        "- Create a method called *is_square()* which also has no parameters. Return True if the rectangle is a square otherwise return False.\n",
        "- If you are using a if-else block inside the *is_square()* method, then use the one-linear syntax."
      ]
    },
    {
      "cell_type": "code",
      "execution_count": null,
      "metadata": {
        "colab": {
          "base_uri": "https://localhost:8080/"
        },
        "id": "gq0Va2yzI2v0",
        "outputId": "da78e063-cd9f-4069-e69b-20b7aeedb221"
      },
      "outputs": [
        {
          "name": "stdout",
          "output_type": "stream",
          "text": [
            "6\n",
            "False\n"
          ]
        }
      ],
      "source": [
        "class Rectangle:\n",
        "  def __init__(self,l,b):\n",
        "    self.length = l\n",
        "    self.breadth = b\n",
        "  @classmethod\n",
        "  def property(cls,len,bre):\n",
        "    return cls(len,bre)\n",
        "  def area(self):\n",
        "    return self.length * self.breadth\n",
        "  def is_square(self):\n",
        "    if self.length == self.breadth:\n",
        "      return True\n",
        "    else:\n",
        "       return False\n",
        "\n",
        "r = Rectangle.property(2,3)\n",
        "print(r.area())\n",
        "print(r.is_square())"
      ]
    },
    {
      "cell_type": "markdown",
      "metadata": {
        "id": "MTUD_eMqVKEq"
      },
      "source": [
        "### `Q-4`: Problem 4\n",
        "\n",
        "**Statement:** Write a program that uses datetime module within a class. Enter manufacturing date and expiry date of the product. The program must display the years, months and days that are left for expiry."
      ]
    },
    {
      "cell_type": "code",
      "execution_count": null,
      "metadata": {
        "colab": {
          "base_uri": "https://localhost:8080/"
        },
        "id": "fwVd0HYkR5xJ",
        "outputId": "f8df9417-a7f5-4989-ffcd-3a3cc08fa9d1"
      },
      "outputs": [
        {
          "name": "stdout",
          "output_type": "stream",
          "text": [
            "enter the manufacture date in MM/DD/YYYY : 12/12/2024\n",
            "enter the manufacture date in MM/DD/YYYY : 12/30/2024\n",
            "1 day, 0:00:00\n"
          ]
        }
      ],
      "source": [
        "import datetime\n",
        "class Product:\n",
        "  def __init__(self):\n",
        "    self.manufacture_date = input(\"enter the manufacture date in MM/DD/YYYY : \")\n",
        "    self.expiring_date = input(\"enter the manufacture date in MM/DD/YYYY : \")\n",
        "\n",
        "    self.manufacture_date = datetime.datetime.strptime(self.manufacture_date,'%m/%d/%Y')\n",
        "    self.expiring_date = datetime.datetime.strptime(self.expiring_date,'%m/%d/%Y')\n",
        "  def time_to_expire(self):\n",
        "      today = datetime.datetime.now()\n",
        "      if today > self.expiring_date:\n",
        "        print(\"product expired already!!\")\n",
        "      else:\n",
        "        time_left = self.expiring_date.date() - today.date()\n",
        "        print(time_left)\n",
        "obj = Product()\n",
        "obj.time_to_expire()\n"
      ]
    },
    {
      "cell_type": "markdown",
      "metadata": {
        "id": "o5k2A5DvYu9p"
      },
      "source": [
        "### `Q-5:` Problem 5\n",
        "\n",
        "**Statement:** A university wants to automate their admission process. Students are admitted based on the marks scored in the qualifying exam. A student is identified by student id, age and marks in qualifying exam. Data are valid, if:\n",
        "- Age is greater than 20\n",
        "- Marks is between 0 and 100 (both inclusive)\n",
        "\n",
        "A student qualifies for admission, if\n",
        "- Age and marks are valid and\n",
        "- Marks is 65 or more\n",
        "\n",
        "Write a python program to represent the students seeking admission in the university. The details of student class are given below.\n",
        "\n",
        "![image-1.png](data:image/png;base64,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)\n"
      ]
    },
    {
      "cell_type": "code",
      "execution_count": null,
      "metadata": {
        "colab": {
          "base_uri": "https://localhost:8080/"
        },
        "id": "LtMxHmIWDc1Q",
        "outputId": "a35775f5-0925-4ac9-de18-bff8775f9ce9"
      },
      "outputs": [
        {
          "name": "stdout",
          "output_type": "stream",
          "text": [
            "123\n",
            "69\n",
            "25\n",
            "True\n",
            "True\n",
            "True\n"
          ]
        }
      ],
      "source": [
        "class Student:\n",
        "  def __init__(self):\n",
        "    self.__student_id = None\n",
        "    self.__marks = None\n",
        "    self.__age = None\n",
        "  def set_sid(self,sid):\n",
        "    self.__student_id = sid\n",
        "  def set_smarks(self,marks):\n",
        "    self.__marks = marks\n",
        "  def set_age(self,age):\n",
        "    self.__age = age\n",
        "  def get_sid(self):\n",
        "    return self.__student_id\n",
        "  def get_marks(self):\n",
        "    return self.__marks\n",
        "  def get_age(self):\n",
        "    return self.__age\n",
        "\n",
        "  def validate_marks(self):\n",
        "    if  0<self.__marks<100:\n",
        "      return True\n",
        "    else:\n",
        "      return False\n",
        "  def validate_age(self):\n",
        "    if self.__age > 20 :\n",
        "      return True\n",
        "    else:\n",
        "      return False\n",
        "  def check_qualifications(self):\n",
        "    if self.validate_marks and self.validate_age and self.__marks>=65:\n",
        "      return True\n",
        "    else:\n",
        "      return False\n",
        "st1 = Student()\n",
        "st1.set_sid(123)\n",
        "st1.set_smarks(69)\n",
        "st1.set_age(25)\n",
        "print(st1.get_sid())\n",
        "print(st1.get_marks())\n",
        "print(st1.get_age())\n",
        "print(st1.validate_marks())\n",
        "print(st1.validate_age())\n",
        "print(st1.check_qualifications())"
      ]
    },
    {
      "cell_type": "markdown",
      "metadata": {
        "id": "Ierw5X_80bre"
      },
      "source": [
        "###`Q-6:` Ice-Cream Scoops and Bowl shop\n",
        "\n",
        "1. Create a class `Scoop` which has one public property `flavor` and one private proptery `price`. Take `flavor` values during object creation.\n",
        "2. Create a class `Bowl` with private prperty `scoop_list` which will have list of scoopd object.\n",
        "3. Create a method `add_scoops` in `Bowl` class which will add any no of `Scoop` objects given as parameter and store it in `scoops_list`.\n",
        "4. Make getter and setter method for `price` property.\n",
        "5. Make a method `display` to display `flavour` and `price` of each `Scoop` in `scoop_list` and print total price of the bowl by adding all flavour scoops prices.\n",
        "\n",
        "6. Make a method `sold` in both `Scoop` class and `Bowl` class to print no of quantity sold.\n",
        "\n",
        "\n",
        "\n"
      ]
    },
    {
      "cell_type": "markdown",
      "metadata": {
        "id": "eTkOpPvQHnP0"
      },
      "source": [
        "Ex.-\n",
        "```\n",
        "choco = Scoop('chocolate')\n",
        "print(choco)\n",
        "choco.set_price(100)\n",
        "\n",
        "berry = Scoop('berry')\n",
        "berry.set_price(120)\n",
        "print(berry)\n",
        "\n",
        "vanilla = Scoop('vanilla')\n",
        "vanilla.set_price(150)\n",
        "\n",
        "bowl = Bowl()\n",
        "\n",
        "bowl.add_scoops(choco) # Giving one parameter\n",
        "bowl.add_scoops(berry, vanilla) # Multiple\n",
        "# add_scoops should handle both scenerios\n",
        "\n",
        "print(bowl)\n",
        "\n",
        "bowl.display()\n",
        "\n",
        "Scoop.sold()\n",
        "Bowl.sold()\n",
        "\n",
        "```\n",
        "\n",
        "`Output`\n",
        "```\n",
        "Flavor - chocolate Price - None\n",
        "Flavor - berry Price - 120\n",
        "chocolate\n",
        "berry\n",
        "vanilla\n",
        "Dsiplaying Bowl\n",
        "Flavor - chocolate Price - 100\n",
        "Flavor - berry Price - 120\n",
        "Flavor - vanilla Price - 150\n",
        "Price of Bowl - 370\n",
        "3 scoops sold\n",
        "1 bowls sold\n",
        "\n",
        "```"
      ]
    },
    {
      "cell_type": "code",
      "execution_count": null,
      "metadata": {
        "id": "R4CrDRBIPkeS"
      },
      "outputs": [],
      "source": [
        "class Scoop:\n",
        "    __counter = 0\n",
        "    def __init__(self,flavour):\n",
        "        self.flavour = flavour\n",
        "        self.__price = None\n",
        "        Scoop.__counter += 1\n",
        "\n",
        "    def __str__(self):\n",
        "        return f\"Flavour : {self.flavour} Price : {self.__price}\"\n",
        "    def set_price(self,price):\n",
        "        self.__price = price\n",
        "    def get_price(self):\n",
        "        return self.__price\n",
        "    @staticmethod\n",
        "    def sold():\n",
        "        return Scoop.__counter\n",
        "\n",
        "class Bowl:\n",
        "    __counter = 0\n",
        "    def __init__(self):\n",
        "        self.__scoop_list = []\n",
        "        Bowl.__counter +=1\n",
        "    def add_scoops(self,*newscoop):\n",
        "        for scoop in newscoop:\n",
        "            self.__scoop_list.append(scoop)\n",
        "\n",
        "    def display(self):\n",
        "        print(\"displaying bowl\")\n",
        "        total = 0\n",
        "        for scoop in self.__scoop_list:\n",
        "            print(scoop)\n",
        "            total = total + scoop.get_price()\n",
        "        print(\"price of the bowl : \",total)\n",
        "    @staticmethod\n",
        "    def sold():\n",
        "        return Bowl.__counter\n"
      ]
    },
    {
      "cell_type": "code",
      "execution_count": null,
      "metadata": {
        "id": "lCtNeE5fUi5i",
        "outputId": "b22c8b73-7a89-49e1-fa1a-0da661e5f0bd"
      },
      "outputs": [
        {
          "name": "stdout",
          "output_type": "stream",
          "text": [
            "Flavour : chocolate Price : None\n",
            "Flavour : berry Price : 120\n",
            "<__main__.Bowl object at 0x0000029787961630>\n",
            "displaying bowl\n",
            "Flavour : chocolate Price : 100\n",
            "Flavour : berry Price : 120\n",
            "Flavour : vanilla Price : 150\n",
            "price of the bowl :  370\n",
            "3\n",
            "1\n"
          ]
        }
      ],
      "source": [
        "choco = Scoop('chocolate')\n",
        "print(choco)\n",
        "choco.set_price(100)\n",
        "\n",
        "berry = Scoop('berry')\n",
        "berry.set_price(120)\n",
        "print(berry)\n",
        "\n",
        "vanilla = Scoop('vanilla')\n",
        "vanilla.set_price(150)\n",
        "\n",
        "bowl = Bowl()\n",
        "\n",
        "bowl.add_scoops(choco) # Giving one parameter\n",
        "bowl.add_scoops(berry, vanilla) # Multiple\n",
        "# add_scoops should handle both scenerios\n",
        "\n",
        "print(bowl)\n",
        "\n",
        "bowl.display()\n",
        "print(Scoop.sold())\n",
        "print(Bowl.sold())"
      ]
    },
    {
      "cell_type": "markdown",
      "metadata": {
        "id": "cgijtJWFv_wN"
      },
      "source": [
        "Class Realtionships\n",
        "- Aggregation\n",
        "  -  has a relationship\n",
        "  - one class owns the other class\n",
        "- inheritance"
      ]
    },
    {
      "cell_type": "code",
      "execution_count": null,
      "metadata": {
        "colab": {
          "base_uri": "https://localhost:8080/"
        },
        "id": "w4m9NvDkwIEN",
        "outputId": "7658ae9c-3ff1-45ae-a82d-4a2d4f40520e"
      },
      "outputs": [
        {
          "name": "stdout",
          "output_type": "stream",
          "text": [
            "gurgaon 122011 haryana\n",
            "mumbai 111111 maharastra\n"
          ]
        }
      ],
      "source": [
        "# example\n",
        "class Customer:\n",
        "\n",
        "  def __init__(self,name,gender,address):\n",
        "    self.name = name\n",
        "    self.gender = gender\n",
        "    self.address = address\n",
        "\n",
        "  def print_address(self):\n",
        "    print(self.address._Address__city,self.address.pin,self.address.state)\n",
        "\n",
        "  def edit_profile(self,new_name,new_city,new_pin,new_state):\n",
        "    self.name = new_name\n",
        "    self.address.edit_address(new_city,new_pin,new_state)\n",
        "\n",
        "class Address:\n",
        "\n",
        "  def __init__(self,city,pin,state):\n",
        "      self.__city = city\n",
        "      self.pin = pin\n",
        "      self.state = state\n",
        "\n",
        "  def get_city(self):\n",
        "    return self.__city\n",
        "\n",
        "  def edit_address(self,new_city,new_pin,new_state):\n",
        "    self.__city = new_city\n",
        "    self.pin = new_pin\n",
        "    self.state = new_state\n",
        "\n",
        "add1 = Address('gurgaon',122011,'haryana')\n",
        "cust = Customer('nitish','male',add1)\n",
        "\n",
        "cust.print_address()\n",
        "\n",
        "cust.edit_profile('ankit','mumbai',111111,'maharastra')\n",
        "cust.print_address()"
      ]
    },
    {
      "cell_type": "markdown",
      "metadata": {
        "id": "2TEG58hX8-45"
      },
      "source": [
        "Aggregation class diagram"
      ]
    },
    {
      "cell_type": "markdown",
      "metadata": {
        "id": "bYLTvq0Y-I5u"
      },
      "source": [
        "![Screenshot_20241229_160119.png](data:image/png;base64,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)"
      ]
    },
    {
      "cell_type": "markdown",
      "metadata": {
        "id": "SQ10fhVk-e5A"
      },
      "source": [
        "## Inheritance"
      ]
    },
    {
      "cell_type": "code",
      "execution_count": null,
      "metadata": {
        "id": "hscN30eR83yY",
        "outputId": "2a29c91b-73c7-42f0-9879-8388a8027527"
      },
      "outputs": [
        {
          "name": "stdout",
          "output_type": "stream",
          "text": [
            "login\n",
            "dev\n"
          ]
        }
      ],
      "source": [
        "class User: #parent class\n",
        "  def __init__(self):\n",
        "    self.name = 'dev'\n",
        "  def login(self):\n",
        "    print('login')\n",
        "class Student(User): #child\n",
        "  def enroll(self):\n",
        "    print('enroll into the course')\n",
        "u  = User()\n",
        "s = Student()\n",
        "s.login()\n",
        "print(u.name)"
      ]
    },
    {
      "cell_type": "markdown",
      "metadata": {
        "id": "AwLDZORpx18e"
      },
      "source": [
        "### what gets inherited ?\n",
        "- constructor\n",
        "- public attributes\n",
        "- public methods"
      ]
    },
    {
      "cell_type": "code",
      "execution_count": null,
      "metadata": {
        "id": "TW_422YVVlqV",
        "outputId": "c31b598b-027f-4fb8-e0f6-950a24c9fef8"
      },
      "outputs": [
        {
          "name": "stdout",
          "output_type": "stream",
          "text": [
            "inside phone constructor\n",
            "Bying a phone\n"
          ]
        }
      ],
      "source": [
        "# constructor example\n",
        "class Phone:\n",
        "    def __init__(self,price,brand,camera):\n",
        "        print(\"inside phone constructor\")\n",
        "        self.price = price\n",
        "        self.brand = brand\n",
        "        self.camera = camera\n",
        "    def buy(self):\n",
        "        print(\"Bying a phone\")\n",
        "class SmartPhone(Phone):\n",
        "    pass\n",
        "s = SmartPhone(2000,'apple',13)\n",
        "s.buy()"
      ]
    },
    {
      "cell_type": "markdown",
      "metadata": {
        "id": "nT_71b-4x18f"
      },
      "source": [
        "if child doesnt have a constructor then the parents constructor will get called and executed"
      ]
    },
    {
      "cell_type": "code",
      "execution_count": null,
      "metadata": {
        "id": "jnSAZS74x18f",
        "outputId": "feb9cc51-9deb-476e-96b5-5daf901176e2"
      },
      "outputs": [
        {
          "name": "stdout",
          "output_type": "stream",
          "text": [
            "Inside samartphone constructor\n"
          ]
        }
      ],
      "source": [
        "class Phone:\n",
        "    def __init__(self,price,brand,camera):\n",
        "        print(\"inside phone constructor\")\n",
        "        self.price = price\n",
        "        self.brand = brand\n",
        "        self.camera = camera\n",
        "    def buy(self):\n",
        "        print(\"Bying a phone\")\n",
        "class SmartPhone(Phone):\n",
        "    def __init__(self,os,ram):\n",
        "        self.os = os\n",
        "        self.ram = ram\n",
        "        print(\"Inside samartphone constructor\")\n",
        "s = SmartPhone('apple',13)"
      ]
    },
    {
      "cell_type": "markdown",
      "metadata": {
        "id": "GLM7qA1tx18f"
      },
      "source": [
        "if child class hava a constructor then the xhilds constructor gets executed and if we call self,price we cat access it , it will raise a error"
      ]
    },
    {
      "cell_type": "code",
      "execution_count": null,
      "metadata": {
        "id": "bgZ20GmPx18f",
        "outputId": "af285b3c-7f99-42db-bc3e-fd2104033e6e"
      },
      "outputs": [
        {
          "name": "stdout",
          "output_type": "stream",
          "text": [
            "inside phone constructor\n",
            "13\n",
            "apple\n"
          ]
        }
      ],
      "source": [
        "#child cant acess private members of the class\n",
        "class Phone:\n",
        "    def __init__(self,price,brand):\n",
        "        print(\"inside phone constructor\")\n",
        "        self.__price = price\n",
        "        self.brand = brand\n",
        "    def show(self):\n",
        "        print(self.__price)\n",
        "class SmartPhone(Phone):\n",
        "    def check(self):\n",
        "        print(self.__price)\n",
        "s = SmartPhone('apple',13)\n",
        "print(s.brand)\n",
        "s.show()"
      ]
    },
    {
      "cell_type": "code",
      "execution_count": null,
      "metadata": {
        "id": "8-ULkaIux18g",
        "outputId": "b2a8ef31-dffe-4c61-82f1-5a0aebfb2685"
      },
      "outputs": [
        {
          "name": "stdout",
          "output_type": "stream",
          "text": [
            "100\n",
            "this is in child class\n"
          ]
        }
      ],
      "source": [
        "class Parent:\n",
        "    def __init__(self,num):\n",
        "       self.__num = num\n",
        "    def get_num(self):\n",
        "        return self.__num\n",
        "class Child(Parent):\n",
        "    def show(self):\n",
        "        print('this is in child class')\n",
        "son = Child(100)\n",
        "print(son.get_num())\n",
        "son.show()"
      ]
    },
    {
      "cell_type": "code",
      "execution_count": null,
      "metadata": {
        "id": "NJYaPILVx18g"
      },
      "outputs": [],
      "source": []
    },
    {
      "cell_type": "markdown",
      "source": [
        "# New Section"
      ],
      "metadata": {
        "id": "1MeuUdCBygqu"
      }
    },
    {
      "cell_type": "code",
      "source": [
        "class Parent:\n",
        "\n",
        "    def __init__(self,num):\n",
        "        self.__num=num\n",
        "\n",
        "    def get_num(self):\n",
        "        return self.__num\n",
        "\n",
        "class Child(Parent):\n",
        "\n",
        "    def __init__(self,val,num):\n",
        "        self.__val=val\n",
        "\n",
        "    def get_val(self):\n",
        "        return self.__val\n",
        "\n",
        "son=Child(100,10)\n",
        "print(\"Parent: Num:\",son.get_num())\n",
        "print(\"Child: Val:\",son.get_val())"
      ],
      "metadata": {
        "id": "__jK3DNZS7-g",
        "colab": {
          "base_uri": "https://localhost:8080/",
          "height": 348
        },
        "outputId": "1cb66ea1-97e5-4589-d792-ec804c3ddb81"
      },
      "execution_count": null,
      "outputs": [
        {
          "output_type": "error",
          "ename": "AttributeError",
          "evalue": "ignored",
          "traceback": [
            "\u001b[0;31m---------------------------------------------------------------------------\u001b[0m",
            "\u001b[0;31mAttributeError\u001b[0m                            Traceback (most recent call last)",
            "\u001b[0;32m<ipython-input-35-5a17300f6fc7>\u001b[0m in \u001b[0;36m<module>\u001b[0;34m\u001b[0m\n\u001b[1;32m     16\u001b[0m \u001b[0;34m\u001b[0m\u001b[0m\n\u001b[1;32m     17\u001b[0m \u001b[0mson\u001b[0m\u001b[0;34m=\u001b[0m\u001b[0mChild\u001b[0m\u001b[0;34m(\u001b[0m\u001b[0;36m100\u001b[0m\u001b[0;34m,\u001b[0m\u001b[0;36m10\u001b[0m\u001b[0;34m)\u001b[0m\u001b[0;34m\u001b[0m\u001b[0;34m\u001b[0m\u001b[0m\n\u001b[0;32m---> 18\u001b[0;31m \u001b[0mprint\u001b[0m\u001b[0;34m(\u001b[0m\u001b[0;34m\"Parent: Num:\"\u001b[0m\u001b[0;34m,\u001b[0m\u001b[0mson\u001b[0m\u001b[0;34m.\u001b[0m\u001b[0mget_num\u001b[0m\u001b[0;34m(\u001b[0m\u001b[0;34m)\u001b[0m\u001b[0;34m)\u001b[0m\u001b[0;34m\u001b[0m\u001b[0;34m\u001b[0m\u001b[0m\n\u001b[0m\u001b[1;32m     19\u001b[0m \u001b[0mprint\u001b[0m\u001b[0;34m(\u001b[0m\u001b[0;34m\"Child: Val:\"\u001b[0m\u001b[0;34m,\u001b[0m\u001b[0mson\u001b[0m\u001b[0;34m.\u001b[0m\u001b[0mget_val\u001b[0m\u001b[0;34m(\u001b[0m\u001b[0;34m)\u001b[0m\u001b[0;34m)\u001b[0m\u001b[0;34m\u001b[0m\u001b[0;34m\u001b[0m\u001b[0m\n",
            "\u001b[0;32m<ipython-input-35-5a17300f6fc7>\u001b[0m in \u001b[0;36mget_num\u001b[0;34m(self)\u001b[0m\n\u001b[1;32m      5\u001b[0m \u001b[0;34m\u001b[0m\u001b[0m\n\u001b[1;32m      6\u001b[0m     \u001b[0;32mdef\u001b[0m \u001b[0mget_num\u001b[0m\u001b[0;34m(\u001b[0m\u001b[0mself\u001b[0m\u001b[0;34m)\u001b[0m\u001b[0;34m:\u001b[0m\u001b[0;34m\u001b[0m\u001b[0;34m\u001b[0m\u001b[0m\n\u001b[0;32m----> 7\u001b[0;31m         \u001b[0;32mreturn\u001b[0m \u001b[0mself\u001b[0m\u001b[0;34m.\u001b[0m\u001b[0m__num\u001b[0m\u001b[0;34m\u001b[0m\u001b[0;34m\u001b[0m\u001b[0m\n\u001b[0m\u001b[1;32m      8\u001b[0m \u001b[0;34m\u001b[0m\u001b[0m\n\u001b[1;32m      9\u001b[0m \u001b[0;32mclass\u001b[0m \u001b[0mChild\u001b[0m\u001b[0;34m(\u001b[0m\u001b[0mParent\u001b[0m\u001b[0;34m)\u001b[0m\u001b[0;34m:\u001b[0m\u001b[0;34m\u001b[0m\u001b[0;34m\u001b[0m\u001b[0m\n",
            "\u001b[0;31mAttributeError\u001b[0m: 'Child' object has no attribute '_Parent__num'"
          ]
        }
      ]
    },
    {
      "cell_type": "code",
      "source": [
        "class A:\n",
        "    def __init__(self):\n",
        "        self.var1=100\n",
        "\n",
        "    def display1(self,var1):\n",
        "        print(\"class A :\", self.var1)\n",
        "class B(A):\n",
        "\n",
        "    def display2(self,var1):\n",
        "        print(\"class B :\", self.var1)\n",
        "\n",
        "obj=B()\n",
        "obj.display1(200)"
      ],
      "metadata": {
        "id": "nyRDS-91TJA_",
        "colab": {
          "base_uri": "https://localhost:8080/"
        },
        "outputId": "ca0f5671-e73a-467b-8c96-45f825e88eaa"
      },
      "execution_count": null,
      "outputs": [
        {
          "output_type": "stream",
          "name": "stdout",
          "text": [
            "class A : 200\n"
          ]
        }
      ]
    },
    {
      "cell_type": "code",
      "source": [
        "# Method Overriding\n",
        "class Phone:\n",
        "    def __init__(self, price, brand, camera):\n",
        "        print (\"Inside phone constructor\")\n",
        "        self.__price = price\n",
        "        self.brand = brand\n",
        "        self.camera = camera\n",
        "\n",
        "    def buy(self):\n",
        "        print (\"Buying a phone\")\n",
        "\n",
        "class SmartPhone(Phone):\n",
        "    def buy(self):\n",
        "        print (\"Buying a smartphone\")\n",
        "\n",
        "s=SmartPhone(20000, \"Apple\", 13)\n",
        "\n",
        "s.buy()"
      ],
      "metadata": {
        "id": "EgDguVtCTlsY",
        "colab": {
          "base_uri": "https://localhost:8080/"
        },
        "outputId": "e9a17cfc-e48d-4967-90df-164a9fb9906e"
      },
      "execution_count": null,
      "outputs": [
        {
          "output_type": "stream",
          "name": "stdout",
          "text": [
            "Inside phone constructor\n",
            "Buying a smartphone\n"
          ]
        }
      ]
    },
    {
      "cell_type": "markdown",
      "source": [
        "### Super Keyword"
      ],
      "metadata": {
        "id": "O85epdv770M-"
      }
    },
    {
      "cell_type": "code",
      "source": [
        "class Phone:\n",
        "    def __init__(self, price, brand, camera):\n",
        "        print (\"Inside phone constructor\")\n",
        "        self.__price = price\n",
        "        self.brand = brand\n",
        "        self.camera = camera\n",
        "\n",
        "    def buy(self):\n",
        "        print (\"Buying a phone\")\n",
        "\n",
        "class SmartPhone(Phone):\n",
        "    def buy(self):\n",
        "        print (\"Buying a smartphone\")\n",
        "        # syntax to call parent ka buy method\n",
        "        super().buy()\n",
        "\n",
        "s=SmartPhone(20000, \"Apple\", 13)\n",
        "\n",
        "s.buy()"
      ],
      "metadata": {
        "id": "NR4F_NIo71hS",
        "colab": {
          "base_uri": "https://localhost:8080/"
        },
        "outputId": "31d11020-10c1-47cd-81e0-6335ee6fc1f0"
      },
      "execution_count": null,
      "outputs": [
        {
          "output_type": "stream",
          "name": "stdout",
          "text": [
            "Inside phone constructor\n",
            "Buying a smartphone\n",
            "Buying a phone\n"
          ]
        }
      ]
    },
    {
      "cell_type": "code",
      "source": [
        "# using super outside the class\n",
        "class Phone:\n",
        "    def __init__(self, price, brand, camera):\n",
        "        print (\"Inside phone constructor\")\n",
        "        self.__price = price\n",
        "        self.brand = brand\n",
        "        self.camera = camera\n",
        "\n",
        "    def buy(self):\n",
        "        print (\"Buying a phone\")\n",
        "\n",
        "class SmartPhone(Phone):\n",
        "    def buy(self):\n",
        "        print (\"Buying a smartphone\")\n",
        "        # syntax to call parent ka buy method\n",
        "        super().buy()\n",
        "\n",
        "s=SmartPhone(20000, \"Apple\", 13)\n",
        "\n",
        "s.buy()"
      ],
      "metadata": {
        "id": "USJ2YcPLT68v",
        "colab": {
          "base_uri": "https://localhost:8080/",
          "height": 223
        },
        "outputId": "9039f621-2f56-4d1b-f4ed-8abc36ac4cd8"
      },
      "execution_count": null,
      "outputs": [
        {
          "output_type": "stream",
          "name": "stdout",
          "text": [
            "Inside phone constructor\n"
          ]
        },
        {
          "output_type": "error",
          "ename": "RuntimeError",
          "evalue": "ignored",
          "traceback": [
            "\u001b[0;31m---------------------------------------------------------------------------\u001b[0m",
            "\u001b[0;31mRuntimeError\u001b[0m                              Traceback (most recent call last)",
            "\u001b[0;32m<ipython-input-42-b20080504d0e>\u001b[0m in \u001b[0;36m<module>\u001b[0;34m\u001b[0m\n\u001b[1;32m     17\u001b[0m \u001b[0ms\u001b[0m\u001b[0;34m=\u001b[0m\u001b[0mSmartPhone\u001b[0m\u001b[0;34m(\u001b[0m\u001b[0;36m20000\u001b[0m\u001b[0;34m,\u001b[0m \u001b[0;34m\"Apple\"\u001b[0m\u001b[0;34m,\u001b[0m \u001b[0;36m13\u001b[0m\u001b[0;34m)\u001b[0m\u001b[0;34m\u001b[0m\u001b[0;34m\u001b[0m\u001b[0m\n\u001b[1;32m     18\u001b[0m \u001b[0;34m\u001b[0m\u001b[0m\n\u001b[0;32m---> 19\u001b[0;31m \u001b[0msuper\u001b[0m\u001b[0;34m(\u001b[0m\u001b[0;34m)\u001b[0m\u001b[0;34m.\u001b[0m\u001b[0mbuy\u001b[0m\u001b[0;34m(\u001b[0m\u001b[0;34m)\u001b[0m\u001b[0;34m\u001b[0m\u001b[0;34m\u001b[0m\u001b[0m\n\u001b[0m",
            "\u001b[0;31mRuntimeError\u001b[0m: super(): no arguments"
          ]
        }
      ]
    },
    {
      "cell_type": "code",
      "source": [
        "# can super access parent ka data?\n",
        "# using super outside the class\n",
        "class Phone:\n",
        "    def __init__(self, price, brand, camera):\n",
        "        print (\"Inside phone constructor\")\n",
        "        self.__price = price\n",
        "        self.brand = brand\n",
        "        self.camera = camera\n",
        "\n",
        "    def buy(self):\n",
        "        print (\"Buying a phone\")\n",
        "\n",
        "class SmartPhone(Phone):\n",
        "    def buy(self):\n",
        "        print (\"Buying a smartphone\")\n",
        "        # syntax to call parent ka buy method\n",
        "        print(super().brand)\n",
        "\n",
        "s=SmartPhone(20000, \"Apple\", 13)\n",
        "\n",
        "s.buy()"
      ],
      "metadata": {
        "id": "KGIWVYdYUBAd",
        "colab": {
          "base_uri": "https://localhost:8080/",
          "height": 366
        },
        "outputId": "8e4228f8-af9c-4c72-d18c-6016808df3de"
      },
      "execution_count": null,
      "outputs": [
        {
          "output_type": "stream",
          "name": "stdout",
          "text": [
            "Inside phone constructor\n",
            "Buying a smartphone\n"
          ]
        },
        {
          "output_type": "error",
          "ename": "AttributeError",
          "evalue": "ignored",
          "traceback": [
            "\u001b[0;31m---------------------------------------------------------------------------\u001b[0m",
            "\u001b[0;31mAttributeError\u001b[0m                            Traceback (most recent call last)",
            "\u001b[0;32m<ipython-input-43-87cd65570d46>\u001b[0m in \u001b[0;36m<module>\u001b[0;34m\u001b[0m\n\u001b[1;32m     19\u001b[0m \u001b[0ms\u001b[0m\u001b[0;34m=\u001b[0m\u001b[0mSmartPhone\u001b[0m\u001b[0;34m(\u001b[0m\u001b[0;36m20000\u001b[0m\u001b[0;34m,\u001b[0m \u001b[0;34m\"Apple\"\u001b[0m\u001b[0;34m,\u001b[0m \u001b[0;36m13\u001b[0m\u001b[0;34m)\u001b[0m\u001b[0;34m\u001b[0m\u001b[0;34m\u001b[0m\u001b[0m\n\u001b[1;32m     20\u001b[0m \u001b[0;34m\u001b[0m\u001b[0m\n\u001b[0;32m---> 21\u001b[0;31m \u001b[0ms\u001b[0m\u001b[0;34m.\u001b[0m\u001b[0mbuy\u001b[0m\u001b[0;34m(\u001b[0m\u001b[0;34m)\u001b[0m\u001b[0;34m\u001b[0m\u001b[0;34m\u001b[0m\u001b[0m\n\u001b[0m",
            "\u001b[0;32m<ipython-input-43-87cd65570d46>\u001b[0m in \u001b[0;36mbuy\u001b[0;34m(self)\u001b[0m\n\u001b[1;32m     15\u001b[0m         \u001b[0mprint\u001b[0m \u001b[0;34m(\u001b[0m\u001b[0;34m\"Buying a smartphone\"\u001b[0m\u001b[0;34m)\u001b[0m\u001b[0;34m\u001b[0m\u001b[0;34m\u001b[0m\u001b[0m\n\u001b[1;32m     16\u001b[0m         \u001b[0;31m# syntax to call parent ka buy method\u001b[0m\u001b[0;34m\u001b[0m\u001b[0;34m\u001b[0m\u001b[0;34m\u001b[0m\u001b[0m\n\u001b[0;32m---> 17\u001b[0;31m         \u001b[0mprint\u001b[0m\u001b[0;34m(\u001b[0m\u001b[0msuper\u001b[0m\u001b[0;34m(\u001b[0m\u001b[0;34m)\u001b[0m\u001b[0;34m.\u001b[0m\u001b[0mbrand\u001b[0m\u001b[0;34m)\u001b[0m\u001b[0;34m\u001b[0m\u001b[0;34m\u001b[0m\u001b[0m\n\u001b[0m\u001b[1;32m     18\u001b[0m \u001b[0;34m\u001b[0m\u001b[0m\n\u001b[1;32m     19\u001b[0m \u001b[0ms\u001b[0m\u001b[0;34m=\u001b[0m\u001b[0mSmartPhone\u001b[0m\u001b[0;34m(\u001b[0m\u001b[0;36m20000\u001b[0m\u001b[0;34m,\u001b[0m \u001b[0;34m\"Apple\"\u001b[0m\u001b[0;34m,\u001b[0m \u001b[0;36m13\u001b[0m\u001b[0;34m)\u001b[0m\u001b[0;34m\u001b[0m\u001b[0;34m\u001b[0m\u001b[0m\n",
            "\u001b[0;31mAttributeError\u001b[0m: 'super' object has no attribute 'brand'"
          ]
        }
      ]
    },
    {
      "cell_type": "code",
      "source": [
        "# super -> constuctor\n",
        "class Phone:\n",
        "    def __init__(self, price, brand, camera):\n",
        "        print (\"Inside phone constructor\")\n",
        "        self.__price = price\n",
        "        self.brand = brand\n",
        "        self.camera = camera\n",
        "\n",
        "class SmartPhone(Phone):\n",
        "    def __init__(self, price, brand, camera, os, ram):\n",
        "        print('Inside smartphone constructor')\n",
        "        super().__init__(price, brand, camera)\n",
        "        self.os = os\n",
        "        self.ram = ram\n",
        "        print (\"Inside smartphone constructor\")\n",
        "\n",
        "s=SmartPhone(20000, \"Samsung\", 12, \"Android\", 2)\n",
        "\n",
        "print(s.os)\n",
        "print(s.brand)"
      ],
      "metadata": {
        "id": "jPW3DV5GUKNJ",
        "colab": {
          "base_uri": "https://localhost:8080/"
        },
        "outputId": "5e1dfad5-6f71-48dd-ceaa-7d5211136968"
      },
      "execution_count": null,
      "outputs": [
        {
          "output_type": "stream",
          "name": "stdout",
          "text": [
            "Inside smartphone constructor\n",
            "Inside phone constructor\n",
            "Inside smartphone constructor\n",
            "Android\n",
            "Samsung\n"
          ]
        }
      ]
    },
    {
      "cell_type": "markdown",
      "source": [
        "##### Inheritance in summary\n",
        "\n",
        "- A class can inherit from another class.\n",
        "\n",
        "- Inheritance improves code reuse\n",
        "\n",
        "- Constructor, attributes, methods get inherited to the child class\n",
        "\n",
        "- The parent has no access to the child class\n",
        "\n",
        "- Private properties of parent are not accessible directly in child class\n",
        "\n",
        "- Child class can override the attributes or methods. This is called method overriding\n",
        "\n",
        "- super() is an inbuilt function which is used to invoke the parent class methods and constructor"
      ],
      "metadata": {
        "id": "oyZHUl7ezLy-"
      }
    },
    {
      "cell_type": "code",
      "source": [
        " class Parent:\n",
        "\n",
        "    def __init__(self,num):\n",
        "      self.__num=num\n",
        "\n",
        "    def get_num(self):\n",
        "      return self.__num\n",
        "\n",
        "class Child(Parent):\n",
        "\n",
        "    def __init__(self,num,val):\n",
        "      super().__init__(num)\n",
        "      self.__val=val\n",
        "\n",
        "    def get_val(self):\n",
        "      return self.__val\n",
        "\n",
        "son=Child(100,200)\n",
        "print(son.get_num())\n",
        "print(son.get_val())"
      ],
      "metadata": {
        "id": "OvdixiRJ7kDn",
        "colab": {
          "base_uri": "https://localhost:8080/"
        },
        "outputId": "db774d99-13b9-4468-88df-1205f562b379"
      },
      "execution_count": 1,
      "outputs": [
        {
          "output_type": "stream",
          "name": "stdout",
          "text": [
            "100\n",
            "200\n"
          ]
        }
      ]
    },
    {
      "cell_type": "code",
      "source": [
        "class Parent:\n",
        "    def __init__(self):\n",
        "        self.num=100\n",
        "\n",
        "class Child(Parent):\n",
        "\n",
        "    def __init__(self):\n",
        "        super().__init__()\n",
        "        self.var=200\n",
        "\n",
        "    def show(self):\n",
        "        print(self.num)\n",
        "        print(self.var)\n",
        "\n",
        "son=Child()\n",
        "son.show()"
      ],
      "metadata": {
        "colab": {
          "base_uri": "https://localhost:8080/"
        },
        "id": "aIwg3uEh0TBm",
        "outputId": "b5b65b8b-2f88-4089-a586-47da4eb4b95f"
      },
      "execution_count": 2,
      "outputs": [
        {
          "output_type": "stream",
          "name": "stdout",
          "text": [
            "100\n",
            "200\n"
          ]
        }
      ]
    },
    {
      "cell_type": "code",
      "source": [
        "class Parent:\n",
        "    def __init__(self):\n",
        "        self.__num=100\n",
        "\n",
        "    def show(self):\n",
        "        print(\"Parent:\",self.__num)\n",
        "\n",
        "class Child(Parent):\n",
        "    def __init__(self):\n",
        "        super().__init__()\n",
        "        self.__var=10\n",
        "\n",
        "    def show(self):\n",
        "        print(\"Child:\",self.__var)\n",
        "\n",
        "obj=Child()\n",
        "obj.show()"
      ],
      "metadata": {
        "colab": {
          "base_uri": "https://localhost:8080/"
        },
        "id": "gpEu7_hR04D2",
        "outputId": "d0339897-d28a-423d-898d-f7be28f623e2"
      },
      "execution_count": 3,
      "outputs": [
        {
          "output_type": "stream",
          "name": "stdout",
          "text": [
            "Child: 10\n"
          ]
        }
      ]
    },
    {
      "cell_type": "markdown",
      "source": [
        "### Types of Inheritance\n",
        "\n",
        "- Single Inheritance\n",
        "- Multilevel Inheritance\n",
        "- Hierarchical Inheritance\n",
        "- Multiple Inheritance(Diamond Problem)\n",
        "- Hybrid Inheritance"
      ],
      "metadata": {
        "id": "q9WZMWV18G4Q"
      }
    },
    {
      "cell_type": "markdown",
      "source": [
        "### Single inheritance:\n",
        "Single inheritance enables a derived class to inherit properties from a single parent class, thus enabling code reusability and the addition of new features to existing code."
      ],
      "metadata": {
        "id": "rI6dc9To8BI_"
      }
    },
    {
      "cell_type": "markdown",
      "source": [
        "![inheritance11.png](data:image/png;base64,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)"
      ],
      "metadata": {
        "id": "AYp2oxlG77_2"
      }
    },
    {
      "cell_type": "code",
      "source": [
        "#single inheritance\n",
        "class A:\n",
        "  def __init__(self):\n",
        "    self.name = \"berman\"\n",
        "class B(A):\n",
        "  def __init__(self):\n",
        "    self.surname = 'cat'\n",
        "    super().__init__()\n",
        "  def show(self):\n",
        "    print(self.name + self.surname)\n",
        "son = B()\n",
        "son.show()"
      ],
      "metadata": {
        "colab": {
          "base_uri": "https://localhost:8080/"
        },
        "id": "XxC6A6vC0_43",
        "outputId": "c663ee27-d463-4a08-a475-548e92ee49fd"
      },
      "execution_count": 9,
      "outputs": [
        {
          "output_type": "stream",
          "name": "stdout",
          "text": [
            "bermancat\n"
          ]
        }
      ]
    },
    {
      "cell_type": "markdown",
      "source": [
        "### Multilevel inheritance\n",
        "\n",
        "In multilevel inheritance, features of the base class and the derived class are further inherited into the new derived class. This is similar to a relationship representing a child and a grandfather."
      ],
      "metadata": {
        "id": "o-S8Vfry8gZz"
      }
    },
    {
      "cell_type": "markdown",
      "source": [
        "![Multilevel-inheritance1.png](data:image/png;base64,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)"
      ],
      "metadata": {
        "id": "QRiJ4Okz2sph"
      }
    },
    {
      "cell_type": "code",
      "source": [
        "class A:\n",
        "  def buy(self):\n",
        "    print('inside grand parent constructor')\n",
        "class B(A):\n",
        "  def show(self):\n",
        "    print(\"inside parent constructor\")\n",
        "class C(B):\n",
        "  pass\n",
        "c = C()\n",
        "c.buy()\n",
        "c.show()"
      ],
      "metadata": {
        "colab": {
          "base_uri": "https://localhost:8080/"
        },
        "id": "LbnkXOpc94fY",
        "outputId": "5ef0bcee-a0a3-4163-f40d-826c6e431821"
      },
      "execution_count": 14,
      "outputs": [
        {
          "output_type": "stream",
          "name": "stdout",
          "text": [
            "inside grand parent constructor\n",
            "inside parent constructor\n"
          ]
        }
      ]
    },
    {
      "cell_type": "markdown",
      "source": [
        "# Multiple inheritance\n",
        "When a class can be derived from more than one base class this type of inheritance is called multiple inheritances. In multiple inheritances, all the features of the base classes are inherited into the derived class."
      ],
      "metadata": {
        "id": "mQBPPDT78t9I"
      }
    },
    {
      "cell_type": "markdown",
      "source": [
        "![multiple-inheritance1.png](data:image/png;base64,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)"
      ],
      "metadata": {
        "id": "-cY_PZDo85CS"
      }
    },
    {
      "cell_type": "code",
      "source": [
        "class A:\n",
        "  def __init__(self):\n",
        "    print(\"Parent 1\")\n",
        "  def show(self):\n",
        "    print(\"onepiece is real\")\n",
        "class B:\n",
        "  def __init__(self):\n",
        "    print(\"Parent 2\")\n",
        "  def shot(self):\n",
        "    print(\"boa hancock loves luffy\")\n",
        "class C(A,B):\n",
        "  pass\n",
        "c = C()\n",
        "c.show()\n",
        "c.shot()"
      ],
      "metadata": {
        "colab": {
          "base_uri": "https://localhost:8080/"
        },
        "id": "0NsicBlQAfHq",
        "outputId": "6e65efa3-59af-4f6d-87b2-e7e789eadcc5"
      },
      "execution_count": 30,
      "outputs": [
        {
          "output_type": "stream",
          "name": "stdout",
          "text": [
            "Parent 1\n",
            "onepiece is real\n",
            "boa hancock loves luffy\n"
          ]
        }
      ]
    },
    {
      "cell_type": "markdown",
      "source": [
        "## Hierarchical Inheritance:\n",
        "When more than one derived class are created from a single base this type of inheritance is called hierarchical inheritance. In this program, we have a parent (base) class and two child (derived) classes."
      ],
      "metadata": {
        "id": "9WQexXjn9D5D"
      }
    },
    {
      "cell_type": "markdown",
      "source": [
        "![Hierarchical-inheritance1.png](data:image/png;base64,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)"
      ],
      "metadata": {
        "id": "vZP5MTv59LYz"
      }
    },
    {
      "cell_type": "code",
      "source": [
        "class A:\n",
        "  def __init__(self):\n",
        "    print(\"parent constructor\")\n",
        "  def show(self):\n",
        "    print(\"YOOOOOOOOO!!!!!\")\n",
        "class B(A):\n",
        "  pass\n",
        "class C(A):\n",
        "  pass\n",
        "b = B()\n",
        "c = C()\n",
        "b.show()\n",
        "c.show()"
      ],
      "metadata": {
        "colab": {
          "base_uri": "https://localhost:8080/"
        },
        "id": "exrjz_a0_xzr",
        "outputId": "543f3360-fc84-4d06-fd4a-7d87ebd2b2cd"
      },
      "execution_count": 16,
      "outputs": [
        {
          "output_type": "stream",
          "name": "stdout",
          "text": [
            "parent constructor\n",
            "parent constructor\n",
            "YOOOOOOOOO!!!!!\n",
            "YOOOOOOOOO!!!!!\n"
          ]
        }
      ]
    },
    {
      "cell_type": "markdown",
      "source": [
        "### Hybrid Inheritance:\n",
        "Inheritance consisting of multiple types of inheritance is called hybrid inheritance.\n",
        "\n"
      ],
      "metadata": {
        "id": "4RbqS8uJ9VVx"
      }
    },
    {
      "cell_type": "markdown",
      "source": [
        "![Hybrid-Inheritance.png](data:image/png;base64,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)"
      ],
      "metadata": {
        "id": "Bx_p6O_g9aO9"
      }
    },
    {
      "cell_type": "markdown",
      "source": [
        "###problems"
      ],
      "metadata": {
        "id": "KtajoXCXHwUZ"
      }
    },
    {
      "cell_type": "code",
      "source": [
        "class A:\n",
        "\n",
        "    def m1(self):\n",
        "        return 20\n",
        "\n",
        "class B(A):\n",
        "\n",
        "    def m1(self):\n",
        "        return 30\n",
        "\n",
        "    def m2(self):\n",
        "        return 40\n",
        "\n",
        "class C(B):\n",
        "\n",
        "    def m2(self):\n",
        "        return 20\n",
        "obj1=A()\n",
        "obj2=B()\n",
        "obj3=C()\n",
        "print(obj1.m1() + obj3.m1()+ obj3.m2())"
      ],
      "metadata": {
        "colab": {
          "base_uri": "https://localhost:8080/"
        },
        "id": "GXLvC1dO20yM",
        "outputId": "2b6b2297-c47c-4a53-b04e-75fbe7ca26ce"
      },
      "execution_count": 32,
      "outputs": [
        {
          "output_type": "stream",
          "name": "stdout",
          "text": [
            "70\n"
          ]
        }
      ]
    },
    {
      "cell_type": "markdown",
      "source": [
        "## Polymorphism\n",
        "Ability to exist in multiple forms\n",
        "- method overriding\n",
        "- Method Overloading\n",
        "- Operator Overloading"
      ],
      "metadata": {
        "id": "gdkCl-7aH5m3"
      }
    },
    {
      "cell_type": "code",
      "source": [
        "#Method overloading - doesnt work in python\n",
        "class Shape:\n",
        "  def area(self,radius):\n",
        "    return 3,14*radius*radius\n",
        "  def area(self,length,breadth):\n",
        "    return length*breadth\n",
        "c = Shape()\n",
        "c.area(1,2)"
      ],
      "metadata": {
        "colab": {
          "base_uri": "https://localhost:8080/"
        },
        "id": "J7Dae4FSHKej",
        "outputId": "7dcab609-3896-4882-9be5-b5011ce053ce"
      },
      "execution_count": 37,
      "outputs": [
        {
          "output_type": "execute_result",
          "data": {
            "text/plain": [
              "2"
            ]
          },
          "metadata": {},
          "execution_count": 37
        }
      ]
    },
    {
      "cell_type": "markdown",
      "source": [
        "But usinf default keyword we couls implement it"
      ],
      "metadata": {
        "id": "hRfpr-MfLAS1"
      }
    },
    {
      "cell_type": "code",
      "source": [
        "class Shape:\n",
        "  def area(self,l,b = 0 ):\n",
        "    if b==0:\n",
        "       return 3.14*l*l\n",
        "    else:\n",
        "      return l*b\n",
        "\n",
        "c = Shape()\n",
        "print(c.area(1,2))\n",
        "print(c.area(5))"
      ],
      "metadata": {
        "colab": {
          "base_uri": "https://localhost:8080/"
        },
        "id": "qIdpRQuiLELw",
        "outputId": "8ae0d48e-db4b-4425-8783-dfe34484eac6"
      },
      "execution_count": 42,
      "outputs": [
        {
          "output_type": "execute_result",
          "data": {
            "text/plain": [
              "78.5"
            ]
          },
          "metadata": {},
          "execution_count": 42
        }
      ]
    },
    {
      "cell_type": "code",
      "source": [
        "#operator overloading - depending on the input the function varies\n",
        "'helllo' + 'world'"
      ],
      "metadata": {
        "colab": {
          "base_uri": "https://localhost:8080/",
          "height": 36
        },
        "id": "DQ2_xbJwKZX9",
        "outputId": "b6cbb881-4ecf-4f28-cc2f-8480ae841f5c"
      },
      "execution_count": 38,
      "outputs": [
        {
          "output_type": "execute_result",
          "data": {
            "text/plain": [
              "'hellloworld'"
            ],
            "application/vnd.google.colaboratory.intrinsic+json": {
              "type": "string"
            }
          },
          "metadata": {},
          "execution_count": 38
        }
      ]
    },
    {
      "cell_type": "code",
      "source": [
        "4+5"
      ],
      "metadata": {
        "colab": {
          "base_uri": "https://localhost:8080/"
        },
        "id": "jnXwCFG7Kgpc",
        "outputId": "697e0b11-47b3-4842-c3a4-6b8affd0518c"
      },
      "execution_count": 39,
      "outputs": [
        {
          "output_type": "execute_result",
          "data": {
            "text/plain": [
              "9"
            ]
          },
          "metadata": {},
          "execution_count": 39
        }
      ]
    },
    {
      "cell_type": "code",
      "source": [
        "[1,2,3] + [4,5]"
      ],
      "metadata": {
        "colab": {
          "base_uri": "https://localhost:8080/"
        },
        "id": "Z2GP_FHoLiHV",
        "outputId": "b957f50d-b187-48f3-fb9c-26f37b4cb78a"
      },
      "execution_count": 43,
      "outputs": [
        {
          "output_type": "execute_result",
          "data": {
            "text/plain": [
              "[1, 2, 3, 4, 5]"
            ]
          },
          "metadata": {},
          "execution_count": 43
        }
      ]
    },
    {
      "cell_type": "markdown",
      "source": [
        "## Abstraction\n",
        "Data abstraction is one of the most essential concepts of Python OOPs which is used to hide irrelevant details from the user and show the details that are relevant to the users."
      ],
      "metadata": {
        "id": "Zt7bPtvwLzqt"
      }
    },
    {
      "cell_type": "code",
      "source": [
        "from abc import ABC,abstractmethod\n",
        "class Bankapp(ABC):\n",
        "  def database(self):\n",
        "    print(\"connected to database\")\n",
        "  @abstractmethod\n",
        "  def security(Self):\n",
        "    pass"
      ],
      "metadata": {
        "id": "qdLOk_HKL270"
      },
      "execution_count": 47,
      "outputs": []
    },
    {
      "cell_type": "code",
      "source": [
        "class MobileApp(Bankapp):\n",
        "  def mobile_login(Self):\n",
        "    print(\"login to mobile\")\n",
        "  def security(self):\n",
        "    print(\"JEF\")"
      ],
      "metadata": {
        "id": "gHJcXci9Nc-2"
      },
      "execution_count": 51,
      "outputs": []
    },
    {
      "cell_type": "code",
      "source": [
        "mob = MobileApp()"
      ],
      "metadata": {
        "id": "Rxe02LDyN9yN"
      },
      "execution_count": 52,
      "outputs": []
    },
    {
      "cell_type": "code",
      "source": [
        "mob.security()"
      ],
      "metadata": {
        "colab": {
          "base_uri": "https://localhost:8080/"
        },
        "id": "2HgkG4xoOXj4",
        "outputId": "e97d1730-671f-4536-d8f0-b4da67d6691f"
      },
      "execution_count": 53,
      "outputs": [
        {
          "output_type": "stream",
          "name": "stdout",
          "text": [
            "JEF\n"
          ]
        }
      ]
    },
    {
      "cell_type": "markdown",
      "source": [
        "### `Problem-1:` Class inheritence\n",
        "\n",
        "Create a **Bus** child class that inherits from the Vehicle class. The default fare charge of any vehicle is seating capacity * 100. If Vehicle is Bus instance, we need to add an extra 10% on full fare as a maintenance charge. So total fare for bus instance will become the final amount = total fare + 10% of the total fare.\n",
        "\n",
        "Note: The bus seating capacity is 50. so the final fare amount should be 5500. You need to override the fare() method of a Vehicle class in Bus class."
      ],
      "metadata": {
        "id": "BCleRtX43caS"
      }
    },
    {
      "cell_type": "code",
      "execution_count": 60,
      "metadata": {
        "colab": {
          "base_uri": "https://localhost:8080/"
        },
        "id": "6jVFCXKz3YZI",
        "outputId": "23ecee41-6bef-423f-8c32-d9604b2611a9"
      },
      "outputs": [
        {
          "output_type": "execute_result",
          "data": {
            "text/plain": [
              "5500.0"
            ]
          },
          "metadata": {},
          "execution_count": 60
        }
      ],
      "source": [
        "class Vehicle:\n",
        "  def fare(self,capacity):\n",
        "    self.totalfare = capacity*100\n",
        "    return self.totalfare\n",
        "class Bus(Vehicle):\n",
        "   def fare(self,capacity):\n",
        "      totalfare = super().fare(capacity)\n",
        "      return totalfare + ((10/100)*totalfare)\n",
        "b = Bus()\n",
        "b.fare(50)"
      ]
    },
    {
      "cell_type": "markdown",
      "source": [
        "### `Problem-2:` Class Inheritence\n",
        "\n",
        "Create a Bus class that inherits from the Vehicle class. Give the capacity argument of *Bus.seating_capacity()* a default value of 50.\n",
        "\n",
        "Use the following code for your parent Vehicle class."
      ],
      "metadata": {
        "id": "KBbGNTtQ47mJ"
      }
    },
    {
      "cell_type": "code",
      "source": [
        "class Vehicle:\n",
        "  def __init__(self):\n",
        "    self.capacity  = 50\n",
        "  def seating_capacity(self):\n",
        "    return self.capacity\n",
        "class Bus(Vehicle):\n",
        "  pass\n",
        "b = Bus()\n",
        "b.seating_capacity()"
      ],
      "metadata": {
        "id": "MwOnYE_14M-r",
        "colab": {
          "base_uri": "https://localhost:8080/"
        },
        "outputId": "0f78b9ab-8ad5-4ad9-c51c-ddfbb3432a91"
      },
      "execution_count": 65,
      "outputs": [
        {
          "output_type": "execute_result",
          "data": {
            "text/plain": [
              "50"
            ]
          },
          "metadata": {},
          "execution_count": 65
        }
      ]
    }
  ],
  "metadata": {
    "colab": {
      "provenance": []
    },
    "kernelspec": {
      "display_name": "Python 3",
      "language": "python",
      "name": "python3"
    },
    "language_info": {
      "codemirror_mode": {
        "name": "ipython",
        "version": 3
      },
      "file_extension": ".py",
      "mimetype": "text/x-python",
      "name": "python",
      "nbconvert_exporter": "python",
      "pygments_lexer": "ipython3",
      "version": "3.10.4"
    }
  },
  "nbformat": 4,
  "nbformat_minor": 0
}