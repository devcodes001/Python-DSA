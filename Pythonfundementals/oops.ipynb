{
  "cells": [
    {
      "cell_type": "markdown",
      "metadata": {
        "id": "4hOkUI7XF5Sq"
      },
      "source": [
        "# Object Oriented Programming"
      ]
    },
    {
      "cell_type": "markdown",
      "metadata": {
        "id": "5iDDeXtAF5Sr"
      },
      "source": [
        "object oriented programming is a programming paradigm that uses objects as its building blocks . oops consists of\n",
        "- class\n",
        "- objects\n",
        "- encapsulation\n",
        "- abstraction\n",
        "- inheritance\n",
        "- polymorphism"
      ]
    },
    {
      "cell_type": "markdown",
      "metadata": {
        "id": "Bipt3jtVF5Sr"
      },
      "source": [
        "**class** : class is a blueprint of how the objects are created\n",
        "\n",
        "class consists of\n",
        "- property/attributes/datamembers\n",
        "- methods/member functions\n",
        "\n",
        "         class  classname :\n",
        "                ............\n",
        "class name first letter should be capital"
      ]
    },
    {
      "cell_type": "markdown",
      "metadata": {
        "id": "bUUOeG0eF5Sr"
      },
      "source": [
        "Object : it is an instance of class\n",
        " - eg : car class consist of object bmw,benz\n",
        "\n",
        "syntax:\n",
        "\n",
        "          objectname = classname()"
      ]
    },
    {
      "cell_type": "markdown",
      "metadata": {
        "id": "iqLwryM0F5Sr"
      },
      "source": [
        "object can access the things that are present inside our class"
      ]
    },
    {
      "cell_type": "code",
      "execution_count": null,
      "metadata": {
        "id": "f_N9zZ4tF5Sr"
      },
      "outputs": [],
      "source": [
        "class Atm:\n",
        "    def __init__(self):  # Automatically invoked when an object is created\n",
        "        self.pin = ''\n",
        "        self.balance = 0\n",
        "        self.menu()\n",
        "\n",
        "    def menu(self):\n",
        "        user_input = input('''\n",
        "        Hi, how can I help you?\n",
        "        1. Press 1 to create pin\n",
        "        2. Press 2 to change pin\n",
        "        3. Press 3 to check for balance\n",
        "        4. Press 4 to withdraw\n",
        "        5. Anything else to exit\n",
        "                  ''')\n",
        "        if user_input == '1':\n",
        "            self.create_pin()\n",
        "        elif user_input == '2':\n",
        "            self.change_pin()\n",
        "        elif user_input == '3':\n",
        "            self.check_balance()\n",
        "        elif user_input == '4':\n",
        "            self.withdraw()\n",
        "        else:\n",
        "            quit()\n",
        "\n",
        "    def create_pin(self):\n",
        "        user_pin = int(input(\"Enter your pin: \"))\n",
        "        self.pin = user_pin\n",
        "        user_balance = int(input(\"Enter the balance: \"))\n",
        "        self.balance = user_balance\n",
        "        print(\"Pin created successfully.\")\n",
        "        self.menu()\n",
        "\n",
        "    def change_pin(self):\n",
        "        pin = int(input(\"enter your current pin : \"))\n",
        "        if pin == self.pin:\n",
        "            change_pin = int(input(\"enter the new pin : \"))\n",
        "            self.pin = change_pin\n",
        "            print(\"PIN changed successfully\")\n",
        "            self.menu()\n",
        "        else:\n",
        "            print(\"wrong pin\")\n",
        "            self.menu()\n",
        "\n",
        "    def check_balance(self):\n",
        "      pin = int(input(\"enter your current pin : \"))\n",
        "      if pin == self.pin:\n",
        "          print('your balance is ',self.balance)\n",
        "          self.menu()\n",
        "      else:\n",
        "        print(\"wrong pin\")\n",
        "        self.menu()\n",
        "    def withdraw(self):\n",
        "      user_pin = input(\"enter the pin\")\n",
        "      if user_pin == self.pin:\n",
        "        amount  = int(input(\"enter the amount\"))\n",
        "        if amount <= self.balance:\n",
        "          self.balance = self.balance - amount\n",
        "          print('withdrawl succcessful | balance is',self.balance)\n",
        "          self.menu()\n",
        "        else:\n",
        "           print('insufficent balance')\n",
        "      else:\n",
        "        print(\"wrong pin\")\n",
        "\n"
      ]
    },
    {
      "cell_type": "code",
      "execution_count": null,
      "metadata": {
        "colab": {
          "base_uri": "https://localhost:8080/"
        },
        "id": "f4dfmrOlF5Ss",
        "outputId": "e7daa65c-b0b1-428f-e804-88725a3545f4"
      },
      "outputs": [
        {
          "output_type": "stream",
          "name": "stdout",
          "text": [
            "\n",
            "        Hi, how can I help you?\n",
            "        1. Press 1 to create pin\n",
            "        2. Press 2 to change pin\n",
            "        3. Press 3 to check for balance\n",
            "        4. Press 4 to withdraw\n",
            "        5. Anything else to exit\n",
            "                  1\n",
            "Enter your pin: 123\n",
            "Enter the balance: 1000\n",
            "Pin created successfully.\n",
            "\n",
            "        Hi, how can I help you?\n",
            "        1. Press 1 to create pin\n",
            "        2. Press 2 to change pin\n",
            "        3. Press 3 to check for balance\n",
            "        4. Press 4 to withdraw\n",
            "        5. Anything else to exit\n",
            "                  2\n",
            "enter your current pin : 123\n",
            "enter the new pin : 321\n",
            "PIN changed successfully\n",
            "\n",
            "        Hi, how can I help you?\n",
            "        1. Press 1 to create pin\n",
            "        2. Press 2 to change pin\n",
            "        3. Press 3 to check for balance\n",
            "        4. Press 4 to withdraw\n",
            "        5. Anything else to exit\n",
            "                  3\n",
            "enter your current pin : 321\n",
            "your balance is  1000\n"
          ]
        }
      ],
      "source": [
        "obj = Atm()"
      ]
    },
    {
      "cell_type": "markdown",
      "source": [
        "**method vs function**\n",
        "- functions that are defined inside a class are called methods\n",
        "- functions  are defined outside the class independently\n"
      ],
      "metadata": {
        "id": "AYhUHynSRLGf"
      }
    },
    {
      "cell_type": "code",
      "source": [
        "l = [1,2,3]\n",
        "l.append(12) #this is a method\n",
        "len(l)  #this is a function"
      ],
      "metadata": {
        "id": "zF2SUmweRtyj",
        "outputId": "4f7d9ca2-c21a-4f82-874b-a9507e36f04b",
        "colab": {
          "base_uri": "https://localhost:8080/"
        }
      },
      "execution_count": null,
      "outputs": [
        {
          "output_type": "execute_result",
          "data": {
            "text/plain": [
              "4"
            ]
          },
          "metadata": {},
          "execution_count": 3
        }
      ]
    },
    {
      "cell_type": "markdown",
      "source": [
        "**class diagram**"
      ],
      "metadata": {
        "id": "YZVeJiO7USIT"
      }
    },
    {
      "cell_type": "markdown",
      "source": [
        "![Screenshot_20241217_120140.png](data:image/png;base64,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)"
      ],
      "metadata": {
        "id": "C4tndPKZUZVn"
      }
    },
    {
      "cell_type": "markdown",
      "source": [
        "Magic methods : it is a special method ,Python Magic methods are the methods starting and ending with double underscores ‘__’.\n",
        "eg :  _ _name_ _ , _ _init_ _"
      ],
      "metadata": {
        "id": "JE1EQDW-VDGj"
      }
    },
    {
      "cell_type": "markdown",
      "source": [
        "constructor is a special method that is called automatically when an object is created from a class,we don't need to call explicitly"
      ],
      "metadata": {
        "id": "wgHrr4vvWKQX"
      }
    },
    {
      "cell_type": "code",
      "source": [
        "class Temp:\n",
        "  def __init__(self):\n",
        "    print(\"hello\")\n",
        "obj = Temp()"
      ],
      "metadata": {
        "id": "IEuK0g7GUXjb",
        "outputId": "b4913907-1e29-409e-f09a-77496bea276a",
        "colab": {
          "base_uri": "https://localhost:8080/"
        }
      },
      "execution_count": null,
      "outputs": [
        {
          "output_type": "stream",
          "name": "stdout",
          "text": [
            "hello\n"
          ]
        }
      ]
    },
    {
      "cell_type": "markdown",
      "source": [
        "constructor is used to write configuration related code\n",
        "- The primary purpose of a constructor is to initialize the attributes (data members) of an object when it is created.\n",
        "- This ensures that objects start with a valid state and are ready for use."
      ],
      "metadata": {
        "id": "pXdXAa9CcedN"
      }
    },
    {
      "cell_type": "markdown",
      "source": [
        "# __ self __\n",
        "- self is a default parameter\n",
        "- self is used with all the attributes\n",
        "- when calling functions or a class self is used\n",
        "\n",
        "**Golden rule of oops**  : all the attributes and methods of a class can only be accessed by the class's object\n",
        "- by using self we can call a method inside another method"
      ],
      "metadata": {
        "id": "DwXBIayZqtjU"
      }
    },
    {
      "cell_type": "markdown",
      "source": [
        "self is actually the class object , the id of both of them are same"
      ],
      "metadata": {
        "id": "F4M0R3sqssw1"
      }
    },
    {
      "cell_type": "code",
      "source": [
        "class Temp:\n",
        "  def __init__(self):\n",
        "    print(id(self))\n",
        "obj = Temp()\n",
        "print(id(obj))"
      ],
      "metadata": {
        "id": "pYbpwqd2snOk",
        "outputId": "70fc2518-bea3-4974-dae4-714c08ac2d66",
        "colab": {
          "base_uri": "https://localhost:8080/"
        }
      },
      "execution_count": null,
      "outputs": [
        {
          "output_type": "stream",
          "name": "stdout",
          "text": [
            "133791933118304\n",
            "133791933118304\n"
          ]
        }
      ]
    },
    {
      "cell_type": "markdown",
      "source": [
        "#Fractions"
      ],
      "metadata": {
        "id": "O1lQfCIcj2Rw"
      }
    },
    {
      "cell_type": "code",
      "source": [
        "3/4*1/2"
      ],
      "metadata": {
        "id": "qsqTOFc1tvQJ",
        "outputId": "e7ba7d0b-bab7-49e5-cf35-a8995d11cfb1",
        "colab": {
          "base_uri": "https://localhost:8080/"
        }
      },
      "execution_count": null,
      "outputs": [
        {
          "output_type": "execute_result",
          "data": {
            "text/plain": [
              "0.375"
            ]
          },
          "metadata": {},
          "execution_count": 1
        }
      ]
    },
    {
      "cell_type": "markdown",
      "source": [
        "- parameterised constructor :   A parameterized constructor is a method that accepts parameters when an object is created\n",
        "- A non-parameterized constructor is a constructor that does not take any arguments. It's also known as a default constructor"
      ],
      "metadata": {
        "id": "wNUac9ihmLln"
      }
    },
    {
      "cell_type": "code",
      "source": [
        "class Fraction:\n",
        "    def __init__(self, x, y):\n",
        "        self.num = x\n",
        "        self.den = y\n",
        "\n",
        "    def __str__(self):\n",
        "        return f'{self.num}/{self.den}'\n",
        "\n",
        "    def __add__(self, other):\n",
        "        new_num = self.num * other.den + self.den * other.num\n",
        "        new_den = self.den * other.den\n",
        "        return f\"{new_num}/{new_den}\"\n",
        "\n",
        "    def __sub__(self, other):\n",
        "        new_num = self.num * other.den - self.den * other.num\n",
        "        new_den = self.den * other.den\n",
        "        return f\"{new_num}/{new_den}\"\n",
        "\n",
        "    def __mul__(self, other):\n",
        "        new_num = self.num * other.num\n",
        "        new_den = self.den * other.den\n",
        "        return f\"{new_num}/{new_den}\"\n",
        "\n",
        "    def __truediv__(self, other):\n",
        "        new_num = self.num * other.den\n",
        "        new_den = self.den * other.num\n",
        "        return f\"{new_num}/{new_den}\"\n"
      ],
      "metadata": {
        "id": "VpQWuE32tgrP"
      },
      "execution_count": null,
      "outputs": []
    },
    {
      "cell_type": "code",
      "source": [
        "fr1 = Fraction(3,4)"
      ],
      "metadata": {
        "id": "Hgs7Okv2nJer"
      },
      "execution_count": null,
      "outputs": []
    },
    {
      "cell_type": "code",
      "source": [
        "print(fr1)"
      ],
      "metadata": {
        "id": "8ItA90MYnXCU",
        "outputId": "57ffb813-9c83-413b-9930-8a5c4b755486",
        "colab": {
          "base_uri": "https://localhost:8080/"
        }
      },
      "execution_count": null,
      "outputs": [
        {
          "output_type": "stream",
          "name": "stdout",
          "text": [
            "3/4\n"
          ]
        }
      ]
    },
    {
      "cell_type": "markdown",
      "source": [
        "In Python, the (__ _str_ __) method is a special method that allows you to define how an object of your class should be represented as a string. It's called when you use the print() function on an object or when you convert an object to a string using the str() function."
      ],
      "metadata": {
        "id": "QIvqs1E3obXN"
      }
    },
    {
      "cell_type": "code",
      "source": [
        "fr2 = Fraction(4,5)"
      ],
      "metadata": {
        "id": "n_tN_6Inpsje"
      },
      "execution_count": null,
      "outputs": []
    },
    {
      "cell_type": "code",
      "source": [
        "print(fr1 + fr2)\n",
        "print(fr1 - fr2)\n",
        "print(fr1 * fr2)\n",
        "print(fr1 / fr2)\n",
        "print()"
      ],
      "metadata": {
        "id": "dJKsjGaqod2e",
        "outputId": "26e5b651-3ac7-48f9-eb19-a3966ee578dd",
        "colab": {
          "base_uri": "https://localhost:8080/"
        }
      },
      "execution_count": null,
      "outputs": [
        {
          "output_type": "stream",
          "name": "stdout",
          "text": [
            "31/20\n",
            "-1/20\n",
            "12/20\n",
            "15/16\n",
            "\n"
          ]
        }
      ]
    },
    {
      "cell_type": "markdown",
      "source": [
        "##`Q-1:` Rectangle Class\n",
        "1. Write a Rectangle class in Python language, allowing you to build a rectangle with length and width attributes.\n",
        "\n",
        "2. Create a Perimeter() method to calculate the perimeter of the rectangle and a Area() method to calculate the area of ​​the rectangle.\n",
        "\n",
        "3. Create a method display() that display the length, width, perimeter and area of an object created using an instantiation on rectangle class."
      ],
      "metadata": {
        "id": "FyUJ3PRAsPr4"
      }
    },
    {
      "cell_type": "markdown",
      "source": [
        "Eg.\n",
        "After making above classes and methods, on executing below code:-\n",
        "```\n",
        "my_rectangle = Rectangle(3 , 4)\n",
        "my_rectangle.display()\n",
        "```\n",
        "\n",
        "`Output:`\n",
        "```\n",
        "The length of rectangle is:  3\n",
        "The width of rectangle is:  4\n",
        "The perimeter of rectangle is:  14\n",
        "The area of rectangle is:  12\n",
        "```\n"
      ],
      "metadata": {
        "id": "GxUtOqJfssFK"
      }
    },
    {
      "cell_type": "code",
      "source": [
        "class Rectangle:\n",
        "  def __init__(self,l,b):\n",
        "    self.length = l\n",
        "    self.breadth = b\n",
        "    self.display()\n",
        "  def perimeter(self):\n",
        "    return 2*(self.length + self.breadth)\n",
        "  def area(self):\n",
        "    return self.length * self.breadth\n",
        "  def display(self):\n",
        "     print(\"length of the rectangle : \",self.length)\n",
        "     print(\"breadth of the rectangle : \",self.breadth)\n",
        "     print(\"Area of the rectangle : \",self.area())\n",
        "     print(\"perimeter of the rectangle : \",self.perimeter())"
      ],
      "metadata": {
        "id": "92_QT-Uj6NBg"
      },
      "execution_count": null,
      "outputs": []
    },
    {
      "cell_type": "code",
      "source": [
        "obj = Rectangle(3,4)"
      ],
      "metadata": {
        "id": "3gJ5cyb80lDd",
        "outputId": "0d59b1f2-8dff-49de-8fb2-abb5ac9b1f91",
        "colab": {
          "base_uri": "https://localhost:8080/"
        }
      },
      "execution_count": null,
      "outputs": [
        {
          "output_type": "stream",
          "name": "stdout",
          "text": [
            "length of the rectangle :  3\n",
            "breadth of the rectangle :  4\n",
            "Area of the rectangle :  12\n",
            "perimeter of the rectangle :  14\n"
          ]
        }
      ]
    },
    {
      "cell_type": "markdown",
      "source": [
        "##`Q-2: Bank Class`\n",
        "\n",
        "1. Create a Python class called `BankAccount` which represents a bank account, having as attributes: `accountNumber` (numeric type), `name` (name of the account owner as string type), `balance`.\n",
        "2. Create a constructor with parameters: `accountNumber, name, balance`.\n",
        "3. Create a `Deposit()` method which manages the deposit actions.\n",
        "4. Create a `Withdrawal()` method  which manages withdrawals actions.\n",
        "5. Create an `bankFees()` method to apply the bank fees with a percentage of 5% of the balance account.\n",
        "6. Create a `display()` method to display account details.\n",
        "Give the complete code for the  BankAccount class."
      ],
      "metadata": {
        "id": "r_GxrS0Vrdom"
      }
    },
    {
      "cell_type": "markdown",
      "source": [
        "Eg.\n",
        "After making above classes and methods, on executing below code:-\n",
        "```\n",
        "newAccount = BankAccount(2178514584, \"Mandy\" , 2800)\n",
        "\n",
        "newAccount.Withdrawal(700)\n",
        "\n",
        "newAccount.Deposit(1000)\n",
        "\n",
        "newAccount.display()\n",
        "```\n",
        "\n",
        "`Output:`\n",
        "```\n",
        "Account Number :  2178514584\n",
        "Account Name :  Mandy\n",
        "Account Balance :  3100 ₹\n",
        "```"
      ],
      "metadata": {
        "id": "qvVkOUJgvTV_"
      }
    },
    {
      "cell_type": "code",
      "source": [
        "class BankAccount:\n",
        "  def __init__(self,accountnumber,name,balance):\n",
        "    self.accountno = accountnumber\n",
        "    self.name = name\n",
        "    self.balance = balance\n",
        "  def Deposit(self,a):\n",
        "     self.balance = self.balance + a\n",
        "  def Withdrawal(self,a):\n",
        "    self.balance = self.balance - a\n",
        "  def BankFees(self):\n",
        "    self.balance = self.balance/100 * 5\n",
        "  def Display(self):\n",
        "    print(f\"Account number : {self.accountno}\")\n",
        "    print(f\"Account name : {self.name}\")\n",
        "    print(f\"account balance : {self.balance}₹\")\n"
      ],
      "metadata": {
        "id": "fUQOmQyA6YDR"
      },
      "execution_count": null,
      "outputs": []
    },
    {
      "cell_type": "code",
      "source": [
        "newAccount = BankAccount(2178514584, \"Mandy\" , 2800)\n",
        "\n",
        "newAccount.Withdrawal(700)\n",
        "\n",
        "newAccount.Deposit(1000)\n",
        "\n",
        "newAccount.Display()"
      ],
      "metadata": {
        "id": "ttUdTJi34oZ_",
        "outputId": "f3b72511-42f7-456e-fe3b-71a027dc1342",
        "colab": {
          "base_uri": "https://localhost:8080/"
        }
      },
      "execution_count": null,
      "outputs": [
        {
          "output_type": "stream",
          "name": "stdout",
          "text": [
            "Account number : 2178514584\n",
            "Account name : Mandy\n",
            "account balance : 3100₹\n"
          ]
        }
      ]
    },
    {
      "cell_type": "markdown",
      "source": [
        "##`Q-3:Computation class`\n",
        "\n",
        "1. Create a `Computation` class with a default constructor (without parameters) allowing to perform various calculations on integers numbers.\n",
        "2. Create a method called `Factorial()` which allows to calculate the factorial of an integer n. Integer n as parameter for this method\n",
        "\n",
        "3. Create a method called `naturalSum()` allowing to calculate the sum of the first n integers 1 + 2 + 3 + .. + n. Integer n as parameter for this method.\n",
        "\n",
        "4. Create a method called `testPrime()` in  the Calculation class to test the primality of a given integer n, n is Prime or Not? Integer n as parameter for this method.\n",
        "\n",
        "5. Create  a method called `testPrims()` allowing to test if two numbers are prime between them. Two integers are prime to one another if they have only `1` as their common divisor. Eg. 4 and 9 are prime to each other.\n",
        "\n",
        "5. Create a `tableMult()` method which creates and displays the multiplication table of a given integer. Then create an `allTablesMult()` method to display all the integer multiplication tables 1, 2, 3, ..., 9.\n",
        "\n",
        "6. Create a static `listDiv()` method that gets all the divisors of a given integer on new list called  Ldiv. Create another `listDivPrim()` method that gets all the prime divisors of a given integer."
      ],
      "metadata": {
        "id": "QovcQAZTrgGU"
      }
    },
    {
      "cell_type": "code",
      "source": [
        "class Computation:\n",
        "    def __init__(self):\n",
        "        pass\n",
        "\n",
        "    def Factorial(self, n):\n",
        "        f = 1\n",
        "        for i in range(1, n + 1):\n",
        "            f = f * i\n",
        "        print(f)\n",
        "\n",
        "    def naturalsum(self, n):\n",
        "        a = 0\n",
        "        for i in range(1, n + 1):\n",
        "            a += i\n",
        "        print(a)\n",
        "\n",
        "    def testPrime(self, n):\n",
        "        c = 0\n",
        "        for i in range(1, n):\n",
        "            if n % i == 0:\n",
        "                c += 1\n",
        "        if c == 2:\n",
        "            print(\"prime\")\n",
        "\n",
        "    def testprims(self, n1, n2):\n",
        "        l = [n1, n2]\n",
        "        l1 = []\n",
        "        for i in l:\n",
        "            c = 0\n",
        "            for j in range(1, i + 1):\n",
        "                if i % j == 0:\n",
        "                    c += 1\n",
        "            l1.append(c)\n",
        "        if l1[0] == 2 and l1[1] == 2:\n",
        "            print(\"both are primes\")\n",
        "        else:\n",
        "            print('both are not primes')\n",
        "    def tableMult(self,n):\n",
        "      print(f\"Multiplication table of {n}\")\n",
        "      for i in range(1,11):\n",
        "          print(f\"{n} * {i} = {n*i}\")\n",
        "    def listDiv(self,n):\n",
        "      Ldiv = []\n",
        "      for i in range(1,n+1):\n",
        "        if n%i==0:\n",
        "          Ldiv.append(i)\n",
        "      print(Ldiv)\n",
        "    def listDivPrime(self,n):\n",
        "      LdivPrime = []\n",
        "      for i in range(1,n+1):\n",
        "        c=0\n",
        "        if n%i == 0:\n",
        "          for j in range(1,i+1):\n",
        "             if i%j==0:\n",
        "                c+=1\n",
        "          if c==2:\n",
        "             LdivPrime.append(i)\n",
        "      print(LdivPrime)\n",
        "\n"
      ],
      "metadata": {
        "id": "YEkPH70l6Z-o"
      },
      "execution_count": null,
      "outputs": []
    },
    {
      "cell_type": "code",
      "source": [
        "obj = Computation()\n",
        "obj.listDivPrime(10)"
      ],
      "metadata": {
        "id": "Di-bcULT69vQ",
        "outputId": "2e5f714b-4a97-4e4f-e209-214d9b93c8ff",
        "colab": {
          "base_uri": "https://localhost:8080/"
        }
      },
      "execution_count": null,
      "outputs": [
        {
          "output_type": "stream",
          "name": "stdout",
          "text": [
            "[2, 5]\n"
          ]
        }
      ]
    },
    {
      "cell_type": "markdown",
      "source": [
        "##`Q-4`: Build flashcard using class in Python.\n",
        "\n",
        "Build a flashcard using class in python. A flashcard is a card having information on both sides, which can be used as an aid in memoization. Flashcards usually have a question on one side and an answer on the other.\n",
        "\n",
        "**Example 1:**\n",
        "\n",
        "Approach:\n",
        "\n",
        "- Create a class named FlashCard.\n",
        "- Initialize dictionary fruits using __init__() method. Here you have to define fruit name as key and it's color as value. E.g., {\"Banana\": \"yellow\", \"Strawberries\": \"pink\"}\n",
        "- Now randomly choose a pair from fruits by using _random_ module and store the key in variable _fruit_ and _value_ in variable color.\n",
        "- Now prompt the user to answer the color of the randomly chosen fruit.\n",
        "- If correct print correct else print wrong.\n",
        "\n",
        "Output:\n",
        "```bash\n",
        "welcome to fruit quiz\n",
        "What is the color of Strawberries\n",
        "pink\n",
        "Correct answer\n",
        "Enter 0, if you want to play again: 0\n",
        "What is the color of watermelon\n",
        "green\n",
        "Correct answer\n",
        "Enter 0, if you want to play again: 1\n",
        "```"
      ],
      "metadata": {
        "id": "0yn23_oEriXa"
      }
    },
    {
      "cell_type": "code",
      "source": [
        "import random\n",
        "class FlashCard:\n",
        "  def __init__(self):\n",
        "     self.fruits = {\"banana\":\"yellow\",\"strawberries\":'pink','apple':'red','mango':'yellow','grapes':'purple'}\n",
        "     self.fruit = list(self.fruits.keys())\n",
        "  def Prediction(self):\n",
        "    while True:\n",
        "      p = random.choice(self.fruit)\n",
        "      print(f\"what is the color of {p}\")\n",
        "      a = input(\"enter your answer : \")\n",
        "      if a == self.fruits[p]:\n",
        "         print(\"correct\")\n",
        "         b = int(input(\"enter 1  to continue | 0 to stop \"))\n",
        "         if b == 1:\n",
        "           self.Prediction()\n",
        "         else:\n",
        "            break\n",
        "      else:\n",
        "        print(\"incorrect\")"
      ],
      "metadata": {
        "id": "vCrUF6VU6l6w"
      },
      "execution_count": null,
      "outputs": []
    },
    {
      "cell_type": "code",
      "source": [
        "obj = FlashCard()\n",
        "\n",
        "obj.Prediction()"
      ],
      "metadata": {
        "id": "NXpRpmO9MX1y",
        "outputId": "27cc5826-b7d2-425c-fb00-909d49d66f37",
        "colab": {
          "base_uri": "https://localhost:8080/"
        }
      },
      "execution_count": null,
      "outputs": [
        {
          "name": "stdout",
          "output_type": "stream",
          "text": [
            "what is the color of grapes\n",
            "enter your answer : purple\n",
            "correct\n",
            "enter 1  to continue | 0 to stop 1\n",
            "what is the color of apple\n",
            "enter your answer : red\n",
            "correct\n",
            "enter 1  to continue | 0 to stop 0\n",
            "what is the color of banana\n",
            "enter your answer : yellow\n",
            "correct\n",
            "enter 1  to continue | 0 to stop 0\n"
          ]
        }
      ]
    },
    {
      "cell_type": "code",
      "source": [
        "class TechWorld:\n",
        "  def __init__(self,name,skill,experience,avgfeedback):\n",
        "    self.name = name\n",
        "    self.skill = skill\n",
        "    self.experience = experience\n",
        "    self.avgfeedback = avgfeedback\n",
        "    self.courses = ['datascience','python','react','english','statistics']\n",
        "  def check_eligibility(self):\n",
        "    if self.experience > 3 and self.avgfeedback >= 4.5:\n",
        "      return True\n",
        "    elif self.experience <= 3 and self.avgfeedback >= 4:\n",
        "      return True\n",
        "    else:\n",
        "      return False\n",
        "  def allocate_course(self):\n",
        "    if self.check_eligibility() == True:\n",
        "      for i in self.skill:\n",
        "        if i in self.courses:\n",
        "          return True\n",
        "        else:\n",
        "          return False\n"
      ],
      "metadata": {
        "id": "lBiUIyDST3O_"
      },
      "execution_count": null,
      "outputs": []
    },
    {
      "cell_type": "code",
      "source": [
        "obj = TechWorld('dev',['python','datascience','ai'],5,4.5)\n",
        "obj.check_eligibility()"
      ],
      "metadata": {
        "id": "3aRy9RYBWdJs",
        "outputId": "90307b9f-4941-4ee8-9d09-ca77d9311a08",
        "colab": {
          "base_uri": "https://localhost:8080/"
        }
      },
      "execution_count": null,
      "outputs": [
        {
          "output_type": "execute_result",
          "data": {
            "text/plain": [
              "True"
            ]
          },
          "metadata": {},
          "execution_count": 122
        }
      ]
    },
    {
      "cell_type": "markdown",
      "source": [
        "### Write OOP classes to handle the following scenarios:\n",
        "\n",
        "- A user can create and view 2D coordinates\n",
        "- A user can find out the distance between 2 coordinates\n",
        "- A user can find find the distance of a coordinate from origin\n",
        "- A user can check if a point lies on a given line\n",
        "- A user can find the distance between a given 2D point and a given line"
      ],
      "metadata": {
        "id": "QFXlGE60ApGa"
      }
    },
    {
      "cell_type": "code",
      "source": [
        "\n",
        "class Point:\n",
        "  def __init__(self,x,y):\n",
        "    self.x_cod = x\n",
        "    self.y_cod = y\n",
        "  def __str__(self):\n",
        "    return f'Coordinates : <{self.x_cod},{self.y_cod}>'\n",
        "  def euclidien_distance(self,other):\n",
        "    return ((self.x_cod - other.x_cod)**2 + (self.y_cod - other.y_cod)**2)**0.5\n",
        "  def distance_from_origin(self):\n",
        "       # return self.euclidean_distance(Point(0,0))\n",
        "    return self.euclidien_distance(Point(0,0))\n",
        "class Line:\n",
        "  def __init__(self,A,B,C):\n",
        "    self.A = A\n",
        "    self.B = B\n",
        "    self.C = C\n",
        "  def __str__(self):\n",
        "    return f'Line equation : {self.A}x + {self.B}y + {self.C} = 0'\n",
        "  def point_on_line(line,point):\n",
        "    if line.A * point.x_cod + line.B*point.y_cod + line.C == 0:\n",
        "      return \"lies on the line\"\n",
        "    else:\n",
        "      return \"doesnot lie on the line\"\n",
        "  def shortest_distance(line,point):\n",
        "    return  abs(line.A*point.x_cod + line.B*point.y_cod + line.C)/(line.A**2 + line.B**2)**0.5\n"
      ],
      "metadata": {
        "id": "OC6wvwTgArXj"
      },
      "execution_count": null,
      "outputs": []
    },
    {
      "cell_type": "code",
      "source": [
        "P1 = Point(0,0)\n",
        "P2 = Point(10,10)\n",
        "P1.euclidien_distance(P2)\n",
        "P1.distance_from_origin()"
      ],
      "metadata": {
        "id": "rMYmmSTRB4zm",
        "outputId": "b56d467d-2f32-43f4-9fe1-ac2cc7eb9b8e",
        "colab": {
          "base_uri": "https://localhost:8080/"
        }
      },
      "execution_count": null,
      "outputs": [
        {
          "output_type": "execute_result",
          "data": {
            "text/plain": [
              "0.0"
            ]
          },
          "metadata": {},
          "execution_count": 38
        }
      ]
    },
    {
      "cell_type": "code",
      "source": [
        "l1 = Line(1,1,-2)\n",
        "p1 = Point(1,1)\n",
        "l1.point_on_line(p1)"
      ],
      "metadata": {
        "id": "3Fu07B2rGdUs",
        "outputId": "327932b2-2559-42a5-8916-c889888d64d0",
        "colab": {
          "base_uri": "https://localhost:8080/",
          "height": 36
        }
      },
      "execution_count": null,
      "outputs": [
        {
          "output_type": "execute_result",
          "data": {
            "text/plain": [
              "'lies on the line'"
            ],
            "application/vnd.google.colaboratory.intrinsic+json": {
              "type": "string"
            }
          },
          "metadata": {},
          "execution_count": 39
        }
      ]
    },
    {
      "cell_type": "code",
      "source": [
        "l1.shortest_distance(p1)"
      ],
      "metadata": {
        "id": "KZ54P16BKRb8",
        "outputId": "973f3e58-d77e-45b8-81ce-d694cd1f4ba7",
        "colab": {
          "base_uri": "https://localhost:8080/"
        }
      },
      "execution_count": null,
      "outputs": [
        {
          "output_type": "execute_result",
          "data": {
            "text/plain": [
              "0.0"
            ]
          },
          "metadata": {},
          "execution_count": 40
        }
      ]
    },
    {
      "cell_type": "markdown",
      "source": [
        "### How objects access attributes"
      ],
      "metadata": {
        "id": "iN-sli_cK76O"
      }
    },
    {
      "cell_type": "code",
      "source": [
        "class Person:\n",
        "\n",
        "  def __init__(self,name_input,country_input):\n",
        "    self.name = name_input\n",
        "    self.country = country_input\n",
        "\n",
        "  def greet(self):\n",
        "    if self.country == 'india':\n",
        "      print('Namaste',self.name)\n",
        "    else:\n",
        "      print('Hello',self.name)"
      ],
      "metadata": {
        "id": "1wbqUYivPAK5"
      },
      "execution_count": null,
      "outputs": []
    },
    {
      "cell_type": "code",
      "source": [
        "#how to access attributes\n",
        "p = Person('veda','india')"
      ],
      "metadata": {
        "id": "FInb7etbPQAF"
      },
      "execution_count": null,
      "outputs": []
    },
    {
      "cell_type": "code",
      "source": [
        "p.country\n",
        "p.name"
      ],
      "metadata": {
        "id": "Xe3lXpFuPaqG",
        "outputId": "d2e32efe-289f-48c3-88b9-70176b481dc8",
        "colab": {
          "base_uri": "https://localhost:8080/",
          "height": 36
        }
      },
      "execution_count": null,
      "outputs": [
        {
          "output_type": "execute_result",
          "data": {
            "text/plain": [
              "'veda'"
            ],
            "application/vnd.google.colaboratory.intrinsic+json": {
              "type": "string"
            }
          },
          "metadata": {},
          "execution_count": 44
        }
      ]
    },
    {
      "cell_type": "code",
      "source": [
        "#how to access methods\n",
        "p.greet()"
      ],
      "metadata": {
        "id": "wNvBDp8xPjX5",
        "outputId": "95873060-2922-47b3-ae05-73c032629034",
        "colab": {
          "base_uri": "https://localhost:8080/"
        }
      },
      "execution_count": null,
      "outputs": [
        {
          "output_type": "stream",
          "name": "stdout",
          "text": [
            "Namaste veda\n"
          ]
        }
      ]
    },
    {
      "cell_type": "markdown",
      "source": [
        "# Attribute creation outside the class"
      ],
      "metadata": {
        "id": "wdzYRZJDPwm9"
      }
    },
    {
      "cell_type": "markdown",
      "source": [
        "using the object we can ceate attributes outside the class"
      ],
      "metadata": {
        "id": "s0COFbvjP8lw"
      }
    },
    {
      "cell_type": "code",
      "source": [
        "p.gender = 'male'"
      ],
      "metadata": {
        "id": "fxHdxYR3P0A5"
      },
      "execution_count": null,
      "outputs": []
    },
    {
      "cell_type": "code",
      "source": [
        "p.gender"
      ],
      "metadata": {
        "id": "6bPAp8KKP54w",
        "outputId": "8af3def1-f4a1-4972-b8e3-5d4e265b3b7f",
        "colab": {
          "base_uri": "https://localhost:8080/",
          "height": 36
        }
      },
      "execution_count": null,
      "outputs": [
        {
          "output_type": "execute_result",
          "data": {
            "text/plain": [
              "'male'"
            ],
            "application/vnd.google.colaboratory.intrinsic+json": {
              "type": "string"
            }
          },
          "metadata": {},
          "execution_count": 47
        }
      ]
    },
    {
      "cell_type": "markdown",
      "source": [
        "### Reference Variables\n",
        "\n",
        "- Reference variables hold the objects\n",
        "- We can create objects without reference variable as well\n",
        "- An object can have multiple reference variables\n",
        "- Assigning a new reference variable to an existing object does not create a new object"
      ],
      "metadata": {
        "id": "onaO3AGYQBoj"
      }
    },
    {
      "cell_type": "code",
      "source": [
        "class Person:\n",
        "  def __init__(self):\n",
        "    self.name = 'veda'\n",
        "    self.gender = 'male'\n",
        "p  = Person() #p is the reference variable that store the addressof object\n",
        "q = p"
      ],
      "metadata": {
        "id": "Nn5cLDEqQE_B"
      },
      "execution_count": null,
      "outputs": []
    },
    {
      "cell_type": "code",
      "source": [
        "#change attribute value with the help of 2nd object\n",
        "print(p.name)\n",
        "print(q.name)\n",
        "q.name = 'raka'\n",
        "print(p.name)\n",
        "print(q.name)"
      ],
      "metadata": {
        "id": "DzLLMzJ5RzJF",
        "outputId": "25729766-0a02-4783-dfe5-6be61a4b31c5",
        "colab": {
          "base_uri": "https://localhost:8080/"
        }
      },
      "execution_count": null,
      "outputs": [
        {
          "output_type": "stream",
          "name": "stdout",
          "text": [
            "veda\n",
            "veda\n",
            "raka\n",
            "raka\n"
          ]
        }
      ]
    },
    {
      "cell_type": "markdown",
      "source": [
        "### Pass by reference"
      ],
      "metadata": {
        "id": "SW8WvjrKSxQs"
      }
    },
    {
      "cell_type": "code",
      "source": [
        "class Person:\n",
        "  def __init__(self,name,gender):\n",
        "    self.name = name\n",
        "    self.gender = gender\n",
        "def greet(person):\n",
        "  print(\"hiiiiiiiii\",person.name,'gender',person.gender)\n",
        "  p1 = Person('ankit','male')\n",
        "  return p1\n",
        "p  = Person('dev','male')\n",
        "x = greet(p)\n",
        "print(x.name)\n",
        "print(x.gender)"
      ],
      "metadata": {
        "id": "eDHb-ohzS2SV",
        "outputId": "e164c30b-f048-498e-e55b-e9f963028d97",
        "colab": {
          "base_uri": "https://localhost:8080/"
        }
      },
      "execution_count": null,
      "outputs": [
        {
          "output_type": "stream",
          "name": "stdout",
          "text": [
            "hiiiiiiiii dev gender male\n",
            "<__main__.Person object at 0x7e5a66be35e0>\n",
            "ankit\n",
            "male\n"
          ]
        }
      ]
    },
    {
      "cell_type": "code",
      "source": [
        "class Person:\n",
        "  def __init__(self,name,gender):\n",
        "    self.name = name\n",
        "    self.gender = gender\n",
        "def greet(person):\n",
        "  #print(\"hiiiiiiiii\",person.name,'gender',person.gender)\n",
        "  print(id(person))\n",
        "p = Person('veda','male')\n",
        "print(id(p))\n",
        "greet(p)\n",
        "print(p.name)"
      ],
      "metadata": {
        "id": "WKwcug4SUG8W",
        "outputId": "7ce6e3b1-c4a4-4df6-8389-12c363f58339",
        "colab": {
          "base_uri": "https://localhost:8080/"
        }
      },
      "execution_count": null,
      "outputs": [
        {
          "output_type": "stream",
          "name": "stdout",
          "text": [
            "138926735890784\n",
            "138926735890784\n",
            "veda\n"
          ]
        }
      ]
    },
    {
      "cell_type": "markdown",
      "source": [
        "mutability of object"
      ],
      "metadata": {
        "id": "5HSiK7SOb8AT"
      }
    },
    {
      "cell_type": "code",
      "source": [
        "class Person:\n",
        "  def __init__(self,name,gender):\n",
        "    self.name = name\n",
        "    self.gender = gender\n",
        "def greet(person):\n",
        "  person.name = 'ankit'\n",
        "  return person\n",
        "p = Person('dev','male')\n",
        "print(id(p))\n",
        "p1 = greet(p)\n",
        "print(id(p1))\n",
        "print(p.name)"
      ],
      "metadata": {
        "id": "nIDaVM9Rb-95",
        "outputId": "e9bdda74-7da7-4f69-f3a2-34f7755f0685",
        "colab": {
          "base_uri": "https://localhost:8080/"
        }
      },
      "execution_count": null,
      "outputs": [
        {
          "output_type": "stream",
          "name": "stdout",
          "text": [
            "138926733100896\n",
            "138926733100896\n",
            "ankit\n"
          ]
        }
      ]
    },
    {
      "cell_type": "markdown",
      "source": [
        "## Encapsulation\n",
        "wrapping around of data into a single unit , bundling of data and methods into a single unit"
      ],
      "metadata": {
        "id": "0fQ1IZhEdUTM"
      }
    },
    {
      "cell_type": "markdown",
      "source": [
        "instance variable : It is a special variable where its value depends on the object"
      ],
      "metadata": {
        "id": "edSonumTelqU"
      }
    },
    {
      "cell_type": "code",
      "source": [
        "class Person:\n",
        "\n",
        "  def __init__(self,name_input,country_input):\n",
        "    self.name = name_input\n",
        "    self.country = country_input\n",
        "\n",
        "p1 = Person('nitish','india')\n",
        "p2 = Person('steve','australia')"
      ],
      "metadata": {
        "id": "V1udyhh6eMkV"
      },
      "execution_count": null,
      "outputs": []
    },
    {
      "cell_type": "code",
      "source": [
        "p1.name"
      ],
      "metadata": {
        "id": "r5A3z_JpdX05",
        "outputId": "695d984b-19d2-4fb9-c016-5ef4990014a7",
        "colab": {
          "base_uri": "https://localhost:8080/",
          "height": 36
        }
      },
      "execution_count": null,
      "outputs": [
        {
          "output_type": "execute_result",
          "data": {
            "text/plain": [
              "'nitish'"
            ],
            "application/vnd.google.colaboratory.intrinsic+json": {
              "type": "string"
            }
          },
          "metadata": {},
          "execution_count": 62
        }
      ]
    },
    {
      "cell_type": "code",
      "source": [
        "p2.name"
      ],
      "metadata": {
        "id": "QDliP2WIfTIQ",
        "outputId": "06a758c5-f80a-4aae-b176-0eeb9c875875",
        "colab": {
          "base_uri": "https://localhost:8080/",
          "height": 36
        }
      },
      "execution_count": null,
      "outputs": [
        {
          "output_type": "execute_result",
          "data": {
            "text/plain": [
              "'steve'"
            ],
            "application/vnd.google.colaboratory.intrinsic+json": {
              "type": "string"
            }
          },
          "metadata": {},
          "execution_count": 63
        }
      ]
    },
    {
      "cell_type": "code",
      "source": [
        "class Atm:\n",
        "    def __init__(self):  # Automatically invoked when an object is created\n",
        "        self.pin = ''\n",
        "        self.balance = 0\n",
        "        #self.menu()\n",
        "\n",
        "    def menu(self):\n",
        "        user_input = input('''\n",
        "        Hi, how can I help you?\n",
        "        1. Press 1 to create pin\n",
        "        2. Press 2 to change pin\n",
        "        3. Press 3 to check for balance\n",
        "        4. Press 4 to withdraw\n",
        "        5. Anything else to exit\n",
        "                  ''')\n",
        "        if user_input == '1':\n",
        "            self.create_pin()\n",
        "        elif user_input == '2':\n",
        "            self.change_pin()\n",
        "        elif user_input == '3':\n",
        "            self.check_balance()\n",
        "        elif user_input == '4':\n",
        "            self.withdraw()\n",
        "        else:\n",
        "            quit()\n",
        "\n",
        "    def create_pin(self):\n",
        "        user_pin = int(input(\"Enter your pin: \"))\n",
        "        self.pin = user_pin\n",
        "        user_balance = int(input(\"Enter the balance: \"))\n",
        "        self.balance = user_balance\n",
        "        print(\"Pin created successfully.\")\n",
        "        self.menu()\n",
        "\n",
        "    def change_pin(self):\n",
        "        pin = int(input(\"enter your current pin : \"))\n",
        "        if pin == self.pin:\n",
        "            change_pin = int(input(\"enter the new pin : \"))\n",
        "            self.pin = change_pin\n",
        "            print(\"PIN changed successfully\")\n",
        "            self.menu()\n",
        "        else:\n",
        "            print(\"wrong pin\")\n",
        "            self.menu()\n",
        "\n",
        "    def check_balance(self):\n",
        "      pin = int(input(\"enter your current pin : \"))\n",
        "      if pin == self.pin:\n",
        "          print('your balance is ',self.balance)\n",
        "          self.menu()\n",
        "      else:\n",
        "        print(\"wrong pin\")\n",
        "        self.menu()\n",
        "    def withdraw(self):\n",
        "      user_pin = input(\"enter the pin\")\n",
        "      if user_pin == self.pin:\n",
        "        amount  = int(input(\"enter the amount\"))\n",
        "        if amount <= self.balance:\n",
        "          self.balance = self.balance - amount\n",
        "          print('withdrawl succcessful | balance is',self.balance)\n",
        "          self.menu()\n",
        "        else:\n",
        "           print('insufficent balance')\n",
        "      else:\n",
        "        print(\"wrong pin\")"
      ],
      "metadata": {
        "id": "sv7UD0KEfhX5"
      },
      "execution_count": null,
      "outputs": []
    },
    {
      "cell_type": "code",
      "source": [
        "obj = Atm()"
      ],
      "metadata": {
        "id": "r8Jj-TBZf3tH"
      },
      "execution_count": null,
      "outputs": []
    },
    {
      "cell_type": "code",
      "source": [
        "obj.balance  = 'hehehehee'"
      ],
      "metadata": {
        "id": "AsFwm_eNga1G"
      },
      "execution_count": null,
      "outputs": []
    },
    {
      "cell_type": "code",
      "source": [],
      "metadata": {
        "id": "kthBWlUKRm1j"
      },
      "execution_count": null,
      "outputs": []
    },
    {
      "cell_type": "markdown",
      "source": [
        "### Collection of objects"
      ],
      "metadata": {
        "id": "2zN_yVYaf0_1"
      }
    },
    {
      "cell_type": "code",
      "source": [],
      "metadata": {
        "id": "UN7FByT3LZSX"
      },
      "execution_count": null,
      "outputs": []
    },
    {
      "cell_type": "code",
      "source": [
        "# list of objects\n",
        "class Person:\n",
        "\n",
        "  def __init__(self,name,gender):\n",
        "    self.name = name\n",
        "    self.gender = gender\n",
        "\n",
        "p1 = Person('nitish','male')\n",
        "p2 = Person('ankit','male')\n",
        "p3 = Person('ankita','female')\n",
        "\n",
        "L = [p1,p2,p3]\n",
        "\n",
        "for i in L:\n",
        "  print(i.name,i.gender)"
      ],
      "metadata": {
        "id": "VdP0aR6Qf4zp",
        "colab": {
          "base_uri": "https://localhost:8080/"
        },
        "outputId": "72deb00b-deae-4536-da36-2bae44d2245c"
      },
      "execution_count": null,
      "outputs": [
        {
          "output_type": "stream",
          "name": "stdout",
          "text": [
            "nitish male\n",
            "ankit male\n",
            "ankita female\n"
          ]
        }
      ]
    },
    {
      "cell_type": "code",
      "source": [
        "# dict of objects\n",
        "# list of objects\n",
        "class Person:\n",
        "\n",
        "  def __init__(self,name,gender):\n",
        "    self.name = name\n",
        "    self.gender = gender\n",
        "\n",
        "p1 = Person('nitish','male')\n",
        "p2 = Person('ankit','male')\n",
        "p3 = Person('ankita','female')\n",
        "\n",
        "d = {'p1':p1,'p2':p2,'p3':p3}\n",
        "\n",
        "for i in d:\n",
        "  print(d[i].gender)"
      ],
      "metadata": {
        "id": "uARXTZTCvt3M",
        "colab": {
          "base_uri": "https://localhost:8080/"
        },
        "outputId": "18e100f5-07a5-43df-d0d9-482ce648f6f5"
      },
      "execution_count": null,
      "outputs": [
        {
          "output_type": "stream",
          "name": "stdout",
          "text": [
            "male\n",
            "male\n",
            "female\n"
          ]
        }
      ]
    },
    {
      "cell_type": "markdown",
      "source": [
        "### Static Variables(Vs Instance variables)"
      ],
      "metadata": {
        "id": "TKdM9xIFf8Lt"
      }
    },
    {
      "cell_type": "code",
      "source": [
        "# need for static vars"
      ],
      "metadata": {
        "id": "yQakCFqbf-kB"
      },
      "execution_count": null,
      "outputs": []
    },
    {
      "cell_type": "code",
      "source": [
        "class Atm:\n",
        "\n",
        "  __counter = 1\n",
        "\n",
        "  # constructor(special function)->superpower ->\n",
        "  def __init__(self):\n",
        "    print(id(self))\n",
        "    self.pin = ''\n",
        "    self.__balance = 0\n",
        "    self.cid = Atm.__counter\n",
        "    Atm.__counter = Atm.__counter + 1\n",
        "    #self.menu()\n",
        "\n",
        "  # utility functions\n",
        "  @staticmethod\n",
        "  def get_counter():\n",
        "    return Atm.__counter\n",
        "\n",
        "\n",
        "  def get_balance(self):\n",
        "    return self.__balance\n",
        "\n",
        "  def set_balance(self,new_value):\n",
        "    if type(new_value) == int:\n",
        "      self.__balance = new_value\n",
        "    else:\n",
        "      print('beta bahot maarenge')\n",
        "\n",
        "  def __menu(self):\n",
        "    user_input = input(\"\"\"\n",
        "    Hi how can I help you?\n",
        "    1. Press 1 to create pin\n",
        "    2. Press 2 to change pin\n",
        "    3. Press 3 to check balance\n",
        "    4. Press 4 to withdraw\n",
        "    5. Anything else to exit\n",
        "    \"\"\")\n",
        "\n",
        "    if user_input == '1':\n",
        "      self.create_pin()\n",
        "    elif user_input == '2':\n",
        "      self.change_pin()\n",
        "    elif user_input == '3':\n",
        "      self.check_balance()\n",
        "    elif user_input == '4':\n",
        "      self.withdraw()\n",
        "    else:\n",
        "      exit()\n",
        "\n",
        "  def create_pin(self):\n",
        "    user_pin = input('enter your pin')\n",
        "    self.pin = user_pin\n",
        "\n",
        "    user_balance = int(input('enter balance'))\n",
        "    self.__balance = user_balance\n",
        "\n",
        "    print('pin created successfully')\n",
        "\n",
        "  def change_pin(self):\n",
        "    old_pin = input('enter old pin')\n",
        "\n",
        "    if old_pin == self.pin:\n",
        "      # let him change the pin\n",
        "      new_pin = input('enter new pin')\n",
        "      self.pin = new_pin\n",
        "      print('pin change successful')\n",
        "    else:\n",
        "      print('nai karne de sakta re baba')\n",
        "\n",
        "  def check_balance(self):\n",
        "    user_pin = input('enter your pin')\n",
        "    if user_pin == self.pin:\n",
        "      print('your balance is ',self.__balance)\n",
        "    else:\n",
        "      print('chal nikal yahan se')\n",
        "\n",
        "  def withdraw(self):\n",
        "    user_pin = input('enter the pin')\n",
        "    if user_pin == self.pin:\n",
        "      # allow to withdraw\n",
        "      amount = int(input('enter the amount'))\n",
        "      if amount <= self.__balance:\n",
        "        self.__balance = self.__balance - amount\n",
        "        print('withdrawl successful.balance is',self.__balance)\n",
        "      else:\n",
        "        print('abe garib')\n",
        "    else:\n",
        "      print('sale chor')"
      ],
      "metadata": {
        "id": "5HYjBHv9wZNm"
      },
      "execution_count": null,
      "outputs": []
    },
    {
      "cell_type": "code",
      "source": [
        "c1 = Atm()"
      ],
      "metadata": {
        "id": "uafMrCPewZWY",
        "colab": {
          "base_uri": "https://localhost:8080/"
        },
        "outputId": "b0c914a4-b08b-4aa0-ebcb-9f1b4bacd0ba"
      },
      "execution_count": null,
      "outputs": [
        {
          "output_type": "stream",
          "name": "stdout",
          "text": [
            "140655538287248\n"
          ]
        }
      ]
    },
    {
      "cell_type": "code",
      "source": [
        "Atm.get_counter()"
      ],
      "metadata": {
        "id": "f35wRAlXwZa7",
        "colab": {
          "base_uri": "https://localhost:8080/"
        },
        "outputId": "a7a897b2-8262-45b7-b83a-aad207ee102f"
      },
      "execution_count": null,
      "outputs": [
        {
          "output_type": "execute_result",
          "data": {
            "text/plain": [
              "2"
            ]
          },
          "metadata": {},
          "execution_count": 128
        }
      ]
    },
    {
      "cell_type": "code",
      "source": [
        "c3 = Atm()"
      ],
      "metadata": {
        "colab": {
          "base_uri": "https://localhost:8080/"
        },
        "id": "WiCrLBgGTseq",
        "outputId": "9019d462-0b46-4a9d-8837-6a3c31591ad4"
      },
      "execution_count": null,
      "outputs": [
        {
          "output_type": "stream",
          "name": "stdout",
          "text": [
            "140655538226704\n"
          ]
        }
      ]
    },
    {
      "cell_type": "code",
      "source": [
        "c3.cid"
      ],
      "metadata": {
        "colab": {
          "base_uri": "https://localhost:8080/"
        },
        "id": "YwPU4wRYTuoK",
        "outputId": "cb34a43c-1337-412f-c7ee-e6a2eccd9066"
      },
      "execution_count": null,
      "outputs": [
        {
          "output_type": "execute_result",
          "data": {
            "text/plain": [
              "3"
            ]
          },
          "metadata": {},
          "execution_count": 121
        }
      ]
    },
    {
      "cell_type": "code",
      "source": [
        "Atm.counter"
      ],
      "metadata": {
        "colab": {
          "base_uri": "https://localhost:8080/"
        },
        "id": "-shiIdW1Vmzd",
        "outputId": "2e1b0468-2e2f-4061-d219-6ee4d818ceea"
      },
      "execution_count": null,
      "outputs": [
        {
          "output_type": "execute_result",
          "data": {
            "text/plain": [
              "4"
            ]
          },
          "metadata": {},
          "execution_count": 122
        }
      ]
    },
    {
      "cell_type": "markdown",
      "source": [
        "### Static methods"
      ],
      "metadata": {
        "id": "K9bxHyfBgC3Y"
      }
    },
    {
      "cell_type": "markdown",
      "source": [
        "##### Points to remember about static\n",
        "\n",
        "- Static attributes are created at class level.\n",
        "- Static attributes are accessed using ClassName.\n",
        "- Static attributes are object independent. We can access them without creating instance (object) of the class in which they are defined.\n",
        "- The value stored in static attribute is shared between all instances(objects) of the class in which the static attribute is defined."
      ],
      "metadata": {
        "id": "Izqb_9FtwoIZ"
      }
    },
    {
      "cell_type": "code",
      "source": [
        "class Lion:\n",
        "  __water_source=\"well in the circus\"\n",
        "\n",
        "  def __init__(self,name, gender):\n",
        "      self.__name=name\n",
        "      self.__gender=gender\n",
        "\n",
        "  def drinks_water(self):\n",
        "      print(self.__name,\n",
        "      \"drinks water from the\",Lion.__water_source)\n",
        "\n",
        "  @staticmethod\n",
        "  def get_water_source():\n",
        "      return Lion.__water_source\n",
        "\n",
        "simba=Lion(\"Simba\",\"Male\")\n",
        "simba.drinks_water()\n",
        "print( \"Water source of lions:\",Lion.get_water_source())"
      ],
      "metadata": {
        "id": "3u0RdyaFwyaP"
      },
      "execution_count": null,
      "outputs": []
    },
    {
      "cell_type": "code",
      "source": [],
      "metadata": {
        "id": "1BYeQmiiSyYE"
      },
      "execution_count": null,
      "outputs": []
    },
    {
      "cell_type": "markdown",
      "source": [
        "###`Q1:`Count number of instances of a class created in Python?\n",
        "\n",
        "Example:\n",
        "Say `Car` is any class.\n",
        "```\n",
        "maruti = Car()\n",
        "bmw = Car()\n",
        "honda = Car()\n",
        "```\n",
        "So after creating above instances. We want to count how many instances are created of Car class.\n",
        "\n",
        "For above example `no of instances = 3`.\n",
        "\n",
        "Write a program for above problem.\n"
      ],
      "metadata": {
        "id": "f516p975CFjQ"
      }
    },
    {
      "cell_type": "code",
      "source": [
        "#write your code here\n",
        "\n",
        "class Car:\n",
        "  counter = 0\n",
        "  def __init__(self):\n",
        "    Car.counter +=1\n",
        "maruti = Car()\n",
        "bmw = Car()\n",
        "honda = Car()\n",
        "print(Car.counter)"
      ],
      "metadata": {
        "id": "nhyUP8nOC_-h",
        "outputId": "71f37cdd-e839-4b61-8f3a-de19a8d2322a",
        "colab": {
          "base_uri": "https://localhost:8080/"
        }
      },
      "execution_count": 2,
      "outputs": [
        {
          "output_type": "stream",
          "name": "stdout",
          "text": [
            "3\n"
          ]
        }
      ]
    },
    {
      "cell_type": "markdown",
      "source": [
        "###`Q-2:` Create a deck of cards class. Internally, the deck of cards should use another class, a card class. Your requirements are:\n",
        "\n",
        "* The `Deck` class should have a deal method to deal a single card from the deck\n",
        "* After a card is dealt, it is removed from the deck.\n",
        "* There should be a shuffle method which makes sure the deck of cards has all 52 cards and then rearranges them randomly.\n",
        "* The Card class should have a suit (Hearts, Diamonds, Clubs, Spades) and a value (A,2,3,4,5,6,7,8,9,10,J,Q,K)\n",
        "\n",
        "`Deck` Class\n",
        "* It is class of all possible cards in a deck. Total 52 cards.\n",
        "* Methods - `deal()` it will take out one card from the deck of cards.\n",
        "* Deck of cards should get shuffeled while creating the deck object.\n",
        "* `no of cards remaining in deck - <number>` should dsiplay on printing any deck object.\n",
        "\n",
        "`Card` class\n",
        "* It is a class of card\n",
        "* Atrributes - `suit` and `value`\n",
        "* `<suit> of <value>` should dsiplay on printing any card object."
      ],
      "metadata": {
        "id": "i-VcDbyhH6_v"
      }
    },
    {
      "cell_type": "code",
      "source": [
        "class Deck:\n",
        "  pass\n",
        "class Card:\n",
        "  pass"
      ],
      "metadata": {
        "id": "HkfAIQxWIACu"
      },
      "execution_count": null,
      "outputs": []
    },
    {
      "cell_type": "markdown",
      "source": [
        "### `Q-3`: Find the area of a rectangle.\n",
        "\n",
        "Approach:\n",
        "- The class name should be _Rectangle_.\n",
        "- The constructor should accept two parameters *length* and *height* but you can't pass the values directly to it while creating the constructor. E.g., rectangle = Rectangle(length=10, height=8) <-- you can't do that while creating the instances.\n",
        "- Create a method called *area()* which has no parameters.\n",
        "- Create a method called *is_square()* which also has no parameters. Return True if the rectangle is a square otherwise return False.\n",
        "- If you are using a if-else block inside the *is_square()* method, then use the one-linear syntax."
      ],
      "metadata": {
        "id": "RlF_O6-vPm5h"
      }
    },
    {
      "cell_type": "code",
      "source": [
        "class Rectangle:\n",
        "  length =\n",
        "  def __init__(self):\n",
        "\n"
      ],
      "metadata": {
        "id": "gq0Va2yzI2v0"
      },
      "execution_count": null,
      "outputs": []
    }
  ],
  "metadata": {
    "kernelspec": {
      "display_name": "Python 3",
      "language": "python",
      "name": "python3"
    },
    "language_info": {
      "codemirror_mode": {
        "name": "ipython",
        "version": 3
      },
      "file_extension": ".py",
      "mimetype": "text/x-python",
      "name": "python",
      "nbconvert_exporter": "python",
      "pygments_lexer": "ipython3",
      "version": "3.10.4"
    },
    "colab": {
      "provenance": []
    }
  },
  "nbformat": 4,
  "nbformat_minor": 0
}