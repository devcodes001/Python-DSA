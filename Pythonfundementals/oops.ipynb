{
  "cells": [
    {
      "cell_type": "markdown",
      "metadata": {
        "id": "4hOkUI7XF5Sq"
      },
      "source": [
        "# Object Oriented Programming"
      ]
    },
    {
      "cell_type": "markdown",
      "metadata": {
        "id": "5iDDeXtAF5Sr"
      },
      "source": [
        "object oriented programming is a programming paradigm that uses objects as its building blocks . oops consists of\n",
        "- class\n",
        "- objects\n",
        "- encapsulation\n",
        "- abstraction\n",
        "- inheritance\n",
        "- polymorphism"
      ]
    },
    {
      "cell_type": "markdown",
      "metadata": {
        "id": "Bipt3jtVF5Sr"
      },
      "source": [
        "**class** : class is a blueprint of how the objects are created\n",
        "\n",
        "class consists of\n",
        "- property/attributes/datamembers\n",
        "- methods/member functions\n",
        "\n",
        "         class  classname :\n",
        "                ............\n",
        "class name first letter should be capital"
      ]
    },
    {
      "cell_type": "markdown",
      "metadata": {
        "id": "bUUOeG0eF5Sr"
      },
      "source": [
        "Object : it is an instance of class\n",
        " - eg : car class consist of object bmw,benz\n",
        "\n",
        "syntax:\n",
        "\n",
        "          objectname = classname()"
      ]
    },
    {
      "cell_type": "markdown",
      "metadata": {
        "id": "iqLwryM0F5Sr"
      },
      "source": [
        "object can access the things that are present inside our class"
      ]
    },
    {
      "cell_type": "markdown",
      "metadata": {
        "id": "VScnGQjCF5Sr"
      },
      "source": [
        "constructor is a special method that is called automatically when an object is created from a class,we don't need to call explicitly"
      ]
    },
    {
      "cell_type": "code",
      "execution_count": null,
      "metadata": {
        "id": "f_N9zZ4tF5Sr"
      },
      "outputs": [],
      "source": [
        "class Atm:\n",
        "    def __init__(self): #this is actually not needed to be called, automatically invoke when an object is created\n",
        "        self.pin = ''\n",
        "        self.balance = 0\n",
        "        self.menu\n",
        "    def menu(self):\n",
        "        user_input = input('''\n",
        "        hii how can i help you?\n",
        "        1. Press 1 to create pin\n",
        "        2. Press 2 to change pin\n",
        "        3. Press 3 to check for balance\n",
        "        4. Press 4 to witchdraw\n",
        "        5. anything else to exit\n",
        "\n",
        "                  ''')\n",
        "        if user_input == '1':\n",
        "            create_pin()\n",
        "        elif user_input == '2':\n",
        "             pass\n",
        "        elif user_input == '3':\n",
        "            #check balance\n",
        "            pass\n",
        "        elif user_input == '4':\n",
        "            #withdraw\n",
        "            pass\n",
        "        else:\n",
        "            exit()\n",
        "        def create_pin(self):\n",
        "            user_pin = int(input(\"enter your pin : \"))\n",
        "            self.pin = user_pin\n",
        "            user_balance  =  int(input(\"enter the balance : \"))\n",
        "            self.balance = user_balance\n",
        "            print(\"pin created successfully\")"
      ]
    },
    {
      "cell_type": "code",
      "execution_count": null,
      "metadata": {
        "id": "f4dfmrOlF5Ss"
      },
      "outputs": [],
      "source": [
        "obj = Atm()"
      ]
    },
    {
      "cell_type": "code",
      "source": [
        "print(\"helo\")"
      ],
      "metadata": {
        "id": "_o8kbxeZGD9y",
        "outputId": "b071b211-db31-4ef7-836d-1cdf3a7c1947",
        "colab": {
          "base_uri": "https://localhost:8080/"
        }
      },
      "execution_count": 2,
      "outputs": [
        {
          "output_type": "stream",
          "name": "stdout",
          "text": [
            "helo\n"
          ]
        }
      ]
    }
  ],
  "metadata": {
    "kernelspec": {
      "display_name": "Python 3",
      "language": "python",
      "name": "python3"
    },
    "language_info": {
      "codemirror_mode": {
        "name": "ipython",
        "version": 3
      },
      "file_extension": ".py",
      "mimetype": "text/x-python",
      "name": "python",
      "nbconvert_exporter": "python",
      "pygments_lexer": "ipython3",
      "version": "3.10.4"
    },
    "colab": {
      "provenance": []
    }
  },
  "nbformat": 4,
  "nbformat_minor": 0
}