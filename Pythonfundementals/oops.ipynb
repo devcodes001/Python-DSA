{
  "cells": [
    {
      "cell_type": "markdown",
      "metadata": {
        "id": "4hOkUI7XF5Sq"
      },
      "source": [
        "# Object Oriented Programming"
      ]
    },
    {
      "cell_type": "markdown",
      "metadata": {
        "id": "5iDDeXtAF5Sr"
      },
      "source": [
        "object oriented programming is a programming paradigm that uses objects as its building blocks . oops consists of\n",
        "- class\n",
        "- objects\n",
        "- encapsulation\n",
        "- abstraction\n",
        "- inheritance\n",
        "- polymorphism"
      ]
    },
    {
      "cell_type": "markdown",
      "metadata": {
        "id": "Bipt3jtVF5Sr"
      },
      "source": [
        "**class** : class is a blueprint of how the objects are created\n",
        "\n",
        "class consists of\n",
        "- property/attributes/datamembers\n",
        "- methods/member functions\n",
        "\n",
        "         class  classname :\n",
        "                ............\n",
        "class name first letter should be capital"
      ]
    },
    {
      "cell_type": "markdown",
      "metadata": {
        "id": "bUUOeG0eF5Sr"
      },
      "source": [
        "Object : it is an instance of class\n",
        " - eg : car class consist of object bmw,benz\n",
        "\n",
        "syntax:\n",
        "\n",
        "          objectname = classname()"
      ]
    },
    {
      "cell_type": "markdown",
      "metadata": {
        "id": "iqLwryM0F5Sr"
      },
      "source": [
        "object can access the things that are present inside our class"
      ]
    },
    {
      "cell_type": "code",
      "execution_count": null,
      "metadata": {
        "id": "f_N9zZ4tF5Sr"
      },
      "outputs": [],
      "source": [
        "class Atm:\n",
        "    def __init__(self):  # Automatically invoked when an object is created\n",
        "        self.pin = ''\n",
        "        self.balance = 0\n",
        "        self.menu()\n",
        "\n",
        "    def menu(self):\n",
        "        user_input = input('''\n",
        "        Hi, how can I help you?\n",
        "        1. Press 1 to create pin\n",
        "        2. Press 2 to change pin\n",
        "        3. Press 3 to check for balance\n",
        "        4. Press 4 to withdraw\n",
        "        5. Anything else to exit\n",
        "                  ''')\n",
        "        if user_input == '1':\n",
        "            self.create_pin()\n",
        "        elif user_input == '2':\n",
        "            self.change_pin()\n",
        "        elif user_input == '3':\n",
        "            self.check_balance()\n",
        "        elif user_input == '4':\n",
        "            self.withdraw()\n",
        "        else:\n",
        "            quit()\n",
        "\n",
        "    def create_pin(self):\n",
        "        user_pin = int(input(\"Enter your pin: \"))\n",
        "        self.pin = user_pin\n",
        "        user_balance = int(input(\"Enter the balance: \"))\n",
        "        self.balance = user_balance\n",
        "        print(\"Pin created successfully.\")\n",
        "        self.menu()\n",
        "\n",
        "    def change_pin(self):\n",
        "        pin = int(input(\"enter your current pin : \"))\n",
        "        if pin == self.pin:\n",
        "            change_pin = int(input(\"enter the new pin : \"))\n",
        "            self.pin = change_pin\n",
        "            print(\"PIN changed successfully\")\n",
        "            self.menu()\n",
        "        else:\n",
        "            print(\"wrong pin\")\n",
        "            self.menu()\n",
        "\n",
        "    def check_balance(self):\n",
        "      pin = int(input(\"enter your current pin : \"))\n",
        "      if pin == self.pin:\n",
        "          print('your balance is ',self.balance)\n",
        "          self.menu()\n",
        "      else:\n",
        "        print(\"wrong pin\")\n",
        "        self.menu()\n",
        "    def withdraw(self):\n",
        "      user_pin = input(\"enter the pin\")\n",
        "      if user_pin == self.pin:\n",
        "        amount  = int(input(\"enter the amount\"))\n",
        "        if amount <= self.balance:\n",
        "          self.balance = self.balance - amount\n",
        "          print('withdrawl succcessful | balance is',self.balance)\n",
        "          self.menu()\n",
        "        else:\n",
        "           print('insufficent balance')\n",
        "      else:\n",
        "        print(\"wrong pin\")\n",
        "\n"
      ]
    },
    {
      "cell_type": "code",
      "execution_count": null,
      "metadata": {
        "colab": {
          "base_uri": "https://localhost:8080/"
        },
        "id": "f4dfmrOlF5Ss",
        "outputId": "e7daa65c-b0b1-428f-e804-88725a3545f4"
      },
      "outputs": [
        {
          "output_type": "stream",
          "name": "stdout",
          "text": [
            "\n",
            "        Hi, how can I help you?\n",
            "        1. Press 1 to create pin\n",
            "        2. Press 2 to change pin\n",
            "        3. Press 3 to check for balance\n",
            "        4. Press 4 to withdraw\n",
            "        5. Anything else to exit\n",
            "                  1\n",
            "Enter your pin: 123\n",
            "Enter the balance: 1000\n",
            "Pin created successfully.\n",
            "\n",
            "        Hi, how can I help you?\n",
            "        1. Press 1 to create pin\n",
            "        2. Press 2 to change pin\n",
            "        3. Press 3 to check for balance\n",
            "        4. Press 4 to withdraw\n",
            "        5. Anything else to exit\n",
            "                  2\n",
            "enter your current pin : 123\n",
            "enter the new pin : 321\n",
            "PIN changed successfully\n",
            "\n",
            "        Hi, how can I help you?\n",
            "        1. Press 1 to create pin\n",
            "        2. Press 2 to change pin\n",
            "        3. Press 3 to check for balance\n",
            "        4. Press 4 to withdraw\n",
            "        5. Anything else to exit\n",
            "                  3\n",
            "enter your current pin : 321\n",
            "your balance is  1000\n"
          ]
        }
      ],
      "source": [
        "obj = Atm()"
      ]
    },
    {
      "cell_type": "markdown",
      "source": [
        "**method vs function**\n",
        "- functions that are defined inside a class are called methods\n",
        "- functions  are defined outside the class independently\n"
      ],
      "metadata": {
        "id": "AYhUHynSRLGf"
      }
    },
    {
      "cell_type": "code",
      "source": [
        "l = [1,2,3]\n",
        "l.append(12) #this is a method\n",
        "len(l)  #this is a function"
      ],
      "metadata": {
        "id": "zF2SUmweRtyj",
        "outputId": "4f7d9ca2-c21a-4f82-874b-a9507e36f04b",
        "colab": {
          "base_uri": "https://localhost:8080/"
        }
      },
      "execution_count": null,
      "outputs": [
        {
          "output_type": "execute_result",
          "data": {
            "text/plain": [
              "4"
            ]
          },
          "metadata": {},
          "execution_count": 3
        }
      ]
    },
    {
      "cell_type": "markdown",
      "source": [
        "**class diagram**"
      ],
      "metadata": {
        "id": "YZVeJiO7USIT"
      }
    },
    {
      "cell_type": "markdown",
      "source": [
        "![Screenshot_20241217_120140.png](data:image/png;base64,iVBORw0KGgoAAAANSUhEUgAAAjwAAAHOCAYAAACcvdMVAAAAAXNSR0IArs4c6QAAAARnQU1BAACxjwv8YQUAAAAJcEhZcwAAEnQAABJ0Ad5mH3gAAFyiSURBVHhe7d0JnFXz/8fxb0XWaBPZSntIixSlX6Ek2ULarFkiSypESoQWyhYqkv4qEZK9VEqlTdGGFIksIWkn0f3f92fOmc7cuTPN1szcM6/n43HNOeeeuzbmvu/nuxWKRDkAAIAQK+z9BAAACC0CDwAACD0CDwAACD0CDwAACD0CDwAACD0CDwAACD0CDwAACD0CDwAACD0CDwAACD0CDwAACD0CDwAACD0CDwAACD0CDwAACD0CDwAACD0CDwAACD0CDwAACD0CDwAACD0CDwAACD0CDwAACD0CDwAACD0CDwAACD0CDwAACD0CDwAACD0CDwAACD0CDwAACD0CDwAACD0CDwAACD0CDwAACD0CDwAACD0CDwAACD0CDwAACD0CDwAACD0CDwAACD0CDwAACD0CDwAACD0CDwAACD0CDwAACD0CDwAACD0CDwAACD0CDwAACD0CDwAACD0CDwAACD0CDwAACD0CDwAACD0CDwAACD0CDwAACD0CDwAACD0CDwAACD0CDwAACD0CDwAACD0CDwAACD0CDwAACD0CDwAACD0CDwAACD0CDwAACD0CDwAACD0CDwAACD0CDwAACD0CDwAACD0CDwAACD0CDwAACD0CDwAACD0CDwAACD0CDwAACD0CDwAACD0CDwAACD0CDwAACD0CDwAACD0CDwAACD0CDwAACD0CDwAACD0CDwAACD0CDwAACD0CDwAACD0CDwAACD0CDwAACD0CDwAACD0CDwAACD0CDwAACD0CDwAACD0CDwAACD0CDwAACD0CDwAACD0CDwAACD0CDwAACD0CDwAACD0CDwAACD0CDwAACD0CDwAACD0CDwAACD0CDwAACD0CDwAACD0CDwAACD0CDwAACD0CDwAACD0CDwAACD0CDwAACD0CDwAACD0CDwAACD0CDwAACD0CDwAACD0CDwAACD0CDwAACD0CDwAACD0CDwAACD0CDwAACD0CDwAACD0CDwAACD0CDwAACD0CDwAACD0CDwAACD0CDwAACD0CDwAACD0CDwAACL1CkShvG9n09ddfO95OAGkpXLiwq1KlircHIDcReHJQxYoV3X///eftAUBKxYsXd4sXL/b2AOQmAk8O8gNPkSJFvCMAkER/Gwg8QN4h8OQgP/CMHDnSnXnmmd5RAAXdW2+95bp06ULgAfIQnZYBAEDoEXgAAEDoEXgAAEDoEXgAAEDoEXiQEH755RfXrFkzV6hQIev8uWPHDu8aAAD2jMCDhPDpp5+6qVOn2vbHH3/s1qxZY9sAAGQEgQf5nqo506ZNc8WKFXOnnnqqW7JkiZs9e7Z3bXya9bpWrVrunHPOcX/88Yd3FABQUBF4kO+pmqOqTtOmTV3//v1d5cqVbX/Lli3eGQAApI/Ag3xP1RxVdU4//XRXp04dq/KoeWvlypXeGQAApI/Ag3xNVRxVc8qWLesaN27sDjnkEPupTsw6HjtR+CeffGIdm6tVq2YhafLkya506dJ2TE1cauoSv8mrdevW7s8//7RzO3bs6EqVKmWP0apVKzdv3jy7f13Sux4AkP8ReJCvffXVV1bNadiwoatUqZIdU4WnevXqbsqUKan65+y///7u7LPPdo0aNbI+PyVLlnRnnHGGHatatarbd999vTOTbNy40Y0ePdqWAvnoo49c7dq17TYTJ050bdu2tVDzzDPP2P3Fu37RokXePQEA8jMCD/ItVU/UnKVqjvrvHHrooXa8fPnyrn79+lbNUeUl6OSTT7aqzvPPP+8qVKjgTjnlFPfaa6/ZsVdffdWOBSlMPfvss+6ll15y33zzje1/8cUXrnPnzu777793F110kRs2bJgbN25c3OsnTJjACvkAkAAIPMi31q1b5z744AOr5qj/ju+ggw6yAKTmLo3eyk7gKFeunBs+fLhr2bKl22effeyY7r99+/ZWIVJT2osvvpjm9UuXLnWbN2+24wCA/IvAg3zryy+/dPPnz7dqjqo6QXXr1nU1a9a0fjw//vijdzTz1NfnxBNP9PZ2U78fVYOOOOKIVFUh8a//999/3a5du7yjAID8isCDfElVG1VvVMVRNUdVlSAFIHVenjNnDv1oAAB7ROBBvvTDDz9YJ2G5/PLLbZRV8KLOyU899ZRd/+GHH7q//vrLtgEAiIfAg3zp888/t+asjJg5c6ZbvXq1twcAQGoEHuQ727Ztc++8845tjxkzJnkunNiLlpzo2rWrDV3X8HEAANJC4EG+o6UkVN1Rp2R1Tk5L0aJFXZMmTWx70qRJbtOmTbYtRYoUsVFVGum1fv167ygAoKAi8CDfUZ8cVW3UKTl2dFYshaIGDRrYnDz+LMqiGZE1wkpNXZovBwBQsBF4kK9omYdZs2bZtgLPfvvtZ9tp0Tw5GrauyQk1SaGauqR48eKuWbNmNsqrXbt2NpNymzZt6OsDAAUUgQf5iube0WzGqtpo1uQ9CTZraZJCNWGJRnLdcMMN7sknn7TJBadPn24VoJ07d9r1AICCpVD0GzGrH+aQihUr2vwxI0eOtIoCAMhbb73lunTpYpXHxYsXe0cB5CYqPAAAIPSo8OSgYIVHK3SL3l7/omYWfzv2unj7ktZ1sfsS7/rgtr8v8a4Pbvv7Eu/64HZwP/Zn7HZwP/Zn7HZwP/Zn7Ha86yS964Pb4u/Huz64Lf5+vOuD2+Lvx7s+eF3w90OX4PXBbV3SOzd2PzPn+uJdF28/M7/TBfn1aaTgqlWrbORgnTp1Up2rfS1yC2DvIfDkkKpVq9q8MOL/MQOAjChcuDAd6oG9jMCTQ7QI5d9//+3tAblLIdu/+Pu+eNfF7vviXRe774t3Xbx9X7zrYvd98a6L3ffFuy5235fe9cHr9GcxuB+8PritS0bO/fXXX93y5cvdvvvua53s4507dOhQ2wewdxB4csgLL7zgHn74YVs5u23btq5y5crJf8jS+4MYu7+3zvXFuy7efvC+Y6+L3d9b5/riXR/c9vcl3vXBbX9f0rs+djv2Z+z1we3Yn7HXB7djf8ZeH9yX9K5D/kWnZSDvEXhyEKO0AMRD4AHyHqO0AABA6BF4AABA6BF4AABA6BF4AABA6BF4AABA6BF4AABA6BF4AABA6BF4AAAF3l9//eX++ecfbw9hROABABRor7zyijv88MNdvXr13NKlS72jScaOHWszmteqVct9/fXX3lEkIgIPAKDA0hqIs2bNclu2bHFLlixxy5Yt865B2BB4AAD5wqpVq9zAgQPtMm/ePO9oahk9LyP2339/16ZNG1e1alV33nnnudNOO827Jn9Rc9u4cePsNQ8bNsxt3brVuwYZReABAOQLv/32m7v77rvt8u2333pHU8voeRn1v//9z61YscK98847rkKFCt7R/EXrNH788cf2midOnOh27NjhXYOMIvAAAPKdffbZx9tKX0bPCxO95sKF+fjOLN4xAEC+c/TRR3tb6cvoeWGi16ymOGQOgQcAkGPU1DJlyhR3zTXXuGrVqtkIJ13UN+ahhx5yP/zwg3dmEg0Hv/HGG+2c008/3TvqbNu/rS4fffRRhs775JNP7Pgff/zhzjnnHDumkVayZs0a1717d3teui89tmRmJFYkEnHz5893HTt2dKVKlbLbNWnSxA0dOtRt27bNOyuljN5/vPP0enTswAMPdMOHD7dj+ql9Hdcl+Fp8u3btcnPnznXXX3998r+Dnu/555/vXn755TSfq0/v33PPPWfn+6+zfPny1t9pwoQJqR4vERB4AAA54vfff7cP2LPPPtuNGjUqxYe7Ohf37t3b+svoA1PBIbeo/8vMmTMtAD322GNZHl6ujsOPPvqoa9asmXvxxRfdhg0b7Lj61nTu3NnCwPfff2/H8pLCjN7rBg0auBEjRiS/Xj3fd99913Xo0ME1b97cffHFF3Y8lt6rhg0buk6dOtn5/uvUaxs/fry75JJL3EUXXWSdxxMJgQcAkG3//vuve+KJJ9zo0aNdsWLF3IABA9wvv/xilYadO3e6BQsWWBDSh6ZChx8M1DSjkUfr1693H3zwgR0TbeuYf9EHcEbOO+WUU7xrdtPoprvuusv9/PPPrl27dvb4qtAULVrUO2PPtm/f7u6//36rUl111VU2hF2Ppw/9O+64w17ze++95x5++OE9Vk8yQ69Hj/Pjjz9a1Uz0U/v+a9b74jdx6d+hX79+dtHIs5EjR1onb4U+Db1X9U0VKVWOFGhU9QrSv9mDDz5oIUn/Xgpzeu0KqBs3brR/X93vhx9+aO/F5s2bvVsmgOiLQA6pUKFCpFy5cpFp06Z5RwAgEpk4caL9bahZs6Z3JHxWrFhhr08fK9EPzEg05HjX7DZ//vxI2bJl7ZwxY8Z4R3ebPXu2XaeLttOSkfOiQSDSvHnz5PNatWoV+fbbb71rU9Jz0Tl6/nodQf51upQsWTISDU+RaIjzrk2i16rXrHOiwScydepU75ok6d1/UHrnRUNHJBpQ7Hr91H480YBi77F+32bMmOEdTSka0iLRAGn3NXjw4BSvR7fXcd2H/r3ief/99+0cvda5c+d6R/M/KjwAgGxTpUFVD1U6mjZtGnf0VMWKFd1JJ51k26tXr7afueHCCy+0PjbZHXKuIeGtW7e2/ixBeq1qJqpfv75VUaJfeq2iktv0mJMmTbIqjV7zqaee6l2TUqVKlaxZSlTxUX8dn6o4cvDBB7t9993XtmPpfYyGMnutOTEtQG4h8AAAss1velFTVd26db2jWRfb1JKWjJx38skn29IR2aEP+AsuuMAVKVLEO5KS7r9GjRq2reUp9mZTj16zmpliqa/Np59+att6zfvtt59tx6Pr5aeffrJ/N59CafXq1a2pTgFv4cKF1iwZpCatxYsXWzOXgl6iIPAAALJN/WE0mqdEiRJW8dCH5J9//um++uorN2PGDLvMmTMnuYIQNho1deyxx9q2Xnde9G1R4FHHcVE/I38UV7xL48aN7TwtpRGs8CjM6LaifjoKsscff7x1gla/n5zsn5TbCDwAgByhIelqUrnsssvcYYcd5kqWLGkflmeccYZdVCHRkO6wUyjQGl25TctNqINydiisaui+Onr7FSt1YFYHZU0BULZsWQtEGvIeW/nJ7wg8AIBs84ekt2jRwr322muucuXKrk+fPjasWSO09EGsZpKzzjrLuwX2pjFjxliTU0YuGgEXpNDTtm1b99lnn1nzXN++fZMrQuq389JLL9mQd1V9EqniQ+ABAGSLOstqvhd/SLq2NZxZw7hbtmxpzSKq+PjNXWGk4OB3VD7ooIPyZCZkdTQuU6aMbefE4qL6t1KVR8FGTZJqMtPkiP7Qfw19nzx5sm0nAgIPACBb1F/Fn+FYc8Rcfvnl6XaYDSMFDH/kmYLdIYccYttBqnLtzVXOFXb8pTbUDKWJEtOiapvm79FF26LQtmnTJuvTE+956nW1b9/evfnmm9ZEKbNnz073cfITAg8AIFv0Ablu3TrbLl26dJphR8sRxBtd5FN1SE1he5LR83KSwkx6syhryQyNaBINvQ8GnmOOOcZ+ari4P2txLE0Y+N1333l7qalTuPpEpUePWadOHdtWB3GNwEqLmhk1CksVG78ypX5HPXr0sH/D++67L80go+dRpUoV29a/Z14Mwc8KAg8AIFv0zV8fkqIhzuq8HEuBqGfPnm7WrFnekdQ00skPCul1vs3oeTlJfVcUAhYtWuQd2U1hRetTaUSawpj6KQWHrxcvXjw5oKlpSOcHqR+MOgWr6Sgtuj/dt+i5xKvA6Bx1DC9Xrpx1Dh80aFDcPjaqyGkElmhUljoii5rh/AqRApFmpo5Hwch/3xV+MjNjdV4i8AAAskUf6PXq1bNtrTGlTq1qGtEoHnVm1jEtZ6CmE7//Rzzq53PcccfZ9quvvmoLhqp6pEuw2pDR83KSQoHuW8stqBPv8uXL7fEUDG677TbrzyIawaQOvUGa28bvGDxkyBDXtWtXm/BP4UcTIqqjt5a7SGuiQN8JJ5xgP1W9ef755215CT0HvddqjhItPHrTTTfZ9rPPPmtrfKnjsaprumhbi43q30gBSh3NDz30UDtfw9UVmDQPj7/0hNbV8hcKVVDTRINaekLNWvHCXb4WfZOQQ1haAkA8BWVpCX+5gniXdu3a2Tn+8gjR0ODdMiW9V9EP0lS3j11CYk/nBZeWSOuxfBlZWuLkk0+ORD/8I61bt05+rNiLrlu3bp13y5T0vPQ7EO92Ov7GG29ERo8ebfvxnods2LAh7uPHLjWhbS11Ee/98S9aJmPUqFGplgDRMhMffPBBpGrVqnFv5190+2igiruESH5FhQcAkG1qGtG3/v79+7vatWvbMTWtqOIxffp0qyj4E/OlRxWGd955x5ZwSK/PSkbPyylqstOcQqpWqd+LVl5XhUNU5dAxXZfWjM6q8Oj5Xnvttfa+iN6zbt26WaXn4osvtgpLetR0OGzYsBTvcTwHHHCAu/fee61Zq1evXinOVRVJFZrPP//c/m1iR83pOei1qcIzfPjw5CYy8Ss66uispj1VihJp1F0hpR5vG9mksqU6b2l12jPPPNM7CqCge+utt1yXLl2s6UdT8gPIfVR4AACpqE+JRvyo8pDWyCIgkRB4AADJ5s2b50477TT31FNPWdDRbLtqjgISHYEHAGDUN0NLCmi+mCB/QUogkRF4AKCAU78iDbfWEOlYmmBOk9EBiY7AAwAFmKo6F110kVu5cqV3JIlG+jz66KM2QV28ZRKAREPgAYACSM1WHTp0iFvV0YjTt99+24Z8A2FB4AGAAkbzxWjqDH/Bz6COHTu6999/P9fXqgL2NgIPABQQWuBSVZsHHnggebkAn9ZQ0nxBWi+qoK10joKBwAMABcCYMWOsY/Knn37qHdnt3HPPdZMnT3Y1a9b0jgDhQ+ABgJC79dZbbYkBrXIdpEU4tVSBFpk86KCDvKNAOBF4UCBp1ePYkj4QNhs3bnRXX321reEUSyOzpk2bZusmAQUBgQcFjjpqam6R6tWru0mTJnlHgXD59ttv3fnnn28LUwZpiLkWhXziiScYbo4ChcCDAmfmzJnu+++/t0u8/gxAops7d66tcr127VrvSJIaNWrYCKzmzZt7R4CCg8CDAkeLITZs2NCdcsoprkWLFt5RIBy09tVNN93ktm3b5h1JogD0+uuv22gsoCAi8KDAqVq1qps9e7ZbsGCBq1u3rncUSHzvvfeeBXr13Qm68cYbbTFQhpujICPwAEAILFq0yN18883e3m4PPfSQu/vuu709oOAi8ABAglNH/EsuucTb223kyJHu8ssv9/aAgo3Ag4QyduxYV6hQIVerVi339ddfu127dlkHTU2HX6pUKbuuSZMmtj5QbB8Gnz4cdJ4usVPrx14XiUTcV1995bp37+6qVatmx8uXL++6devm1qxZ490KyDsLFy501113nbe3m+bW0fIRAJIQeJCwNJfOoEGDbMSJ1gbasGGDHf/4449d586drS/DqlWr7FhW/Pvvv+6ZZ55x9evXd4899pgFLNHorscff9y1bdvWwhCQV6ZMmeIuvfTSVHNKPf300zZ7MoDdCDxISKrs6Bus+id06tTJLVu2zK1fv95+3nHHHa5YsWLuww8/tOs3b97s3SpzevbsaTPUNm7c2E2YMMGG+Or+u3btatfPnz/fjRs3zv3333+2D+SmL7/80n4/gwoXLuyef/55d95553lHAPgIPEhICh4ffPCBGzVqlHvkkUfciSeeaE1a+tm/f39311132Xlvvvlmlufa0WOMGDHChvK2atXKhvPq/u+//3535ZVX2jmzZs1yv/76q20DuWXFihWuffv2qZaKePLJJ12zZs28PQBBBB4kLFVaFETUryZon332sRWhtRDili1bbPr8rFRhhgwZ4q655ppUQ3k1O+1ZZ51l23/88UeWK0hAVqxcudLCTuzQ85dfftlmVgYQH4EHCUlhRmsAxYYd3zHHHGMTC8rSpUuzFEoqVapkTQTxFC9e3H6qCqTQA+QGVRPVZ8fvr+YbPXq0a9CggbcHIB4CD0LpwAMPdMcee6xt//nnnzlehVHzGZCbVK286qqrUv0u9+3b1zVq1MjbA5AWAg9CT8PTY/s6AIlETbLqN6a+O0FaQsLvTwYgfQQeAMjnNNrw888/9/aSaHRijx49vD0Ae0LgQShpwkC/o/JBBx3k9t9/f9sGEs0777xj80wFqVP+Pffc4+0ByAgCD0Jp69atbvXq1bZdokQJG1kFJBpNbKl5pYL8qRcAZA6BBwlJYSa2P0PQDz/8YFPuy0knnUTgQcJR3zM1W+3YscM74tyRRx7pXnjhBZt6AUDmEHiQkDRipU+fPraOViwtCaEJB/XtWDMua86cIkWKeNcCiUErnCu4B2mizcMPP9zbA5AZBB4kpLJly9ocOZpCX8NyFy1aZPPhLFiwwN12222ud+/edp6G8TI/CRKNJhFU352ggQMHuipVqnh7ADKLwIOEVKZMGVvQU9UbVXrq1q3rSpcubQt9aqV0UcfOXr16uQMOOMD2gUSgNdu0jluQJtls06aNtwcgKwg8SFiq8miGWa11pQ8ENV+JQtDYsWNtZAvlfySa22+/3dtKot9zrRcHIHsIPEhoWufqkksusYVENQOthqNPnTrV1hrScPR4GjZsaOfpou2g9K4Lyuh5QGaMGTPGmmeDtPo5ne6B7CPwAEA+oMCuZtog9UfTMHQA2UfgAYB8QJ2Sg4uClixZ0t14443eHoDsIvAAQB6bN2+e9TsL6t69uy2CCyBnEHgAIA/99ddfFm6C1IzVoUMHbw9ATiDwAEAeGjBggPvpp5+8PWezKKt5C0DOIvAgoehbr0ZGLV682FWtWtU7CiSm6dOnu//7v//z9pJ07drVnXDCCd4egJxC4AGAPPDjjz+6W265xdtLUq9ePXfzzTd7ewByEoEHAPKAJhjUAqFBgwYN8rYA5DQCDwDkspEjRyav5u978MEH3bHHHuvtAchpBB4AyEWaSVkL3gZpnawrrrjC2wOwNxB4ACAXqVNyULly5dxDDz3k7QHYWwg8AJBLNOfODz/84O05V7RoUTd8+HC37777ekcA7C0EHgDIJTt27PC2kvTp08dVq1bN2wOwNxF4AGAvix2NJY0aNWI2ZSAXEXgAYC+bPXu2t5WkWLFiNioLQO4h8ADAXvTLL7+4KVOmeHtJ+vXr58qXL+/tAcgNBB4A2Isefvhht3PnTm/Pufr167vzzz/f2wOQWwg8ALCXrF692r377rveXpLevXt7WwByE4EHCWXs2LGuUKFCrlatWu7rr7/2juYuPa4eX89DzwdIy6hRo7ytJFoJ/cQTT/T2AOQmAg8A7AWac+f111/39pIccMAB3haA3EbgAYC94L333nPbt2/39pIUKVLE2wKQ2wg8ALAXxFZ3AOQtAg8A5LBVq1a5efPmeXsA8gMCDwDksJdeesnbSlKnTh1vC0BeIfAgoUUiETd//nzXsWNHV6pUKRs51aRJEzd06NC40/kHaV0jTQh3zTXX2HpGuq0up512mq1eHVzkMat0H4888ohr2rSpO+SQQ+z+NeFcmzZt3KRJk1KtreT75JNPkp+PtvU6v/rqK9e9e/fk56r76datm1uzZo13q7Tpeeg16bX596sPYQ2R1v3q/tPzxx9/uKeffjrF69Dt9XwycvuCRL9348eP9/aSnHnmmd4WgDwT/UOFHFKhQoVIuXLlItOmTfOOIKeNGTNGn6yRmjVrRpYuXRoZOHBgpFixYnYs9tKyZctINAx4t0zpt99+i1xxxRVxb+df9G/5xhtvRHbt2uXdKsmKFSvs8XWOnk88uo1uq/uIvd/gRc9BzyXW7Nmzk8+ZMWNGZMiQIWm+zvr160e+/PJL75Yp7dy5M/Lss89GSpYsGfe2uuh+e/XqFdm6dat3q5TmzJmT/HrjXXR7/Tv8/fff3i0KtokTJ9q/u39p0aJF8jG9jwDyBhUeJCSNfrn//vutanHVVVe5JUuWuPXr11vfiTvuuMPWKtIoGc1yG1vp+ffff90TTzzhRo8ebecNGDDApv+PhhSbEXfBggXu7LPPdt9//7177LHH7GdmLVu2zEVDhN1W9/Xxxx9bNSf6/5zbsGGDe/TRR+2x9RxefvnldCskPXv2dLfeeqtr3LixmzBhglu7dq3df9euXe16VbjGjRvn/vvvP9v36T5VaejRo4c95nnnneemTp3qogHLLtOnT3etW7d2W7ZssfcxGoxS3Uc0VLprr73W3t8rr7zSfuq91/uk1/bAAw/YeXqMYcOGUemJip2b6YILLvC2AOSp6B8o5BAqPHufX+HRRVWL6Ad9qgqMqhoPPvhgcvUh+iHvXZMkWKHReTo/VjRERMqWLWvnxFZx9lTh0fPxH1/nxau+qBpy22232TnnnHNO5Pfff/euSRKs8Og1jBgxIlUFZdOmTZFoCLFzmjRpEvnpp5+8a5IEn+eFF14YWbdunXfNbqrqXH/99XZOgwYNUlTEosEm0qlTJ7uuc+fOcStA0YAUiYZCO0eVptWrV3vXFEyqOgarO7ro35YKD5D3qPAgYd19991WoVB/kiDNZtuhQwdbs0jVi2gATVG5UCVIlQpVWNQnRefHqlixojvppJNsW8sDZEY0mLgff/zRths2bOiOO+442w7ab7/9XL169Wxb1SX1kUnLkCFDrJ+RbhOkvjRnnXWWbev2mzdvtm3fjBkz7HVGg5tViQ4//HDvmt0OOuggew9FVSM9F5+qZR999JHdXlU0nRurcOHC7uKLL3bRsGSVpjlz5njXFEyvvfaat5Wkffv2rnTp0t4egLxE4EFCin5TtqaCtCZy04d7jRo1bFvNMsEwcMopp1joUZNM3bp1vaM5Z//993cDBw60x9BP7WdHpUqVLFjEU7x4cfupsBIMTWp2WrhwoW0rdFWtWtW242nWrJk1Rek9OvXUU72jzi1evNhCzwknnBA3tPkOO+wwd/zxx9u2ztd9FVTqiB6k4A0gfyDwIJQOPPBAd+yxx9r2n3/+mSLwFC1a1EZ0lShRwqo76rujczTaSFURXVSp2Lhxo3eLzFHF6dBDD7XHOPjgg+2Ylhn49ddfbcSV/xgKB9mlx4hHj6e+PnLMMcdkaUkDv++S+v2UKVMmeXRX7EWVnxEjRti569atswpXQaQRf+ob5TviiCMsLALIHwg8CD11Wo79EFYHYn0bv+yyy6xCUbJkSatSnHHGGXZR9UhNNNnhDwXX8G0FMH0Ann766cmP4Xf43Ru2bt1qzXmiYKeQlxn//POPhcCwUeVLHb8VTnLaW2+95W0ladWqlbcFID8g8KDA+f33393111/vWrRoYX0uKleu7Pr06ePeffddG6Glb+mqvvj9YzJLTTr6UP3f//5n89yoUnLFFVdYFUQjo9QnSM1dzz33nHeL/K158+b2fPW69nTRSK38vEBmly5dbO4i/fs/+OCD3tHsU6BWf6egdu3aeVsA8gMCD0JJH75+R2U1ufj9aHRMwcMfkq5tDRnXEPeWLVta/x5VfPzmrqxYuXKl69u3rwUd3eenn35qM+9qeLcmRVR/GDVFqeqzt6gpTa9PVKlRxSYzVBHSeyCqhqU1QWKiCVZ2YgNKdqjZT9Ujn36P/CZVAPkDgQehpCYdf3SVPrg1oknUl0f9aEQjny6//PJUo5+yS519/dFR9913n6tQoYJ3Te5RlUV9d0R9edSnJy3q1F2lShXrjxMMBDomX3/9dYrRW7EUpjQPkDpo62dmw1VeyckmO1XuglTdA5C/EHiQkBRm/E618aj/jD9KScPL/cCjkUzqWCsaLpxW2FFACH5jD1K1yB+irWAVyw9a6uirzsvxqAIVO4w8J6l65I+cUsBTaEnLN998Y014Cmjqy+Q78cQTXfXq1S3sqAqm5xyPXocqWJomQI+z7777etfkP8Gh+eqUnta/cWbF9vfSyDcA+QuBBwlJHXJVPVm0aJF3ZDfNpKzZizXqSs066ovjD19XtcefF0X9UuI11SgQad6aWbNmeUdSCjYXKXTFzk7sN2WoL9CmTZtsO0ijwl5//XWriOxN5557rg3fV2Dp16+fjRKLpWMKK6Ih6cFqlIbD6z7kqaeecjNnzrTtWJ999lly1UwdtFUpyq/8qpfPny8pO/TvHLwfBV2tdwYgfyHwICGpGqGmEy3boP4yy5cvt+qNOh3fdttt9gEvmjBPk+L5NG+NP+Hfiy++aB/2CiUKIerMrGPqZ6OKh/phxKOw41dPFKzefPNNu63fbFSrVq3kyoie24oVKyyE6Xo1H6kpTf15FEb2JjVJ3XXXXfZ8NYJI78Xbb79tIUcXPe/zzz/frtM5ut7vtyOqful5agJHBbtOnTrZ+6PXqtejnyNHjnQ33HCDBVAtPaH3Lj876qijvK0kORF45s6d620l8X+/AOQzEeQYlpbY+/ylJU4++eTIzJkzI61bt7b9eBddF285BS250LBhw7i30aVdu3Z2jr+sQjS0eLfcTUs/6N86eDt/mQktVfHII4+kudinbjd27FhbFFT7Wm5AjxcUXFpC22nZ03l6LntaPFTX6flomYh4Fi1alO77pUurVq3SXKg1Pxk8eLC9//5l2LBh3jVZ98ADD6S4Ty0DEoulJYC8R4UHCUnNUqqyqOKgxRrPOeec5GYmNWHpmK6Lt5yCZh1WdaN///6udu3adiz6YWQVDnU+VdVnTyNsVDVSZUQVEN02SKO7unfvbtdr2Qa/X4wW/xw0aJBVBLTkQFZHgWWGHuOmm25yn3/+uQ3DDs6krOejZjVdp+eT1mzOaqaaPHmydUgOvh69bs1j9MEHH9h1se9DfhQ747Q6mGeXOqgHRcO4twUgPymk1ONtI5u0/pL6c6jMf+aZZ3pHAeQX6p8VDH0Kb+qDlB0KUcG+YOq4HdsZXuFXcwCpSTUnQhaAzKPCA6DA0GzXwY7ZGzZssM7tWfXFF1+kCDsKPzk9zQGAnEHgAVCgaDHVIH+EWVbEDvenOQvIvwg8AAoUrWcWlNb0Axnx7bffeltJtEwJgPyJwAOgQImt8GhSxazSMiJBeTGrNoCMIfAAKFA0caTmSgrS/E1ZETvDco0aNbytrFGfIo0SfP7559NdzgNA5hF4ABQ4sZMDxgaXjNDq+sHlQdRh2R+ynxlaaX3ixImuR48etgaXZhB/+OGH3Y033uidASAnEHgAFDixs2hnJfDE9v25+OKLva2M08zXmgvq9ttvd6+++mqKtdli5/cBkD0EHgAFTnAuHtGSH5n13XffeVtJNOFlRmmB2VatWtkyKGmtZM8CpEDOIvAAKHA0K3dwgU81TX355ZfeXsYcd9xx3lbS/cUuTBqP5nm95557bGJSzXAdj+5Ha6CpHw+AnEPgAVAgxc6Zk9Zq8GnRoqmnnXaaLXPSp0+fDE04qEVWtQxHLAUmLf2hpU3UVNa5c2fvGgA5hcADoECKnY9n0aJF3lbGaCkZhZeFCxe6Sy+91DuamtZOGzVqlG1rVf5YF154oYWcK664IkXVCEDOIvAAKJBiR2otW7bM28oZmoX5vPPOc+3atYvbfFWzZk33f//3f+7JJ5+0NbYA7F0EHgAFUqlSpVzZsmW9vaSFRdeuXevtZc/LL79so7aWL1/uHdntwAMPdA899JAtKKoV6wHkDgIPgAJLfXCCsjI8PUgLkV522WWuZ8+ebtu2bd7R3dTPR/10Lr/8cu8IgNxC4AFQYNWtW9fbSpLVuW80tHzw4MGuRYsWcWdt1lw7csABB7jDDz/ctgHkLgIPgAKrevXq3laSX3/91dvKOAUdTWQ4ZMgQ78huRx55pHVYvvrqq70jAPIKgQdAgVWiRAlvK8maNWu8rT1btWqVVXQUdIIzJPuuu+469+GHH7omTZp4RwDkJQIPgAKrfPnybv/99/f2klY/f+GFF7y9+BRuNGeOZkJWn51YWg9rzpw5rlevXrZQKYD8gcADoEC74IILvK0kCjPff/+9t5fSpEmTbAmJeKGoTJky7umnn7bVztWUBSB/IfAAKNBUiYmd8O+mm25y27dv9/aSKj+tW7e2Fczj9fPR+TNmzLB5dwDkTwQeAAXaIYcc4h555BFvL4nW1Ro4cKANLdfPs88+23366afetbup+UrDzHv06GHz6wDIvwg8AAo8jbLSyuVBmgVZQWfo0KHekd00aeFTTz1lzVcsBwEkBgIPAER169Yt1YKiP/30k7e12/XXX29Vndi+PwDyNwIPAHjU6Vidj+NRVWfq1Knu3nvvtWYwAImFwAMAHq2tpWYqLezp03IQ1157rZs5c6arVKmSdxRAoiHwAEBAtWrVbGFPNVu98sortr5W79693UEHHeSdASAREXgAIA51Rj711FNd8eLFvSMAEhmBBwAAhB6BBwAAhB6BBwAAhB6BBwAAhB6BBwAAhB6BBwAAhB6BBwAAhB6BBwAAhB6BBwAAhB6BBwAAhB6BBwAAhF6hSJS3jWyqWLGi+++//9x1113nTjjhBFe4cGFXpEgRV6hQIduOt59TF92n7jvedbEX/1z9BLD3aTHSLl262Lpcixcv9o4CyE0EnhxUoUIFt2vXLm8v//ODV2xYCu7756S3n5Fz/e3Y/cycG7u/p3ODl8ycm52L7lP3nZF9//GD+5k51/+J/I/AA+Q9Ak8OSrTAg8Sn0OMHnz2FI+3727H7mTk3dn9P5+6tix5Dj5WR/cyeq5/x9v3t2P09nTtp0iR31113EXiAPETgyUF+k9ZTTz3lGjZsaOEn3kVvuc6Ld13sJfbc9Pa1rZ/x9tO7Lq1zM7Kf3iUz5+o8/7nsad+/z/T293SufgK5jcAD5B0CTw7yA8/IkSPdmWee6R1FfhQbjPa0r239zMh+Vs6Nt5+Zi27n3/+e9jN7rn5mZN/f3tP+ns7N6CUREXiAvEPgyUEEHiB3+AHJ/6n/72L3/e2M7AcvmTl3TxfdTrf/7LPP3CuvvELgAfIQgScHEXgAxEOnZSDvMQ8PAAAIPQIPAAAIPQIPAAAIPQIPAAAIPQIPAADZMHbsWJtoslatWu7rr7/2juZfeo56rnrOn3zyiXc0/Ag8AAAg9Ag8AADEsW7dOvfEE0+4gQMHuvfee887ikRF4AEAII5Nmza5UaNGubvvvtsmj0RiI/AAALAH++yzj7eFREXgAQBgD4499lhvC4mKwAMAyBV//PGHO+ecc2x00IMPPmjHfv/9dzdgwABXp04dO16qVCnXsWNHt2TJEluLTPTzq6++ct27d3fVqlWz8/RT+2vWrLFz0hK8rf8YhxxyiGvatKl7+umn7TnF0nPzH0PPQy6//HI75l80MistWkdt7ty57rrrrnPly5dPvi+9Tr3e9Oj56jG1FIn/WvV8W7Ro4Z577rm4zzfWtm3b3Msvv2y30W3927/xxhtux44d3lnp0+Po8c4//3z7N9Hz0Gtp06aNmzBhgvvrr7+8MxNI9M1FDqlQoUKkXLlykWnTpnlHACASmThxov1tqFmzpnekYFq/fn2kefPmSjGRBx54IDJ79mx7T7Qfe9H7NWPGjMjff/8diQaTSMmSJeOeV79+/ciXX37pPUJKO3fujAwZMiRSrFixuLfVpWrVqpHp06dHoiHFu1Uk0rdv37jnBi9jxozxzo7Yto7ptSxcuDDSs2fPVOf7lwsvvDCybt0675Ypbd26NdKrV689Pt8PPvggxfMNigbASMuWLePeVpdokLLn6L/v+jeI9fHHH9vjxN42eDn77LMjK1eu9G6RGAg8OYjAAyAeAk+SYODRe6H35JRTTomMGjXKQsvq1asj/fv3Tw43+uDu3r27bet2EyZMiKxduzaybNmyyB133JEcDO66667Ijh07vEdJokDw3HPP2fW6v0ceecRuqxC0ffv2yKeffhpp3bq1Xa/noX3fli1b7LkuWLAgUqNGDTtH96Vj/kX34fMDT9myZSO1a9e253XllVdaMNFjzp8/3/Z1ji4jRozwbrmbnteAAQOSz9H5S5YsscdSQNJr13ul6/wwGGvTpk3Jj6PnoPdI75XuQz979+5txy+++OJI5cqV7bzYwPPzzz9HmjZtatcp1Cj8+K9148aNkdGjRyeHIT2WHjNREHhyEIEHQDwEniT64PUDjy7XX3995I8//vCuTaKgMnjw4ORz9AH91FNPWaUnSB/CnTp1snMaNGhglY2gFStW2Put248dOzZuRUSPfemll9p93Hbbbakew78PXR+s6MTyA48u+nceP3585L///vOuTfLrr79GLrjgAjvniiuuiGzevNm7JolCkQKTrn/wwQctAMVSePKrN7ov3WfQG2+8kfw8FJ5i70Pvwfvvv2/P0T8vNvAo4Oi4noueUzy6D52j93bu3Lne0fyPPjwAgFwXDTvu8ccfdyVLlvSOJFFfkWiAcdEPU9u/66673E033eT2228/2/cdcMABdp589913LhqmbNs3Y8YM6wujvjrqv6L7jaXHjoYP245+0O+xP9CeREOCGzFihIuGKFe4cMqP18MOO8zVrl3btn/55RcXDVe2LdFw5N599107Xr9+fdehQ4e4o8KOPvpo698kb7/9tps3b55ti/rm6DWI7uOyyy5LdR96D9SHqmvXrt6R1DZu3Gg/Dz74YLfvvvvadqzol3sXDYJuy5Yt7ttvv/WO5n8EHgBArjvmmGPcQQcd5O2lVKJECftQleOOOy7NIeHqRCuxAWL79u1u4cKFtn3SSSe54sWL23Y8VapUcTVq1LBw9Ouvv3pHU1u9erW3lbYyZcrY64oXrnTs0EMPtW11XN6wYYNty59//uk+/fRT21aIO+qoo2w7npNPPjk56GluoEhExRbnNm/e7L788kvbTu8+9Dzq1q3r7aVWsWJFV716dbdq1Sqbf0jv465du7xrk1StWtUtXrzYHlvhLFEQeAAACalIkSLeVkoaQbR27VrbfuCBB6zaog/6eBd9uC9btszO9W+ztygQxaMRUQptosBUtGhR245H4e3II4+0bc0E7Qc9BSh/BNie7iM9CjNXXXWVbX/44YfulFNOcccff7zr3bu3rbulEWCJisCDLNEvvr456VvRuHHjbFtDH1VG1TcD/cF56qmnbFiljqsMG/vHROXjG264wYY8xhuKqvu48cYb3f33328la/9cfasbOnRo8vBK/bFQmdYf5urzbx97HEC4bd261ZpbEoWe72+//WbbaYUin4KM/g6K/oaqmiWZuY/0qJqmIfz6u67Kl2ix0Yceesidfvrp1mynQKRh97GVn/yOwIMs07eizp07u1mzZrnBgwfbnA0rV660Nne1zyv4DBkyxI6r9Dpo0KDkkKJ5Mdq2bWvtxGp3nj9/vv1P3Lp1azdnzhw7x/f666+7du3aWSlX80jovhWCpk6d6p0BAPH17dvXvkRl5JJIzTN7k0KP/j7r7/bSpUvtPWzcuLFdpyD50ksvWbOZqj6JVPEh8CBbLrjgAqvkNGvWzP4HUefCadOmuXPPPTfFcX0jUFuwSrDqoOdXhVR9OfHEE12lSpXsG4Q6F44fPz7F5FgKRS+++KLr1KmTa9Kkif3UBGJq89YfKQAI0t8Mv9OzKr36m5Of6fn6VRm/SpOWf//9N7mqo2r3gQceaNvB+1C1Jyco+KjKo2CjTuBqNtOEi2rmkn79+rnJkyfbdiIg8CBbVOIMdihUe7g6G6oao/Zxn/5H1DcBtTfrfxqVQzViQftqktJF/5OqCUzl0+D/sLVq1UrunCjq6FiuXLkU7dcA4NPfCHW+FVWa0wsA+jvir4geHPWUmzRaTKO4RE3///zzj23Ho7+f/sgo3c7vq6OAp87e8v3332cp5OkLpBZM9f8ex9L9t2/f3r355pvujDPOsGOzZ89O9/nmJwQe5Ki0OhEG+Z3r1BxWunTpFBcdA4Ds2H///a0KLOpvqC9RaVF4uO+++2xEUuwHdzBE7E0aveX3l1GT/k8//WTb8SxatCi52f/UU09N/pur56kOx6Lqd1qVIgWh2G4DPn2B7NGjh/0t1nuSVpBR0NLoNlG1Kb9X0HwEHuSZMWPGpGg/9y+TJk1K7pQHAFlx1llnuYYNG9roJzW9xBtyruah999/3/qlqE+KKsdBmuvHHzqvoeN7q5KhKs1FF11kHYLVn1HN+npusfQa1H9G1J1Agcen53r22Wfbtvo36rzY+1An41dffdXW9IpHQVFz/ciCBQvczz//bNuxFIz8QBWsMuV3BB7kOjVv6X8qlZoVcIJUilVZOdiHZ0805DSteToAFEwKL6oYq0rz1ltv2UKeM2fOtKYaBZdvvvnGBlgoDMnVV1+dakV0hR2/kqEFMzXZn6rTavJR36CcpMClBUNF1SY9Nz1HPZYe84MPPrD+kHotem3dunVLNRqrUaNGrlWrVrb98MMPu3vuucctX77cbq9Kl+5fI1fr1atn4SqWuiEoSKlrgs5Xf0m9Z/5rVYBSRUx9L9WspfdWwTIjlf38gMCDXKdh6io363+k4DcIlUWHDx9uI74y0zfH/1aiABUciqpvKKoWASh49OGtaTI0UlRVCM1krJFG+pDWrM2VK1e2mZ61rw9wfzX0IFUu1GdFAUNfxjSKVCFDTT4KQDlJX9puueUW16tXL3tOem56jnosPaYGgqjjsJqthg0b5v73v/95t9xN/YD69+9vlS39LdTIWDWV6fbqb6nV4W+99VYbIBIblnw6/7HHHrPH0Tw8es/UMVrvjWZe1gATf4Zs9XvyR28lAgIPcp2+DWg6d7X93nnnnRZMfvzxR/ufbNSoUe6SSy5JnpE0I1TK1aiBiRMnukcffdRCzr333mt/xPzZWgEUPAoRGiH6+eefp/pw1qAJVUnUhKS/F/o7Eo9mJX7nnXfctddem6rJK6epoqSJEhVsbrvttuQ+OQpAmmtMXwhVedF2bDjz6TaqAino+a9X4URh7aOPPrK/ixrRlRbdr+5fj6PHU8XHf91+RUfvpfoSqVqUUNX1CHJMQVo8VAvO6dcnduE57WuxPS26F6TF9WKP//DDD5GuXbsmL2QX/R8pMmXKlORF96KByBYH1EXbvnjHt27dGunTp4+tiqxLz549bTFBndO3b187B8grLB4K5L1C+o8lH2SbhkGqWWbkyJHuzDPP9I4CKOj0jVv9J7QsgNYgApD7aNICAAChR+ABAAChR+ABAAChR+ABAGTJkiVL7AIkAgIPACDDfvjhB1t7qmnTpu7CCy+0i4YxA/kdgQcAsEear0YT+WnCOwUezQLsW7FihVu4cKG3B+RPBB4AQJoUZq6//nrXpk0bmyQ0LUzyifyOwAMASGXNmjW2FpWaq6ZMmeIdTem4446zmXdfe+01m80XyM8IPACAZBs3brTlDdRHRyuJx3PSSSfZQprTp093L7zwgi3tAuR3BB4gCzSj9pNPPumuueYaW4kYCAOtOaVOyC+++KKtjB1Li1JqvTuFHYUeIJEQeJDwtDrKpk2b3NatW70je58Cz2+//WaPCyS6bdu2ud69e7tWrVrZquCx6tWrZ4vzjh071jVp0sQ7CiQWAg8S3t9//+169OjhHn/8ce/I3le0aFH38MMPuwkTJrjDDjvMOwoknrlz51o/nNGjR3tHdjv22GPd888/78aPH+9q1arlHQUSE4EHAAqgHTt2uPvvv9+1a9fOrVu3zju6W7du3dzMmTNds2bNvCNAYiPwIMtUBh86dKg79dRTXaFChVy1atXcgAED3IYNG7wznHvwwQfdjTfe6FavXu1uuukmd95557k//vjDmqE+++wzm9fjkEMOceXLl7c/sBoZErRr1y73zjvvWAdKPUapUqVcx44d3apVq+x6ldgPPPBAN3z4cHfffffZORpVoscQ3d8NN9xgt/Nvq5lh9fjx/PXXX/Z8dfn666+Tb6v+CloFXx8SPr224GN98skndp7uf9y4ccnvy8UXX2xDe4H8YtmyZfa7q/44serWrWudkW+77TbvCBAOBB5kicLOXXfdldxxV38g1az0yiuv2PHNmzd7Zzr3448/WthRfxcFnv3228++ObZt29bVrFnTAoI6QSo46JgfZkRh57rrrrNvmWvXrnVz5syxJiwNl/3ll1/c6aef7iZPnuwuuugimytEz0PfWg8++GD31Vdf2f1p++OPP7aJ0xReWrdubfeTnpUrV7q7777bnXbaae6NN96wOUhuv/12N2zYsDTDkuiDRM9t0qRJFojeeuste6/0nILvCZBX9KXk/PPPd9999513ZDf143n99ddtuDkQOtE/3sghFSpUiJQrVy4ybdo070h4TZ06NVKmTJlINGx4R5K8//77kbJly0YWLlxo+3379k1+T3bt2mXHtm7dGrn66qsj0UAQ2blzpx2TDRs2RFq1ahUZPHiwnfvXX39FouEh0qlTp8j27du9syKRaECKVK5cOfLhhx/avq7TOXos37///huJ/vGOREOQPZ4vGpYi0W+udtF2LP++qlevHlm0aJF3NGLPs2fPnpEGDRpE1qxZY8f0eM2bN4+sX7/e9mfPnq0kFIl+oKR4XWPGjInUqFEjEg1g3hEUNBMnTrT/D6IB3zuS+z7//PNI48aN7XnEXi688MJINAB5ZwLhRIUHmRb9vXGzZs2y5pvatWt7R5O0aNHC/fzzz+7kk0/2jjhr6lIlR807okpNNEzYbVX1UWVHFzVfValSxaorquKoEtSvXz83aNAgd8ABB9htRcfVjKVRUmlRs5o6Y+oxdF/+Y2gkl56PmqvSG9Wl6fOjocfbc26fffax0Smq4KiylB5VnXS+T811up0eH8htaoZVVUdV0NgmY1FFViOw9HsKhBmBB5mmAKFOjvoDedBBB3lHM04f/AoAat4qXbp0isvAgQO9s5wFpGLFilk4UfOQzm/evLl1stzTCs0KPJofR81LsY+hY1mhkLVlyxa7AIng3XffdY0bN7am2Fgnnnii+/DDD7P8/wOQaAg8yLIiRYokV22yYvbs2VYtir3oj7MqOupA3L17d9ehQwfrh/Poo4+6l19+2Too16hRw7uX9I0ZMybuY6iPjfrzAGGkpR4UdG655Za4I7DuvPNOC0OqqAIFBYEHmbb//vu7I444wn377bepmoXUVHXkkUfaiKW0HH744dbkpdvHUkfjxYsX28R+6rz83nvvWbNW165drYlJIUWjugoXTv9Xt0yZMu7oo4+2+1DACdLEavPmzUsx4iojtm/fbhUnXYD8RpVXzZmj0YEKNPEmEFQT70cffeRuvvlm7whQcBB4kGmq6jRq1MgtXbrUpqL3KVhoqLnChpqO0lK2bFmr0EybNi3FyCU1FfXv39+99NJLFni0r8ASvC89hkKVhrnH+vPPP90///xj2wpFderUsdFg6lPk0/2qQjR48GD7gEiLQlewv4Om2Z8xY4arX7++K1eunHcUyB9U+VRFR5NhxqvoaALBZ555xr355pusao4Ci8CDLNG3yEsvvdTm6lCAUBh44okn7A+umqAqVarknZma+v1oqLmGimu49vLly90333zj+vbta5WXSy65xGYy1h9mzb+jJi6FK53Xp08fexw1cflUcVI1R99cNYxd96GAcsUVV1hVRt92FyxYYMPjH3vsMZt7RI9x6KGHeveQmobsarj9q6++aq9NfYuGDBli/YhU3QLyAzXNqoN9z5493a+//uod3U2/4w899JAF/5YtW3pHgYKJwIMsUWh55JFHXJcuXWyhwTPOOMPCgSo0CkHq35MeLUKocKKVmfXNVNUYleA1j0+DBg3sHFWC1G9HlRiN8lJIUrOWRpQEFy5UxalTp0623o9CikKUmtoqV65sfRkUUDTB4THHHGNz9qiCpP30aE0hhSPNwXPBBRfYa1PQ0oSE2em3BOQENfVqjin9Pv7www/e0d2KFy9u82JpvqnLL7/cOwoUbIUisR0ckGUVK1a0JhPNyHvmmWd6R5FI1FFa/YVEa3MFh8MDWaUJKPXlQEFEzaVZpQCjPm2qdsajkYQK//pykJURlECYUeEBgHxOzVWaL6d9+/Zphh014WqwgIIVYQdIjcADAPmU5qxSZ2M1GY8fP947upv6r2leKi2bormqSpQo4V0DIBaBBwDymYULF7pbb73Vpm9QPzZ1vg/S1Aj33nuvjVhUvzlN9QAgfQQeIEB9djQqzJ/8EMhN/vByjYBUp/54NDXC+++/b4vl0nQFZByBBwDymKZoUJDR8PJ4EwaKpnrQxIIaMagRhwAyh8ADAHlI0x1cddVVcefREc15pZGfU6dOdc2aNfOOAsgsAg8A5IFt27ZZs5QCT6ySJUvafFaq5mhuKqa5ALKPwAMAuUyzgp911lluypQp3pEk6jfWrVs3W1hXP9XMBSBnEHgAIJdoYlLNBt6xY8dUa15pNnEFIVV2NIEggJxF4AH2grlz51p/C/0EfFoQd/r06d7eblrqRLMxazkVAHsHgQd7lSZDO+ecc2wCtYJEK7evXbvW7dq1yzuCgkqr7mtR3XjUV0fz7GhdOgB7F4EHBco///xjC4vubeeee65bsWKFLZKKguunn36yJR9+++0378huN998s5s1a5Zr3bq1dwTA3kTgQYGgNXI12kVNBloUFNjbVq5c6S666CKr9AVpxJXWvLrzzjuZOBDIRQQeZJmG1Q4dOtTmCSlUqJCrVq2aGzBggNuwYYN3xm76hturVy9Xvnx5V6pUKZsWP3ieAsm8efNcq1at3CGHHGIXbeuYv6C/VjK/8cYb3f333+++++47d8MNN9h96T71PHbs2GHnie7bfzzdl/rTvPbaa27atGnJq6Hr+T/55JP2vPX8mzZt6t54440U9xPLb6LTh5l//7qoSUL9M3z6QNN96qe/f9JJJ7klS5a4cePGJb9nF198sVWCEC6aU6dNmzbu999/944k0dpXmlPnqKOO8o4AyC0EHmSJwoJWb1Zg0KgTdcTs0aOHVVF0fPPmzd6Zzj7QNbFa0aJF3QsvvOD69evnxo4da9Po+7QmUNu2bd1xxx3nPvvsM7ds2TKbWVajWb788kvvrCSvv/66LZiodYYUUDSXiUKQJmYTBaM+ffq4xYsXu8mTJ9vMtS1btrQPoeLFi7uDDz44+flrin4tzqimhw4dOlgQe+qpp2w0TVo0ukZhR2Fr1KhR7p577nHPPvuse+CBB9INS3pNnTt3dpMmTbLgpE6qeh567sH3C4lP62CpH1csBR4AeST67Rk5pEKFCpFy5cpFpk2b5h0Jr2i4iJQpUyYSDRTekSTRABEpW7ZsZOHChbbft29fe09mzJhh+7J9+/ZIp06dItddd10k+oFvx6IhKHLOOedEot+IbV+iISTSpEmTyLBhw2zfv139+vUj0RBkx0S30W2jISeya9euyJIlSyLVq1ePzJ492zsjEvntt98iTZs2jYwZM8b29fyjgSnF/Ug0QNn9r1692juSkl5PsWLF7HXqsUQ/n3vuuRSvW4+t/7385+DvDxgwILJz5047Jno+NWrUiHz11VfeESS6rl272u988HLLLbfYz5o1a3pnAchtVHiQadHfG+tsqSaa2rVre0eTtGjRwv38889WffGpyejEE0/09pImV1NJX30bVI0RfSNWdUhVE99+++1nl9gOn7Vq1bJmJJ/6QUQ/TKzy8vfff1vTkqpJpUuX9s5IOke3iQaZ5Od/wgkn2KrTGkHmX4488kirtug1pKVBgwauXr161iQl+qkJ4lQ5+uabb+xYWk4//XS3zz77eHvOnpMqPwVtFFtYqblqwoQJ3l6SaEi35lIAeYvAg0xTqFC40Id1TnW61P3oPtVEpr47zZs3d+edd541SWWWQoxGY61fv9474tzGjRstjFSoUCH5+b/00ku2CKOCkX857bTT3FdffeXdKuMUzDRZnB4HBdP8+fOtuTZIo/Tuvvtubw9AXiLwIMuKFCmSXOXIDvWX0cipM844w6or6h+j/j2jR4+26fczq3Llyna7/v37u6+//tqqJ88995zbuXNnimHi+ua9fft2q/jEXhhOjsxQPzP1N/v333+9I87C9NNPP50j/48AyD4CDzJNHS+POOII9+2336aa00adj9Us5I9Oygh1Jn7nnXfcHXfc4Xr37m3NYWraKlGiRIrmn4xStUVDf1XFUaVIHaE1quvFF1+0qpSa1NQEFu/5qzlM6xgFq0MZoc7KCk/qFI2CRR3PFZ7106eK5YgRI+x3GED+QOBBpukba6NGjdzSpUvd559/7h1N6tujEVZlypRJ0X9mTxQyNKJFtwl+G16+fHmWhmzrOQ0ZMsSGf2uWW1WN/u///s8qPz71wYl9/qJh8JrmXyO70qLnpOfm0+tWc4bCWbCvEgoGjeqLnWtHlZ2qVat6ewDyAwIPskTzyFx66aW20OHw4cPdjBkz3BNPPGFT6Gt4t4aUZ9TRRx9tnZ81VH3mzJlWjVETV8+ePb0zMkfz7qjaUqVKFQtQuqhidP7559vQdS33oI7HCjYamq5Opuqk/N5779mw9EsuucQdf/zx3r2lpjl+1Mnaf91qLtPr1uzKmXndSHxqMtXvQZB+h9Q8CyB/IfAgS1Sy12R7Xbp0saYi/YF/9dVXrd+MQpD692SU7qtv3742cksdlTXSq3DhwjZPjSb5yywFnmOPPdZC1Nlnn22XOnXq2GgoTfSnOYPUrKXnr4kM9VOP3b17dwtrmjxR16dFYUkdntV8p3Ck16z5dTT3j5rTUHDcd9993lYS/c5pXigA+U+hiOrxyBEVK1a0Drgamqo+JMh9ev81AaDCjfpQBIe5//jjj659+/YWqDRZYFZowkD1T1I1KnjfKHhUEdR6WEHqi1ajRg1vbzeFd305UB8vTYgJIPdR4UGoaCSWRmVVr149VQdif14frVANZIeaRbXKedDVV18dN+wAyB8IPAgVjSBTE5aWn1BHZY0AUwBSJ2M1PWnYcFaayYCgt99+2zrE+xSutRgogPyLwIPQUedkdSRV84JGZmn015VXXmmjx8aPH29D0oHsUL+voOuuuy7HJuEEsHfQhycH0YcHCL+HHnrI+of51El+7ty56QYe+vAAeY8KDwBkkJYdCYYduemmm6juAAmAwAMAGaSpB4JU1VXgAZD/EXgAIAPGjBnjFixY4O0l0ZxNABIDgQdA6P3000/u/vvvd127dk21nEhGaF02zcEUdO2117pTTjnF2wOQ3xF4AISelv4YNWqUe/PNN7M06aTm3NECsT6thM4wdCCxEHgAhJ6WAfFldkFarar/xhtveHtJNFJLcz4BSBwEHuxVagbQRH+a/C+3aEHHWrVq2fIPGaXlIrTIqH5m119//WVrdOmibeStTZs22QSUvhIlSnhbGRPbT0dTTjRu3NjbA5AoCDwAQi22o7GWHcmo999/302ZMsXbS6LV0AEkHgIPgFCbMWOGt5XkrLPO8rbS9+eff6YKN+eee64NRQeQeAg8yLJt27a5oUOHulNPPdWag6pVq2bl/w0bNnhn7Pbbb7+5Xr16ufLly9sq4/ogiT1PaxPdcMMNdr0uHTt2dEuWLHHBycC1rWO6TudolttWrVq5jz/+OMV5sTRKR00RWt1azzstWmvrlVdesdek+77qqqvcqlWrvGuTaMSOOqzqteh161zNrh3s1BqPnt+8efPs+eq+/eeuY/5z95vDNKLou+++S34/9Fh6r4OPkdH3QrcZN25c8r+Tfuq+0nsfwmTatGneVpIzzjjD20rfoEGDLPT4NEuy+u4ASEwEHmSJPizvuusu9+STT7prrrnGTZ8+3fXo0cPCgo5v3rzZOzOpk6iCQ9GiRd0LL7zg+vXrZ/1rXn75Ze+MpBls27Zt6w4++GD7wJ4/f759iLdu3drNmTPHO8u5mTNnugsvvNCW8NBjqTNp2bJl3cUXX+ymTp3qnZWSnqseU4HgvvvuS3dWXAWNyZMnW98jzbuicKPX5y8UqQ/A2267zS1dutS99NJLFuRuueUW17dvXzs/Peo4q9d43HHHuc8++8wtW7bMVapUyQLLl19+6Z2VRIuftmvXzp188sn2Gq+//np7bsHXmJH3QgHuiSeecAMHDrR/FwW/3r17uxdffNHdfffdoe9jpN89/Rv6jjrqKFehQgVvL236fYztA9apUydW2gcSWfSbIHJI9A9ppFy5cpHoN0rvSHhFP1AjZcqUiUTDgXckyfvvvx+JfuhGFi5caPvRIGDvyYwZM2xftm/fHol+eESuu+66SDSMRKIfypHoh3Ak+qEe2bp1q3dWJPL3339HouHCLtrWdVdffXXkyiuvjGzatMk7KxLZuHFjpEOHDpGuXbtGduzYEYl+yEVq1qwZiQaQyM6dOyMDBgyI1K9fPxINFd4tUps9e7ZKIpF77rnHHsu3ZMmSSPXq1SPDhg2z/blz59rr1vk+PX/d7oorrohEg17y69NF275o6Iqcc845kd9//907EolEA0ikSZMmyffv3zb2+eo2um2fPn0iu3btyvB7sXz58kg0NKX6nYwGykjVqlXtZ5jpfdXvn3/p1auXd0369L4GbxcNlt41WTNx4kS7H/1eAsgbVHiQadHfGzdr1ix30kknudq1a3tHk7Ro0cL9/PPPVpnwqanrxBNP9PacO+CAA+yb9tq1a63CoKYtLb6o+4qGDRvRpUv0Q91uq1FX2tb5qpKoD4aqNb5DDz3UqiuPPfaYVZF8ep5aHV1VJVU4MtJZtWXLlm6//fbz9pxVY+rWrWsVHT23OnXqWNUgGki8M5wrUqSIvSZVe/755x/vaGq33nqrVWJUufLpsXTRbYM0ykzNWD5VpaIfmFat0PPI6Huhc4oVK+aOPvro5PdVFzXPqBoU21wXNqoUBjVs2NDbStvq1autyhjEjMpA4iPwINP0gasPXn0g58SiiQo8v//+u+vcubMrXbp0iouO+fRBrWagYBBIzzvvvON69uxpl//973/e0czZZ5993IEHHui2bNnidu7caSFi165d1uSkpq7mzZtb3yA1G+2J3iu9b2oGVF8b3fa8886zJrTMyuh78f3331un3apVq6Z4X7Uf25k3jBRUg4JBNS2DBw/2tpJccMEFFrwBJDYCD7JMlQ11gs0pqkyoKhN7mTRpUoqqiB43I1SNUaVk4sSJqSooWaV5elQlePvtt62PjfrxvPbaa9bROD3qZ/P4449bh1n1b1IHbvVhGj16dIZHDcWTkfdCwWr9+vVx39sOHTp4Z4WP+ivpdftUVdzTHDzqS/Xee+95e0m0hASAxEfgQaZphtkjjjjCZqBVU1OQmlCOPPLITE3gV6ZMGWtyUfOKPoSDVKHQKCaNNFLoqVGjhj1ukJqRunXrlmqiP91n//79raqiTsVZGZWkTr/bt2+3ZqHChQvbh+Hxxx/vnnnmGXf22We7ww8/3J7Xnmbd1cR3qjjdcccd1mlYTX66nT6AVUXKrIy+F1WqVLEmRlXQgvR+6n3V+xtWn376qbeVpGbNmt5W2vRvE6Qm2ozcDkD+R+BBpqmq06hRI2suCC7EqLCi0UcKMGo2ySj1QVE1RqOO9OHsU1Vk+PDh1sSgZjStX6SgoGHGwVFg+jBfvHixBZzY4KF+O+q/o8nj3nrrrVSBKtbs2bMt5Pg0NHzhwoX2/BR41PymsBHs56Mwo6Dn8/soKSj596UmMY3w0vsSrIotX74800sdSEbfC/Wd0nNQn6vga1e/qCuvvNKGtYdV7ISD9erV87biU0gP/juKRrYBCAcCD7JEc7lceumlNkRboUT9QdSPRYs0qplEw60zSs0yV1xxhQUEzW+jD6off/zROt5qwcdLLrnEOuOqD8zVV19tHUrVAVghRhUXrYCt27Zp0yZuE5v672hIty4KVWlRFUcdnLW4pIKEmq30fDQUWc1OCjJaHVuPq87Heo46R8PK/WHrPlW59FgTJkywIc4KIOqUraHOOq4gpSYu9S/Kioy+F+p7or5G+ncZMWKEPWc9vuZBUhg67bTTvHsMH02VEKTf2fT06dPH20py0UUXWad1AOFA4EGW6AP3kUcecV26dLE5XdQ35dVXX7UmJIWgjPaz8VWuXNn6wqip7LLLLrMKhjrzqo+M9n0KL6rU6P41p42qFBpxpACi+4hHH/y6D83po7mCFEDi0fws48ePt8fWBIWXX365PR+9Pr9zcPv27S1UqIlMTR3vvvuuNW/FrpytTsm6qHlJHZz1fuk2qvyoo7KaSlQx0mvRWmNZkZH3Qtfp+So86t9Hr03n6bkrqB522GF2Xtioqe6XX37x9pyNSEuv47GqiN988423l9Rsq3mKAIRHocieavzIME05r2YYzbqrkTsA8oZCpvpL+VTxUtNmPApHsYuBqvKmWa5zioKpvhwokKrJEUDuo8IDIHTUlywovf47DzzwgLeVRM1Yewo7ajb84osvvD0AiYDAAyB0Ypfq0PQE8WjKgo8++sjbSxLblyeWmsqaNGlik1RqMVGNeAOQ/xF4AISOZksOirfCuUb+ac20IPW7UphJz0033ZQ8r5OCVXod4QHkHwQeAKETHKqvaRLi0YSWmrHapzmRNJIvPZpLKbYPjpYeAZD/EXgAhMrGjRu9rSTBtcaCgqOyRB2VNf1BWjQHU2wgUrVnT7M3A8gfCDwAQiW2T01as2ArrPhrrGm6AU1bkJ5Bgwalqgjdcsst3h6A/I7AAyBUtLhrULzJKEVzI2mepzlz5rh+/fp5R+NTdUdrnwVpMkfdB4DEQOABUKBpVuw9UX+fIE3cqBFaABIHgQdAqOXE3KpTp071tpJoWRUAiYXAg1w1d+5c16xZM/sJ7A1asiNIs59nh9Y9i52rR7/DABILgQe5SiuGr127NkU/i61bt7pNmzalWs1bk8Vpsc2sUOdSrVEVO88Kwm/ffff1tpJkt8KjdciCmjZtamusAUgsBB7kKvV7WLFihWvYsKF3xNmq4VrUUxPBAdkV20k5OxWeVatW2dw7QVdddZW3BSCREHgAhMo+++zjbSWJHbWVGU888YS3leSMM85wjRo18vYAJBICDzLt7bffdlWqVHFLly71jiRR85O+XatiE+Q3T+l2n3zyiZ2jn/72fffd54YPH+4OPPBAO0/n+/RhpQ6jakbQuZo3Rf0pgs0UW7ZscY888ogrX768K1WqlC38qGazoL/++svdeOON1sSlCtNll11m87DouH/7atWq2WPop/Z1/J9//nHdunVzV155pe37/PvTCJ9FixZ5R5PofVAFS6twI/cVKVLE20qS1QrPrFmz3HvvveftJbn99tu9LQCJhsCDTKtataqFk2XLlnlHnAUD/4P/888/TxEOFGA0+VuNGjW8I0l0P9OnT3fXX3+9u+iii9zkyZPd008/nWKY8LPPPusGDx5s4eLDDz90Rx99tOvbt29yoNEkc1rtWufdc8897o033nDVq1d3N998swWbWHpuCjolS5a08PTvv//a7TXHyqOPPmprJOlbvb+vD8+TTz7Zwt3PP//s3Yuz8/T6tZDkwoULvaO73wctN0A/j7wR22k5qxUezbMT1KJFCxuODiAxEXiQaccee6w79dRT7YNdH/Cyfv16W2NIK01rQUU/HOjb9bx586xyExsASpcubQs1HnPMMe7www+3poLTTz/dFStWzDvDuTp16rjXX3/dhgFrZIyCzGeffebWrFlj1y9fvtzCyb333muVHd1f165d7XlosrhYel5Dhgxxw4YNc+3atXO//vqrmzFjhrvzzjvd+eef7w477DDr7KxQpG/4ut5fKylYeVq5cqU9z06dOlmIUsVH9D5ov169em6//fazY8hdqtIFZaXCo+AdDMyaYFBBG0DiIvAg0w444AB3yimn2Ae7PuBFQ3fl4osvttDghwONytJ5Ol+3y6wGDRqkmM1WIalChQrJFZ4vvvjCjiksBT/oVJXRbWMpeAVXzlYz2JQpU1ItK3DwwQfbc1elSlWl2rVrW3DTh6ea0+bPn29hTKFJoctfPVvvg0aI6XGQN7IbNPXvrlAcpDCt32sAiYvAgyxRgPnpp58scMiCBQvsQ75y5copwoH6sajZR+fvDbp/NYFl9cNIHVyLFi1qoUfVo+bNm1slSRUjnwKXKlqaO0gVH63EvWTJEjum16th0Kr4iP8+qAqG/CGzw9I/+OCDFOtxHXXUUa5Lly7eHoBEReBBlpQrV876M6jSoQCgKo6ak1TFURDQvr4pq3+LQoHOz4+0YrZCjr7Rq2P0Cy+84F555ZUUgUfUrKXqjS4KWar86PWruqSAF3wftB9slkPeymwfnrfeesvbSqIgDCDxEXiQJYceeqg1GanSob47P/zwg3VCFv3cuHGjNfUoAOg8nb83KEipX87vv//uHcmcadOmWcfloUOHulatWlnzlUZ6qVN2UKVKlaxKpQqOKj1qCitTpoxVh9R8pn5FqnZp3hZ/BW4kHvX7UngNatmypbcFIJEReJBl6pirD/nx48dbE44/uko/VdXR8GyFHp23J+r34neAzgwNIVc/ouDQcDVhKGjFDpuPR31vVI1Rnx3ftm3bbAXtoEMOOcQqOhoSr9FiquL4fZI0+mz16tXWubp48eL5tppVUGWmSUu/y0GqVu6tsA4gdxF4kGWq5OjD/ZlnnknRjKOf2h8xYoRt+5WftKgTsubkmTBhgps9e3aKIe17orBxySWX2Pw6mstHI64GDhzoevbsadWXPVH1ScFo5MiR1lSl23fs2NEqNkHqEK1J5z7++GOr8Pgjt0TvgQKeliDQ/DuqECHxqLkydqLB2M7sABIXgQdZVqJEieSgE1vF0b6OqxlI56VHc/BoFMwdd9zhbrnllhTz3eyJqiyaR0fD1vv372/hR4FJ/XAy0rTUuHFj9+STT1o1SuFJ8/lomYtBgwZ5Z+x23HHHWfOVKj3BKo5f/dHrPe2001INi0Zi0KSCweVNVKnU7xOAcCgUyewQBqRJw501MknVgjPPPNM7CiC3qY+VT3M8xfbLiaWwrSbJIM3VpDmZcoI6Qmukl5o81ecNQO6jwgMg1NKruKm/Vrywo/mVcirsAMgfCDwAQi2tIrb6YinUxIYddYTv1auXtwcgLAg8AEItNvCsW7fO+mmpihO7yKyav1588cUUs3sDCAcCD4BQU7OVTyP4NNT81Vdf9Y7spg7nEydOdGXLlvWOAAgTAg+A0NFEkT4FHq3xppF0mmAylr8w6Lhx4wg7QIgReACEjqo4QZpXadOmTd7eblo3bebMme7KK6/0jgAIKwIPgNDp3LlzujMkH3HEEa5fv37u+eefZ6JIoIAg8AAIHU0a+O6777pGjRp5R5JoVm/149Fq/u3bt/eOAigICDwAQumYY45xo0ePtvXctEbWsmXLbC20Nm3aeGcAKEgIPABCTQvD+kudACi4CDwAACD0CDwAACD0CDwAACD0CDwAACD0CkXSWlkPmVaxYkX333//uTp16nhHACCJJj8sXry4W7x4sXcEQG4i8OQgP/AAQDwEHiDvEHhykOb84O0EkJaiRYu6tm3bensAchOBBwAAhB6dlgEAQOgReAAAQOgReAAAQOgReAAAQOgReAAAQOgReAAAQOgReAAAQOgReAAAQOgReAAAQOgReAAAQOgReAAAQOgReAAAQOgReAAAQOgReAAAQOgReAAAQOgReAAAQOgReAAAQOgReAAAQOgReAAAQOgReAAAQOgReAAAQMg59//rA4m3NqO0wgAAAABJRU5ErkJggg==)"
      ],
      "metadata": {
        "id": "C4tndPKZUZVn"
      }
    },
    {
      "cell_type": "markdown",
      "source": [
        "Magic methods : it is a special method ,Python Magic methods are the methods starting and ending with double underscores ‘__’.\n",
        "eg :  _ _name_ _ , _ _init_ _"
      ],
      "metadata": {
        "id": "JE1EQDW-VDGj"
      }
    },
    {
      "cell_type": "markdown",
      "source": [
        "constructor is a special method that is called automatically when an object is created from a class,we don't need to call explicitly"
      ],
      "metadata": {
        "id": "wgHrr4vvWKQX"
      }
    },
    {
      "cell_type": "code",
      "source": [
        "class Temp:\n",
        "  def __init__(self):\n",
        "    print(\"hello\")\n",
        "obj = Temp()"
      ],
      "metadata": {
        "id": "IEuK0g7GUXjb",
        "outputId": "b4913907-1e29-409e-f09a-77496bea276a",
        "colab": {
          "base_uri": "https://localhost:8080/"
        }
      },
      "execution_count": null,
      "outputs": [
        {
          "output_type": "stream",
          "name": "stdout",
          "text": [
            "hello\n"
          ]
        }
      ]
    },
    {
      "cell_type": "markdown",
      "source": [
        "constructor is used to write configuration related code\n",
        "- The primary purpose of a constructor is to initialize the attributes (data members) of an object when it is created.\n",
        "- This ensures that objects start with a valid state and are ready for use."
      ],
      "metadata": {
        "id": "pXdXAa9CcedN"
      }
    },
    {
      "cell_type": "markdown",
      "source": [
        "# __ self __\n",
        "- self is a default parameter\n",
        "- self is used with all the attributes\n",
        "- when calling functions or a class self is used\n",
        "\n",
        "**Golden rule of oops**  : all the attributes and methods of a class can only be accessed by the class's object\n",
        "- by using self we can call a method inside another method"
      ],
      "metadata": {
        "id": "DwXBIayZqtjU"
      }
    },
    {
      "cell_type": "markdown",
      "source": [
        "self is actually the class object , the id of both of them are same"
      ],
      "metadata": {
        "id": "F4M0R3sqssw1"
      }
    },
    {
      "cell_type": "code",
      "source": [
        "class Temp:\n",
        "  def __init__(self):\n",
        "    print(id(self))\n",
        "obj = Temp()\n",
        "print(id(obj))"
      ],
      "metadata": {
        "id": "pYbpwqd2snOk",
        "outputId": "70fc2518-bea3-4974-dae4-714c08ac2d66",
        "colab": {
          "base_uri": "https://localhost:8080/"
        }
      },
      "execution_count": null,
      "outputs": [
        {
          "output_type": "stream",
          "name": "stdout",
          "text": [
            "133791933118304\n",
            "133791933118304\n"
          ]
        }
      ]
    },
    {
      "cell_type": "markdown",
      "source": [
        "#Fractions"
      ],
      "metadata": {
        "id": "O1lQfCIcj2Rw"
      }
    },
    {
      "cell_type": "code",
      "source": [
        "3/4*1/2"
      ],
      "metadata": {
        "id": "qsqTOFc1tvQJ",
        "outputId": "e7ba7d0b-bab7-49e5-cf35-a8995d11cfb1",
        "colab": {
          "base_uri": "https://localhost:8080/"
        }
      },
      "execution_count": null,
      "outputs": [
        {
          "output_type": "execute_result",
          "data": {
            "text/plain": [
              "0.375"
            ]
          },
          "metadata": {},
          "execution_count": 1
        }
      ]
    },
    {
      "cell_type": "markdown",
      "source": [
        "- parameterised constructor :   A parameterized constructor is a method that accepts parameters when an object is created\n",
        "- A non-parameterized constructor is a constructor that does not take any arguments. It's also known as a default constructor"
      ],
      "metadata": {
        "id": "wNUac9ihmLln"
      }
    },
    {
      "cell_type": "code",
      "source": [
        "class Fraction:\n",
        "    def __init__(self, x, y):\n",
        "        self.num = x\n",
        "        self.den = y\n",
        "\n",
        "    def __str__(self):\n",
        "        return f'{self.num}/{self.den}'\n",
        "\n",
        "    def __add__(self, other):\n",
        "        new_num = self.num * other.den + self.den * other.num\n",
        "        new_den = self.den * other.den\n",
        "        return f\"{new_num}/{new_den}\"\n",
        "\n",
        "    def __sub__(self, other):\n",
        "        new_num = self.num * other.den - self.den * other.num\n",
        "        new_den = self.den * other.den\n",
        "        return f\"{new_num}/{new_den}\"\n",
        "\n",
        "    def __mul__(self, other):\n",
        "        new_num = self.num * other.num\n",
        "        new_den = self.den * other.den\n",
        "        return f\"{new_num}/{new_den}\"\n",
        "\n",
        "    def __truediv__(self, other):\n",
        "        new_num = self.num * other.den\n",
        "        new_den = self.den * other.num\n",
        "        return f\"{new_num}/{new_den}\"\n"
      ],
      "metadata": {
        "id": "VpQWuE32tgrP"
      },
      "execution_count": null,
      "outputs": []
    },
    {
      "cell_type": "code",
      "source": [
        "fr1 = Fraction(3,4)"
      ],
      "metadata": {
        "id": "Hgs7Okv2nJer"
      },
      "execution_count": null,
      "outputs": []
    },
    {
      "cell_type": "code",
      "source": [
        "print(fr1)"
      ],
      "metadata": {
        "id": "8ItA90MYnXCU",
        "outputId": "57ffb813-9c83-413b-9930-8a5c4b755486",
        "colab": {
          "base_uri": "https://localhost:8080/"
        }
      },
      "execution_count": null,
      "outputs": [
        {
          "output_type": "stream",
          "name": "stdout",
          "text": [
            "3/4\n"
          ]
        }
      ]
    },
    {
      "cell_type": "markdown",
      "source": [
        "In Python, the (__ _str_ __) method is a special method that allows you to define how an object of your class should be represented as a string. It's called when you use the print() function on an object or when you convert an object to a string using the str() function."
      ],
      "metadata": {
        "id": "QIvqs1E3obXN"
      }
    },
    {
      "cell_type": "code",
      "source": [
        "fr2 = Fraction(4,5)"
      ],
      "metadata": {
        "id": "n_tN_6Inpsje"
      },
      "execution_count": null,
      "outputs": []
    },
    {
      "cell_type": "code",
      "source": [
        "print(fr1 + fr2)\n",
        "print(fr1 - fr2)\n",
        "print(fr1 * fr2)\n",
        "print(fr1 / fr2)\n",
        "print()"
      ],
      "metadata": {
        "id": "dJKsjGaqod2e",
        "outputId": "26e5b651-3ac7-48f9-eb19-a3966ee578dd",
        "colab": {
          "base_uri": "https://localhost:8080/"
        }
      },
      "execution_count": null,
      "outputs": [
        {
          "output_type": "stream",
          "name": "stdout",
          "text": [
            "31/20\n",
            "-1/20\n",
            "12/20\n",
            "15/16\n",
            "\n"
          ]
        }
      ]
    },
    {
      "cell_type": "markdown",
      "source": [
        "##`Q-1:` Rectangle Class\n",
        "1. Write a Rectangle class in Python language, allowing you to build a rectangle with length and width attributes.\n",
        "\n",
        "2. Create a Perimeter() method to calculate the perimeter of the rectangle and a Area() method to calculate the area of ​​the rectangle.\n",
        "\n",
        "3. Create a method display() that display the length, width, perimeter and area of an object created using an instantiation on rectangle class."
      ],
      "metadata": {
        "id": "FyUJ3PRAsPr4"
      }
    },
    {
      "cell_type": "markdown",
      "source": [
        "Eg.\n",
        "After making above classes and methods, on executing below code:-\n",
        "```\n",
        "my_rectangle = Rectangle(3 , 4)\n",
        "my_rectangle.display()\n",
        "```\n",
        "\n",
        "`Output:`\n",
        "```\n",
        "The length of rectangle is:  3\n",
        "The width of rectangle is:  4\n",
        "The perimeter of rectangle is:  14\n",
        "The area of rectangle is:  12\n",
        "```\n"
      ],
      "metadata": {
        "id": "GxUtOqJfssFK"
      }
    },
    {
      "cell_type": "code",
      "source": [
        "class Rectangle:\n",
        "  def __init__(self,l,b):\n",
        "    self.length = l\n",
        "    self.breadth = b\n",
        "    self.display()\n",
        "  def perimeter(self):\n",
        "    return 2*(self.length + self.breadth)\n",
        "  def area(self):\n",
        "    return self.length * self.breadth\n",
        "  def display(self):\n",
        "     print(\"length of the rectangle : \",self.length)\n",
        "     print(\"breadth of the rectangle : \",self.breadth)\n",
        "     print(\"Area of the rectangle : \",self.area())\n",
        "     print(\"perimeter of the rectangle : \",self.perimeter())"
      ],
      "metadata": {
        "id": "92_QT-Uj6NBg"
      },
      "execution_count": null,
      "outputs": []
    },
    {
      "cell_type": "code",
      "source": [
        "obj = Rectangle(3,4)"
      ],
      "metadata": {
        "id": "3gJ5cyb80lDd",
        "outputId": "0d59b1f2-8dff-49de-8fb2-abb5ac9b1f91",
        "colab": {
          "base_uri": "https://localhost:8080/"
        }
      },
      "execution_count": null,
      "outputs": [
        {
          "output_type": "stream",
          "name": "stdout",
          "text": [
            "length of the rectangle :  3\n",
            "breadth of the rectangle :  4\n",
            "Area of the rectangle :  12\n",
            "perimeter of the rectangle :  14\n"
          ]
        }
      ]
    },
    {
      "cell_type": "markdown",
      "source": [
        "##`Q-2: Bank Class`\n",
        "\n",
        "1. Create a Python class called `BankAccount` which represents a bank account, having as attributes: `accountNumber` (numeric type), `name` (name of the account owner as string type), `balance`.\n",
        "2. Create a constructor with parameters: `accountNumber, name, balance`.\n",
        "3. Create a `Deposit()` method which manages the deposit actions.\n",
        "4. Create a `Withdrawal()` method  which manages withdrawals actions.\n",
        "5. Create an `bankFees()` method to apply the bank fees with a percentage of 5% of the balance account.\n",
        "6. Create a `display()` method to display account details.\n",
        "Give the complete code for the  BankAccount class."
      ],
      "metadata": {
        "id": "r_GxrS0Vrdom"
      }
    },
    {
      "cell_type": "markdown",
      "source": [
        "Eg.\n",
        "After making above classes and methods, on executing below code:-\n",
        "```\n",
        "newAccount = BankAccount(2178514584, \"Mandy\" , 2800)\n",
        "\n",
        "newAccount.Withdrawal(700)\n",
        "\n",
        "newAccount.Deposit(1000)\n",
        "\n",
        "newAccount.display()\n",
        "```\n",
        "\n",
        "`Output:`\n",
        "```\n",
        "Account Number :  2178514584\n",
        "Account Name :  Mandy\n",
        "Account Balance :  3100 ₹\n",
        "```"
      ],
      "metadata": {
        "id": "qvVkOUJgvTV_"
      }
    },
    {
      "cell_type": "code",
      "source": [
        "class BankAccount:\n",
        "  def __init__(self,accountnumber,name,balance):\n",
        "    self.accountno = accountnumber\n",
        "    self.name = name\n",
        "    self.balance = balance\n",
        "  def Deposit(self,a):\n",
        "     self.balance = self.balance + a\n",
        "  def Withdrawal(self,a):\n",
        "    self.balance = self.balance - a\n",
        "  def BankFees(self):\n",
        "    self.balance = self.balance/100 * 5\n",
        "  def Display(self):\n",
        "    print(f\"Account number : {self.accountno}\")\n",
        "    print(f\"Account name : {self.name}\")\n",
        "    print(f\"account balance : {self.balance}₹\")\n"
      ],
      "metadata": {
        "id": "fUQOmQyA6YDR"
      },
      "execution_count": null,
      "outputs": []
    },
    {
      "cell_type": "code",
      "source": [
        "newAccount = BankAccount(2178514584, \"Mandy\" , 2800)\n",
        "\n",
        "newAccount.Withdrawal(700)\n",
        "\n",
        "newAccount.Deposit(1000)\n",
        "\n",
        "newAccount.Display()"
      ],
      "metadata": {
        "id": "ttUdTJi34oZ_",
        "outputId": "f3b72511-42f7-456e-fe3b-71a027dc1342",
        "colab": {
          "base_uri": "https://localhost:8080/"
        }
      },
      "execution_count": null,
      "outputs": [
        {
          "output_type": "stream",
          "name": "stdout",
          "text": [
            "Account number : 2178514584\n",
            "Account name : Mandy\n",
            "account balance : 3100₹\n"
          ]
        }
      ]
    },
    {
      "cell_type": "markdown",
      "source": [
        "##`Q-3:Computation class`\n",
        "\n",
        "1. Create a `Computation` class with a default constructor (without parameters) allowing to perform various calculations on integers numbers.\n",
        "2. Create a method called `Factorial()` which allows to calculate the factorial of an integer n. Integer n as parameter for this method\n",
        "\n",
        "3. Create a method called `naturalSum()` allowing to calculate the sum of the first n integers 1 + 2 + 3 + .. + n. Integer n as parameter for this method.\n",
        "\n",
        "4. Create a method called `testPrime()` in  the Calculation class to test the primality of a given integer n, n is Prime or Not? Integer n as parameter for this method.\n",
        "\n",
        "5. Create  a method called `testPrims()` allowing to test if two numbers are prime between them. Two integers are prime to one another if they have only `1` as their common divisor. Eg. 4 and 9 are prime to each other.\n",
        "\n",
        "5. Create a `tableMult()` method which creates and displays the multiplication table of a given integer. Then create an `allTablesMult()` method to display all the integer multiplication tables 1, 2, 3, ..., 9.\n",
        "\n",
        "6. Create a static `listDiv()` method that gets all the divisors of a given integer on new list called  Ldiv. Create another `listDivPrim()` method that gets all the prime divisors of a given integer."
      ],
      "metadata": {
        "id": "QovcQAZTrgGU"
      }
    },
    {
      "cell_type": "code",
      "source": [
        "class Computation:\n",
        "    def __init__(self):\n",
        "        pass\n",
        "\n",
        "    def Factorial(self, n):\n",
        "        f = 1\n",
        "        for i in range(1, n + 1):\n",
        "            f = f * i\n",
        "        print(f)\n",
        "\n",
        "    def naturalsum(self, n):\n",
        "        a = 0\n",
        "        for i in range(1, n + 1):\n",
        "            a += i\n",
        "        print(a)\n",
        "\n",
        "    def testPrime(self, n):\n",
        "        c = 0\n",
        "        for i in range(1, n):\n",
        "            if n % i == 0:\n",
        "                c += 1\n",
        "        if c == 2:\n",
        "            print(\"prime\")\n",
        "\n",
        "    def testprims(self, n1, n2):\n",
        "        l = [n1, n2]\n",
        "        l1 = []\n",
        "        for i in l:\n",
        "            c = 0\n",
        "            for j in range(1, i + 1):\n",
        "                if i % j == 0:\n",
        "                    c += 1\n",
        "            l1.append(c)\n",
        "        if l1[0] == 2 and l1[1] == 2:\n",
        "            print(\"both are primes\")\n",
        "        else:\n",
        "            print('both are not primes')\n",
        "    def tableMult(self,n):\n",
        "      print(f\"Multiplication table of {n}\")\n",
        "      for i in range(1,11):\n",
        "          print(f\"{n} * {i} = {n*i}\")\n",
        "    def listDiv(self,n):\n",
        "      Ldiv = []\n",
        "      for i in range(1,n+1):\n",
        "        if n%i==0:\n",
        "          Ldiv.append(i)\n",
        "      print(Ldiv)\n",
        "    def listDivPrime(self,n):\n",
        "      LdivPrime = []\n",
        "      for i in range(1,n+1):\n",
        "        c=0\n",
        "        if n%i == 0:\n",
        "          for j in range(1,i+1):\n",
        "             if i%j==0:\n",
        "                c+=1\n",
        "          if c==2:\n",
        "             LdivPrime.append(i)\n",
        "      print(LdivPrime)\n",
        "\n"
      ],
      "metadata": {
        "id": "YEkPH70l6Z-o"
      },
      "execution_count": null,
      "outputs": []
    },
    {
      "cell_type": "code",
      "source": [
        "obj = Computation()\n",
        "obj.listDivPrime(10)"
      ],
      "metadata": {
        "id": "Di-bcULT69vQ",
        "outputId": "2e5f714b-4a97-4e4f-e209-214d9b93c8ff",
        "colab": {
          "base_uri": "https://localhost:8080/"
        }
      },
      "execution_count": null,
      "outputs": [
        {
          "output_type": "stream",
          "name": "stdout",
          "text": [
            "[2, 5]\n"
          ]
        }
      ]
    },
    {
      "cell_type": "markdown",
      "source": [
        "##`Q-4`: Build flashcard using class in Python.\n",
        "\n",
        "Build a flashcard using class in python. A flashcard is a card having information on both sides, which can be used as an aid in memoization. Flashcards usually have a question on one side and an answer on the other.\n",
        "\n",
        "**Example 1:**\n",
        "\n",
        "Approach:\n",
        "\n",
        "- Create a class named FlashCard.\n",
        "- Initialize dictionary fruits using __init__() method. Here you have to define fruit name as key and it's color as value. E.g., {\"Banana\": \"yellow\", \"Strawberries\": \"pink\"}\n",
        "- Now randomly choose a pair from fruits by using _random_ module and store the key in variable _fruit_ and _value_ in variable color.\n",
        "- Now prompt the user to answer the color of the randomly chosen fruit.\n",
        "- If correct print correct else print wrong.\n",
        "\n",
        "Output:\n",
        "```bash\n",
        "welcome to fruit quiz\n",
        "What is the color of Strawberries\n",
        "pink\n",
        "Correct answer\n",
        "Enter 0, if you want to play again: 0\n",
        "What is the color of watermelon\n",
        "green\n",
        "Correct answer\n",
        "Enter 0, if you want to play again: 1\n",
        "```"
      ],
      "metadata": {
        "id": "0yn23_oEriXa"
      }
    },
    {
      "cell_type": "code",
      "source": [
        "import random\n",
        "class FlashCard:\n",
        "  def __init__(self):\n",
        "     self.fruits = {\"banana\":\"yellow\",\"strawberries\":'pink','apple':'red','mango':'yellow','grapes':'purple'}\n",
        "     self.fruit = list(self.fruits.keys())\n",
        "  def Prediction(self):\n",
        "    while True:\n",
        "      p = random.choice(self.fruit)\n",
        "      print(f\"what is the color of {p}\")\n",
        "      a = input(\"enter your answer : \")\n",
        "      if a == self.fruits[p]:\n",
        "         print(\"correct\")\n",
        "         b = int(input(\"enter 1  to continue | 0 to stop \"))\n",
        "         if b == 1:\n",
        "           self.Prediction()\n",
        "         else:\n",
        "            break\n",
        "      else:\n",
        "        print(\"incorrect\")"
      ],
      "metadata": {
        "id": "vCrUF6VU6l6w"
      },
      "execution_count": null,
      "outputs": []
    },
    {
      "cell_type": "code",
      "source": [
        "obj = FlashCard()\n",
        "\n",
        "obj.Prediction()"
      ],
      "metadata": {
        "id": "NXpRpmO9MX1y",
        "outputId": "27cc5826-b7d2-425c-fb00-909d49d66f37",
        "colab": {
          "base_uri": "https://localhost:8080/"
        }
      },
      "execution_count": null,
      "outputs": [
        {
          "name": "stdout",
          "output_type": "stream",
          "text": [
            "what is the color of grapes\n",
            "enter your answer : purple\n",
            "correct\n",
            "enter 1  to continue | 0 to stop 1\n",
            "what is the color of apple\n",
            "enter your answer : red\n",
            "correct\n",
            "enter 1  to continue | 0 to stop 0\n",
            "what is the color of banana\n",
            "enter your answer : yellow\n",
            "correct\n",
            "enter 1  to continue | 0 to stop 0\n"
          ]
        }
      ]
    },
    {
      "cell_type": "code",
      "source": [
        "class TechWorld:\n",
        "  def __init__(self,name,skill,experience,avgfeedback):\n",
        "    self.name = name\n",
        "    self.skill = skill\n",
        "    self.experience = experience\n",
        "    self.avgfeedback = avgfeedback\n",
        "    self.courses = ['datascience','python','react','english','statistics']\n",
        "  def check_eligibility(self):\n",
        "    if self.experience > 3 and self.avgfeedback >= 4.5:\n",
        "      return True\n",
        "    elif self.experience <= 3 and self.avgfeedback >= 4:\n",
        "      return True\n",
        "    else:\n",
        "      return False\n",
        "  def allocate_course(self):\n",
        "    if self.check_eligibility() == True:\n",
        "      for i in self.skill:\n",
        "        if i in self.courses:\n",
        "          return True\n",
        "        else:\n",
        "          return False\n"
      ],
      "metadata": {
        "id": "lBiUIyDST3O_"
      },
      "execution_count": null,
      "outputs": []
    },
    {
      "cell_type": "code",
      "source": [
        "obj = TechWorld('dev',['python','datascience','ai'],5,4.5)\n",
        "obj.check_eligibility()"
      ],
      "metadata": {
        "id": "3aRy9RYBWdJs",
        "outputId": "90307b9f-4941-4ee8-9d09-ca77d9311a08",
        "colab": {
          "base_uri": "https://localhost:8080/"
        }
      },
      "execution_count": null,
      "outputs": [
        {
          "output_type": "execute_result",
          "data": {
            "text/plain": [
              "True"
            ]
          },
          "metadata": {},
          "execution_count": 122
        }
      ]
    },
    {
      "cell_type": "markdown",
      "source": [
        "### Write OOP classes to handle the following scenarios:\n",
        "\n",
        "- A user can create and view 2D coordinates\n",
        "- A user can find out the distance between 2 coordinates\n",
        "- A user can find find the distance of a coordinate from origin\n",
        "- A user can check if a point lies on a given line\n",
        "- A user can find the distance between a given 2D point and a given line"
      ],
      "metadata": {
        "id": "QFXlGE60ApGa"
      }
    },
    {
      "cell_type": "code",
      "source": [
        "\n",
        "class Point:\n",
        "  def __init__(self,x,y):\n",
        "    self.x_cod = x\n",
        "    self.y_cod = y\n",
        "  def __str__(self):\n",
        "    return f'Coordinates : <{self.x_cod},{self.y_cod}>'\n",
        "  def euclidien_distance(self,other):\n",
        "    return ((self.x_cod - other.x_cod)**2 + (self.y_cod - other.y_cod)**2)**0.5\n",
        "  def distance_from_origin(self):\n",
        "       # return self.euclidean_distance(Point(0,0))\n",
        "    return self.euclidien_distance(Point(0,0))\n",
        "class Line:\n",
        "  def __init__(self,A,B,C):\n",
        "    self.A = A\n",
        "    self.B = B\n",
        "    self.C = C\n",
        "  def __str__(self):\n",
        "    return f'Line equation : {self.A}x + {self.B}y + {self.C} = 0'\n",
        "  def point_on_line(line,point):\n",
        "    if line.A * point.x_cod + line.B*point.y_cod + line.C == 0:\n",
        "      return \"lies on the line\"\n",
        "    else:\n",
        "      return \"doesnot lie on the line\"\n",
        "  def shortest_distance(line,point):\n",
        "    return  abs(line.A*point.x_cod + line.B*point.y_cod + line.C)/(line.A**2 + line.B**2)**0.5\n"
      ],
      "metadata": {
        "id": "OC6wvwTgArXj"
      },
      "execution_count": null,
      "outputs": []
    },
    {
      "cell_type": "code",
      "source": [
        "P1 = Point(0,0)\n",
        "P2 = Point(10,10)\n",
        "P1.euclidien_distance(P2)\n",
        "P1.distance_from_origin()"
      ],
      "metadata": {
        "id": "rMYmmSTRB4zm",
        "outputId": "b56d467d-2f32-43f4-9fe1-ac2cc7eb9b8e",
        "colab": {
          "base_uri": "https://localhost:8080/"
        }
      },
      "execution_count": null,
      "outputs": [
        {
          "output_type": "execute_result",
          "data": {
            "text/plain": [
              "0.0"
            ]
          },
          "metadata": {},
          "execution_count": 38
        }
      ]
    },
    {
      "cell_type": "code",
      "source": [
        "l1 = Line(1,1,-2)\n",
        "p1 = Point(1,1)\n",
        "l1.point_on_line(p1)"
      ],
      "metadata": {
        "id": "3Fu07B2rGdUs",
        "outputId": "327932b2-2559-42a5-8916-c889888d64d0",
        "colab": {
          "base_uri": "https://localhost:8080/",
          "height": 36
        }
      },
      "execution_count": null,
      "outputs": [
        {
          "output_type": "execute_result",
          "data": {
            "text/plain": [
              "'lies on the line'"
            ],
            "application/vnd.google.colaboratory.intrinsic+json": {
              "type": "string"
            }
          },
          "metadata": {},
          "execution_count": 39
        }
      ]
    },
    {
      "cell_type": "code",
      "source": [
        "l1.shortest_distance(p1)"
      ],
      "metadata": {
        "id": "KZ54P16BKRb8",
        "outputId": "973f3e58-d77e-45b8-81ce-d694cd1f4ba7",
        "colab": {
          "base_uri": "https://localhost:8080/"
        }
      },
      "execution_count": null,
      "outputs": [
        {
          "output_type": "execute_result",
          "data": {
            "text/plain": [
              "0.0"
            ]
          },
          "metadata": {},
          "execution_count": 40
        }
      ]
    },
    {
      "cell_type": "markdown",
      "source": [
        "### How objects access attributes"
      ],
      "metadata": {
        "id": "iN-sli_cK76O"
      }
    },
    {
      "cell_type": "code",
      "source": [
        "class Person:\n",
        "\n",
        "  def __init__(self,name_input,country_input):\n",
        "    self.name = name_input\n",
        "    self.country = country_input\n",
        "\n",
        "  def greet(self):\n",
        "    if self.country == 'india':\n",
        "      print('Namaste',self.name)\n",
        "    else:\n",
        "      print('Hello',self.name)"
      ],
      "metadata": {
        "id": "1wbqUYivPAK5"
      },
      "execution_count": null,
      "outputs": []
    },
    {
      "cell_type": "code",
      "source": [
        "#how to access attributes\n",
        "p = Person('veda','india')"
      ],
      "metadata": {
        "id": "FInb7etbPQAF"
      },
      "execution_count": null,
      "outputs": []
    },
    {
      "cell_type": "code",
      "source": [
        "p.country\n",
        "p.name"
      ],
      "metadata": {
        "id": "Xe3lXpFuPaqG",
        "outputId": "d2e32efe-289f-48c3-88b9-70176b481dc8",
        "colab": {
          "base_uri": "https://localhost:8080/",
          "height": 36
        }
      },
      "execution_count": null,
      "outputs": [
        {
          "output_type": "execute_result",
          "data": {
            "text/plain": [
              "'veda'"
            ],
            "application/vnd.google.colaboratory.intrinsic+json": {
              "type": "string"
            }
          },
          "metadata": {},
          "execution_count": 44
        }
      ]
    },
    {
      "cell_type": "code",
      "source": [
        "#how to access methods\n",
        "p.greet()"
      ],
      "metadata": {
        "id": "wNvBDp8xPjX5",
        "outputId": "95873060-2922-47b3-ae05-73c032629034",
        "colab": {
          "base_uri": "https://localhost:8080/"
        }
      },
      "execution_count": null,
      "outputs": [
        {
          "output_type": "stream",
          "name": "stdout",
          "text": [
            "Namaste veda\n"
          ]
        }
      ]
    },
    {
      "cell_type": "markdown",
      "source": [
        "# Attribute creation outside the class"
      ],
      "metadata": {
        "id": "wdzYRZJDPwm9"
      }
    },
    {
      "cell_type": "markdown",
      "source": [
        "using the object we can ceate attributes outside the class"
      ],
      "metadata": {
        "id": "s0COFbvjP8lw"
      }
    },
    {
      "cell_type": "code",
      "source": [
        "p.gender = 'male'"
      ],
      "metadata": {
        "id": "fxHdxYR3P0A5"
      },
      "execution_count": null,
      "outputs": []
    },
    {
      "cell_type": "code",
      "source": [
        "p.gender"
      ],
      "metadata": {
        "id": "6bPAp8KKP54w",
        "outputId": "8af3def1-f4a1-4972-b8e3-5d4e265b3b7f",
        "colab": {
          "base_uri": "https://localhost:8080/",
          "height": 36
        }
      },
      "execution_count": null,
      "outputs": [
        {
          "output_type": "execute_result",
          "data": {
            "text/plain": [
              "'male'"
            ],
            "application/vnd.google.colaboratory.intrinsic+json": {
              "type": "string"
            }
          },
          "metadata": {},
          "execution_count": 47
        }
      ]
    },
    {
      "cell_type": "markdown",
      "source": [
        "### Reference Variables\n",
        "\n",
        "- Reference variables hold the objects\n",
        "- We can create objects without reference variable as well\n",
        "- An object can have multiple reference variables\n",
        "- Assigning a new reference variable to an existing object does not create a new object"
      ],
      "metadata": {
        "id": "onaO3AGYQBoj"
      }
    },
    {
      "cell_type": "code",
      "source": [
        "class Person:\n",
        "  def __init__(self):\n",
        "    self.name = 'veda'\n",
        "    self.gender = 'male'\n",
        "p  = Person() #p is the reference variable that store the addressof object\n",
        "q = p"
      ],
      "metadata": {
        "id": "Nn5cLDEqQE_B"
      },
      "execution_count": null,
      "outputs": []
    },
    {
      "cell_type": "code",
      "source": [
        "#change attribute value with the help of 2nd object\n",
        "print(p.name)\n",
        "print(q.name)\n",
        "q.name = 'raka'\n",
        "print(p.name)\n",
        "print(q.name)"
      ],
      "metadata": {
        "id": "DzLLMzJ5RzJF",
        "outputId": "25729766-0a02-4783-dfe5-6be61a4b31c5",
        "colab": {
          "base_uri": "https://localhost:8080/"
        }
      },
      "execution_count": null,
      "outputs": [
        {
          "output_type": "stream",
          "name": "stdout",
          "text": [
            "veda\n",
            "veda\n",
            "raka\n",
            "raka\n"
          ]
        }
      ]
    },
    {
      "cell_type": "markdown",
      "source": [
        "### Pass by reference"
      ],
      "metadata": {
        "id": "SW8WvjrKSxQs"
      }
    },
    {
      "cell_type": "code",
      "source": [
        "class Person:\n",
        "  def __init__(self,name,gender):\n",
        "    self.name = name\n",
        "    self.gender = gender\n",
        "def greet(person):\n",
        "  print(\"hiiiiiiiii\",person.name,'gender',person.gender)\n",
        "  p1 = Person('ankit','male')\n",
        "  return p1\n",
        "p  = Person('dev','male')\n",
        "x = greet(p)\n",
        "print(x.name)\n",
        "print(x.gender)"
      ],
      "metadata": {
        "id": "eDHb-ohzS2SV",
        "outputId": "e164c30b-f048-498e-e55b-e9f963028d97",
        "colab": {
          "base_uri": "https://localhost:8080/"
        }
      },
      "execution_count": null,
      "outputs": [
        {
          "output_type": "stream",
          "name": "stdout",
          "text": [
            "hiiiiiiiii dev gender male\n",
            "<__main__.Person object at 0x7e5a66be35e0>\n",
            "ankit\n",
            "male\n"
          ]
        }
      ]
    },
    {
      "cell_type": "code",
      "source": [
        "class Person:\n",
        "  def __init__(self,name,gender):\n",
        "    self.name = name\n",
        "    self.gender = gender\n",
        "def greet(person):\n",
        "  #print(\"hiiiiiiiii\",person.name,'gender',person.gender)\n",
        "  print(id(person))\n",
        "p = Person('veda','male')\n",
        "print(id(p))\n",
        "greet(p)\n",
        "print(p.name)"
      ],
      "metadata": {
        "id": "WKwcug4SUG8W",
        "outputId": "7ce6e3b1-c4a4-4df6-8389-12c363f58339",
        "colab": {
          "base_uri": "https://localhost:8080/"
        }
      },
      "execution_count": null,
      "outputs": [
        {
          "output_type": "stream",
          "name": "stdout",
          "text": [
            "138926735890784\n",
            "138926735890784\n",
            "veda\n"
          ]
        }
      ]
    },
    {
      "cell_type": "markdown",
      "source": [
        "mutability of object"
      ],
      "metadata": {
        "id": "5HSiK7SOb8AT"
      }
    },
    {
      "cell_type": "code",
      "source": [
        "class Person:\n",
        "  def __init__(self,name,gender):\n",
        "    self.name = name\n",
        "    self.gender = gender\n",
        "def greet(person):\n",
        "  person.name = 'ankit'\n",
        "  return person\n",
        "p = Person('dev','male')\n",
        "print(id(p))\n",
        "p1 = greet(p)\n",
        "print(id(p1))\n",
        "print(p.name)"
      ],
      "metadata": {
        "id": "nIDaVM9Rb-95",
        "outputId": "e9bdda74-7da7-4f69-f3a2-34f7755f0685",
        "colab": {
          "base_uri": "https://localhost:8080/"
        }
      },
      "execution_count": null,
      "outputs": [
        {
          "output_type": "stream",
          "name": "stdout",
          "text": [
            "138926733100896\n",
            "138926733100896\n",
            "ankit\n"
          ]
        }
      ]
    },
    {
      "cell_type": "markdown",
      "source": [
        "## Encapsulation\n",
        "wrapping around of data into a single unit , bundling of data and methods into a single unit"
      ],
      "metadata": {
        "id": "0fQ1IZhEdUTM"
      }
    },
    {
      "cell_type": "markdown",
      "source": [
        "instance variable : It is a special variable where its value depends on the object"
      ],
      "metadata": {
        "id": "edSonumTelqU"
      }
    },
    {
      "cell_type": "code",
      "source": [
        "class Person:\n",
        "\n",
        "  def __init__(self,name_input,country_input):\n",
        "    self.name = name_input\n",
        "    self.country = country_input\n",
        "\n",
        "p1 = Person('nitish','india')\n",
        "p2 = Person('steve','australia')"
      ],
      "metadata": {
        "id": "V1udyhh6eMkV"
      },
      "execution_count": null,
      "outputs": []
    },
    {
      "cell_type": "code",
      "source": [
        "p1.name"
      ],
      "metadata": {
        "id": "r5A3z_JpdX05",
        "outputId": "695d984b-19d2-4fb9-c016-5ef4990014a7",
        "colab": {
          "base_uri": "https://localhost:8080/",
          "height": 36
        }
      },
      "execution_count": null,
      "outputs": [
        {
          "output_type": "execute_result",
          "data": {
            "text/plain": [
              "'nitish'"
            ],
            "application/vnd.google.colaboratory.intrinsic+json": {
              "type": "string"
            }
          },
          "metadata": {},
          "execution_count": 62
        }
      ]
    },
    {
      "cell_type": "code",
      "source": [
        "p2.name"
      ],
      "metadata": {
        "id": "QDliP2WIfTIQ",
        "outputId": "06a758c5-f80a-4aae-b176-0eeb9c875875",
        "colab": {
          "base_uri": "https://localhost:8080/",
          "height": 36
        }
      },
      "execution_count": null,
      "outputs": [
        {
          "output_type": "execute_result",
          "data": {
            "text/plain": [
              "'steve'"
            ],
            "application/vnd.google.colaboratory.intrinsic+json": {
              "type": "string"
            }
          },
          "metadata": {},
          "execution_count": 63
        }
      ]
    },
    {
      "cell_type": "code",
      "source": [
        "class Atm:\n",
        "    def __init__(self):  # Automatically invoked when an object is created\n",
        "        self.pin = ''\n",
        "        self.balance = 0\n",
        "        #self.menu()\n",
        "\n",
        "    def menu(self):\n",
        "        user_input = input('''\n",
        "        Hi, how can I help you?\n",
        "        1. Press 1 to create pin\n",
        "        2. Press 2 to change pin\n",
        "        3. Press 3 to check for balance\n",
        "        4. Press 4 to withdraw\n",
        "        5. Anything else to exit\n",
        "                  ''')\n",
        "        if user_input == '1':\n",
        "            self.create_pin()\n",
        "        elif user_input == '2':\n",
        "            self.change_pin()\n",
        "        elif user_input == '3':\n",
        "            self.check_balance()\n",
        "        elif user_input == '4':\n",
        "            self.withdraw()\n",
        "        else:\n",
        "            quit()\n",
        "\n",
        "    def create_pin(self):\n",
        "        user_pin = int(input(\"Enter your pin: \"))\n",
        "        self.pin = user_pin\n",
        "        user_balance = int(input(\"Enter the balance: \"))\n",
        "        self.balance = user_balance\n",
        "        print(\"Pin created successfully.\")\n",
        "        self.menu()\n",
        "\n",
        "    def change_pin(self):\n",
        "        pin = int(input(\"enter your current pin : \"))\n",
        "        if pin == self.pin:\n",
        "            change_pin = int(input(\"enter the new pin : \"))\n",
        "            self.pin = change_pin\n",
        "            print(\"PIN changed successfully\")\n",
        "            self.menu()\n",
        "        else:\n",
        "            print(\"wrong pin\")\n",
        "            self.menu()\n",
        "\n",
        "    def check_balance(self):\n",
        "      pin = int(input(\"enter your current pin : \"))\n",
        "      if pin == self.pin:\n",
        "          print('your balance is ',self.balance)\n",
        "          self.menu()\n",
        "      else:\n",
        "        print(\"wrong pin\")\n",
        "        self.menu()\n",
        "    def withdraw(self):\n",
        "      user_pin = input(\"enter the pin\")\n",
        "      if user_pin == self.pin:\n",
        "        amount  = int(input(\"enter the amount\"))\n",
        "        if amount <= self.balance:\n",
        "          self.balance = self.balance - amount\n",
        "          print('withdrawl succcessful | balance is',self.balance)\n",
        "          self.menu()\n",
        "        else:\n",
        "           print('insufficent balance')\n",
        "      else:\n",
        "        print(\"wrong pin\")"
      ],
      "metadata": {
        "id": "sv7UD0KEfhX5"
      },
      "execution_count": null,
      "outputs": []
    },
    {
      "cell_type": "code",
      "source": [
        "obj = Atm()"
      ],
      "metadata": {
        "id": "r8Jj-TBZf3tH"
      },
      "execution_count": null,
      "outputs": []
    },
    {
      "cell_type": "code",
      "source": [
        "obj.balance  = 'hehehehee'"
      ],
      "metadata": {
        "id": "AsFwm_eNga1G"
      },
      "execution_count": null,
      "outputs": []
    },
    {
      "cell_type": "code",
      "source": [],
      "metadata": {
        "id": "kthBWlUKRm1j"
      },
      "execution_count": null,
      "outputs": []
    },
    {
      "cell_type": "markdown",
      "source": [
        "### Collection of objects"
      ],
      "metadata": {
        "id": "2zN_yVYaf0_1"
      }
    },
    {
      "cell_type": "code",
      "source": [],
      "metadata": {
        "id": "UN7FByT3LZSX"
      },
      "execution_count": null,
      "outputs": []
    },
    {
      "cell_type": "code",
      "source": [
        "# list of objects\n",
        "class Person:\n",
        "\n",
        "  def __init__(self,name,gender):\n",
        "    self.name = name\n",
        "    self.gender = gender\n",
        "\n",
        "p1 = Person('nitish','male')\n",
        "p2 = Person('ankit','male')\n",
        "p3 = Person('ankita','female')\n",
        "\n",
        "L = [p1,p2,p3]\n",
        "\n",
        "for i in L:\n",
        "  print(i.name,i.gender)"
      ],
      "metadata": {
        "id": "VdP0aR6Qf4zp",
        "colab": {
          "base_uri": "https://localhost:8080/"
        },
        "outputId": "72deb00b-deae-4536-da36-2bae44d2245c"
      },
      "execution_count": null,
      "outputs": [
        {
          "output_type": "stream",
          "name": "stdout",
          "text": [
            "nitish male\n",
            "ankit male\n",
            "ankita female\n"
          ]
        }
      ]
    },
    {
      "cell_type": "code",
      "source": [
        "# dict of objects\n",
        "# list of objects\n",
        "class Person:\n",
        "\n",
        "  def __init__(self,name,gender):\n",
        "    self.name = name\n",
        "    self.gender = gender\n",
        "\n",
        "p1 = Person('nitish','male')\n",
        "p2 = Person('ankit','male')\n",
        "p3 = Person('ankita','female')\n",
        "\n",
        "d = {'p1':p1,'p2':p2,'p3':p3}\n",
        "\n",
        "for i in d:\n",
        "  print(d[i].gender)"
      ],
      "metadata": {
        "id": "uARXTZTCvt3M",
        "colab": {
          "base_uri": "https://localhost:8080/"
        },
        "outputId": "18e100f5-07a5-43df-d0d9-482ce648f6f5"
      },
      "execution_count": null,
      "outputs": [
        {
          "output_type": "stream",
          "name": "stdout",
          "text": [
            "male\n",
            "male\n",
            "female\n"
          ]
        }
      ]
    },
    {
      "cell_type": "markdown",
      "source": [
        "### Static Variables(Vs Instance variables)"
      ],
      "metadata": {
        "id": "TKdM9xIFf8Lt"
      }
    },
    {
      "cell_type": "code",
      "source": [
        "# need for static vars"
      ],
      "metadata": {
        "id": "yQakCFqbf-kB"
      },
      "execution_count": null,
      "outputs": []
    },
    {
      "cell_type": "code",
      "source": [
        "class Atm:\n",
        "\n",
        "  __counter = 1\n",
        "\n",
        "  # constructor(special function)->superpower ->\n",
        "  def __init__(self):\n",
        "    print(id(self))\n",
        "    self.pin = ''\n",
        "    self.__balance = 0\n",
        "    self.cid = Atm.__counter\n",
        "    Atm.__counter = Atm.__counter + 1\n",
        "    #self.menu()\n",
        "\n",
        "  # utility functions\n",
        "  @staticmethod\n",
        "  def get_counter():\n",
        "    return Atm.__counter\n",
        "\n",
        "\n",
        "  def get_balance(self):\n",
        "    return self.__balance\n",
        "\n",
        "  def set_balance(self,new_value):\n",
        "    if type(new_value) == int:\n",
        "      self.__balance = new_value\n",
        "    else:\n",
        "      print('beta bahot maarenge')\n",
        "\n",
        "  def __menu(self):\n",
        "    user_input = input(\"\"\"\n",
        "    Hi how can I help you?\n",
        "    1. Press 1 to create pin\n",
        "    2. Press 2 to change pin\n",
        "    3. Press 3 to check balance\n",
        "    4. Press 4 to withdraw\n",
        "    5. Anything else to exit\n",
        "    \"\"\")\n",
        "\n",
        "    if user_input == '1':\n",
        "      self.create_pin()\n",
        "    elif user_input == '2':\n",
        "      self.change_pin()\n",
        "    elif user_input == '3':\n",
        "      self.check_balance()\n",
        "    elif user_input == '4':\n",
        "      self.withdraw()\n",
        "    else:\n",
        "      exit()\n",
        "\n",
        "  def create_pin(self):\n",
        "    user_pin = input('enter your pin')\n",
        "    self.pin = user_pin\n",
        "\n",
        "    user_balance = int(input('enter balance'))\n",
        "    self.__balance = user_balance\n",
        "\n",
        "    print('pin created successfully')\n",
        "\n",
        "  def change_pin(self):\n",
        "    old_pin = input('enter old pin')\n",
        "\n",
        "    if old_pin == self.pin:\n",
        "      # let him change the pin\n",
        "      new_pin = input('enter new pin')\n",
        "      self.pin = new_pin\n",
        "      print('pin change successful')\n",
        "    else:\n",
        "      print('nai karne de sakta re baba')\n",
        "\n",
        "  def check_balance(self):\n",
        "    user_pin = input('enter your pin')\n",
        "    if user_pin == self.pin:\n",
        "      print('your balance is ',self.__balance)\n",
        "    else:\n",
        "      print('chal nikal yahan se')\n",
        "\n",
        "  def withdraw(self):\n",
        "    user_pin = input('enter the pin')\n",
        "    if user_pin == self.pin:\n",
        "      # allow to withdraw\n",
        "      amount = int(input('enter the amount'))\n",
        "      if amount <= self.__balance:\n",
        "        self.__balance = self.__balance - amount\n",
        "        print('withdrawl successful.balance is',self.__balance)\n",
        "      else:\n",
        "        print('abe garib')\n",
        "    else:\n",
        "      print('sale chor')"
      ],
      "metadata": {
        "id": "5HYjBHv9wZNm"
      },
      "execution_count": null,
      "outputs": []
    },
    {
      "cell_type": "code",
      "source": [
        "c1 = Atm()"
      ],
      "metadata": {
        "id": "uafMrCPewZWY",
        "colab": {
          "base_uri": "https://localhost:8080/"
        },
        "outputId": "b0c914a4-b08b-4aa0-ebcb-9f1b4bacd0ba"
      },
      "execution_count": null,
      "outputs": [
        {
          "output_type": "stream",
          "name": "stdout",
          "text": [
            "140655538287248\n"
          ]
        }
      ]
    },
    {
      "cell_type": "code",
      "source": [
        "Atm.get_counter()"
      ],
      "metadata": {
        "id": "f35wRAlXwZa7",
        "colab": {
          "base_uri": "https://localhost:8080/"
        },
        "outputId": "a7a897b2-8262-45b7-b83a-aad207ee102f"
      },
      "execution_count": null,
      "outputs": [
        {
          "output_type": "execute_result",
          "data": {
            "text/plain": [
              "2"
            ]
          },
          "metadata": {},
          "execution_count": 128
        }
      ]
    },
    {
      "cell_type": "code",
      "source": [
        "c3 = Atm()"
      ],
      "metadata": {
        "colab": {
          "base_uri": "https://localhost:8080/"
        },
        "id": "WiCrLBgGTseq",
        "outputId": "9019d462-0b46-4a9d-8837-6a3c31591ad4"
      },
      "execution_count": null,
      "outputs": [
        {
          "output_type": "stream",
          "name": "stdout",
          "text": [
            "140655538226704\n"
          ]
        }
      ]
    },
    {
      "cell_type": "code",
      "source": [
        "c3.cid"
      ],
      "metadata": {
        "colab": {
          "base_uri": "https://localhost:8080/"
        },
        "id": "YwPU4wRYTuoK",
        "outputId": "cb34a43c-1337-412f-c7ee-e6a2eccd9066"
      },
      "execution_count": null,
      "outputs": [
        {
          "output_type": "execute_result",
          "data": {
            "text/plain": [
              "3"
            ]
          },
          "metadata": {},
          "execution_count": 121
        }
      ]
    },
    {
      "cell_type": "code",
      "source": [
        "Atm.counter"
      ],
      "metadata": {
        "colab": {
          "base_uri": "https://localhost:8080/"
        },
        "id": "-shiIdW1Vmzd",
        "outputId": "2e1b0468-2e2f-4061-d219-6ee4d818ceea"
      },
      "execution_count": null,
      "outputs": [
        {
          "output_type": "execute_result",
          "data": {
            "text/plain": [
              "4"
            ]
          },
          "metadata": {},
          "execution_count": 122
        }
      ]
    },
    {
      "cell_type": "markdown",
      "source": [
        "### Static methods"
      ],
      "metadata": {
        "id": "K9bxHyfBgC3Y"
      }
    },
    {
      "cell_type": "markdown",
      "source": [
        "##### Points to remember about static\n",
        "\n",
        "- Static attributes are created at class level.\n",
        "- Static attributes are accessed using ClassName.\n",
        "- Static attributes are object independent. We can access them without creating instance (object) of the class in which they are defined.\n",
        "- The value stored in static attribute is shared between all instances(objects) of the class in which the static attribute is defined."
      ],
      "metadata": {
        "id": "Izqb_9FtwoIZ"
      }
    },
    {
      "cell_type": "code",
      "source": [
        "class Lion:\n",
        "  __water_source=\"well in the circus\"\n",
        "\n",
        "  def __init__(self,name, gender):\n",
        "      self.__name=name\n",
        "      self.__gender=gender\n",
        "\n",
        "  def drinks_water(self):\n",
        "      print(self.__name,\n",
        "      \"drinks water from the\",Lion.__water_source)\n",
        "\n",
        "  @staticmethod\n",
        "  def get_water_source():\n",
        "      return Lion.__water_source\n",
        "\n",
        "simba=Lion(\"Simba\",\"Male\")\n",
        "simba.drinks_water()\n",
        "print( \"Water source of lions:\",Lion.get_water_source())"
      ],
      "metadata": {
        "id": "3u0RdyaFwyaP"
      },
      "execution_count": null,
      "outputs": []
    },
    {
      "cell_type": "code",
      "source": [],
      "metadata": {
        "id": "1BYeQmiiSyYE"
      },
      "execution_count": null,
      "outputs": []
    },
    {
      "cell_type": "markdown",
      "source": [
        "###`Q1:`Count number of instances of a class created in Python?\n",
        "\n",
        "Example:\n",
        "Say `Car` is any class.\n",
        "```\n",
        "maruti = Car()\n",
        "bmw = Car()\n",
        "honda = Car()\n",
        "```\n",
        "So after creating above instances. We want to count how many instances are created of Car class.\n",
        "\n",
        "For above example `no of instances = 3`.\n",
        "\n",
        "Write a program for above problem.\n"
      ],
      "metadata": {
        "id": "f516p975CFjQ"
      }
    },
    {
      "cell_type": "code",
      "source": [
        "class Car:\n",
        "  __counter = 0\n",
        "  def __init__(self):\n",
        "    Car.__counter +=1\n",
        "  def get_counter():\n",
        "    return Car.__counter\n",
        "\n",
        "obj = Car()\n",
        "ob1 = Car()\n",
        "print(Car.get_counter())"
      ],
      "metadata": {
        "id": "nhyUP8nOC_-h",
        "outputId": "c17b8249-90e3-4f04-fe5a-2e250c5194fa",
        "colab": {
          "base_uri": "https://localhost:8080/"
        }
      },
      "execution_count": 6,
      "outputs": [
        {
          "output_type": "stream",
          "name": "stdout",
          "text": [
            "2\n"
          ]
        }
      ]
    },
    {
      "cell_type": "markdown",
      "source": [
        "###`Q-2:` Create a deck of cards class. Internally, the deck of cards should use another class, a card class. Your requirements are:\n",
        "\n",
        "* The `Deck` class should have a deal method to deal a single card from the deck\n",
        "* After a card is dealt, it is removed from the deck.\n",
        "* There should be a shuffle method which makes sure the deck of cards has all 52 cards and then rearranges them randomly.\n",
        "* The Card class should have a suit (Hearts, Diamonds, Clubs, Spades) and a value (A,2,3,4,5,6,7,8,9,10,J,Q,K)\n",
        "\n",
        "`Deck` Class\n",
        "* It is class of all possible cards in a deck. Total 52 cards.\n",
        "* Methods - `deal()` it will take out one card from the deck of cards.\n",
        "* Deck of cards should get shuffeled while creating the deck object.\n",
        "* `no of cards remaining in deck - <number>` should dsiplay on printing any deck object.\n",
        "\n",
        "`Card` class\n",
        "* It is a class of card\n",
        "* Atrributes - `suit` and `value`\n",
        "* `<suit> of <value>` should dsiplay on printing any card object."
      ],
      "metadata": {
        "id": "i-VcDbyhH6_v"
      }
    },
    {
      "cell_type": "code",
      "source": [
        "import random\n",
        "class Card:\n",
        "  def __init__(self,suit,value):\n",
        "    self.suit = suit\n",
        "    self.value = value\n",
        "  def __repr__(self):\n",
        "    return f\"{self.suit,self.value}\"\n",
        "class Deck:\n",
        "\n",
        "  def __init__(self):\n",
        "     self.suit = ['Hearts','Diamonds','Clubs','Spades']\n",
        "     self.value = ['A','2','3','4','5','6','7','8','9','10','J','K','Q']\n",
        "     self.cards = [Card(suit,value) for suit in self.suit for value in self.value]\n",
        "     print(self.cards)\n",
        "  def __str__(self):\n",
        "    return f\"cards left : {len(self.cards)}\"\n",
        "  def shuffle(self):\n",
        "    if len(self.cards) < 52:\n",
        "       print(' can only shufffle full deck of cards')\n",
        "    else:\n",
        "      random.shuffle(self.cards)\n",
        "    return self.cards\n",
        "  def deal(self):\n",
        "    if len(self.cards) == 0:\n",
        "      print(\"all cards had been dealt\")\n",
        "    return self.cards.pop()"
      ],
      "metadata": {
        "id": "HkfAIQxWIACu"
      },
      "execution_count": 30,
      "outputs": []
    },
    {
      "cell_type": "code",
      "source": [
        "deck = Deck()\n",
        "deck.shuffle()\n",
        "print(deck.deal())\n",
        "print(deck.deal())\n",
        "print(deck)"
      ],
      "metadata": {
        "colab": {
          "base_uri": "https://localhost:8080/"
        },
        "id": "w3qjvOPS5Jz-",
        "outputId": "4f18e025-7d7c-45eb-d771-a739f1de7616"
      },
      "execution_count": 32,
      "outputs": [
        {
          "output_type": "stream",
          "name": "stdout",
          "text": [
            "[('Hearts', 'A'), ('Hearts', '2'), ('Hearts', '3'), ('Hearts', '4'), ('Hearts', '5'), ('Hearts', '6'), ('Hearts', '7'), ('Hearts', '8'), ('Hearts', '9'), ('Hearts', '10'), ('Hearts', 'J'), ('Hearts', 'K'), ('Hearts', 'Q'), ('Diamonds', 'A'), ('Diamonds', '2'), ('Diamonds', '3'), ('Diamonds', '4'), ('Diamonds', '5'), ('Diamonds', '6'), ('Diamonds', '7'), ('Diamonds', '8'), ('Diamonds', '9'), ('Diamonds', '10'), ('Diamonds', 'J'), ('Diamonds', 'K'), ('Diamonds', 'Q'), ('Clubs', 'A'), ('Clubs', '2'), ('Clubs', '3'), ('Clubs', '4'), ('Clubs', '5'), ('Clubs', '6'), ('Clubs', '7'), ('Clubs', '8'), ('Clubs', '9'), ('Clubs', '10'), ('Clubs', 'J'), ('Clubs', 'K'), ('Clubs', 'Q'), ('Spades', 'A'), ('Spades', '2'), ('Spades', '3'), ('Spades', '4'), ('Spades', '5'), ('Spades', '6'), ('Spades', '7'), ('Spades', '8'), ('Spades', '9'), ('Spades', '10'), ('Spades', 'J'), ('Spades', 'K'), ('Spades', 'Q')]\n",
            "('Diamonds', '2')\n",
            "('Hearts', '8')\n",
            "cards left : 50\n"
          ]
        }
      ]
    },
    {
      "cell_type": "markdown",
      "source": [
        "### `Q-3`: Find the area of a rectangle.\n",
        "\n",
        "Approach:\n",
        "- The class name should be _Rectangle_.\n",
        "- The constructor should accept two parameters *length* and *height* but you can't pass the values directly to it while creating the constructor. E.g., rectangle = Rectangle(length=10, height=8) <-- you can't do that while creating the instances.\n",
        "- Create a method called *area()* which has no parameters.\n",
        "- Create a method called *is_square()* which also has no parameters. Return True if the rectangle is a square otherwise return False.\n",
        "- If you are using a if-else block inside the *is_square()* method, then use the one-linear syntax."
      ],
      "metadata": {
        "id": "RlF_O6-vPm5h"
      }
    },
    {
      "cell_type": "code",
      "source": [
        "class Rectangle:\n",
        "  def __init__(self,l,b):\n",
        "    self.length = l\n",
        "    self.breadth = b\n",
        "  @classmethod\n",
        "  def property(cls,len,bre):\n",
        "    return cls(len,bre)\n",
        "  def area(self):\n",
        "    return self.length * self.breadth\n",
        "  def is_square(self):\n",
        "    if self.length == self.breadth:\n",
        "      return True\n",
        "    else:\n",
        "       return False\n",
        "\n",
        "r = Rectangle.property(2,3)\n",
        "print(r.area())\n",
        "print(r.is_square())"
      ],
      "metadata": {
        "id": "gq0Va2yzI2v0",
        "colab": {
          "base_uri": "https://localhost:8080/"
        },
        "outputId": "da78e063-cd9f-4069-e69b-20b7aeedb221"
      },
      "execution_count": 39,
      "outputs": [
        {
          "output_type": "stream",
          "name": "stdout",
          "text": [
            "6\n",
            "False\n"
          ]
        }
      ]
    },
    {
      "cell_type": "markdown",
      "source": [
        "### `Q-4`: Problem 4\n",
        "\n",
        "**Statement:** Write a program that uses datetime module within a class. Enter manufacturing date and expiry date of the product. The program must display the years, months and days that are left for expiry."
      ],
      "metadata": {
        "id": "MTUD_eMqVKEq"
      }
    },
    {
      "cell_type": "code",
      "source": [
        "import datetime\n",
        "class Product:\n",
        "  def __init__(self):\n",
        "    self.manufacture_date = input(\"enter the manufacture date in MM/DD/YYYY : \")\n",
        "    self.expiring_date = input(\"enter the manufacture date in MM/DD/YYYY : \")\n",
        "\n",
        "    self.manufacture_date = datetime.datetime.strptime(self.manufacture_date,'%m/%d/%Y')\n",
        "    self.expiring_date = datetime.datetime.strptime(self.expiring_date,'%m/%d/%Y')\n",
        "  def time_to_expire(self):\n",
        "      today = datetime.datetime.now()\n",
        "      if today > self.expiring_date:\n",
        "        print(\"product expired already!!\")\n",
        "      else:\n",
        "        time_left = self.expiring_date.date() - today.date()\n",
        "        print(time_left)\n",
        "obj = Product()\n",
        "obj.time_to_expire()\n"
      ],
      "metadata": {
        "id": "fwVd0HYkR5xJ",
        "outputId": "f8df9417-a7f5-4989-ffcd-3a3cc08fa9d1",
        "colab": {
          "base_uri": "https://localhost:8080/"
        }
      },
      "execution_count": 41,
      "outputs": [
        {
          "output_type": "stream",
          "name": "stdout",
          "text": [
            "enter the manufacture date in MM/DD/YYYY : 12/12/2024\n",
            "enter the manufacture date in MM/DD/YYYY : 12/30/2024\n",
            "1 day, 0:00:00\n"
          ]
        }
      ]
    },
    {
      "cell_type": "markdown",
      "source": [
        "### `Q-5:` Problem 5\n",
        "\n",
        "**Statement:** A university wants to automate their admission process. Students are admitted based on the marks scored in the qualifying exam. A student is identified by student id, age and marks in qualifying exam. Data are valid, if:\n",
        "- Age is greater than 20\n",
        "- Marks is between 0 and 100 (both inclusive)\n",
        "\n",
        "A student qualifies for admission, if\n",
        "- Age and marks are valid and\n",
        "- Marks is 65 or more\n",
        "\n",
        "Write a python program to represent the students seeking admission in the university. The details of student class are given below.\n",
        "\n",
        "![image-1.png](data:image/png;base64,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)\n"
      ],
      "metadata": {
        "id": "o5k2A5DvYu9p"
      }
    },
    {
      "cell_type": "code",
      "source": [
        "class Student:\n",
        "  def __init__(self):\n",
        "    self.__student_id = None\n",
        "    self.__marks = None\n",
        "    self.__age = None\n",
        "  def set_sid(self,sid):\n",
        "    self.__student_id = sid\n",
        "  def set_smarks(self,marks):\n",
        "    self.__marks = marks\n",
        "  def set_age(self,age):\n",
        "    self.__age = age\n",
        "  def get_sid(self):\n",
        "    return self.__student_id\n",
        "  def get_marks(self):\n",
        "    return self.__marks\n",
        "  def get_age(self):\n",
        "    return self.__age\n",
        "\n",
        "  def validate_marks(self):\n",
        "    if  0<self.__marks<100:\n",
        "      return True\n",
        "    else:\n",
        "      return False\n",
        "  def validate_age(self):\n",
        "    if self.__age > 20 :\n",
        "      return True\n",
        "    else:\n",
        "      return False\n",
        "  def check_qualifications(self):\n",
        "    if self.validate_marks and self.validate_age and self.__marks>=65:\n",
        "      return True\n",
        "    else:\n",
        "      return False\n",
        "st1 = Student()\n",
        "st1.set_sid(123)\n",
        "st1.set_smarks(69)\n",
        "st1.set_age(25)\n",
        "print(st1.get_sid())\n",
        "print(st1.get_marks())\n",
        "print(st1.get_age())\n",
        "print(st1.validate_marks())\n",
        "print(st1.validate_age())\n",
        "print(st1.check_qualifications())"
      ],
      "metadata": {
        "id": "LtMxHmIWDc1Q",
        "outputId": "a35775f5-0925-4ac9-de18-bff8775f9ce9",
        "colab": {
          "base_uri": "https://localhost:8080/"
        }
      },
      "execution_count": 53,
      "outputs": [
        {
          "output_type": "stream",
          "name": "stdout",
          "text": [
            "123\n",
            "69\n",
            "25\n",
            "True\n",
            "True\n",
            "True\n"
          ]
        }
      ]
    },
    {
      "cell_type": "markdown",
      "source": [
        "###`Q-6:` Ice-Cream Scoops and Bowl shop\n",
        "\n",
        "1. Create a class `Scoop` which has one public property `flavor` and one private proptery `price`. Take `flavor` values during object creation.\n",
        "2. Create a class `Bowl` with private prperty `scoop_list` which will have list of scoopd object.\n",
        "3. Create a method `add_scoops` in `Bowl` class which will add any no of `Scoop` objects given as parameter and store it in `scoops_list`.\n",
        "4. Make getter and setter method for `price` property.\n",
        "5. Make a method `display` to display `flavour` and `price` of each `Scoop` in `scoop_list` and print total price of the bowl by adding all flavour scoops prices.\n",
        "\n",
        "6. Make a method `sold` in both `Scoop` class and `Bowl` class to print no of quantity sold.\n",
        "\n",
        "\n",
        "\n"
      ],
      "metadata": {
        "id": "Ierw5X_80bre"
      }
    },
    {
      "cell_type": "markdown",
      "source": [
        "Ex.-\n",
        "```\n",
        "choco = Scoop('chocolate')\n",
        "print(choco)\n",
        "choco.set_price(100)\n",
        "\n",
        "berry = Scoop('berry')\n",
        "berry.set_price(120)\n",
        "print(berry)\n",
        "\n",
        "vanilla = Scoop('vanilla')\n",
        "vanilla.set_price(150)\n",
        "\n",
        "bowl = Bowl()\n",
        "\n",
        "bowl.add_scoops(choco) # Giving one parameter\n",
        "bowl.add_scoops(berry, vanilla) # Multiple\n",
        "# add_scoops should handle both scenerios\n",
        "\n",
        "print(bowl)\n",
        "\n",
        "bowl.display()\n",
        "\n",
        "Scoop.sold()\n",
        "Bowl.sold()\n",
        "\n",
        "```\n",
        "\n",
        "`Output`\n",
        "```\n",
        "Flavor - chocolate Price - None\n",
        "Flavor - berry Price - 120\n",
        "chocolate\n",
        "berry\n",
        "vanilla\n",
        "Dsiplaying Bowl\n",
        "Flavor - chocolate Price - 100\n",
        "Flavor - berry Price - 120\n",
        "Flavor - vanilla Price - 150\n",
        "Price of Bowl - 370\n",
        "3 scoops sold\n",
        "1 bowls sold\n",
        "\n",
        "```"
      ],
      "metadata": {
        "id": "eTkOpPvQHnP0"
      }
    },
    {
      "cell_type": "code",
      "source": [
        "class Scoop:\n",
        "    __counter = 0\n",
        "    def __init__(self, flavour):\n",
        "        self.flavor = flavour\n",
        "        self.__price = None\n",
        "        Scoop.__counter += 1\n",
        "\n",
        "    def get_price(self):\n",
        "        return self.__price\n",
        "\n",
        "    def set_price(self, price):\n",
        "        self.__price = price\n",
        "\n",
        "    @staticmethod\n",
        "    def sold():\n",
        "        return Scoop.__counter\n",
        "\n",
        "    def __str__(self):\n",
        "        return f\"flavour : {self.flavor} and Price : {self.__price}\"\n",
        "class Bowl:\n",
        "    __counter = 0\n",
        "    def __init__(self):\n",
        "        self.__scoop_lists = []\n",
        "        Bowl.__counter += 1\n",
        "\n",
        "    def add_scoops(self, *new_scoops):\n",
        "        for scoop in new_scoops:\n",
        "            self.scoop_lists.append(scoop)\n",
        "\n",
        "    def display(self):\n",
        "        total = 0\n",
        "        for scoop in self.scoop_lists:  # Fixed typo here\n",
        "            print(scoop)\n",
        "            total += scoop.get_price()\n",
        "        print(\"total price : \", total)\n",
        "\n",
        "    @staticmethod\n",
        "    def sold():\n",
        "        return Bowl.__counter\n"
      ],
      "metadata": {
        "id": "R4CrDRBIPkeS",
        "outputId": "7e20aa39-80c6-4ffa-c574-988564c42ef6",
        "colab": {
          "base_uri": "https://localhost:8080/",
          "height": 110
        }
      },
      "execution_count": 70,
      "outputs": [
        {
          "output_type": "error",
          "ename": "SyntaxError",
          "evalue": "'return' outside function (<ipython-input-70-e77e55d7c40a>, line 1)",
          "traceback": [
            "\u001b[0;36m  File \u001b[0;32m\"<ipython-input-70-e77e55d7c40a>\"\u001b[0;36m, line \u001b[0;32m1\u001b[0m\n\u001b[0;31m    return f\"flavour : {self.flavor} and Price : {self.__price}\"\u001b[0m\n\u001b[0m    ^\u001b[0m\n\u001b[0;31mSyntaxError\u001b[0m\u001b[0;31m:\u001b[0m 'return' outside function\n"
          ]
        }
      ]
    },
    {
      "cell_type": "code",
      "source": [
        "# Create scoops\n",
        "s1 = Scoop(\"vanilla\")\n",
        "s1.set_price(2.5)\n",
        "s2 = Scoop(\"chocolate\")\n",
        "s2.set_price(3.0)\n",
        "s3 = Scoop(\"strawberry\")\n",
        "s3.set_price(2.8)\n",
        "\n",
        "# Create a bowl and add scoops\n",
        "bowl = Bowl()\n",
        "bowl.add_scoops(s1, s2, s3)\n",
        "\n",
        "# Display scoops and total price\n",
        "bowl.display()\n",
        "\n",
        "# Check sold counts\n",
        "print(\"Scoops sold:\", Scoop.sold())\n",
        "print(\"Bowls sold:\", Bowl.sold())\n"
      ],
      "metadata": {
        "id": "tqA-6hKxUi-S",
        "outputId": "ed3daa35-9cb8-41ce-e929-1c1c319ba34a",
        "colab": {
          "base_uri": "https://localhost:8080/",
          "height": 346
        }
      },
      "execution_count": 69,
      "outputs": [
        {
          "output_type": "error",
          "ename": "AttributeError",
          "evalue": "'Bowl' object has no attribute '_Bowl__scoop_lists'",
          "traceback": [
            "\u001b[0;31m---------------------------------------------------------------------------\u001b[0m",
            "\u001b[0;31mAttributeError\u001b[0m                            Traceback (most recent call last)",
            "\u001b[0;32m<ipython-input-69-af29d077249b>\u001b[0m in \u001b[0;36m<cell line: 11>\u001b[0;34m()\u001b[0m\n\u001b[1;32m      9\u001b[0m \u001b[0;31m# Create a bowl and add scoops\u001b[0m\u001b[0;34m\u001b[0m\u001b[0;34m\u001b[0m\u001b[0m\n\u001b[1;32m     10\u001b[0m \u001b[0mbowl\u001b[0m \u001b[0;34m=\u001b[0m \u001b[0mBowl\u001b[0m\u001b[0;34m(\u001b[0m\u001b[0;34m)\u001b[0m\u001b[0;34m\u001b[0m\u001b[0;34m\u001b[0m\u001b[0m\n\u001b[0;32m---> 11\u001b[0;31m \u001b[0mbowl\u001b[0m\u001b[0;34m.\u001b[0m\u001b[0madd_scoops\u001b[0m\u001b[0;34m(\u001b[0m\u001b[0ms1\u001b[0m\u001b[0;34m,\u001b[0m \u001b[0ms2\u001b[0m\u001b[0;34m,\u001b[0m \u001b[0ms3\u001b[0m\u001b[0;34m)\u001b[0m\u001b[0;34m\u001b[0m\u001b[0;34m\u001b[0m\u001b[0m\n\u001b[0m\u001b[1;32m     12\u001b[0m \u001b[0;34m\u001b[0m\u001b[0m\n\u001b[1;32m     13\u001b[0m \u001b[0;31m# Display scoops and total price\u001b[0m\u001b[0;34m\u001b[0m\u001b[0;34m\u001b[0m\u001b[0m\n",
            "\u001b[0;32m<ipython-input-61-5d7aa6b5becb>\u001b[0m in \u001b[0;36madd_scoops\u001b[0;34m(self, *new_scoops)\u001b[0m\n\u001b[1;32m     20\u001b[0m   \u001b[0;32mdef\u001b[0m \u001b[0madd_scoops\u001b[0m\u001b[0;34m(\u001b[0m\u001b[0mself\u001b[0m\u001b[0;34m,\u001b[0m\u001b[0;34m*\u001b[0m\u001b[0mnew_scoops\u001b[0m\u001b[0;34m)\u001b[0m\u001b[0;34m:\u001b[0m\u001b[0;34m\u001b[0m\u001b[0;34m\u001b[0m\u001b[0m\n\u001b[1;32m     21\u001b[0m     \u001b[0;32mfor\u001b[0m \u001b[0mscoop\u001b[0m \u001b[0;32min\u001b[0m \u001b[0mnew_scoops\u001b[0m\u001b[0;34m:\u001b[0m\u001b[0;34m\u001b[0m\u001b[0;34m\u001b[0m\u001b[0m\n\u001b[0;32m---> 22\u001b[0;31m       \u001b[0mself\u001b[0m\u001b[0;34m.\u001b[0m\u001b[0m__scoop_lists\u001b[0m\u001b[0;34m.\u001b[0m\u001b[0mappend\u001b[0m\u001b[0;34m(\u001b[0m\u001b[0mscoop\u001b[0m\u001b[0;34m)\u001b[0m\u001b[0;34m\u001b[0m\u001b[0;34m\u001b[0m\u001b[0m\n\u001b[0m\u001b[1;32m     23\u001b[0m   \u001b[0;32mdef\u001b[0m \u001b[0mdisplay\u001b[0m\u001b[0;34m(\u001b[0m\u001b[0mself\u001b[0m\u001b[0;34m)\u001b[0m\u001b[0;34m:\u001b[0m\u001b[0;34m\u001b[0m\u001b[0;34m\u001b[0m\u001b[0m\n\u001b[1;32m     24\u001b[0m     \u001b[0mtotal\u001b[0m \u001b[0;34m=\u001b[0m \u001b[0;36m0\u001b[0m\u001b[0;34m\u001b[0m\u001b[0;34m\u001b[0m\u001b[0m\n",
            "\u001b[0;31mAttributeError\u001b[0m: 'Bowl' object has no attribute '_Bowl__scoop_lists'"
          ]
        }
      ]
    },
    {
      "cell_type": "code",
      "source": [],
      "metadata": {
        "id": "lCtNeE5fUi5i"
      },
      "execution_count": null,
      "outputs": []
    }
  ],
  "metadata": {
    "kernelspec": {
      "display_name": "Python 3",
      "language": "python",
      "name": "python3"
    },
    "language_info": {
      "codemirror_mode": {
        "name": "ipython",
        "version": 3
      },
      "file_extension": ".py",
      "mimetype": "text/x-python",
      "name": "python",
      "nbconvert_exporter": "python",
      "pygments_lexer": "ipython3",
      "version": "3.10.4"
    },
    "colab": {
      "provenance": []
    }
  },
  "nbformat": 4,
  "nbformat_minor": 0
}